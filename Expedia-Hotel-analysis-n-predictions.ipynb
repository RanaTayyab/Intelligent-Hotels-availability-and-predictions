{
  "nbformat": 4,
  "nbformat_minor": 0,
  "metadata": {
    "colab": {
      "name": "Expedia Tayyab.ipynb",
      "provenance": [],
      "collapsed_sections": []
    },
    "kernelspec": {
      "name": "python3",
      "display_name": "Python 3"
    },
    "language_info": {
      "name": "python"
    }
  },
  "cells": [
    {
      "cell_type": "code",
      "source": [
        "import requests"
      ],
      "metadata": {
        "id": "GggwGLdmaIUG"
      },
      "execution_count": null,
      "outputs": []
    },
    {
      "cell_type": "code",
      "source": [
        "import pandas as pd\n",
        "import numpy as np\n",
        "import matplotlib.pyplot as plt\n",
        "\n",
        "df = pd.read_csv('/content/train.csv')\n",
        "\n"
      ],
      "metadata": {
        "id": "M80u8Ts2GK3N"
      },
      "execution_count": null,
      "outputs": []
    },
    {
      "cell_type": "code",
      "source": [
        "df.head()"
      ],
      "metadata": {
        "colab": {
          "base_uri": "https://localhost:8080/",
          "height": 270
        },
        "id": "qsUiEHmrgGAO",
        "outputId": "2b86b815-90de-4832-e032-45d97ddb0c82"
      },
      "execution_count": null,
      "outputs": [
        {
          "output_type": "execute_result",
          "data": {
            "text/html": [
              "\n",
              "  <div id=\"df-6d8c03f6-7dc7-40a1-9322-d69d377513a0\">\n",
              "    <div class=\"colab-df-container\">\n",
              "      <div>\n",
              "<style scoped>\n",
              "    .dataframe tbody tr th:only-of-type {\n",
              "        vertical-align: middle;\n",
              "    }\n",
              "\n",
              "    .dataframe tbody tr th {\n",
              "        vertical-align: top;\n",
              "    }\n",
              "\n",
              "    .dataframe thead th {\n",
              "        text-align: right;\n",
              "    }\n",
              "</style>\n",
              "<table border=\"1\" class=\"dataframe\">\n",
              "  <thead>\n",
              "    <tr style=\"text-align: right;\">\n",
              "      <th></th>\n",
              "      <th>id</th>\n",
              "      <th>region</th>\n",
              "      <th>latitude</th>\n",
              "      <th>longitude</th>\n",
              "      <th>accommodation_type</th>\n",
              "      <th>cost</th>\n",
              "      <th>minimum_nights</th>\n",
              "      <th>number_of_reviews</th>\n",
              "      <th>reviews_per_month</th>\n",
              "      <th>owner_id</th>\n",
              "      <th>owned_hotels</th>\n",
              "      <th>yearly_availability</th>\n",
              "    </tr>\n",
              "  </thead>\n",
              "  <tbody>\n",
              "    <tr>\n",
              "      <th>0</th>\n",
              "      <td>13232</td>\n",
              "      <td>Manhattan</td>\n",
              "      <td>40.71854</td>\n",
              "      <td>-74.00439</td>\n",
              "      <td>Entire home/apt</td>\n",
              "      <td>170</td>\n",
              "      <td>5</td>\n",
              "      <td>7</td>\n",
              "      <td>0.56</td>\n",
              "      <td>929983</td>\n",
              "      <td>1</td>\n",
              "      <td>0</td>\n",
              "    </tr>\n",
              "    <tr>\n",
              "      <th>1</th>\n",
              "      <td>246</td>\n",
              "      <td>Brooklyn</td>\n",
              "      <td>40.64446</td>\n",
              "      <td>-73.95030</td>\n",
              "      <td>Entire home/apt</td>\n",
              "      <td>65</td>\n",
              "      <td>3</td>\n",
              "      <td>238</td>\n",
              "      <td>2.30</td>\n",
              "      <td>281764</td>\n",
              "      <td>1</td>\n",
              "      <td>0</td>\n",
              "    </tr>\n",
              "    <tr>\n",
              "      <th>2</th>\n",
              "      <td>19091</td>\n",
              "      <td>Queens</td>\n",
              "      <td>40.78573</td>\n",
              "      <td>-73.81062</td>\n",
              "      <td>Private room</td>\n",
              "      <td>85</td>\n",
              "      <td>1</td>\n",
              "      <td>0</td>\n",
              "      <td>NaN</td>\n",
              "      <td>19923341</td>\n",
              "      <td>1</td>\n",
              "      <td>1</td>\n",
              "    </tr>\n",
              "    <tr>\n",
              "      <th>3</th>\n",
              "      <td>34305</td>\n",
              "      <td>Manhattan</td>\n",
              "      <td>40.73863</td>\n",
              "      <td>-73.98002</td>\n",
              "      <td>Private room</td>\n",
              "      <td>210</td>\n",
              "      <td>30</td>\n",
              "      <td>0</td>\n",
              "      <td>NaN</td>\n",
              "      <td>200380610</td>\n",
              "      <td>65</td>\n",
              "      <td>1</td>\n",
              "    </tr>\n",
              "    <tr>\n",
              "      <th>4</th>\n",
              "      <td>444</td>\n",
              "      <td>Manhattan</td>\n",
              "      <td>40.82426</td>\n",
              "      <td>-73.94630</td>\n",
              "      <td>Shared room</td>\n",
              "      <td>75</td>\n",
              "      <td>3</td>\n",
              "      <td>38</td>\n",
              "      <td>0.42</td>\n",
              "      <td>745069</td>\n",
              "      <td>3</td>\n",
              "      <td>1</td>\n",
              "    </tr>\n",
              "  </tbody>\n",
              "</table>\n",
              "</div>\n",
              "      <button class=\"colab-df-convert\" onclick=\"convertToInteractive('df-6d8c03f6-7dc7-40a1-9322-d69d377513a0')\"\n",
              "              title=\"Convert this dataframe to an interactive table.\"\n",
              "              style=\"display:none;\">\n",
              "        \n",
              "  <svg xmlns=\"http://www.w3.org/2000/svg\" height=\"24px\"viewBox=\"0 0 24 24\"\n",
              "       width=\"24px\">\n",
              "    <path d=\"M0 0h24v24H0V0z\" fill=\"none\"/>\n",
              "    <path d=\"M18.56 5.44l.94 2.06.94-2.06 2.06-.94-2.06-.94-.94-2.06-.94 2.06-2.06.94zm-11 1L8.5 8.5l.94-2.06 2.06-.94-2.06-.94L8.5 2.5l-.94 2.06-2.06.94zm10 10l.94 2.06.94-2.06 2.06-.94-2.06-.94-.94-2.06-.94 2.06-2.06.94z\"/><path d=\"M17.41 7.96l-1.37-1.37c-.4-.4-.92-.59-1.43-.59-.52 0-1.04.2-1.43.59L10.3 9.45l-7.72 7.72c-.78.78-.78 2.05 0 2.83L4 21.41c.39.39.9.59 1.41.59.51 0 1.02-.2 1.41-.59l7.78-7.78 2.81-2.81c.8-.78.8-2.07 0-2.86zM5.41 20L4 18.59l7.72-7.72 1.47 1.35L5.41 20z\"/>\n",
              "  </svg>\n",
              "      </button>\n",
              "      \n",
              "  <style>\n",
              "    .colab-df-container {\n",
              "      display:flex;\n",
              "      flex-wrap:wrap;\n",
              "      gap: 12px;\n",
              "    }\n",
              "\n",
              "    .colab-df-convert {\n",
              "      background-color: #E8F0FE;\n",
              "      border: none;\n",
              "      border-radius: 50%;\n",
              "      cursor: pointer;\n",
              "      display: none;\n",
              "      fill: #1967D2;\n",
              "      height: 32px;\n",
              "      padding: 0 0 0 0;\n",
              "      width: 32px;\n",
              "    }\n",
              "\n",
              "    .colab-df-convert:hover {\n",
              "      background-color: #E2EBFA;\n",
              "      box-shadow: 0px 1px 2px rgba(60, 64, 67, 0.3), 0px 1px 3px 1px rgba(60, 64, 67, 0.15);\n",
              "      fill: #174EA6;\n",
              "    }\n",
              "\n",
              "    [theme=dark] .colab-df-convert {\n",
              "      background-color: #3B4455;\n",
              "      fill: #D2E3FC;\n",
              "    }\n",
              "\n",
              "    [theme=dark] .colab-df-convert:hover {\n",
              "      background-color: #434B5C;\n",
              "      box-shadow: 0px 1px 3px 1px rgba(0, 0, 0, 0.15);\n",
              "      filter: drop-shadow(0px 1px 2px rgba(0, 0, 0, 0.3));\n",
              "      fill: #FFFFFF;\n",
              "    }\n",
              "  </style>\n",
              "\n",
              "      <script>\n",
              "        const buttonEl =\n",
              "          document.querySelector('#df-6d8c03f6-7dc7-40a1-9322-d69d377513a0 button.colab-df-convert');\n",
              "        buttonEl.style.display =\n",
              "          google.colab.kernel.accessAllowed ? 'block' : 'none';\n",
              "\n",
              "        async function convertToInteractive(key) {\n",
              "          const element = document.querySelector('#df-6d8c03f6-7dc7-40a1-9322-d69d377513a0');\n",
              "          const dataTable =\n",
              "            await google.colab.kernel.invokeFunction('convertToInteractive',\n",
              "                                                     [key], {});\n",
              "          if (!dataTable) return;\n",
              "\n",
              "          const docLinkHtml = 'Like what you see? Visit the ' +\n",
              "            '<a target=\"_blank\" href=https://colab.research.google.com/notebooks/data_table.ipynb>data table notebook</a>'\n",
              "            + ' to learn more about interactive tables.';\n",
              "          element.innerHTML = '';\n",
              "          dataTable['output_type'] = 'display_data';\n",
              "          await google.colab.output.renderOutput(dataTable, element);\n",
              "          const docLink = document.createElement('div');\n",
              "          docLink.innerHTML = docLinkHtml;\n",
              "          element.appendChild(docLink);\n",
              "        }\n",
              "      </script>\n",
              "    </div>\n",
              "  </div>\n",
              "  "
            ],
            "text/plain": [
              "      id     region  latitude  ...   owner_id owned_hotels  yearly_availability\n",
              "0  13232  Manhattan  40.71854  ...     929983            1                    0\n",
              "1    246   Brooklyn  40.64446  ...     281764            1                    0\n",
              "2  19091     Queens  40.78573  ...   19923341            1                    1\n",
              "3  34305  Manhattan  40.73863  ...  200380610           65                    1\n",
              "4    444  Manhattan  40.82426  ...     745069            3                    1\n",
              "\n",
              "[5 rows x 12 columns]"
            ]
          },
          "metadata": {},
          "execution_count": 3
        }
      ]
    },
    {
      "cell_type": "code",
      "source": [
        "import pandas as pd\n",
        "import numpy as np\n",
        "import matplotlib.pyplot as plt\n",
        "import datetime\n",
        "from sklearn.metrics import classification_report, confusion_matrix\n",
        "from sklearn.svm import SVC\n",
        "from sklearn.ensemble import RandomForestClassifier\n",
        "from sklearn.linear_model import LogisticRegression\n",
        "from sklearn.preprocessing import LabelEncoder\n",
        "from imblearn.under_sampling import RandomUnderSampler\n",
        "from sklearn.model_selection import train_test_split\n",
        "!pip install imblearn\n",
        "import seaborn as sns\n",
        "from sklearn.model_selection import GridSearchCV\n",
        "from sklearn.ensemble import GradientBoostingClassifier\n",
        "from xgboost import XGBClassifier\n"
      ],
      "metadata": {
        "id": "6Z-E441iqKop",
        "colab": {
          "base_uri": "https://localhost:8080/"
        },
        "outputId": "be6dfe17-3fb4-4572-af98-3d66bcd3ca2d"
      },
      "execution_count": null,
      "outputs": [
        {
          "output_type": "stream",
          "name": "stdout",
          "text": [
            "Requirement already satisfied: imblearn in /usr/local/lib/python3.7/dist-packages (0.0)\n",
            "Requirement already satisfied: imbalanced-learn in /usr/local/lib/python3.7/dist-packages (from imblearn) (0.8.1)\n",
            "Requirement already satisfied: scipy>=0.19.1 in /usr/local/lib/python3.7/dist-packages (from imbalanced-learn->imblearn) (1.4.1)\n",
            "Requirement already satisfied: numpy>=1.13.3 in /usr/local/lib/python3.7/dist-packages (from imbalanced-learn->imblearn) (1.19.5)\n",
            "Requirement already satisfied: scikit-learn>=0.24 in /usr/local/lib/python3.7/dist-packages (from imbalanced-learn->imblearn) (1.0.2)\n",
            "Requirement already satisfied: joblib>=0.11 in /usr/local/lib/python3.7/dist-packages (from imbalanced-learn->imblearn) (1.1.0)\n",
            "Requirement already satisfied: threadpoolctl>=2.0.0 in /usr/local/lib/python3.7/dist-packages (from scikit-learn>=0.24->imbalanced-learn->imblearn) (3.1.0)\n"
          ]
        }
      ]
    },
    {
      "cell_type": "code",
      "source": [
        "df.head(5)"
      ],
      "metadata": {
        "colab": {
          "base_uri": "https://localhost:8080/",
          "height": 270
        },
        "id": "oyvEwG0kGe36",
        "outputId": "b1ce979c-ffdd-4c0e-c180-6f228df8be73"
      },
      "execution_count": null,
      "outputs": [
        {
          "output_type": "execute_result",
          "data": {
            "text/html": [
              "\n",
              "  <div id=\"df-aff12cc0-779a-45a1-95a5-c514687dabd6\">\n",
              "    <div class=\"colab-df-container\">\n",
              "      <div>\n",
              "<style scoped>\n",
              "    .dataframe tbody tr th:only-of-type {\n",
              "        vertical-align: middle;\n",
              "    }\n",
              "\n",
              "    .dataframe tbody tr th {\n",
              "        vertical-align: top;\n",
              "    }\n",
              "\n",
              "    .dataframe thead th {\n",
              "        text-align: right;\n",
              "    }\n",
              "</style>\n",
              "<table border=\"1\" class=\"dataframe\">\n",
              "  <thead>\n",
              "    <tr style=\"text-align: right;\">\n",
              "      <th></th>\n",
              "      <th>id</th>\n",
              "      <th>region</th>\n",
              "      <th>latitude</th>\n",
              "      <th>longitude</th>\n",
              "      <th>accommodation_type</th>\n",
              "      <th>cost</th>\n",
              "      <th>minimum_nights</th>\n",
              "      <th>number_of_reviews</th>\n",
              "      <th>reviews_per_month</th>\n",
              "      <th>owner_id</th>\n",
              "      <th>owned_hotels</th>\n",
              "      <th>yearly_availability</th>\n",
              "    </tr>\n",
              "  </thead>\n",
              "  <tbody>\n",
              "    <tr>\n",
              "      <th>0</th>\n",
              "      <td>13232</td>\n",
              "      <td>Manhattan</td>\n",
              "      <td>40.71854</td>\n",
              "      <td>-74.00439</td>\n",
              "      <td>Entire home/apt</td>\n",
              "      <td>170</td>\n",
              "      <td>5</td>\n",
              "      <td>7</td>\n",
              "      <td>0.56</td>\n",
              "      <td>929983</td>\n",
              "      <td>1</td>\n",
              "      <td>0</td>\n",
              "    </tr>\n",
              "    <tr>\n",
              "      <th>1</th>\n",
              "      <td>246</td>\n",
              "      <td>Brooklyn</td>\n",
              "      <td>40.64446</td>\n",
              "      <td>-73.95030</td>\n",
              "      <td>Entire home/apt</td>\n",
              "      <td>65</td>\n",
              "      <td>3</td>\n",
              "      <td>238</td>\n",
              "      <td>2.30</td>\n",
              "      <td>281764</td>\n",
              "      <td>1</td>\n",
              "      <td>0</td>\n",
              "    </tr>\n",
              "    <tr>\n",
              "      <th>2</th>\n",
              "      <td>19091</td>\n",
              "      <td>Queens</td>\n",
              "      <td>40.78573</td>\n",
              "      <td>-73.81062</td>\n",
              "      <td>Private room</td>\n",
              "      <td>85</td>\n",
              "      <td>1</td>\n",
              "      <td>0</td>\n",
              "      <td>NaN</td>\n",
              "      <td>19923341</td>\n",
              "      <td>1</td>\n",
              "      <td>1</td>\n",
              "    </tr>\n",
              "    <tr>\n",
              "      <th>3</th>\n",
              "      <td>34305</td>\n",
              "      <td>Manhattan</td>\n",
              "      <td>40.73863</td>\n",
              "      <td>-73.98002</td>\n",
              "      <td>Private room</td>\n",
              "      <td>210</td>\n",
              "      <td>30</td>\n",
              "      <td>0</td>\n",
              "      <td>NaN</td>\n",
              "      <td>200380610</td>\n",
              "      <td>65</td>\n",
              "      <td>1</td>\n",
              "    </tr>\n",
              "    <tr>\n",
              "      <th>4</th>\n",
              "      <td>444</td>\n",
              "      <td>Manhattan</td>\n",
              "      <td>40.82426</td>\n",
              "      <td>-73.94630</td>\n",
              "      <td>Shared room</td>\n",
              "      <td>75</td>\n",
              "      <td>3</td>\n",
              "      <td>38</td>\n",
              "      <td>0.42</td>\n",
              "      <td>745069</td>\n",
              "      <td>3</td>\n",
              "      <td>1</td>\n",
              "    </tr>\n",
              "  </tbody>\n",
              "</table>\n",
              "</div>\n",
              "      <button class=\"colab-df-convert\" onclick=\"convertToInteractive('df-aff12cc0-779a-45a1-95a5-c514687dabd6')\"\n",
              "              title=\"Convert this dataframe to an interactive table.\"\n",
              "              style=\"display:none;\">\n",
              "        \n",
              "  <svg xmlns=\"http://www.w3.org/2000/svg\" height=\"24px\"viewBox=\"0 0 24 24\"\n",
              "       width=\"24px\">\n",
              "    <path d=\"M0 0h24v24H0V0z\" fill=\"none\"/>\n",
              "    <path d=\"M18.56 5.44l.94 2.06.94-2.06 2.06-.94-2.06-.94-.94-2.06-.94 2.06-2.06.94zm-11 1L8.5 8.5l.94-2.06 2.06-.94-2.06-.94L8.5 2.5l-.94 2.06-2.06.94zm10 10l.94 2.06.94-2.06 2.06-.94-2.06-.94-.94-2.06-.94 2.06-2.06.94z\"/><path d=\"M17.41 7.96l-1.37-1.37c-.4-.4-.92-.59-1.43-.59-.52 0-1.04.2-1.43.59L10.3 9.45l-7.72 7.72c-.78.78-.78 2.05 0 2.83L4 21.41c.39.39.9.59 1.41.59.51 0 1.02-.2 1.41-.59l7.78-7.78 2.81-2.81c.8-.78.8-2.07 0-2.86zM5.41 20L4 18.59l7.72-7.72 1.47 1.35L5.41 20z\"/>\n",
              "  </svg>\n",
              "      </button>\n",
              "      \n",
              "  <style>\n",
              "    .colab-df-container {\n",
              "      display:flex;\n",
              "      flex-wrap:wrap;\n",
              "      gap: 12px;\n",
              "    }\n",
              "\n",
              "    .colab-df-convert {\n",
              "      background-color: #E8F0FE;\n",
              "      border: none;\n",
              "      border-radius: 50%;\n",
              "      cursor: pointer;\n",
              "      display: none;\n",
              "      fill: #1967D2;\n",
              "      height: 32px;\n",
              "      padding: 0 0 0 0;\n",
              "      width: 32px;\n",
              "    }\n",
              "\n",
              "    .colab-df-convert:hover {\n",
              "      background-color: #E2EBFA;\n",
              "      box-shadow: 0px 1px 2px rgba(60, 64, 67, 0.3), 0px 1px 3px 1px rgba(60, 64, 67, 0.15);\n",
              "      fill: #174EA6;\n",
              "    }\n",
              "\n",
              "    [theme=dark] .colab-df-convert {\n",
              "      background-color: #3B4455;\n",
              "      fill: #D2E3FC;\n",
              "    }\n",
              "\n",
              "    [theme=dark] .colab-df-convert:hover {\n",
              "      background-color: #434B5C;\n",
              "      box-shadow: 0px 1px 3px 1px rgba(0, 0, 0, 0.15);\n",
              "      filter: drop-shadow(0px 1px 2px rgba(0, 0, 0, 0.3));\n",
              "      fill: #FFFFFF;\n",
              "    }\n",
              "  </style>\n",
              "\n",
              "      <script>\n",
              "        const buttonEl =\n",
              "          document.querySelector('#df-aff12cc0-779a-45a1-95a5-c514687dabd6 button.colab-df-convert');\n",
              "        buttonEl.style.display =\n",
              "          google.colab.kernel.accessAllowed ? 'block' : 'none';\n",
              "\n",
              "        async function convertToInteractive(key) {\n",
              "          const element = document.querySelector('#df-aff12cc0-779a-45a1-95a5-c514687dabd6');\n",
              "          const dataTable =\n",
              "            await google.colab.kernel.invokeFunction('convertToInteractive',\n",
              "                                                     [key], {});\n",
              "          if (!dataTable) return;\n",
              "\n",
              "          const docLinkHtml = 'Like what you see? Visit the ' +\n",
              "            '<a target=\"_blank\" href=https://colab.research.google.com/notebooks/data_table.ipynb>data table notebook</a>'\n",
              "            + ' to learn more about interactive tables.';\n",
              "          element.innerHTML = '';\n",
              "          dataTable['output_type'] = 'display_data';\n",
              "          await google.colab.output.renderOutput(dataTable, element);\n",
              "          const docLink = document.createElement('div');\n",
              "          docLink.innerHTML = docLinkHtml;\n",
              "          element.appendChild(docLink);\n",
              "        }\n",
              "      </script>\n",
              "    </div>\n",
              "  </div>\n",
              "  "
            ],
            "text/plain": [
              "      id     region  latitude  ...   owner_id owned_hotels  yearly_availability\n",
              "0  13232  Manhattan  40.71854  ...     929983            1                    0\n",
              "1    246   Brooklyn  40.64446  ...     281764            1                    0\n",
              "2  19091     Queens  40.78573  ...   19923341            1                    1\n",
              "3  34305  Manhattan  40.73863  ...  200380610           65                    1\n",
              "4    444  Manhattan  40.82426  ...     745069            3                    1\n",
              "\n",
              "[5 rows x 12 columns]"
            ]
          },
          "metadata": {},
          "execution_count": 5
        }
      ]
    },
    {
      "cell_type": "code",
      "source": [
        "df.tail(5)"
      ],
      "metadata": {
        "colab": {
          "base_uri": "https://localhost:8080/",
          "height": 270
        },
        "id": "BOdDhz4JHgjq",
        "outputId": "13ea31fd-5616-45c4-c6f3-938408f54650"
      },
      "execution_count": null,
      "outputs": [
        {
          "output_type": "execute_result",
          "data": {
            "text/html": [
              "\n",
              "  <div id=\"df-4f74f3bf-8630-443a-802d-37e32edd0ccd\">\n",
              "    <div class=\"colab-df-container\">\n",
              "      <div>\n",
              "<style scoped>\n",
              "    .dataframe tbody tr th:only-of-type {\n",
              "        vertical-align: middle;\n",
              "    }\n",
              "\n",
              "    .dataframe tbody tr th {\n",
              "        vertical-align: top;\n",
              "    }\n",
              "\n",
              "    .dataframe thead th {\n",
              "        text-align: right;\n",
              "    }\n",
              "</style>\n",
              "<table border=\"1\" class=\"dataframe\">\n",
              "  <thead>\n",
              "    <tr style=\"text-align: right;\">\n",
              "      <th></th>\n",
              "      <th>id</th>\n",
              "      <th>region</th>\n",
              "      <th>latitude</th>\n",
              "      <th>longitude</th>\n",
              "      <th>accommodation_type</th>\n",
              "      <th>cost</th>\n",
              "      <th>minimum_nights</th>\n",
              "      <th>number_of_reviews</th>\n",
              "      <th>reviews_per_month</th>\n",
              "      <th>owner_id</th>\n",
              "      <th>owned_hotels</th>\n",
              "      <th>yearly_availability</th>\n",
              "    </tr>\n",
              "  </thead>\n",
              "  <tbody>\n",
              "    <tr>\n",
              "      <th>2865</th>\n",
              "      <td>47852</td>\n",
              "      <td>Manhattan</td>\n",
              "      <td>40.74316</td>\n",
              "      <td>-73.98038</td>\n",
              "      <td>Private room</td>\n",
              "      <td>400</td>\n",
              "      <td>2</td>\n",
              "      <td>0</td>\n",
              "      <td>NaN</td>\n",
              "      <td>270096906</td>\n",
              "      <td>1</td>\n",
              "      <td>1</td>\n",
              "    </tr>\n",
              "    <tr>\n",
              "      <th>2866</th>\n",
              "      <td>21978</td>\n",
              "      <td>Manhattan</td>\n",
              "      <td>40.73523</td>\n",
              "      <td>-73.99465</td>\n",
              "      <td>Private room</td>\n",
              "      <td>180</td>\n",
              "      <td>3</td>\n",
              "      <td>2</td>\n",
              "      <td>0.07</td>\n",
              "      <td>97266110</td>\n",
              "      <td>1</td>\n",
              "      <td>1</td>\n",
              "    </tr>\n",
              "    <tr>\n",
              "      <th>2867</th>\n",
              "      <td>23485</td>\n",
              "      <td>Manhattan</td>\n",
              "      <td>40.76619</td>\n",
              "      <td>-73.98987</td>\n",
              "      <td>Entire home/apt</td>\n",
              "      <td>179</td>\n",
              "      <td>3</td>\n",
              "      <td>17</td>\n",
              "      <td>0.67</td>\n",
              "      <td>10903067</td>\n",
              "      <td>1</td>\n",
              "      <td>0</td>\n",
              "    </tr>\n",
              "    <tr>\n",
              "      <th>2868</th>\n",
              "      <td>16757</td>\n",
              "      <td>Manhattan</td>\n",
              "      <td>40.74637</td>\n",
              "      <td>-73.97207</td>\n",
              "      <td>Private room</td>\n",
              "      <td>200</td>\n",
              "      <td>30</td>\n",
              "      <td>0</td>\n",
              "      <td>NaN</td>\n",
              "      <td>2856748</td>\n",
              "      <td>49</td>\n",
              "      <td>1</td>\n",
              "    </tr>\n",
              "    <tr>\n",
              "      <th>2869</th>\n",
              "      <td>2355</td>\n",
              "      <td>Manhattan</td>\n",
              "      <td>40.79208</td>\n",
              "      <td>-73.96482</td>\n",
              "      <td>Shared room</td>\n",
              "      <td>1000</td>\n",
              "      <td>30</td>\n",
              "      <td>24</td>\n",
              "      <td>0.33</td>\n",
              "      <td>836168</td>\n",
              "      <td>11</td>\n",
              "      <td>1</td>\n",
              "    </tr>\n",
              "  </tbody>\n",
              "</table>\n",
              "</div>\n",
              "      <button class=\"colab-df-convert\" onclick=\"convertToInteractive('df-4f74f3bf-8630-443a-802d-37e32edd0ccd')\"\n",
              "              title=\"Convert this dataframe to an interactive table.\"\n",
              "              style=\"display:none;\">\n",
              "        \n",
              "  <svg xmlns=\"http://www.w3.org/2000/svg\" height=\"24px\"viewBox=\"0 0 24 24\"\n",
              "       width=\"24px\">\n",
              "    <path d=\"M0 0h24v24H0V0z\" fill=\"none\"/>\n",
              "    <path d=\"M18.56 5.44l.94 2.06.94-2.06 2.06-.94-2.06-.94-.94-2.06-.94 2.06-2.06.94zm-11 1L8.5 8.5l.94-2.06 2.06-.94-2.06-.94L8.5 2.5l-.94 2.06-2.06.94zm10 10l.94 2.06.94-2.06 2.06-.94-2.06-.94-.94-2.06-.94 2.06-2.06.94z\"/><path d=\"M17.41 7.96l-1.37-1.37c-.4-.4-.92-.59-1.43-.59-.52 0-1.04.2-1.43.59L10.3 9.45l-7.72 7.72c-.78.78-.78 2.05 0 2.83L4 21.41c.39.39.9.59 1.41.59.51 0 1.02-.2 1.41-.59l7.78-7.78 2.81-2.81c.8-.78.8-2.07 0-2.86zM5.41 20L4 18.59l7.72-7.72 1.47 1.35L5.41 20z\"/>\n",
              "  </svg>\n",
              "      </button>\n",
              "      \n",
              "  <style>\n",
              "    .colab-df-container {\n",
              "      display:flex;\n",
              "      flex-wrap:wrap;\n",
              "      gap: 12px;\n",
              "    }\n",
              "\n",
              "    .colab-df-convert {\n",
              "      background-color: #E8F0FE;\n",
              "      border: none;\n",
              "      border-radius: 50%;\n",
              "      cursor: pointer;\n",
              "      display: none;\n",
              "      fill: #1967D2;\n",
              "      height: 32px;\n",
              "      padding: 0 0 0 0;\n",
              "      width: 32px;\n",
              "    }\n",
              "\n",
              "    .colab-df-convert:hover {\n",
              "      background-color: #E2EBFA;\n",
              "      box-shadow: 0px 1px 2px rgba(60, 64, 67, 0.3), 0px 1px 3px 1px rgba(60, 64, 67, 0.15);\n",
              "      fill: #174EA6;\n",
              "    }\n",
              "\n",
              "    [theme=dark] .colab-df-convert {\n",
              "      background-color: #3B4455;\n",
              "      fill: #D2E3FC;\n",
              "    }\n",
              "\n",
              "    [theme=dark] .colab-df-convert:hover {\n",
              "      background-color: #434B5C;\n",
              "      box-shadow: 0px 1px 3px 1px rgba(0, 0, 0, 0.15);\n",
              "      filter: drop-shadow(0px 1px 2px rgba(0, 0, 0, 0.3));\n",
              "      fill: #FFFFFF;\n",
              "    }\n",
              "  </style>\n",
              "\n",
              "      <script>\n",
              "        const buttonEl =\n",
              "          document.querySelector('#df-4f74f3bf-8630-443a-802d-37e32edd0ccd button.colab-df-convert');\n",
              "        buttonEl.style.display =\n",
              "          google.colab.kernel.accessAllowed ? 'block' : 'none';\n",
              "\n",
              "        async function convertToInteractive(key) {\n",
              "          const element = document.querySelector('#df-4f74f3bf-8630-443a-802d-37e32edd0ccd');\n",
              "          const dataTable =\n",
              "            await google.colab.kernel.invokeFunction('convertToInteractive',\n",
              "                                                     [key], {});\n",
              "          if (!dataTable) return;\n",
              "\n",
              "          const docLinkHtml = 'Like what you see? Visit the ' +\n",
              "            '<a target=\"_blank\" href=https://colab.research.google.com/notebooks/data_table.ipynb>data table notebook</a>'\n",
              "            + ' to learn more about interactive tables.';\n",
              "          element.innerHTML = '';\n",
              "          dataTable['output_type'] = 'display_data';\n",
              "          await google.colab.output.renderOutput(dataTable, element);\n",
              "          const docLink = document.createElement('div');\n",
              "          docLink.innerHTML = docLinkHtml;\n",
              "          element.appendChild(docLink);\n",
              "        }\n",
              "      </script>\n",
              "    </div>\n",
              "  </div>\n",
              "  "
            ],
            "text/plain": [
              "         id     region  latitude  ...   owner_id owned_hotels  yearly_availability\n",
              "2865  47852  Manhattan  40.74316  ...  270096906            1                    1\n",
              "2866  21978  Manhattan  40.73523  ...   97266110            1                    1\n",
              "2867  23485  Manhattan  40.76619  ...   10903067            1                    0\n",
              "2868  16757  Manhattan  40.74637  ...    2856748           49                    1\n",
              "2869   2355  Manhattan  40.79208  ...     836168           11                    1\n",
              "\n",
              "[5 rows x 12 columns]"
            ]
          },
          "metadata": {},
          "execution_count": 6
        }
      ]
    },
    {
      "cell_type": "code",
      "source": [
        "df.info()\n"
      ],
      "metadata": {
        "colab": {
          "base_uri": "https://localhost:8080/"
        },
        "id": "-X-7GnCxHt8h",
        "outputId": "c56e20c4-0e5c-4e6a-c1b5-d6a1579361e8"
      },
      "execution_count": null,
      "outputs": [
        {
          "output_type": "stream",
          "name": "stdout",
          "text": [
            "<class 'pandas.core.frame.DataFrame'>\n",
            "RangeIndex: 2870 entries, 0 to 2869\n",
            "Data columns (total 12 columns):\n",
            " #   Column               Non-Null Count  Dtype  \n",
            "---  ------               --------------  -----  \n",
            " 0   id                   2870 non-null   int64  \n",
            " 1   region               2870 non-null   object \n",
            " 2   latitude             2870 non-null   float64\n",
            " 3   longitude            2870 non-null   float64\n",
            " 4   accommodation_type   2870 non-null   object \n",
            " 5   cost                 2870 non-null   int64  \n",
            " 6   minimum_nights       2870 non-null   int64  \n",
            " 7   number_of_reviews    2870 non-null   int64  \n",
            " 8   reviews_per_month    2194 non-null   float64\n",
            " 9   owner_id             2870 non-null   int64  \n",
            " 10  owned_hotels         2870 non-null   int64  \n",
            " 11  yearly_availability  2870 non-null   int64  \n",
            "dtypes: float64(3), int64(7), object(2)\n",
            "memory usage: 269.2+ KB\n"
          ]
        }
      ]
    },
    {
      "cell_type": "code",
      "source": [
        "df.columns"
      ],
      "metadata": {
        "colab": {
          "base_uri": "https://localhost:8080/"
        },
        "id": "Y7fMaOFXH3WF",
        "outputId": "3caeeb4b-0c03-4e66-8b5f-293b2e8fd0c1"
      },
      "execution_count": null,
      "outputs": [
        {
          "output_type": "execute_result",
          "data": {
            "text/plain": [
              "Index(['id', 'region', 'latitude', 'longitude', 'accommodation_type', 'cost',\n",
              "       'minimum_nights', 'number_of_reviews', 'reviews_per_month', 'owner_id',\n",
              "       'owned_hotels', 'yearly_availability'],\n",
              "      dtype='object')"
            ]
          },
          "metadata": {},
          "execution_count": 8
        }
      ]
    },
    {
      "cell_type": "code",
      "source": [
        "len(df)"
      ],
      "metadata": {
        "colab": {
          "base_uri": "https://localhost:8080/"
        },
        "id": "Zr0kS9jbH8Zq",
        "outputId": "5ae29f7c-0cba-4dc8-ccea-4f895cfddafe"
      },
      "execution_count": null,
      "outputs": [
        {
          "output_type": "execute_result",
          "data": {
            "text/plain": [
              "2870"
            ]
          },
          "metadata": {},
          "execution_count": 9
        }
      ]
    },
    {
      "cell_type": "code",
      "source": [
        "len(df.columns)"
      ],
      "metadata": {
        "colab": {
          "base_uri": "https://localhost:8080/"
        },
        "id": "O6-dDYCtIEEC",
        "outputId": "54d400b0-f65b-448a-e15f-3f66e810652d"
      },
      "execution_count": null,
      "outputs": [
        {
          "output_type": "execute_result",
          "data": {
            "text/plain": [
              "12"
            ]
          },
          "metadata": {},
          "execution_count": 10
        }
      ]
    },
    {
      "cell_type": "code",
      "source": [
        "df.shape"
      ],
      "metadata": {
        "colab": {
          "base_uri": "https://localhost:8080/"
        },
        "id": "FITCsWiUIKQN",
        "outputId": "2308dcb3-6175-4e90-a5ae-4ad5c9762043"
      },
      "execution_count": null,
      "outputs": [
        {
          "output_type": "execute_result",
          "data": {
            "text/plain": [
              "(2870, 12)"
            ]
          },
          "metadata": {},
          "execution_count": 11
        }
      ]
    },
    {
      "cell_type": "markdown",
      "source": [
        "**Describe helps in Analyzing the data at a glance** "
      ],
      "metadata": {
        "id": "-XKZXLTorwhj"
      }
    },
    {
      "cell_type": "code",
      "source": [
        "df.describe()\n"
      ],
      "metadata": {
        "colab": {
          "base_uri": "https://localhost:8080/",
          "height": 364
        },
        "id": "Tzt9bWPUIcJ4",
        "outputId": "230adae9-f4a9-4cb6-fd02-fb252679ce9f"
      },
      "execution_count": null,
      "outputs": [
        {
          "output_type": "execute_result",
          "data": {
            "text/html": [
              "\n",
              "  <div id=\"df-8fd21f64-089f-4600-afc0-bf65e7e1bc65\">\n",
              "    <div class=\"colab-df-container\">\n",
              "      <div>\n",
              "<style scoped>\n",
              "    .dataframe tbody tr th:only-of-type {\n",
              "        vertical-align: middle;\n",
              "    }\n",
              "\n",
              "    .dataframe tbody tr th {\n",
              "        vertical-align: top;\n",
              "    }\n",
              "\n",
              "    .dataframe thead th {\n",
              "        text-align: right;\n",
              "    }\n",
              "</style>\n",
              "<table border=\"1\" class=\"dataframe\">\n",
              "  <thead>\n",
              "    <tr style=\"text-align: right;\">\n",
              "      <th></th>\n",
              "      <th>id</th>\n",
              "      <th>latitude</th>\n",
              "      <th>longitude</th>\n",
              "      <th>cost</th>\n",
              "      <th>minimum_nights</th>\n",
              "      <th>number_of_reviews</th>\n",
              "      <th>reviews_per_month</th>\n",
              "      <th>owner_id</th>\n",
              "      <th>owned_hotels</th>\n",
              "      <th>yearly_availability</th>\n",
              "    </tr>\n",
              "  </thead>\n",
              "  <tbody>\n",
              "    <tr>\n",
              "      <th>count</th>\n",
              "      <td>2870.000000</td>\n",
              "      <td>2870.000000</td>\n",
              "      <td>2870.000000</td>\n",
              "      <td>2870.000000</td>\n",
              "      <td>2870.000000</td>\n",
              "      <td>2870.000000</td>\n",
              "      <td>2194.000000</td>\n",
              "      <td>2.870000e+03</td>\n",
              "      <td>2870.000000</td>\n",
              "      <td>2870.000000</td>\n",
              "    </tr>\n",
              "    <tr>\n",
              "      <th>mean</th>\n",
              "      <td>26760.657143</td>\n",
              "      <td>40.731224</td>\n",
              "      <td>-73.950158</td>\n",
              "      <td>195.943206</td>\n",
              "      <td>11.530314</td>\n",
              "      <td>16.315331</td>\n",
              "      <td>1.157502</td>\n",
              "      <td>7.202195e+07</td>\n",
              "      <td>8.411498</td>\n",
              "      <td>0.498606</td>\n",
              "    </tr>\n",
              "    <tr>\n",
              "      <th>std</th>\n",
              "      <td>14140.930062</td>\n",
              "      <td>0.054942</td>\n",
              "      <td>0.049745</td>\n",
              "      <td>406.184714</td>\n",
              "      <td>37.972339</td>\n",
              "      <td>32.481722</td>\n",
              "      <td>1.355028</td>\n",
              "      <td>8.076516e+07</td>\n",
              "      <td>27.105522</td>\n",
              "      <td>0.500085</td>\n",
              "    </tr>\n",
              "    <tr>\n",
              "      <th>min</th>\n",
              "      <td>0.000000</td>\n",
              "      <td>40.507080</td>\n",
              "      <td>-74.242850</td>\n",
              "      <td>10.000000</td>\n",
              "      <td>1.000000</td>\n",
              "      <td>0.000000</td>\n",
              "      <td>0.010000</td>\n",
              "      <td>2.787000e+03</td>\n",
              "      <td>1.000000</td>\n",
              "      <td>0.000000</td>\n",
              "    </tr>\n",
              "    <tr>\n",
              "      <th>25%</th>\n",
              "      <td>15931.750000</td>\n",
              "      <td>40.692462</td>\n",
              "      <td>-73.984003</td>\n",
              "      <td>75.000000</td>\n",
              "      <td>1.000000</td>\n",
              "      <td>1.000000</td>\n",
              "      <td>0.240000</td>\n",
              "      <td>7.388002e+06</td>\n",
              "      <td>1.000000</td>\n",
              "      <td>0.000000</td>\n",
              "    </tr>\n",
              "    <tr>\n",
              "      <th>50%</th>\n",
              "      <td>28946.500000</td>\n",
              "      <td>40.728250</td>\n",
              "      <td>-73.956720</td>\n",
              "      <td>120.000000</td>\n",
              "      <td>3.000000</td>\n",
              "      <td>4.000000</td>\n",
              "      <td>0.650000</td>\n",
              "      <td>3.352708e+07</td>\n",
              "      <td>1.000000</td>\n",
              "      <td>0.000000</td>\n",
              "    </tr>\n",
              "    <tr>\n",
              "      <th>75%</th>\n",
              "      <td>38478.500000</td>\n",
              "      <td>40.762658</td>\n",
              "      <td>-73.934202</td>\n",
              "      <td>200.000000</td>\n",
              "      <td>6.000000</td>\n",
              "      <td>16.000000</td>\n",
              "      <td>1.530000</td>\n",
              "      <td>1.207625e+08</td>\n",
              "      <td>3.000000</td>\n",
              "      <td>1.000000</td>\n",
              "    </tr>\n",
              "    <tr>\n",
              "      <th>max</th>\n",
              "      <td>48893.000000</td>\n",
              "      <td>40.898730</td>\n",
              "      <td>-73.721730</td>\n",
              "      <td>9999.000000</td>\n",
              "      <td>999.000000</td>\n",
              "      <td>395.000000</td>\n",
              "      <td>10.370000</td>\n",
              "      <td>2.738123e+08</td>\n",
              "      <td>327.000000</td>\n",
              "      <td>1.000000</td>\n",
              "    </tr>\n",
              "  </tbody>\n",
              "</table>\n",
              "</div>\n",
              "      <button class=\"colab-df-convert\" onclick=\"convertToInteractive('df-8fd21f64-089f-4600-afc0-bf65e7e1bc65')\"\n",
              "              title=\"Convert this dataframe to an interactive table.\"\n",
              "              style=\"display:none;\">\n",
              "        \n",
              "  <svg xmlns=\"http://www.w3.org/2000/svg\" height=\"24px\"viewBox=\"0 0 24 24\"\n",
              "       width=\"24px\">\n",
              "    <path d=\"M0 0h24v24H0V0z\" fill=\"none\"/>\n",
              "    <path d=\"M18.56 5.44l.94 2.06.94-2.06 2.06-.94-2.06-.94-.94-2.06-.94 2.06-2.06.94zm-11 1L8.5 8.5l.94-2.06 2.06-.94-2.06-.94L8.5 2.5l-.94 2.06-2.06.94zm10 10l.94 2.06.94-2.06 2.06-.94-2.06-.94-.94-2.06-.94 2.06-2.06.94z\"/><path d=\"M17.41 7.96l-1.37-1.37c-.4-.4-.92-.59-1.43-.59-.52 0-1.04.2-1.43.59L10.3 9.45l-7.72 7.72c-.78.78-.78 2.05 0 2.83L4 21.41c.39.39.9.59 1.41.59.51 0 1.02-.2 1.41-.59l7.78-7.78 2.81-2.81c.8-.78.8-2.07 0-2.86zM5.41 20L4 18.59l7.72-7.72 1.47 1.35L5.41 20z\"/>\n",
              "  </svg>\n",
              "      </button>\n",
              "      \n",
              "  <style>\n",
              "    .colab-df-container {\n",
              "      display:flex;\n",
              "      flex-wrap:wrap;\n",
              "      gap: 12px;\n",
              "    }\n",
              "\n",
              "    .colab-df-convert {\n",
              "      background-color: #E8F0FE;\n",
              "      border: none;\n",
              "      border-radius: 50%;\n",
              "      cursor: pointer;\n",
              "      display: none;\n",
              "      fill: #1967D2;\n",
              "      height: 32px;\n",
              "      padding: 0 0 0 0;\n",
              "      width: 32px;\n",
              "    }\n",
              "\n",
              "    .colab-df-convert:hover {\n",
              "      background-color: #E2EBFA;\n",
              "      box-shadow: 0px 1px 2px rgba(60, 64, 67, 0.3), 0px 1px 3px 1px rgba(60, 64, 67, 0.15);\n",
              "      fill: #174EA6;\n",
              "    }\n",
              "\n",
              "    [theme=dark] .colab-df-convert {\n",
              "      background-color: #3B4455;\n",
              "      fill: #D2E3FC;\n",
              "    }\n",
              "\n",
              "    [theme=dark] .colab-df-convert:hover {\n",
              "      background-color: #434B5C;\n",
              "      box-shadow: 0px 1px 3px 1px rgba(0, 0, 0, 0.15);\n",
              "      filter: drop-shadow(0px 1px 2px rgba(0, 0, 0, 0.3));\n",
              "      fill: #FFFFFF;\n",
              "    }\n",
              "  </style>\n",
              "\n",
              "      <script>\n",
              "        const buttonEl =\n",
              "          document.querySelector('#df-8fd21f64-089f-4600-afc0-bf65e7e1bc65 button.colab-df-convert');\n",
              "        buttonEl.style.display =\n",
              "          google.colab.kernel.accessAllowed ? 'block' : 'none';\n",
              "\n",
              "        async function convertToInteractive(key) {\n",
              "          const element = document.querySelector('#df-8fd21f64-089f-4600-afc0-bf65e7e1bc65');\n",
              "          const dataTable =\n",
              "            await google.colab.kernel.invokeFunction('convertToInteractive',\n",
              "                                                     [key], {});\n",
              "          if (!dataTable) return;\n",
              "\n",
              "          const docLinkHtml = 'Like what you see? Visit the ' +\n",
              "            '<a target=\"_blank\" href=https://colab.research.google.com/notebooks/data_table.ipynb>data table notebook</a>'\n",
              "            + ' to learn more about interactive tables.';\n",
              "          element.innerHTML = '';\n",
              "          dataTable['output_type'] = 'display_data';\n",
              "          await google.colab.output.renderOutput(dataTable, element);\n",
              "          const docLink = document.createElement('div');\n",
              "          docLink.innerHTML = docLinkHtml;\n",
              "          element.appendChild(docLink);\n",
              "        }\n",
              "      </script>\n",
              "    </div>\n",
              "  </div>\n",
              "  "
            ],
            "text/plain": [
              "                 id     latitude  ...  owned_hotels  yearly_availability\n",
              "count   2870.000000  2870.000000  ...   2870.000000          2870.000000\n",
              "mean   26760.657143    40.731224  ...      8.411498             0.498606\n",
              "std    14140.930062     0.054942  ...     27.105522             0.500085\n",
              "min        0.000000    40.507080  ...      1.000000             0.000000\n",
              "25%    15931.750000    40.692462  ...      1.000000             0.000000\n",
              "50%    28946.500000    40.728250  ...      1.000000             0.000000\n",
              "75%    38478.500000    40.762658  ...      3.000000             1.000000\n",
              "max    48893.000000    40.898730  ...    327.000000             1.000000\n",
              "\n",
              "[8 rows x 10 columns]"
            ]
          },
          "metadata": {},
          "execution_count": 12
        }
      ]
    },
    {
      "cell_type": "markdown",
      "source": [
        "**Checking for Null values in data, because either these are filled with an appropriate value with respect to each column or completely removed from the dataset, depending on a given use case** "
      ],
      "metadata": {
        "id": "EsHHCqwysN6I"
      }
    },
    {
      "cell_type": "code",
      "source": [
        "df.replace('', np.nan, inplace=True)\n",
        "df.isnull().sum()"
      ],
      "metadata": {
        "colab": {
          "base_uri": "https://localhost:8080/"
        },
        "id": "7Ve1cgICI3ha",
        "outputId": "406a8f9e-1423-4cc1-87dd-5c1d20cf6063"
      },
      "execution_count": null,
      "outputs": [
        {
          "output_type": "execute_result",
          "data": {
            "text/plain": [
              "id                       0\n",
              "region                   0\n",
              "latitude                 0\n",
              "longitude                0\n",
              "accommodation_type       0\n",
              "cost                     0\n",
              "minimum_nights           0\n",
              "number_of_reviews        0\n",
              "reviews_per_month      676\n",
              "owner_id                 0\n",
              "owned_hotels             0\n",
              "yearly_availability      0\n",
              "dtype: int64"
            ]
          },
          "metadata": {},
          "execution_count": 13
        }
      ]
    },
    {
      "cell_type": "markdown",
      "source": [
        "**Unique Values in each attribute also helps explore the structure of the dataset**"
      ],
      "metadata": {
        "id": "LSTUEExOshhG"
      }
    },
    {
      "cell_type": "code",
      "source": [
        "df.nunique()"
      ],
      "metadata": {
        "colab": {
          "base_uri": "https://localhost:8080/"
        },
        "id": "_L2EnQWjKp_u",
        "outputId": "818eac0b-ca83-4c17-8bf2-b1cf8fd1bdd1"
      },
      "execution_count": null,
      "outputs": [
        {
          "output_type": "execute_result",
          "data": {
            "text/plain": [
              "id                     2870\n",
              "region                    5\n",
              "latitude               2647\n",
              "longitude              2550\n",
              "accommodation_type        3\n",
              "cost                    330\n",
              "minimum_nights           53\n",
              "number_of_reviews       160\n",
              "reviews_per_month       419\n",
              "owner_id               2371\n",
              "owned_hotels             40\n",
              "yearly_availability       2\n",
              "dtype: int64"
            ]
          },
          "metadata": {},
          "execution_count": 14
        }
      ]
    },
    {
      "cell_type": "markdown",
      "source": [
        "**But never forgets about the most important attribute of any given dataset, which can be a label in a classification problem or a continuous value in regression analysis. In clustering it depends on the use case that which attributes are important to look around with.**"
      ],
      "metadata": {
        "id": "S74VnR8gsqzl"
      }
    },
    {
      "cell_type": "code",
      "source": [
        "df['yearly_availability'].value_counts()"
      ],
      "metadata": {
        "colab": {
          "base_uri": "https://localhost:8080/"
        },
        "id": "RSciWNCmJn-U",
        "outputId": "92740834-ce47-4ee8-de8b-44646b9e9c40"
      },
      "execution_count": null,
      "outputs": [
        {
          "output_type": "execute_result",
          "data": {
            "text/plain": [
              "0    1439\n",
              "1    1431\n",
              "Name: yearly_availability, dtype: int64"
            ]
          },
          "metadata": {},
          "execution_count": 15
        }
      ]
    },
    {
      "cell_type": "code",
      "source": [
        "colsToObserve = df.columns[(df.nunique() <= 10)]"
      ],
      "metadata": {
        "id": "5NrIkJl_SGK8"
      },
      "execution_count": null,
      "outputs": []
    },
    {
      "cell_type": "markdown",
      "source": [
        "**When an attribute has less number of Unique Values it is always a good criteria to look at them keenly to know more about the structure as a whole and how the other attributes are behaving around these small buckets**"
      ],
      "metadata": {
        "id": "fzYh2b_ytJtL"
      }
    },
    {
      "cell_type": "code",
      "source": [
        "for col in colsToObserve:\n",
        "  if len(df[col].unique())>1:\n",
        "    print(col + \" : \")\n",
        "    print(df[col].unique())"
      ],
      "metadata": {
        "colab": {
          "base_uri": "https://localhost:8080/"
        },
        "id": "IjfiVxEqPawn",
        "outputId": "375a80d2-8440-4414-fe78-ec3daf849fdd"
      },
      "execution_count": null,
      "outputs": [
        {
          "output_type": "stream",
          "name": "stdout",
          "text": [
            "region : \n",
            "['Manhattan' 'Brooklyn' 'Queens' 'Bronx' 'Staten Island']\n",
            "accommodation_type : \n",
            "['Entire home/apt' 'Private room' 'Shared room']\n",
            "yearly_availability : \n",
            "[0 1]\n"
          ]
        }
      ]
    },
    {
      "cell_type": "markdown",
      "source": [
        "# **Question 2: Plots, Histograms, Box Plots, Correlation Matrix and Hypothesis about the Structure of Data, Deep Diving to find correlation and causation**"
      ],
      "metadata": {
        "id": "CNZRoju_45fp"
      }
    },
    {
      "cell_type": "code",
      "source": [
        "import seaborn as sns\n",
        "\n",
        "\n",
        "\n",
        "e=pd.DataFrame(df.region.value_counts()).reset_index(drop=False)\n",
        "e.columns=['region','Frequency'] # rename columns\n",
        "plt.figure(figsize=(14,6)) # adjust figure size\n",
        "ax = sns.barplot(x=\"region\", y=\"Frequency\", data=e) # draw barplot"
      ],
      "metadata": {
        "colab": {
          "base_uri": "https://localhost:8080/",
          "height": 388
        },
        "id": "TMTXauTTuR7V",
        "outputId": "a5535d6c-e2e5-452e-9e88-c0300fb4147a"
      },
      "execution_count": null,
      "outputs": [
        {
          "output_type": "display_data",
          "data": {
            "image/png": "[encoded data removed]",
            "text/plain": [
              "<Figure size 1008x432 with 1 Axes>"
            ]
          },
          "metadata": {
            "needs_background": "light"
          }
        }
      ]
    },
    {
      "cell_type": "code",
      "source": [
        "e=pd.DataFrame(df.accommodation_type.value_counts()).reset_index(drop=False)\n",
        "e.columns=['Frequency', 'accommodation_type'] # rename columns\n",
        "plt.figure(figsize=(14,6)) # adjust figure size\n",
        "ax = sns.barplot(x=\"Frequency\", y=\"accommodation_type\", data=e) # draw barplot"
      ],
      "metadata": {
        "colab": {
          "base_uri": "https://localhost:8080/",
          "height": 388
        },
        "id": "IigPZVA6u6tZ",
        "outputId": "a2c84e53-909c-4888-82a9-b90e11be785d"
      },
      "execution_count": null,
      "outputs": [
        {
          "output_type": "display_data",
          "data": {
            "image/png": "[encoded data removed]",
            "text/plain": [
              "<Figure size 1008x432 with 1 Axes>"
            ]
          },
          "metadata": {
            "needs_background": "light"
          }
        }
      ]
    },
    {
      "cell_type": "code",
      "source": [
        "e=pd.DataFrame(df.minimum_nights.value_counts()).reset_index(drop=False)\n",
        "e.columns=['minimum_nights','Frequency'] # rename columns\n",
        "plt.figure(figsize=(14,6)) # adjust figure size\n",
        "ax = sns.barplot(x=\"minimum_nights\", y=\"Frequency\", data=e) # draw barplot"
      ],
      "metadata": {
        "colab": {
          "base_uri": "https://localhost:8080/",
          "height": 389
        },
        "id": "NYcatwCIvD1n",
        "outputId": "e44598b5-9a1c-482f-eae0-f09b080322a2"
      },
      "execution_count": null,
      "outputs": [
        {
          "output_type": "display_data",
          "data": {
            "image/png": "[encoded data removed]",
            "text/plain": [
              "<Figure size 1008x432 with 1 Axes>"
            ]
          },
          "metadata": {
            "needs_background": "light"
          }
        }
      ]
    },
    {
      "cell_type": "code",
      "source": [
        "e=pd.DataFrame(df.number_of_reviews.value_counts()).reset_index(drop=False)\n",
        "e.columns=['number_of_reviews','Frequency'] # rename columns\n",
        "plt.figure(figsize=(14,6)) # adjust figure size\n",
        "ax = sns.barplot(x=\"number_of_reviews\", y=\"Frequency\", data=e) # draw barplot"
      ],
      "metadata": {
        "colab": {
          "base_uri": "https://localhost:8080/",
          "height": 389
        },
        "id": "VEb_eCJ6vGqj",
        "outputId": "591a18ee-7ea7-45ea-9ff0-554b2533c087"
      },
      "execution_count": null,
      "outputs": [
        {
          "output_type": "display_data",
          "data": {
            "image/png": "[encoded data removed]",
            "text/plain": [
              "<Figure size 1008x432 with 1 Axes>"
            ]
          },
          "metadata": {
            "needs_background": "light"
          }
        }
      ]
    },
    {
      "cell_type": "code",
      "source": [
        "e=pd.DataFrame(df.reviews_per_month.value_counts()).reset_index(drop=False)\n",
        "e.columns=['reviews_per_month','Frequency'] # rename columns\n",
        "plt.figure(figsize=(14,6)) # adjust figure size\n",
        "ax = sns.barplot(x=\"reviews_per_month\", y=\"Frequency\", data=e) # draw barplot"
      ],
      "metadata": {
        "colab": {
          "base_uri": "https://localhost:8080/",
          "height": 389
        },
        "id": "ME-egZ_RvHEj",
        "outputId": "db8fb25b-94a6-4f41-b253-f386e8944bc0"
      },
      "execution_count": null,
      "outputs": [
        {
          "output_type": "display_data",
          "data": {
            "image/png": "[encoded data removed]",
            "text/plain": [
              "<Figure size 1008x432 with 1 Axes>"
            ]
          },
          "metadata": {
            "needs_background": "light"
          }
        }
      ]
    },
    {
      "cell_type": "code",
      "source": [
        "e=pd.DataFrame(df.owned_hotels.value_counts()).reset_index(drop=False)\n",
        "e.columns=['owned_hotels','Frequency'] # rename columns\n",
        "plt.figure(figsize=(14,6)) # adjust figure size\n",
        "ax = sns.barplot(x=\"owned_hotels\", y=\"Frequency\", data=e) # draw barplot"
      ],
      "metadata": {
        "colab": {
          "base_uri": "https://localhost:8080/",
          "height": 389
        },
        "id": "FWgLR9kpiQr1",
        "outputId": "a446619e-f40a-4f8c-ff2b-6e28b873213d"
      },
      "execution_count": null,
      "outputs": [
        {
          "output_type": "display_data",
          "data": {
            "image/png": "[encoded data removed]",
            "text/plain": [
              "<Figure size 1008x432 with 1 Axes>"
            ]
          },
          "metadata": {
            "needs_background": "light"
          }
        }
      ]
    },
    {
      "cell_type": "code",
      "source": [
        "e=pd.DataFrame(df.yearly_availability.value_counts()).reset_index(drop=False)\n",
        "e.columns=['yearly_availability','Frequency'] # rename columns\n",
        "plt.figure(figsize=(14,6)) # adjust figure size\n",
        "ax = sns.barplot(x=\"yearly_availability\", y=\"Frequency\", data=e) # draw barplot"
      ],
      "metadata": {
        "colab": {
          "base_uri": "https://localhost:8080/",
          "height": 389
        },
        "id": "9Gzz0U3giQw4",
        "outputId": "569dbd0f-6bdf-4a54-c036-e3ab644f414c"
      },
      "execution_count": null,
      "outputs": [
        {
          "output_type": "display_data",
          "data": {
            "image/png": "[encoded data removed]",
            "text/plain": [
              "<Figure size 1008x432 with 1 Axes>"
            ]
          },
          "metadata": {
            "needs_background": "light"
          }
        }
      ]
    },
    {
      "cell_type": "code",
      "source": [
        "df.groupby(['id']).count()"
      ],
      "metadata": {
        "colab": {
          "base_uri": "https://localhost:8080/",
          "height": 519
        },
        "id": "9WRTbnxtwVYo",
        "outputId": "ed016aae-c7f2-4a6c-dfe8-9fccde5b9ea3"
      },
      "execution_count": null,
      "outputs": [
        {
          "output_type": "execute_result",
          "data": {
            "text/html": [
              "\n",
              "  <div id=\"df-2557632e-5574-4163-846c-c8e8b3047c56\">\n",
              "    <div class=\"colab-df-container\">\n",
              "      <div>\n",
              "<style scoped>\n",
              "    .dataframe tbody tr th:only-of-type {\n",
              "        vertical-align: middle;\n",
              "    }\n",
              "\n",
              "    .dataframe tbody tr th {\n",
              "        vertical-align: top;\n",
              "    }\n",
              "\n",
              "    .dataframe thead th {\n",
              "        text-align: right;\n",
              "    }\n",
              "</style>\n",
              "<table border=\"1\" class=\"dataframe\">\n",
              "  <thead>\n",
              "    <tr style=\"text-align: right;\">\n",
              "      <th></th>\n",
              "      <th>region</th>\n",
              "      <th>latitude</th>\n",
              "      <th>longitude</th>\n",
              "      <th>accommodation_type</th>\n",
              "      <th>cost</th>\n",
              "      <th>minimum_nights</th>\n",
              "      <th>number_of_reviews</th>\n",
              "      <th>reviews_per_month</th>\n",
              "      <th>owner_id</th>\n",
              "      <th>owned_hotels</th>\n",
              "      <th>yearly_availability</th>\n",
              "    </tr>\n",
              "    <tr>\n",
              "      <th>id</th>\n",
              "      <th></th>\n",
              "      <th></th>\n",
              "      <th></th>\n",
              "      <th></th>\n",
              "      <th></th>\n",
              "      <th></th>\n",
              "      <th></th>\n",
              "      <th></th>\n",
              "      <th></th>\n",
              "      <th></th>\n",
              "      <th></th>\n",
              "    </tr>\n",
              "  </thead>\n",
              "  <tbody>\n",
              "    <tr>\n",
              "      <th>0</th>\n",
              "      <td>1</td>\n",
              "      <td>1</td>\n",
              "      <td>1</td>\n",
              "      <td>1</td>\n",
              "      <td>1</td>\n",
              "      <td>1</td>\n",
              "      <td>1</td>\n",
              "      <td>1</td>\n",
              "      <td>1</td>\n",
              "      <td>1</td>\n",
              "      <td>1</td>\n",
              "    </tr>\n",
              "    <tr>\n",
              "      <th>2</th>\n",
              "      <td>1</td>\n",
              "      <td>1</td>\n",
              "      <td>1</td>\n",
              "      <td>1</td>\n",
              "      <td>1</td>\n",
              "      <td>1</td>\n",
              "      <td>1</td>\n",
              "      <td>0</td>\n",
              "      <td>1</td>\n",
              "      <td>1</td>\n",
              "      <td>1</td>\n",
              "    </tr>\n",
              "    <tr>\n",
              "      <th>10</th>\n",
              "      <td>1</td>\n",
              "      <td>1</td>\n",
              "      <td>1</td>\n",
              "      <td>1</td>\n",
              "      <td>1</td>\n",
              "      <td>1</td>\n",
              "      <td>1</td>\n",
              "      <td>1</td>\n",
              "      <td>1</td>\n",
              "      <td>1</td>\n",
              "      <td>1</td>\n",
              "    </tr>\n",
              "    <tr>\n",
              "      <th>22</th>\n",
              "      <td>1</td>\n",
              "      <td>1</td>\n",
              "      <td>1</td>\n",
              "      <td>1</td>\n",
              "      <td>1</td>\n",
              "      <td>1</td>\n",
              "      <td>1</td>\n",
              "      <td>1</td>\n",
              "      <td>1</td>\n",
              "      <td>1</td>\n",
              "      <td>1</td>\n",
              "    </tr>\n",
              "    <tr>\n",
              "      <th>38</th>\n",
              "      <td>1</td>\n",
              "      <td>1</td>\n",
              "      <td>1</td>\n",
              "      <td>1</td>\n",
              "      <td>1</td>\n",
              "      <td>1</td>\n",
              "      <td>1</td>\n",
              "      <td>0</td>\n",
              "      <td>1</td>\n",
              "      <td>1</td>\n",
              "      <td>1</td>\n",
              "    </tr>\n",
              "    <tr>\n",
              "      <th>...</th>\n",
              "      <td>...</td>\n",
              "      <td>...</td>\n",
              "      <td>...</td>\n",
              "      <td>...</td>\n",
              "      <td>...</td>\n",
              "      <td>...</td>\n",
              "      <td>...</td>\n",
              "      <td>...</td>\n",
              "      <td>...</td>\n",
              "      <td>...</td>\n",
              "      <td>...</td>\n",
              "    </tr>\n",
              "    <tr>\n",
              "      <th>48861</th>\n",
              "      <td>1</td>\n",
              "      <td>1</td>\n",
              "      <td>1</td>\n",
              "      <td>1</td>\n",
              "      <td>1</td>\n",
              "      <td>1</td>\n",
              "      <td>1</td>\n",
              "      <td>0</td>\n",
              "      <td>1</td>\n",
              "      <td>1</td>\n",
              "      <td>1</td>\n",
              "    </tr>\n",
              "    <tr>\n",
              "      <th>48864</th>\n",
              "      <td>1</td>\n",
              "      <td>1</td>\n",
              "      <td>1</td>\n",
              "      <td>1</td>\n",
              "      <td>1</td>\n",
              "      <td>1</td>\n",
              "      <td>1</td>\n",
              "      <td>0</td>\n",
              "      <td>1</td>\n",
              "      <td>1</td>\n",
              "      <td>1</td>\n",
              "    </tr>\n",
              "    <tr>\n",
              "      <th>48880</th>\n",
              "      <td>1</td>\n",
              "      <td>1</td>\n",
              "      <td>1</td>\n",
              "      <td>1</td>\n",
              "      <td>1</td>\n",
              "      <td>1</td>\n",
              "      <td>1</td>\n",
              "      <td>0</td>\n",
              "      <td>1</td>\n",
              "      <td>1</td>\n",
              "      <td>1</td>\n",
              "    </tr>\n",
              "    <tr>\n",
              "      <th>48883</th>\n",
              "      <td>1</td>\n",
              "      <td>1</td>\n",
              "      <td>1</td>\n",
              "      <td>1</td>\n",
              "      <td>1</td>\n",
              "      <td>1</td>\n",
              "      <td>1</td>\n",
              "      <td>0</td>\n",
              "      <td>1</td>\n",
              "      <td>1</td>\n",
              "      <td>1</td>\n",
              "    </tr>\n",
              "    <tr>\n",
              "      <th>48893</th>\n",
              "      <td>1</td>\n",
              "      <td>1</td>\n",
              "      <td>1</td>\n",
              "      <td>1</td>\n",
              "      <td>1</td>\n",
              "      <td>1</td>\n",
              "      <td>1</td>\n",
              "      <td>0</td>\n",
              "      <td>1</td>\n",
              "      <td>1</td>\n",
              "      <td>1</td>\n",
              "    </tr>\n",
              "  </tbody>\n",
              "</table>\n",
              "<p>2870 rows × 11 columns</p>\n",
              "</div>\n",
              "      <button class=\"colab-df-convert\" onclick=\"convertToInteractive('df-2557632e-5574-4163-846c-c8e8b3047c56')\"\n",
              "              title=\"Convert this dataframe to an interactive table.\"\n",
              "              style=\"display:none;\">\n",
              "        \n",
              "  <svg xmlns=\"http://www.w3.org/2000/svg\" height=\"24px\"viewBox=\"0 0 24 24\"\n",
              "       width=\"24px\">\n",
              "    <path d=\"M0 0h24v24H0V0z\" fill=\"none\"/>\n",
              "    <path d=\"M18.56 5.44l.94 2.06.94-2.06 2.06-.94-2.06-.94-.94-2.06-.94 2.06-2.06.94zm-11 1L8.5 8.5l.94-2.06 2.06-.94-2.06-.94L8.5 2.5l-.94 2.06-2.06.94zm10 10l.94 2.06.94-2.06 2.06-.94-2.06-.94-.94-2.06-.94 2.06-2.06.94z\"/><path d=\"M17.41 7.96l-1.37-1.37c-.4-.4-.92-.59-1.43-.59-.52 0-1.04.2-1.43.59L10.3 9.45l-7.72 7.72c-.78.78-.78 2.05 0 2.83L4 21.41c.39.39.9.59 1.41.59.51 0 1.02-.2 1.41-.59l7.78-7.78 2.81-2.81c.8-.78.8-2.07 0-2.86zM5.41 20L4 18.59l7.72-7.72 1.47 1.35L5.41 20z\"/>\n",
              "  </svg>\n",
              "      </button>\n",
              "      \n",
              "  <style>\n",
              "    .colab-df-container {\n",
              "      display:flex;\n",
              "      flex-wrap:wrap;\n",
              "      gap: 12px;\n",
              "    }\n",
              "\n",
              "    .colab-df-convert {\n",
              "      background-color: #E8F0FE;\n",
              "      border: none;\n",
              "      border-radius: 50%;\n",
              "      cursor: pointer;\n",
              "      display: none;\n",
              "      fill: #1967D2;\n",
              "      height: 32px;\n",
              "      padding: 0 0 0 0;\n",
              "      width: 32px;\n",
              "    }\n",
              "\n",
              "    .colab-df-convert:hover {\n",
              "      background-color: #E2EBFA;\n",
              "      box-shadow: 0px 1px 2px rgba(60, 64, 67, 0.3), 0px 1px 3px 1px rgba(60, 64, 67, 0.15);\n",
              "      fill: #174EA6;\n",
              "    }\n",
              "\n",
              "    [theme=dark] .colab-df-convert {\n",
              "      background-color: #3B4455;\n",
              "      fill: #D2E3FC;\n",
              "    }\n",
              "\n",
              "    [theme=dark] .colab-df-convert:hover {\n",
              "      background-color: #434B5C;\n",
              "      box-shadow: 0px 1px 3px 1px rgba(0, 0, 0, 0.15);\n",
              "      filter: drop-shadow(0px 1px 2px rgba(0, 0, 0, 0.3));\n",
              "      fill: #FFFFFF;\n",
              "    }\n",
              "  </style>\n",
              "\n",
              "      <script>\n",
              "        const buttonEl =\n",
              "          document.querySelector('#df-2557632e-5574-4163-846c-c8e8b3047c56 button.colab-df-convert');\n",
              "        buttonEl.style.display =\n",
              "          google.colab.kernel.accessAllowed ? 'block' : 'none';\n",
              "\n",
              "        async function convertToInteractive(key) {\n",
              "          const element = document.querySelector('#df-2557632e-5574-4163-846c-c8e8b3047c56');\n",
              "          const dataTable =\n",
              "            await google.colab.kernel.invokeFunction('convertToInteractive',\n",
              "                                                     [key], {});\n",
              "          if (!dataTable) return;\n",
              "\n",
              "          const docLinkHtml = 'Like what you see? Visit the ' +\n",
              "            '<a target=\"_blank\" href=https://colab.research.google.com/notebooks/data_table.ipynb>data table notebook</a>'\n",
              "            + ' to learn more about interactive tables.';\n",
              "          element.innerHTML = '';\n",
              "          dataTable['output_type'] = 'display_data';\n",
              "          await google.colab.output.renderOutput(dataTable, element);\n",
              "          const docLink = document.createElement('div');\n",
              "          docLink.innerHTML = docLinkHtml;\n",
              "          element.appendChild(docLink);\n",
              "        }\n",
              "      </script>\n",
              "    </div>\n",
              "  </div>\n",
              "  "
            ],
            "text/plain": [
              "       region  latitude  longitude  ...  owner_id  owned_hotels  yearly_availability\n",
              "id                                  ...                                             \n",
              "0           1         1          1  ...         1             1                    1\n",
              "2           1         1          1  ...         1             1                    1\n",
              "10          1         1          1  ...         1             1                    1\n",
              "22          1         1          1  ...         1             1                    1\n",
              "38          1         1          1  ...         1             1                    1\n",
              "...       ...       ...        ...  ...       ...           ...                  ...\n",
              "48861       1         1          1  ...         1             1                    1\n",
              "48864       1         1          1  ...         1             1                    1\n",
              "48880       1         1          1  ...         1             1                    1\n",
              "48883       1         1          1  ...         1             1                    1\n",
              "48893       1         1          1  ...         1             1                    1\n",
              "\n",
              "[2870 rows x 11 columns]"
            ]
          },
          "metadata": {},
          "execution_count": 25
        }
      ]
    },
    {
      "cell_type": "code",
      "source": [
        "df.groupby(['owner_id']).count()"
      ],
      "metadata": {
        "colab": {
          "base_uri": "https://localhost:8080/",
          "height": 519
        },
        "id": "OHaFv7ZljJow",
        "outputId": "f927b2b9-a28d-451f-b3a2-ab11d104f291"
      },
      "execution_count": null,
      "outputs": [
        {
          "output_type": "execute_result",
          "data": {
            "text/html": [
              "\n",
              "  <div id=\"df-8b5dd84b-4c9a-4011-bb66-b96ecf0ffa8d\">\n",
              "    <div class=\"colab-df-container\">\n",
              "      <div>\n",
              "<style scoped>\n",
              "    .dataframe tbody tr th:only-of-type {\n",
              "        vertical-align: middle;\n",
              "    }\n",
              "\n",
              "    .dataframe tbody tr th {\n",
              "        vertical-align: top;\n",
              "    }\n",
              "\n",
              "    .dataframe thead th {\n",
              "        text-align: right;\n",
              "    }\n",
              "</style>\n",
              "<table border=\"1\" class=\"dataframe\">\n",
              "  <thead>\n",
              "    <tr style=\"text-align: right;\">\n",
              "      <th></th>\n",
              "      <th>id</th>\n",
              "      <th>region</th>\n",
              "      <th>latitude</th>\n",
              "      <th>longitude</th>\n",
              "      <th>accommodation_type</th>\n",
              "      <th>cost</th>\n",
              "      <th>minimum_nights</th>\n",
              "      <th>number_of_reviews</th>\n",
              "      <th>reviews_per_month</th>\n",
              "      <th>owned_hotels</th>\n",
              "      <th>yearly_availability</th>\n",
              "    </tr>\n",
              "    <tr>\n",
              "      <th>owner_id</th>\n",
              "      <th></th>\n",
              "      <th></th>\n",
              "      <th></th>\n",
              "      <th></th>\n",
              "      <th></th>\n",
              "      <th></th>\n",
              "      <th></th>\n",
              "      <th></th>\n",
              "      <th></th>\n",
              "      <th></th>\n",
              "      <th></th>\n",
              "    </tr>\n",
              "  </thead>\n",
              "  <tbody>\n",
              "    <tr>\n",
              "      <th>2787</th>\n",
              "      <td>1</td>\n",
              "      <td>1</td>\n",
              "      <td>1</td>\n",
              "      <td>1</td>\n",
              "      <td>1</td>\n",
              "      <td>1</td>\n",
              "      <td>1</td>\n",
              "      <td>1</td>\n",
              "      <td>1</td>\n",
              "      <td>1</td>\n",
              "      <td>1</td>\n",
              "    </tr>\n",
              "    <tr>\n",
              "      <th>2845</th>\n",
              "      <td>1</td>\n",
              "      <td>1</td>\n",
              "      <td>1</td>\n",
              "      <td>1</td>\n",
              "      <td>1</td>\n",
              "      <td>1</td>\n",
              "      <td>1</td>\n",
              "      <td>1</td>\n",
              "      <td>1</td>\n",
              "      <td>1</td>\n",
              "      <td>1</td>\n",
              "    </tr>\n",
              "    <tr>\n",
              "      <th>3415</th>\n",
              "      <td>1</td>\n",
              "      <td>1</td>\n",
              "      <td>1</td>\n",
              "      <td>1</td>\n",
              "      <td>1</td>\n",
              "      <td>1</td>\n",
              "      <td>1</td>\n",
              "      <td>1</td>\n",
              "      <td>1</td>\n",
              "      <td>1</td>\n",
              "      <td>1</td>\n",
              "    </tr>\n",
              "    <tr>\n",
              "      <th>4632</th>\n",
              "      <td>1</td>\n",
              "      <td>1</td>\n",
              "      <td>1</td>\n",
              "      <td>1</td>\n",
              "      <td>1</td>\n",
              "      <td>1</td>\n",
              "      <td>1</td>\n",
              "      <td>1</td>\n",
              "      <td>0</td>\n",
              "      <td>1</td>\n",
              "      <td>1</td>\n",
              "    </tr>\n",
              "    <tr>\n",
              "      <th>7351</th>\n",
              "      <td>1</td>\n",
              "      <td>1</td>\n",
              "      <td>1</td>\n",
              "      <td>1</td>\n",
              "      <td>1</td>\n",
              "      <td>1</td>\n",
              "      <td>1</td>\n",
              "      <td>1</td>\n",
              "      <td>1</td>\n",
              "      <td>1</td>\n",
              "      <td>1</td>\n",
              "    </tr>\n",
              "    <tr>\n",
              "      <th>...</th>\n",
              "      <td>...</td>\n",
              "      <td>...</td>\n",
              "      <td>...</td>\n",
              "      <td>...</td>\n",
              "      <td>...</td>\n",
              "      <td>...</td>\n",
              "      <td>...</td>\n",
              "      <td>...</td>\n",
              "      <td>...</td>\n",
              "      <td>...</td>\n",
              "      <td>...</td>\n",
              "    </tr>\n",
              "    <tr>\n",
              "      <th>271391063</th>\n",
              "      <td>1</td>\n",
              "      <td>1</td>\n",
              "      <td>1</td>\n",
              "      <td>1</td>\n",
              "      <td>1</td>\n",
              "      <td>1</td>\n",
              "      <td>1</td>\n",
              "      <td>1</td>\n",
              "      <td>1</td>\n",
              "      <td>1</td>\n",
              "      <td>1</td>\n",
              "    </tr>\n",
              "    <tr>\n",
              "      <th>272609175</th>\n",
              "      <td>1</td>\n",
              "      <td>1</td>\n",
              "      <td>1</td>\n",
              "      <td>1</td>\n",
              "      <td>1</td>\n",
              "      <td>1</td>\n",
              "      <td>1</td>\n",
              "      <td>1</td>\n",
              "      <td>0</td>\n",
              "      <td>1</td>\n",
              "      <td>1</td>\n",
              "    </tr>\n",
              "    <tr>\n",
              "      <th>273038911</th>\n",
              "      <td>1</td>\n",
              "      <td>1</td>\n",
              "      <td>1</td>\n",
              "      <td>1</td>\n",
              "      <td>1</td>\n",
              "      <td>1</td>\n",
              "      <td>1</td>\n",
              "      <td>1</td>\n",
              "      <td>0</td>\n",
              "      <td>1</td>\n",
              "      <td>1</td>\n",
              "    </tr>\n",
              "    <tr>\n",
              "      <th>273392981</th>\n",
              "      <td>1</td>\n",
              "      <td>1</td>\n",
              "      <td>1</td>\n",
              "      <td>1</td>\n",
              "      <td>1</td>\n",
              "      <td>1</td>\n",
              "      <td>1</td>\n",
              "      <td>1</td>\n",
              "      <td>0</td>\n",
              "      <td>1</td>\n",
              "      <td>1</td>\n",
              "    </tr>\n",
              "    <tr>\n",
              "      <th>273812306</th>\n",
              "      <td>1</td>\n",
              "      <td>1</td>\n",
              "      <td>1</td>\n",
              "      <td>1</td>\n",
              "      <td>1</td>\n",
              "      <td>1</td>\n",
              "      <td>1</td>\n",
              "      <td>1</td>\n",
              "      <td>0</td>\n",
              "      <td>1</td>\n",
              "      <td>1</td>\n",
              "    </tr>\n",
              "  </tbody>\n",
              "</table>\n",
              "<p>2371 rows × 11 columns</p>\n",
              "</div>\n",
              "      <button class=\"colab-df-convert\" onclick=\"convertToInteractive('df-8b5dd84b-4c9a-4011-bb66-b96ecf0ffa8d')\"\n",
              "              title=\"Convert this dataframe to an interactive table.\"\n",
              "              style=\"display:none;\">\n",
              "        \n",
              "  <svg xmlns=\"http://www.w3.org/2000/svg\" height=\"24px\"viewBox=\"0 0 24 24\"\n",
              "       width=\"24px\">\n",
              "    <path d=\"M0 0h24v24H0V0z\" fill=\"none\"/>\n",
              "    <path d=\"M18.56 5.44l.94 2.06.94-2.06 2.06-.94-2.06-.94-.94-2.06-.94 2.06-2.06.94zm-11 1L8.5 8.5l.94-2.06 2.06-.94-2.06-.94L8.5 2.5l-.94 2.06-2.06.94zm10 10l.94 2.06.94-2.06 2.06-.94-2.06-.94-.94-2.06-.94 2.06-2.06.94z\"/><path d=\"M17.41 7.96l-1.37-1.37c-.4-.4-.92-.59-1.43-.59-.52 0-1.04.2-1.43.59L10.3 9.45l-7.72 7.72c-.78.78-.78 2.05 0 2.83L4 21.41c.39.39.9.59 1.41.59.51 0 1.02-.2 1.41-.59l7.78-7.78 2.81-2.81c.8-.78.8-2.07 0-2.86zM5.41 20L4 18.59l7.72-7.72 1.47 1.35L5.41 20z\"/>\n",
              "  </svg>\n",
              "      </button>\n",
              "      \n",
              "  <style>\n",
              "    .colab-df-container {\n",
              "      display:flex;\n",
              "      flex-wrap:wrap;\n",
              "      gap: 12px;\n",
              "    }\n",
              "\n",
              "    .colab-df-convert {\n",
              "      background-color: #E8F0FE;\n",
              "      border: none;\n",
              "      border-radius: 50%;\n",
              "      cursor: pointer;\n",
              "      display: none;\n",
              "      fill: #1967D2;\n",
              "      height: 32px;\n",
              "      padding: 0 0 0 0;\n",
              "      width: 32px;\n",
              "    }\n",
              "\n",
              "    .colab-df-convert:hover {\n",
              "      background-color: #E2EBFA;\n",
              "      box-shadow: 0px 1px 2px rgba(60, 64, 67, 0.3), 0px 1px 3px 1px rgba(60, 64, 67, 0.15);\n",
              "      fill: #174EA6;\n",
              "    }\n",
              "\n",
              "    [theme=dark] .colab-df-convert {\n",
              "      background-color: #3B4455;\n",
              "      fill: #D2E3FC;\n",
              "    }\n",
              "\n",
              "    [theme=dark] .colab-df-convert:hover {\n",
              "      background-color: #434B5C;\n",
              "      box-shadow: 0px 1px 3px 1px rgba(0, 0, 0, 0.15);\n",
              "      filter: drop-shadow(0px 1px 2px rgba(0, 0, 0, 0.3));\n",
              "      fill: #FFFFFF;\n",
              "    }\n",
              "  </style>\n",
              "\n",
              "      <script>\n",
              "        const buttonEl =\n",
              "          document.querySelector('#df-8b5dd84b-4c9a-4011-bb66-b96ecf0ffa8d button.colab-df-convert');\n",
              "        buttonEl.style.display =\n",
              "          google.colab.kernel.accessAllowed ? 'block' : 'none';\n",
              "\n",
              "        async function convertToInteractive(key) {\n",
              "          const element = document.querySelector('#df-8b5dd84b-4c9a-4011-bb66-b96ecf0ffa8d');\n",
              "          const dataTable =\n",
              "            await google.colab.kernel.invokeFunction('convertToInteractive',\n",
              "                                                     [key], {});\n",
              "          if (!dataTable) return;\n",
              "\n",
              "          const docLinkHtml = 'Like what you see? Visit the ' +\n",
              "            '<a target=\"_blank\" href=https://colab.research.google.com/notebooks/data_table.ipynb>data table notebook</a>'\n",
              "            + ' to learn more about interactive tables.';\n",
              "          element.innerHTML = '';\n",
              "          dataTable['output_type'] = 'display_data';\n",
              "          await google.colab.output.renderOutput(dataTable, element);\n",
              "          const docLink = document.createElement('div');\n",
              "          docLink.innerHTML = docLinkHtml;\n",
              "          element.appendChild(docLink);\n",
              "        }\n",
              "      </script>\n",
              "    </div>\n",
              "  </div>\n",
              "  "
            ],
            "text/plain": [
              "           id  region  ...  owned_hotels  yearly_availability\n",
              "owner_id               ...                                   \n",
              "2787        1       1  ...             1                    1\n",
              "2845        1       1  ...             1                    1\n",
              "3415        1       1  ...             1                    1\n",
              "4632        1       1  ...             1                    1\n",
              "7351        1       1  ...             1                    1\n",
              "...        ..     ...  ...           ...                  ...\n",
              "271391063   1       1  ...             1                    1\n",
              "272609175   1       1  ...             1                    1\n",
              "273038911   1       1  ...             1                    1\n",
              "273392981   1       1  ...             1                    1\n",
              "273812306   1       1  ...             1                    1\n",
              "\n",
              "[2371 rows x 11 columns]"
            ]
          },
          "metadata": {},
          "execution_count": 26
        }
      ]
    },
    {
      "cell_type": "code",
      "source": [
        "\n",
        "plt.hist(df['latitude'], bins = 20)\n",
        "plt.ylabel('Frequency', fontsize = 16)\n",
        "plt.xlabel('latitude', fontsize = 16)"
      ],
      "metadata": {
        "colab": {
          "base_uri": "https://localhost:8080/",
          "height": 301
        },
        "id": "xyht7JMHhIT1",
        "outputId": "24f1e8ed-ece6-48f0-df50-ace00dab7bd0"
      },
      "execution_count": null,
      "outputs": [
        {
          "output_type": "execute_result",
          "data": {
            "text/plain": [
              "Text(0.5, 0, 'latitude')"
            ]
          },
          "metadata": {},
          "execution_count": 27
        },
        {
          "output_type": "display_data",
          "data": {
            "image/png": "[encoded data removed]",
            "text/plain": [
              "<Figure size 432x288 with 1 Axes>"
            ]
          },
          "metadata": {
            "needs_background": "light"
          }
        }
      ]
    },
    {
      "cell_type": "code",
      "source": [
        "\n",
        "plt.hist(df['longitude'], bins = 20)\n",
        "plt.ylabel('Frequency', fontsize = 16)\n",
        "plt.xlabel('longitude', fontsize = 16)"
      ],
      "metadata": {
        "colab": {
          "base_uri": "https://localhost:8080/",
          "height": 301
        },
        "id": "mJfX1098j1zq",
        "outputId": "a3c4f447-3354-4d59-db6c-811a0e4ec400"
      },
      "execution_count": null,
      "outputs": [
        {
          "output_type": "execute_result",
          "data": {
            "text/plain": [
              "Text(0.5, 0, 'longitude')"
            ]
          },
          "metadata": {},
          "execution_count": 28
        },
        {
          "output_type": "display_data",
          "data": {
            "image/png": "[encoded data removed]",
            "text/plain": [
              "<Figure size 432x288 with 1 Axes>"
            ]
          },
          "metadata": {
            "needs_background": "light"
          }
        }
      ]
    },
    {
      "cell_type": "code",
      "source": [
        "\n",
        "plt.hist(df['cost'], bins = 50)\n",
        "plt.ylabel('Frequency', fontsize = 16)\n",
        "plt.xlabel('cost', fontsize = 16)\n"
      ],
      "metadata": {
        "colab": {
          "base_uri": "https://localhost:8080/",
          "height": 301
        },
        "id": "qBf8ZODqUR_a",
        "outputId": "4c5faa6c-d8b9-49f2-ab91-35fb3aa481e3"
      },
      "execution_count": null,
      "outputs": [
        {
          "output_type": "execute_result",
          "data": {
            "text/plain": [
              "Text(0.5, 0, 'cost')"
            ]
          },
          "metadata": {},
          "execution_count": 29
        },
        {
          "output_type": "display_data",
          "data": {
            "image/png": "[encoded data removed]",
            "text/plain": [
              "<Figure size 432x288 with 1 Axes>"
            ]
          },
          "metadata": {
            "needs_background": "light"
          }
        }
      ]
    },
    {
      "cell_type": "code",
      "source": [
        "plt.hist(df['minimum_nights'], bins = 50)\n",
        "plt.ylabel('Frequency', fontsize = 16)\n",
        "plt.xlabel('minimum_nights', fontsize = 16)"
      ],
      "metadata": {
        "colab": {
          "base_uri": "https://localhost:8080/",
          "height": 304
        },
        "id": "qS0wvD0ThZyc",
        "outputId": "8c91c92c-e558-4315-a7c7-293eff8e78f1"
      },
      "execution_count": null,
      "outputs": [
        {
          "output_type": "execute_result",
          "data": {
            "text/plain": [
              "Text(0.5, 0, 'minimum_nights')"
            ]
          },
          "metadata": {},
          "execution_count": 30
        },
        {
          "output_type": "display_data",
          "data": {
            "image/png": "[encoded data removed]",
            "text/plain": [
              "<Figure size 432x288 with 1 Axes>"
            ]
          },
          "metadata": {
            "needs_background": "light"
          }
        }
      ]
    },
    {
      "cell_type": "code",
      "source": [
        "plt.hist(df['number_of_reviews'], bins = 20)\n",
        "plt.ylabel('Frequency', fontsize = 16)\n",
        "plt.xlabel('number_of_reviews', fontsize = 16)\n",
        "\n"
      ],
      "metadata": {
        "colab": {
          "base_uri": "https://localhost:8080/",
          "height": 304
        },
        "id": "FtGWLG5ZiEZY",
        "outputId": "a6c87d5d-84bf-40ec-90b9-4ae53bb96e0e"
      },
      "execution_count": null,
      "outputs": [
        {
          "output_type": "execute_result",
          "data": {
            "text/plain": [
              "Text(0.5, 0, 'number_of_reviews')"
            ]
          },
          "metadata": {},
          "execution_count": 31
        },
        {
          "output_type": "display_data",
          "data": {
            "image/png": "[encoded data removed]",
            "text/plain": [
              "<Figure size 432x288 with 1 Axes>"
            ]
          },
          "metadata": {
            "needs_background": "light"
          }
        }
      ]
    },
    {
      "cell_type": "code",
      "source": [
        "plt.hist(df['reviews_per_month'], bins = 30)\n",
        "plt.ylabel('Frequency', fontsize = 16)\n",
        "plt.xlabel('reviews_per_month', fontsize = 16)"
      ],
      "metadata": {
        "colab": {
          "base_uri": "https://localhost:8080/",
          "height": 304
        },
        "id": "VFlF7iyCkY1N",
        "outputId": "20aa42c0-c3f6-4aa6-a70b-5a3107405d98"
      },
      "execution_count": null,
      "outputs": [
        {
          "output_type": "execute_result",
          "data": {
            "text/plain": [
              "Text(0.5, 0, 'reviews_per_month')"
            ]
          },
          "metadata": {},
          "execution_count": 32
        },
        {
          "output_type": "display_data",
          "data": {
            "image/png": "[encoded data removed]",
            "text/plain": [
              "<Figure size 432x288 with 1 Axes>"
            ]
          },
          "metadata": {
            "needs_background": "light"
          }
        }
      ]
    },
    {
      "cell_type": "code",
      "source": [
        "plt.hist(df['owned_hotels'], bins = 30)\n",
        "plt.ylabel('Frequency', fontsize = 16)\n",
        "plt.xlabel('owned_hotels', fontsize = 16)"
      ],
      "metadata": {
        "colab": {
          "base_uri": "https://localhost:8080/",
          "height": 304
        },
        "id": "a3XRekuvkY50",
        "outputId": "fb3f8f2c-76fb-4786-f998-b577e25a19f9"
      },
      "execution_count": null,
      "outputs": [
        {
          "output_type": "execute_result",
          "data": {
            "text/plain": [
              "Text(0.5, 0, 'owned_hotels')"
            ]
          },
          "metadata": {},
          "execution_count": 33
        },
        {
          "output_type": "display_data",
          "data": {
            "image/png": "[encoded data removed]",
            "text/plain": [
              "<Figure size 432x288 with 1 Axes>"
            ]
          },
          "metadata": {
            "needs_background": "light"
          }
        }
      ]
    },
    {
      "cell_type": "code",
      "source": [
        "sns.boxplot(data=df['cost'])"
      ],
      "metadata": {
        "colab": {
          "base_uri": "https://localhost:8080/",
          "height": 283
        },
        "id": "gKoGS7XwlBmh",
        "outputId": "6ff38fb2-3866-4f8b-912a-2edefbf0cd80"
      },
      "execution_count": null,
      "outputs": [
        {
          "output_type": "execute_result",
          "data": {
            "text/plain": [
              "<matplotlib.axes._subplots.AxesSubplot at 0x7f2bd61f45d0>"
            ]
          },
          "metadata": {},
          "execution_count": 34
        },
        {
          "output_type": "display_data",
          "data": {
            "image/png": "[encoded data removed]",
            "text/plain": [
              "<Figure size 432x288 with 1 Axes>"
            ]
          },
          "metadata": {
            "needs_background": "light"
          }
        }
      ]
    },
    {
      "cell_type": "code",
      "source": [
        "sns.boxplot(data=df['minimum_nights'])"
      ],
      "metadata": {
        "colab": {
          "base_uri": "https://localhost:8080/",
          "height": 283
        },
        "id": "Eg8C0iMIlBuM",
        "outputId": "9fe53d1e-d800-4778-991b-614ad396cfa6"
      },
      "execution_count": null,
      "outputs": [
        {
          "output_type": "execute_result",
          "data": {
            "text/plain": [
              "<matplotlib.axes._subplots.AxesSubplot at 0x7f2bd613e450>"
            ]
          },
          "metadata": {},
          "execution_count": 35
        },
        {
          "output_type": "display_data",
          "data": {
            "image/png": "[encoded data removed]",
            "text/plain": [
              "<Figure size 432x288 with 1 Axes>"
            ]
          },
          "metadata": {
            "needs_background": "light"
          }
        }
      ]
    },
    {
      "cell_type": "code",
      "source": [
        "sns.boxplot(data=df['number_of_reviews'])"
      ],
      "metadata": {
        "colab": {
          "base_uri": "https://localhost:8080/",
          "height": 283
        },
        "id": "f9mjPfIDdx6C",
        "outputId": "9339b548-95ab-4bee-d499-7b13bb397c0f"
      },
      "execution_count": null,
      "outputs": [
        {
          "output_type": "execute_result",
          "data": {
            "text/plain": [
              "<matplotlib.axes._subplots.AxesSubplot at 0x7f2bd611a690>"
            ]
          },
          "metadata": {},
          "execution_count": 36
        },
        {
          "output_type": "display_data",
          "data": {
            "image/png": "[encoded data removed]",
            "text/plain": [
              "<Figure size 432x288 with 1 Axes>"
            ]
          },
          "metadata": {
            "needs_background": "light"
          }
        }
      ]
    },
    {
      "cell_type": "code",
      "source": [
        "sns.boxplot(data=df['reviews_per_month'])"
      ],
      "metadata": {
        "colab": {
          "base_uri": "https://localhost:8080/",
          "height": 283
        },
        "id": "lFI3XT-hgLaS",
        "outputId": "56a563db-6347-4f31-dc31-bc92682da6b1"
      },
      "execution_count": null,
      "outputs": [
        {
          "output_type": "execute_result",
          "data": {
            "text/plain": [
              "<matplotlib.axes._subplots.AxesSubplot at 0x7f2bd608d550>"
            ]
          },
          "metadata": {},
          "execution_count": 37
        },
        {
          "output_type": "display_data",
          "data": {
            "image/png": "[encoded data removed]",
            "text/plain": [
              "<Figure size 432x288 with 1 Axes>"
            ]
          },
          "metadata": {
            "needs_background": "light"
          }
        }
      ]
    },
    {
      "cell_type": "code",
      "source": [
        "sns.boxplot(data=df['owned_hotels']) "
      ],
      "metadata": {
        "colab": {
          "base_uri": "https://localhost:8080/",
          "height": 283
        },
        "id": "ug2lXgialOKs",
        "outputId": "4f14020e-53a8-4f6e-bc41-984e41d132b6"
      },
      "execution_count": null,
      "outputs": [
        {
          "output_type": "execute_result",
          "data": {
            "text/plain": [
              "<matplotlib.axes._subplots.AxesSubplot at 0x7f2bd600ec50>"
            ]
          },
          "metadata": {},
          "execution_count": 38
        },
        {
          "output_type": "display_data",
          "data": {
            "image/png": "[encoded data removed]",
            "text/plain": [
              "<Figure size 432x288 with 1 Axes>"
            ]
          },
          "metadata": {
            "needs_background": "light"
          }
        }
      ]
    },
    {
      "cell_type": "code",
      "source": [
        "sns.boxplot(data=df['yearly_availability']) "
      ],
      "metadata": {
        "colab": {
          "base_uri": "https://localhost:8080/",
          "height": 283
        },
        "id": "Z4KlsktPlOTC",
        "outputId": "630d10be-4923-4ad8-f034-666b4c13f0fe"
      },
      "execution_count": null,
      "outputs": [
        {
          "output_type": "execute_result",
          "data": {
            "text/plain": [
              "<matplotlib.axes._subplots.AxesSubplot at 0x7f2bd5f74350>"
            ]
          },
          "metadata": {},
          "execution_count": 39
        },
        {
          "output_type": "display_data",
          "data": {
            "image/png": "[encoded data removed]",
            "text/plain": [
              "<Figure size 432x288 with 1 Axes>"
            ]
          },
          "metadata": {
            "needs_background": "light"
          }
        }
      ]
    },
    {
      "cell_type": "code",
      "source": [
        ""
      ],
      "metadata": {
        "id": "PduEGFMylOZH"
      },
      "execution_count": null,
      "outputs": []
    },
    {
      "cell_type": "markdown",
      "source": [
        "**Correlation Matrix between Numerical Attributes also tell important infomration about the given process.**"
      ],
      "metadata": {
        "id": "zVurKqc84Os8"
      }
    },
    {
      "cell_type": "code",
      "source": [
        "import pandas as pd\n",
        "import numpy as np\n",
        "corr = df.corr()\n",
        "corr.style.background_gradient(cmap='coolwarm').set_precision(2)"
      ],
      "metadata": {
        "colab": {
          "base_uri": "https://localhost:8080/",
          "height": 417
        },
        "id": "k1IhxhhWGadh",
        "outputId": "902c920b-4d8a-4f63-e353-119ac2f674ef"
      },
      "execution_count": null,
      "outputs": [
        {
          "output_type": "stream",
          "name": "stderr",
          "text": [
            "/usr/local/lib/python3.7/dist-packages/ipykernel_launcher.py:4: FutureWarning: this method is deprecated in favour of `Styler.format(precision=..)`\n",
            "  after removing the cwd from sys.path.\n"
          ]
        },
        {
          "output_type": "execute_result",
          "data": {
            "text/html": [
              "<style type=\"text/css\">\n",
              "#T_5da69_row0_col0, #T_5da69_row1_col1, #T_5da69_row2_col2, #T_5da69_row3_col3, #T_5da69_row4_col4, #T_5da69_row5_col5, #T_5da69_row6_col6, #T_5da69_row7_col7, #T_5da69_row8_col8, #T_5da69_row9_col9 {\n",
              "  background-color: #b40426;\n",
              "  color: #f1f1f1;\n",
              "}\n",
              "#T_5da69_row0_col1, #T_5da69_row6_col3 {\n",
              "  background-color: #3d50c3;\n",
              "  color: #f1f1f1;\n",
              "}\n",
              "#T_5da69_row0_col2, #T_5da69_row6_col2 {\n",
              "  background-color: #7396f5;\n",
              "  color: #f1f1f1;\n",
              "}\n",
              "#T_5da69_row0_col3, #T_5da69_row8_col1 {\n",
              "  background-color: #5572df;\n",
              "  color: #f1f1f1;\n",
              "}\n",
              "#T_5da69_row0_col4, #T_5da69_row5_col9 {\n",
              "  background-color: #4961d2;\n",
              "  color: #f1f1f1;\n",
              "}\n",
              "#T_5da69_row0_col5, #T_5da69_row2_col3, #T_5da69_row2_col8, #T_5da69_row5_col0, #T_5da69_row5_col7, #T_5da69_row6_col4, #T_5da69_row6_col9, #T_5da69_row8_col2, #T_5da69_row9_col1, #T_5da69_row9_col6 {\n",
              "  background-color: #3b4cc0;\n",
              "  color: #f1f1f1;\n",
              "}\n",
              "#T_5da69_row0_col6 {\n",
              "  background-color: #cbd8ee;\n",
              "  color: #000000;\n",
              "}\n",
              "#T_5da69_row0_col7 {\n",
              "  background-color: #f1cdba;\n",
              "  color: #000000;\n",
              "}\n",
              "#T_5da69_row0_col8, #T_5da69_row8_col3 {\n",
              "  background-color: #688aef;\n",
              "  color: #f1f1f1;\n",
              "}\n",
              "#T_5da69_row0_col9, #T_5da69_row2_col1 {\n",
              "  background-color: #506bda;\n",
              "  color: #f1f1f1;\n",
              "}\n",
              "#T_5da69_row1_col0 {\n",
              "  background-color: #88abfd;\n",
              "  color: #000000;\n",
              "}\n",
              "#T_5da69_row1_col2, #T_5da69_row3_col4, #T_5da69_row4_col3 {\n",
              "  background-color: #6f92f3;\n",
              "  color: #f1f1f1;\n",
              "}\n",
              "#T_5da69_row1_col3, #T_5da69_row1_col4, #T_5da69_row7_col5, #T_5da69_row9_col0 {\n",
              "  background-color: #6282ea;\n",
              "  color: #f1f1f1;\n",
              "}\n",
              "#T_5da69_row1_col5, #T_5da69_row2_col5 {\n",
              "  background-color: #8db0fe;\n",
              "  color: #000000;\n",
              "}\n",
              "#T_5da69_row1_col6 {\n",
              "  background-color: #86a9fc;\n",
              "  color: #f1f1f1;\n",
              "}\n",
              "#T_5da69_row1_col7, #T_5da69_row5_col2 {\n",
              "  background-color: #6384eb;\n",
              "  color: #f1f1f1;\n",
              "}\n",
              "#T_5da69_row1_col8, #T_5da69_row1_col9, #T_5da69_row4_col5 {\n",
              "  background-color: #7597f6;\n",
              "  color: #f1f1f1;\n",
              "}\n",
              "#T_5da69_row2_col0, #T_5da69_row2_col9 {\n",
              "  background-color: #9dbdff;\n",
              "  color: #000000;\n",
              "}\n",
              "#T_5da69_row2_col4, #T_5da69_row5_col3 {\n",
              "  background-color: #4a63d3;\n",
              "  color: #f1f1f1;\n",
              "}\n",
              "#T_5da69_row2_col6, #T_5da69_row7_col2, #T_5da69_row9_col3 {\n",
              "  background-color: #8caffe;\n",
              "  color: #000000;\n",
              "}\n",
              "#T_5da69_row2_col7 {\n",
              "  background-color: #92b4fe;\n",
              "  color: #000000;\n",
              "}\n",
              "#T_5da69_row3_col0, #T_5da69_row4_col8 {\n",
              "  background-color: #82a6fb;\n",
              "  color: #f1f1f1;\n",
              "}\n",
              "#T_5da69_row3_col1, #T_5da69_row4_col1 {\n",
              "  background-color: #445acc;\n",
              "  color: #f1f1f1;\n",
              "}\n",
              "#T_5da69_row3_col2, #T_5da69_row6_col8 {\n",
              "  background-color: #3c4ec2;\n",
              "  color: #f1f1f1;\n",
              "}\n",
              "#T_5da69_row3_col5 {\n",
              "  background-color: #799cf8;\n",
              "  color: #f1f1f1;\n",
              "}\n",
              "#T_5da69_row3_col6 {\n",
              "  background-color: #5977e3;\n",
              "  color: #f1f1f1;\n",
              "}\n",
              "#T_5da69_row3_col7 {\n",
              "  background-color: #5875e1;\n",
              "  color: #f1f1f1;\n",
              "}\n",
              "#T_5da69_row3_col8 {\n",
              "  background-color: #6b8df0;\n",
              "  color: #f1f1f1;\n",
              "}\n",
              "#T_5da69_row3_col9 {\n",
              "  background-color: #a5c3fe;\n",
              "  color: #000000;\n",
              "}\n",
              "#T_5da69_row4_col0, #T_5da69_row7_col8 {\n",
              "  background-color: #779af7;\n",
              "  color: #f1f1f1;\n",
              "}\n",
              "#T_5da69_row4_col2 {\n",
              "  background-color: #4c66d6;\n",
              "  color: #f1f1f1;\n",
              "}\n",
              "#T_5da69_row4_col6, #T_5da69_row8_col6 {\n",
              "  background-color: #5673e0;\n",
              "  color: #f1f1f1;\n",
              "}\n",
              "#T_5da69_row4_col7 {\n",
              "  background-color: #6180e9;\n",
              "  color: #f1f1f1;\n",
              "}\n",
              "#T_5da69_row4_col9 {\n",
              "  background-color: #abc8fd;\n",
              "  color: #000000;\n",
              "}\n",
              "#T_5da69_row5_col1 {\n",
              "  background-color: #4358cb;\n",
              "  color: #f1f1f1;\n",
              "}\n",
              "#T_5da69_row5_col4 {\n",
              "  background-color: #465ecf;\n",
              "  color: #f1f1f1;\n",
              "}\n",
              "#T_5da69_row5_col6 {\n",
              "  background-color: #f4c5ad;\n",
              "  color: #000000;\n",
              "}\n",
              "#T_5da69_row5_col8 {\n",
              "  background-color: #4257c9;\n",
              "  color: #f1f1f1;\n",
              "}\n",
              "#T_5da69_row6_col0 {\n",
              "  background-color: #d4dbe6;\n",
              "  color: #000000;\n",
              "}\n",
              "#T_5da69_row6_col1 {\n",
              "  background-color: #4e68d8;\n",
              "  color: #f1f1f1;\n",
              "}\n",
              "#T_5da69_row6_col5 {\n",
              "  background-color: #f6bea4;\n",
              "  color: #000000;\n",
              "}\n",
              "#T_5da69_row6_col7 {\n",
              "  background-color: #a1c0ff;\n",
              "  color: #000000;\n",
              "}\n",
              "#T_5da69_row7_col0 {\n",
              "  background-color: #f6bfa6;\n",
              "  color: #000000;\n",
              "}\n",
              "#T_5da69_row7_col1 {\n",
              "  background-color: #3e51c5;\n",
              "  color: #f1f1f1;\n",
              "}\n",
              "#T_5da69_row7_col3 {\n",
              "  background-color: #516ddb;\n",
              "  color: #f1f1f1;\n",
              "}\n",
              "#T_5da69_row7_col4, #T_5da69_row9_col5 {\n",
              "  background-color: #5a78e4;\n",
              "  color: #f1f1f1;\n",
              "}\n",
              "#T_5da69_row7_col6 {\n",
              "  background-color: #b2ccfb;\n",
              "  color: #000000;\n",
              "}\n",
              "#T_5da69_row7_col9 {\n",
              "  background-color: #9ebeff;\n",
              "  color: #000000;\n",
              "}\n",
              "#T_5da69_row8_col0 {\n",
              "  background-color: #93b5fe;\n",
              "  color: #000000;\n",
              "}\n",
              "#T_5da69_row8_col4 {\n",
              "  background-color: #80a3fa;\n",
              "  color: #f1f1f1;\n",
              "}\n",
              "#T_5da69_row8_col5 {\n",
              "  background-color: #6e90f2;\n",
              "  color: #f1f1f1;\n",
              "}\n",
              "#T_5da69_row8_col7 {\n",
              "  background-color: #7da0f9;\n",
              "  color: #f1f1f1;\n",
              "}\n",
              "#T_5da69_row8_col9 {\n",
              "  background-color: #b1cbfc;\n",
              "  color: #000000;\n",
              "}\n",
              "#T_5da69_row9_col2 {\n",
              "  background-color: #85a8fc;\n",
              "  color: #f1f1f1;\n",
              "}\n",
              "#T_5da69_row9_col4 {\n",
              "  background-color: #94b6ff;\n",
              "  color: #000000;\n",
              "}\n",
              "#T_5da69_row9_col7 {\n",
              "  background-color: #8badfd;\n",
              "  color: #000000;\n",
              "}\n",
              "#T_5da69_row9_col8 {\n",
              "  background-color: #9bbcff;\n",
              "  color: #000000;\n",
              "}\n",
              "</style>\n",
              "<table id=\"T_5da69_\" class=\"dataframe\">\n",
              "  <thead>\n",
              "    <tr>\n",
              "      <th class=\"blank level0\" >&nbsp;</th>\n",
              "      <th class=\"col_heading level0 col0\" >id</th>\n",
              "      <th class=\"col_heading level0 col1\" >latitude</th>\n",
              "      <th class=\"col_heading level0 col2\" >longitude</th>\n",
              "      <th class=\"col_heading level0 col3\" >cost</th>\n",
              "      <th class=\"col_heading level0 col4\" >minimum_nights</th>\n",
              "      <th class=\"col_heading level0 col5\" >number_of_reviews</th>\n",
              "      <th class=\"col_heading level0 col6\" >reviews_per_month</th>\n",
              "      <th class=\"col_heading level0 col7\" >owner_id</th>\n",
              "      <th class=\"col_heading level0 col8\" >owned_hotels</th>\n",
              "      <th class=\"col_heading level0 col9\" >yearly_availability</th>\n",
              "    </tr>\n",
              "  </thead>\n",
              "  <tbody>\n",
              "    <tr>\n",
              "      <th id=\"T_5da69_level0_row0\" class=\"row_heading level0 row0\" >id</th>\n",
              "      <td id=\"T_5da69_row0_col0\" class=\"data row0 col0\" >1.00</td>\n",
              "      <td id=\"T_5da69_row0_col1\" class=\"data row0 col1\" >-0.02</td>\n",
              "      <td id=\"T_5da69_row0_col2\" class=\"data row0 col2\" >0.06</td>\n",
              "      <td id=\"T_5da69_row0_col3\" class=\"data row0 col3\" >-0.04</td>\n",
              "      <td id=\"T_5da69_row0_col4\" class=\"data row0 col4\" >-0.08</td>\n",
              "      <td id=\"T_5da69_row0_col5\" class=\"data row0 col5\" >-0.33</td>\n",
              "      <td id=\"T_5da69_row0_col6\" class=\"data row0 col6\" >0.29</td>\n",
              "      <td id=\"T_5da69_row0_col7\" class=\"data row0 col7\" >0.52</td>\n",
              "      <td id=\"T_5da69_row0_col8\" class=\"data row0 col8\" >0.03</td>\n",
              "      <td id=\"T_5da69_row0_col9\" class=\"data row0 col9\" >-0.16</td>\n",
              "    </tr>\n",
              "    <tr>\n",
              "      <th id=\"T_5da69_level0_row1\" class=\"row_heading level0 row1\" >latitude</th>\n",
              "      <td id=\"T_5da69_row1_col0\" class=\"data row1 col0\" >-0.02</td>\n",
              "      <td id=\"T_5da69_row1_col1\" class=\"data row1 col1\" >1.00</td>\n",
              "      <td id=\"T_5da69_row1_col2\" class=\"data row1 col2\" >0.05</td>\n",
              "      <td id=\"T_5da69_row1_col3\" class=\"data row1 col3\" >0.01</td>\n",
              "      <td id=\"T_5da69_row1_col4\" class=\"data row1 col4\" >0.01</td>\n",
              "      <td id=\"T_5da69_row1_col5\" class=\"data row1 col5\" >0.01</td>\n",
              "      <td id=\"T_5da69_row1_col6\" class=\"data row1 col6\" >0.04</td>\n",
              "      <td id=\"T_5da69_row1_col7\" class=\"data row1 col7\" >-0.01</td>\n",
              "      <td id=\"T_5da69_row1_col8\" class=\"data row1 col8\" >0.06</td>\n",
              "      <td id=\"T_5da69_row1_col9\" class=\"data row1 col9\" >-0.03</td>\n",
              "    </tr>\n",
              "    <tr>\n",
              "      <th id=\"T_5da69_level0_row2\" class=\"row_heading level0 row2\" >longitude</th>\n",
              "      <td id=\"T_5da69_row2_col0\" class=\"data row2 col0\" >0.06</td>\n",
              "      <td id=\"T_5da69_row2_col1\" class=\"data row2 col1\" >0.05</td>\n",
              "      <td id=\"T_5da69_row2_col2\" class=\"data row2 col2\" >1.00</td>\n",
              "      <td id=\"T_5da69_row2_col3\" class=\"data row2 col3\" >-0.14</td>\n",
              "      <td id=\"T_5da69_row2_col4\" class=\"data row2 col4\" >-0.07</td>\n",
              "      <td id=\"T_5da69_row2_col5\" class=\"data row2 col5\" >0.01</td>\n",
              "      <td id=\"T_5da69_row2_col6\" class=\"data row2 col6\" >0.06</td>\n",
              "      <td id=\"T_5da69_row2_col7\" class=\"data row2 col7\" >0.14</td>\n",
              "      <td id=\"T_5da69_row2_col8\" class=\"data row2 col8\" >-0.14</td>\n",
              "      <td id=\"T_5da69_row2_col9\" class=\"data row2 col9\" >0.12</td>\n",
              "    </tr>\n",
              "    <tr>\n",
              "      <th id=\"T_5da69_level0_row3\" class=\"row_heading level0 row3\" >cost</th>\n",
              "      <td id=\"T_5da69_row3_col0\" class=\"data row3 col0\" >-0.04</td>\n",
              "      <td id=\"T_5da69_row3_col1\" class=\"data row3 col1\" >0.01</td>\n",
              "      <td id=\"T_5da69_row3_col2\" class=\"data row3 col2\" >-0.14</td>\n",
              "      <td id=\"T_5da69_row3_col3\" class=\"data row3 col3\" >1.00</td>\n",
              "      <td id=\"T_5da69_row3_col4\" class=\"data row3 col4\" >0.05</td>\n",
              "      <td id=\"T_5da69_row3_col5\" class=\"data row3 col5\" >-0.07</td>\n",
              "      <td id=\"T_5da69_row3_col6\" class=\"data row3 col6\" >-0.13</td>\n",
              "      <td id=\"T_5da69_row3_col7\" class=\"data row3 col7\" >-0.05</td>\n",
              "      <td id=\"T_5da69_row3_col8\" class=\"data row3 col8\" >0.03</td>\n",
              "      <td id=\"T_5da69_row3_col9\" class=\"data row3 col9\" >0.15</td>\n",
              "    </tr>\n",
              "    <tr>\n",
              "      <th id=\"T_5da69_level0_row4\" class=\"row_heading level0 row4\" >minimum_nights</th>\n",
              "      <td id=\"T_5da69_row4_col0\" class=\"data row4 col0\" >-0.08</td>\n",
              "      <td id=\"T_5da69_row4_col1\" class=\"data row4 col1\" >0.01</td>\n",
              "      <td id=\"T_5da69_row4_col2\" class=\"data row4 col2\" >-0.07</td>\n",
              "      <td id=\"T_5da69_row4_col3\" class=\"data row4 col3\" >0.05</td>\n",
              "      <td id=\"T_5da69_row4_col4\" class=\"data row4 col4\" >1.00</td>\n",
              "      <td id=\"T_5da69_row4_col5\" class=\"data row4 col5\" >-0.09</td>\n",
              "      <td id=\"T_5da69_row4_col6\" class=\"data row4 col6\" >-0.13</td>\n",
              "      <td id=\"T_5da69_row4_col7\" class=\"data row4 col7\" >-0.02</td>\n",
              "      <td id=\"T_5da69_row4_col8\" class=\"data row4 col8\" >0.11</td>\n",
              "      <td id=\"T_5da69_row4_col9\" class=\"data row4 col9\" >0.17</td>\n",
              "    </tr>\n",
              "    <tr>\n",
              "      <th id=\"T_5da69_level0_row5\" class=\"row_heading level0 row5\" >number_of_reviews</th>\n",
              "      <td id=\"T_5da69_row5_col0\" class=\"data row5 col0\" >-0.33</td>\n",
              "      <td id=\"T_5da69_row5_col1\" class=\"data row5 col1\" >0.01</td>\n",
              "      <td id=\"T_5da69_row5_col2\" class=\"data row5 col2\" >0.01</td>\n",
              "      <td id=\"T_5da69_row5_col3\" class=\"data row5 col3\" >-0.07</td>\n",
              "      <td id=\"T_5da69_row5_col4\" class=\"data row5 col4\" >-0.09</td>\n",
              "      <td id=\"T_5da69_row5_col5\" class=\"data row5 col5\" >1.00</td>\n",
              "      <td id=\"T_5da69_row5_col6\" class=\"data row5 col6\" >0.53</td>\n",
              "      <td id=\"T_5da69_row5_col7\" class=\"data row5 col7\" >-0.16</td>\n",
              "      <td id=\"T_5da69_row5_col8\" class=\"data row5 col8\" >-0.11</td>\n",
              "      <td id=\"T_5da69_row5_col9\" class=\"data row5 col9\" >-0.19</td>\n",
              "    </tr>\n",
              "    <tr>\n",
              "      <th id=\"T_5da69_level0_row6\" class=\"row_heading level0 row6\" >reviews_per_month</th>\n",
              "      <td id=\"T_5da69_row6_col0\" class=\"data row6 col0\" >0.29</td>\n",
              "      <td id=\"T_5da69_row6_col1\" class=\"data row6 col1\" >0.04</td>\n",
              "      <td id=\"T_5da69_row6_col2\" class=\"data row6 col2\" >0.06</td>\n",
              "      <td id=\"T_5da69_row6_col3\" class=\"data row6 col3\" >-0.13</td>\n",
              "      <td id=\"T_5da69_row6_col4\" class=\"data row6 col4\" >-0.13</td>\n",
              "      <td id=\"T_5da69_row6_col5\" class=\"data row6 col5\" >0.53</td>\n",
              "      <td id=\"T_5da69_row6_col6\" class=\"data row6 col6\" >1.00</td>\n",
              "      <td id=\"T_5da69_row6_col7\" class=\"data row6 col7\" >0.19</td>\n",
              "      <td id=\"T_5da69_row6_col8\" class=\"data row6 col8\" >-0.13</td>\n",
              "      <td id=\"T_5da69_row6_col9\" class=\"data row6 col9\" >-0.25</td>\n",
              "    </tr>\n",
              "    <tr>\n",
              "      <th id=\"T_5da69_level0_row7\" class=\"row_heading level0 row7\" >owner_id</th>\n",
              "      <td id=\"T_5da69_row7_col0\" class=\"data row7 col0\" >0.52</td>\n",
              "      <td id=\"T_5da69_row7_col1\" class=\"data row7 col1\" >-0.01</td>\n",
              "      <td id=\"T_5da69_row7_col2\" class=\"data row7 col2\" >0.14</td>\n",
              "      <td id=\"T_5da69_row7_col3\" class=\"data row7 col3\" >-0.05</td>\n",
              "      <td id=\"T_5da69_row7_col4\" class=\"data row7 col4\" >-0.02</td>\n",
              "      <td id=\"T_5da69_row7_col5\" class=\"data row7 col5\" >-0.16</td>\n",
              "      <td id=\"T_5da69_row7_col6\" class=\"data row7 col6\" >0.19</td>\n",
              "      <td id=\"T_5da69_row7_col7\" class=\"data row7 col7\" >1.00</td>\n",
              "      <td id=\"T_5da69_row7_col8\" class=\"data row7 col8\" >0.07</td>\n",
              "      <td id=\"T_5da69_row7_col9\" class=\"data row7 col9\" >0.12</td>\n",
              "    </tr>\n",
              "    <tr>\n",
              "      <th id=\"T_5da69_level0_row8\" class=\"row_heading level0 row8\" >owned_hotels</th>\n",
              "      <td id=\"T_5da69_row8_col0\" class=\"data row8 col0\" >0.03</td>\n",
              "      <td id=\"T_5da69_row8_col1\" class=\"data row8 col1\" >0.06</td>\n",
              "      <td id=\"T_5da69_row8_col2\" class=\"data row8 col2\" >-0.14</td>\n",
              "      <td id=\"T_5da69_row8_col3\" class=\"data row8 col3\" >0.03</td>\n",
              "      <td id=\"T_5da69_row8_col4\" class=\"data row8 col4\" >0.11</td>\n",
              "      <td id=\"T_5da69_row8_col5\" class=\"data row8 col5\" >-0.11</td>\n",
              "      <td id=\"T_5da69_row8_col6\" class=\"data row8 col6\" >-0.13</td>\n",
              "      <td id=\"T_5da69_row8_col7\" class=\"data row8 col7\" >0.07</td>\n",
              "      <td id=\"T_5da69_row8_col8\" class=\"data row8 col8\" >1.00</td>\n",
              "      <td id=\"T_5da69_row8_col9\" class=\"data row8 col9\" >0.19</td>\n",
              "    </tr>\n",
              "    <tr>\n",
              "      <th id=\"T_5da69_level0_row9\" class=\"row_heading level0 row9\" >yearly_availability</th>\n",
              "      <td id=\"T_5da69_row9_col0\" class=\"data row9 col0\" >-0.16</td>\n",
              "      <td id=\"T_5da69_row9_col1\" class=\"data row9 col1\" >-0.03</td>\n",
              "      <td id=\"T_5da69_row9_col2\" class=\"data row9 col2\" >0.12</td>\n",
              "      <td id=\"T_5da69_row9_col3\" class=\"data row9 col3\" >0.15</td>\n",
              "      <td id=\"T_5da69_row9_col4\" class=\"data row9 col4\" >0.17</td>\n",
              "      <td id=\"T_5da69_row9_col5\" class=\"data row9 col5\" >-0.19</td>\n",
              "      <td id=\"T_5da69_row9_col6\" class=\"data row9 col6\" >-0.25</td>\n",
              "      <td id=\"T_5da69_row9_col7\" class=\"data row9 col7\" >0.12</td>\n",
              "      <td id=\"T_5da69_row9_col8\" class=\"data row9 col8\" >0.19</td>\n",
              "      <td id=\"T_5da69_row9_col9\" class=\"data row9 col9\" >1.00</td>\n",
              "    </tr>\n",
              "  </tbody>\n",
              "</table>\n"
            ],
            "text/plain": [
              "<pandas.io.formats.style.Styler at 0x7f2bd5f5ee90>"
            ]
          },
          "metadata": {},
          "execution_count": 40
        }
      ]
    },
    {
      "cell_type": "markdown",
      "source": [
        "# **Question 3: Data Wrangling - Duplicate Transactions, Data Quality Analysis**"
      ],
      "metadata": {
        "id": "cb-wJeMZ4sqh"
      }
    },
    {
      "cell_type": "markdown",
      "source": [
        "**Till know I didn't remove any empty Columns. Before removing any attribute always check with Clients or Business Teams to get the core sense of that attribute and if you can acquire that or generate that with an online help or API. If nothing works out that way then only think of removing it. Because a single attribute can have a big impact overall**"
      ],
      "metadata": {
        "id": "dDpIwYx_4eLC"
      }
    },
    {
      "cell_type": "code",
      "source": [
        "df.head(5)"
      ],
      "metadata": {
        "colab": {
          "base_uri": "https://localhost:8080/",
          "height": 270
        },
        "id": "4DGmRlg_KK81",
        "outputId": "d97cd8ee-7909-4039-e86c-358b254d35ef"
      },
      "execution_count": null,
      "outputs": [
        {
          "output_type": "execute_result",
          "data": {
            "text/html": [
              "\n",
              "  <div id=\"df-92a76e92-8c71-43e4-a806-ad6b9db4059e\">\n",
              "    <div class=\"colab-df-container\">\n",
              "      <div>\n",
              "<style scoped>\n",
              "    .dataframe tbody tr th:only-of-type {\n",
              "        vertical-align: middle;\n",
              "    }\n",
              "\n",
              "    .dataframe tbody tr th {\n",
              "        vertical-align: top;\n",
              "    }\n",
              "\n",
              "    .dataframe thead th {\n",
              "        text-align: right;\n",
              "    }\n",
              "</style>\n",
              "<table border=\"1\" class=\"dataframe\">\n",
              "  <thead>\n",
              "    <tr style=\"text-align: right;\">\n",
              "      <th></th>\n",
              "      <th>id</th>\n",
              "      <th>region</th>\n",
              "      <th>latitude</th>\n",
              "      <th>longitude</th>\n",
              "      <th>accommodation_type</th>\n",
              "      <th>cost</th>\n",
              "      <th>minimum_nights</th>\n",
              "      <th>number_of_reviews</th>\n",
              "      <th>reviews_per_month</th>\n",
              "      <th>owner_id</th>\n",
              "      <th>owned_hotels</th>\n",
              "      <th>yearly_availability</th>\n",
              "    </tr>\n",
              "  </thead>\n",
              "  <tbody>\n",
              "    <tr>\n",
              "      <th>0</th>\n",
              "      <td>13232</td>\n",
              "      <td>Manhattan</td>\n",
              "      <td>40.71854</td>\n",
              "      <td>-74.00439</td>\n",
              "      <td>Entire home/apt</td>\n",
              "      <td>170</td>\n",
              "      <td>5</td>\n",
              "      <td>7</td>\n",
              "      <td>0.56</td>\n",
              "      <td>929983</td>\n",
              "      <td>1</td>\n",
              "      <td>0</td>\n",
              "    </tr>\n",
              "    <tr>\n",
              "      <th>1</th>\n",
              "      <td>246</td>\n",
              "      <td>Brooklyn</td>\n",
              "      <td>40.64446</td>\n",
              "      <td>-73.95030</td>\n",
              "      <td>Entire home/apt</td>\n",
              "      <td>65</td>\n",
              "      <td>3</td>\n",
              "      <td>238</td>\n",
              "      <td>2.30</td>\n",
              "      <td>281764</td>\n",
              "      <td>1</td>\n",
              "      <td>0</td>\n",
              "    </tr>\n",
              "    <tr>\n",
              "      <th>2</th>\n",
              "      <td>19091</td>\n",
              "      <td>Queens</td>\n",
              "      <td>40.78573</td>\n",
              "      <td>-73.81062</td>\n",
              "      <td>Private room</td>\n",
              "      <td>85</td>\n",
              "      <td>1</td>\n",
              "      <td>0</td>\n",
              "      <td>NaN</td>\n",
              "      <td>19923341</td>\n",
              "      <td>1</td>\n",
              "      <td>1</td>\n",
              "    </tr>\n",
              "    <tr>\n",
              "      <th>3</th>\n",
              "      <td>34305</td>\n",
              "      <td>Manhattan</td>\n",
              "      <td>40.73863</td>\n",
              "      <td>-73.98002</td>\n",
              "      <td>Private room</td>\n",
              "      <td>210</td>\n",
              "      <td>30</td>\n",
              "      <td>0</td>\n",
              "      <td>NaN</td>\n",
              "      <td>200380610</td>\n",
              "      <td>65</td>\n",
              "      <td>1</td>\n",
              "    </tr>\n",
              "    <tr>\n",
              "      <th>4</th>\n",
              "      <td>444</td>\n",
              "      <td>Manhattan</td>\n",
              "      <td>40.82426</td>\n",
              "      <td>-73.94630</td>\n",
              "      <td>Shared room</td>\n",
              "      <td>75</td>\n",
              "      <td>3</td>\n",
              "      <td>38</td>\n",
              "      <td>0.42</td>\n",
              "      <td>745069</td>\n",
              "      <td>3</td>\n",
              "      <td>1</td>\n",
              "    </tr>\n",
              "  </tbody>\n",
              "</table>\n",
              "</div>\n",
              "      <button class=\"colab-df-convert\" onclick=\"convertToInteractive('df-92a76e92-8c71-43e4-a806-ad6b9db4059e')\"\n",
              "              title=\"Convert this dataframe to an interactive table.\"\n",
              "              style=\"display:none;\">\n",
              "        \n",
              "  <svg xmlns=\"http://www.w3.org/2000/svg\" height=\"24px\"viewBox=\"0 0 24 24\"\n",
              "       width=\"24px\">\n",
              "    <path d=\"M0 0h24v24H0V0z\" fill=\"none\"/>\n",
              "    <path d=\"M18.56 5.44l.94 2.06.94-2.06 2.06-.94-2.06-.94-.94-2.06-.94 2.06-2.06.94zm-11 1L8.5 8.5l.94-2.06 2.06-.94-2.06-.94L8.5 2.5l-.94 2.06-2.06.94zm10 10l.94 2.06.94-2.06 2.06-.94-2.06-.94-.94-2.06-.94 2.06-2.06.94z\"/><path d=\"M17.41 7.96l-1.37-1.37c-.4-.4-.92-.59-1.43-.59-.52 0-1.04.2-1.43.59L10.3 9.45l-7.72 7.72c-.78.78-.78 2.05 0 2.83L4 21.41c.39.39.9.59 1.41.59.51 0 1.02-.2 1.41-.59l7.78-7.78 2.81-2.81c.8-.78.8-2.07 0-2.86zM5.41 20L4 18.59l7.72-7.72 1.47 1.35L5.41 20z\"/>\n",
              "  </svg>\n",
              "      </button>\n",
              "      \n",
              "  <style>\n",
              "    .colab-df-container {\n",
              "      display:flex;\n",
              "      flex-wrap:wrap;\n",
              "      gap: 12px;\n",
              "    }\n",
              "\n",
              "    .colab-df-convert {\n",
              "      background-color: #E8F0FE;\n",
              "      border: none;\n",
              "      border-radius: 50%;\n",
              "      cursor: pointer;\n",
              "      display: none;\n",
              "      fill: #1967D2;\n",
              "      height: 32px;\n",
              "      padding: 0 0 0 0;\n",
              "      width: 32px;\n",
              "    }\n",
              "\n",
              "    .colab-df-convert:hover {\n",
              "      background-color: #E2EBFA;\n",
              "      box-shadow: 0px 1px 2px rgba(60, 64, 67, 0.3), 0px 1px 3px 1px rgba(60, 64, 67, 0.15);\n",
              "      fill: #174EA6;\n",
              "    }\n",
              "\n",
              "    [theme=dark] .colab-df-convert {\n",
              "      background-color: #3B4455;\n",
              "      fill: #D2E3FC;\n",
              "    }\n",
              "\n",
              "    [theme=dark] .colab-df-convert:hover {\n",
              "      background-color: #434B5C;\n",
              "      box-shadow: 0px 1px 3px 1px rgba(0, 0, 0, 0.15);\n",
              "      filter: drop-shadow(0px 1px 2px rgba(0, 0, 0, 0.3));\n",
              "      fill: #FFFFFF;\n",
              "    }\n",
              "  </style>\n",
              "\n",
              "      <script>\n",
              "        const buttonEl =\n",
              "          document.querySelector('#df-92a76e92-8c71-43e4-a806-ad6b9db4059e button.colab-df-convert');\n",
              "        buttonEl.style.display =\n",
              "          google.colab.kernel.accessAllowed ? 'block' : 'none';\n",
              "\n",
              "        async function convertToInteractive(key) {\n",
              "          const element = document.querySelector('#df-92a76e92-8c71-43e4-a806-ad6b9db4059e');\n",
              "          const dataTable =\n",
              "            await google.colab.kernel.invokeFunction('convertToInteractive',\n",
              "                                                     [key], {});\n",
              "          if (!dataTable) return;\n",
              "\n",
              "          const docLinkHtml = 'Like what you see? Visit the ' +\n",
              "            '<a target=\"_blank\" href=https://colab.research.google.com/notebooks/data_table.ipynb>data table notebook</a>'\n",
              "            + ' to learn more about interactive tables.';\n",
              "          element.innerHTML = '';\n",
              "          dataTable['output_type'] = 'display_data';\n",
              "          await google.colab.output.renderOutput(dataTable, element);\n",
              "          const docLink = document.createElement('div');\n",
              "          docLink.innerHTML = docLinkHtml;\n",
              "          element.appendChild(docLink);\n",
              "        }\n",
              "      </script>\n",
              "    </div>\n",
              "  </div>\n",
              "  "
            ],
            "text/plain": [
              "      id     region  latitude  ...   owner_id owned_hotels  yearly_availability\n",
              "0  13232  Manhattan  40.71854  ...     929983            1                    0\n",
              "1    246   Brooklyn  40.64446  ...     281764            1                    0\n",
              "2  19091     Queens  40.78573  ...   19923341            1                    1\n",
              "3  34305  Manhattan  40.73863  ...  200380610           65                    1\n",
              "4    444  Manhattan  40.82426  ...     745069            3                    1\n",
              "\n",
              "[5 rows x 12 columns]"
            ]
          },
          "metadata": {},
          "execution_count": 41
        }
      ]
    },
    {
      "cell_type": "code",
      "source": [
        "df_2 =df.copy()"
      ],
      "metadata": {
        "id": "hqwqiSNJKLAU"
      },
      "execution_count": null,
      "outputs": []
    },
    {
      "cell_type": "markdown",
      "source": [
        "# **Question 4: Model, Classification, Removing Outliers, Further Cleaning, Feature Encoding, Feature Engineering, Metrics, Evaluation, Results, Further Improvement and Domains**\n",
        "\n"
      ],
      "metadata": {
        "id": "vxgRVFXGB1hh"
      }
    },
    {
      "cell_type": "markdown",
      "source": [
        "**Interquartile Ranges are generally used for removing the outliers in a numerical attribute**"
      ],
      "metadata": {
        "id": "2ZMuc2DMCN8P"
      }
    },
    {
      "cell_type": "code",
      "source": [
        "def remove_outlier(df_in, col_name):\n",
        "    q1 = df_in[col_name].quantile(0.25)\n",
        "    q3 = df_in[col_name].quantile(0.75)\n",
        "    iqr = q3-q1 #Interquartile range\n",
        "    fence_low  = q1-1.5*iqr\n",
        "    fence_high = q3+1.5*iqr\n",
        "    df_out = df_in.loc[(df_in[col_name] > fence_low) & (df_in[col_name] < fence_high)]\n",
        "    return df_out"
      ],
      "metadata": {
        "id": "DAA-kLnA7YW8"
      },
      "execution_count": null,
      "outputs": []
    },
    {
      "cell_type": "code",
      "source": [
        "#df = remove_outlier(df, 'cost' )"
      ],
      "metadata": {
        "id": "WthrBzhSDb63"
      },
      "execution_count": null,
      "outputs": []
    },
    {
      "cell_type": "code",
      "source": [
        "#df = remove_outlier(df, 'minimum_nights' )"
      ],
      "metadata": {
        "id": "VYWU1n62mfQf"
      },
      "execution_count": null,
      "outputs": []
    },
    {
      "cell_type": "code",
      "source": [
        "#df = remove_outlier(df, 'number_of_reviews' )"
      ],
      "metadata": {
        "id": "n9bMiJjbmfaL"
      },
      "execution_count": null,
      "outputs": []
    },
    {
      "cell_type": "code",
      "source": [
        "#df = remove_outlier(df, 'reviews_per_month' )"
      ],
      "metadata": {
        "id": "8II-yH2GmffE"
      },
      "execution_count": null,
      "outputs": []
    },
    {
      "cell_type": "code",
      "source": [
        "#df = remove_outlier(df, 'owned_hotels' )"
      ],
      "metadata": {
        "id": "ASNHnb_Fmfiw"
      },
      "execution_count": null,
      "outputs": []
    },
    {
      "cell_type": "markdown",
      "source": [
        "**We can see which buckets are removed from the dataset, as for Models to generalize the dataset well it is advised to remove outliers. But in some use cases we avoid that as well**"
      ],
      "metadata": {
        "id": "7PoZ24iTCX_W"
      }
    },
    {
      "cell_type": "code",
      "source": [
        "plt.hist(df['cost'], bins = 30)\n",
        "plt.ylabel('Frequency', fontsize = 16)\n",
        "plt.xlabel('cost', fontsize = 16)"
      ],
      "metadata": {
        "colab": {
          "base_uri": "https://localhost:8080/",
          "height": 301
        },
        "id": "28nKKOe6FYtr",
        "outputId": "cf23414a-41d9-4be0-9ff9-4cad7b9959a2"
      },
      "execution_count": null,
      "outputs": [
        {
          "output_type": "execute_result",
          "data": {
            "text/plain": [
              "Text(0.5, 0, 'cost')"
            ]
          },
          "metadata": {},
          "execution_count": 49
        },
        {
          "output_type": "display_data",
          "data": {
            "image/png": "[encoded data removed]",
            "text/plain": [
              "<Figure size 432x288 with 1 Axes>"
            ]
          },
          "metadata": {
            "needs_background": "light"
          }
        }
      ]
    },
    {
      "cell_type": "code",
      "source": [
        "plt.hist(df['minimum_nights'], bins = 30)\n",
        "plt.ylabel('Frequency', fontsize = 16)\n",
        "plt.xlabel('minimum_nights', fontsize = 16)"
      ],
      "metadata": {
        "colab": {
          "base_uri": "https://localhost:8080/",
          "height": 304
        },
        "id": "Xn0IaprFEFWZ",
        "outputId": "37da9c5e-ebfd-4e37-edd8-7c760a3d5f98"
      },
      "execution_count": null,
      "outputs": [
        {
          "output_type": "execute_result",
          "data": {
            "text/plain": [
              "Text(0.5, 0, 'minimum_nights')"
            ]
          },
          "metadata": {},
          "execution_count": 50
        },
        {
          "output_type": "display_data",
          "data": {
            "image/png": "[encoded data removed]",
            "text/plain": [
              "<Figure size 432x288 with 1 Axes>"
            ]
          },
          "metadata": {
            "needs_background": "light"
          }
        }
      ]
    },
    {
      "cell_type": "code",
      "source": [
        "\n",
        "\n",
        "plt.hist(df['number_of_reviews'], bins = 30)\n",
        "plt.ylabel('Frequency', fontsize = 16)\n",
        "plt.xlabel('number_of_reviews', fontsize = 16)"
      ],
      "metadata": {
        "colab": {
          "base_uri": "https://localhost:8080/",
          "height": 304
        },
        "id": "U7nh5GobElnO",
        "outputId": "aa76cd9b-6c76-4be9-eca9-0f3737cfe27e"
      },
      "execution_count": null,
      "outputs": [
        {
          "output_type": "execute_result",
          "data": {
            "text/plain": [
              "Text(0.5, 0, 'number_of_reviews')"
            ]
          },
          "metadata": {},
          "execution_count": 51
        },
        {
          "output_type": "display_data",
          "data": {
            "image/png": "[encoded data removed]",
            "text/plain": [
              "<Figure size 432x288 with 1 Axes>"
            ]
          },
          "metadata": {
            "needs_background": "light"
          }
        }
      ]
    },
    {
      "cell_type": "code",
      "source": [
        "\n",
        "plt.hist(df['reviews_per_month'], bins = 20)\n",
        "plt.ylabel('Frequency', fontsize = 16)\n",
        "plt.xlabel('reviews_per_month', fontsize = 16)\n",
        "\n"
      ],
      "metadata": {
        "colab": {
          "base_uri": "https://localhost:8080/",
          "height": 306
        },
        "id": "dOAntIh3D7oS",
        "outputId": "9e9868f4-7442-4cac-d6c3-d9461bf4fbe9"
      },
      "execution_count": null,
      "outputs": [
        {
          "output_type": "execute_result",
          "data": {
            "text/plain": [
              "Text(0.5, 0, 'reviews_per_month')"
            ]
          },
          "metadata": {},
          "execution_count": 52
        },
        {
          "output_type": "display_data",
          "data": {
            "image/png": "[encoded data removed]",
            "text/plain": [
              "<Figure size 432x288 with 1 Axes>"
            ]
          },
          "metadata": {
            "needs_background": "light"
          }
        }
      ]
    },
    {
      "cell_type": "code",
      "source": [
        "\n",
        "plt.hist(df['owned_hotels'], bins = 20)\n",
        "plt.ylabel('Frequency', fontsize = 16)\n",
        "plt.xlabel('owned_hotels', fontsize = 16)\n",
        "\n"
      ],
      "metadata": {
        "colab": {
          "base_uri": "https://localhost:8080/",
          "height": 304
        },
        "id": "ETyNqpxQnP1n",
        "outputId": "779d4591-48ce-4062-c24a-d4eaea92a34c"
      },
      "execution_count": null,
      "outputs": [
        {
          "output_type": "execute_result",
          "data": {
            "text/plain": [
              "Text(0.5, 0, 'owned_hotels')"
            ]
          },
          "metadata": {},
          "execution_count": 53
        },
        {
          "output_type": "display_data",
          "data": {
            "image/png": "[encoded data removed]",
            "text/plain": [
              "<Figure size 432x288 with 1 Axes>"
            ]
          },
          "metadata": {
            "needs_background": "light"
          }
        }
      ]
    },
    {
      "cell_type": "code",
      "source": [
        "df.head()"
      ],
      "metadata": {
        "colab": {
          "base_uri": "https://localhost:8080/",
          "height": 270
        },
        "id": "nP8BG9k_nONh",
        "outputId": "ae2f2c4f-2332-4b1d-a608-d58229c76f81"
      },
      "execution_count": null,
      "outputs": [
        {
          "output_type": "execute_result",
          "data": {
            "text/html": [
              "\n",
              "  <div id=\"df-d7b6ed90-0702-42d7-968d-cb07395d819a\">\n",
              "    <div class=\"colab-df-container\">\n",
              "      <div>\n",
              "<style scoped>\n",
              "    .dataframe tbody tr th:only-of-type {\n",
              "        vertical-align: middle;\n",
              "    }\n",
              "\n",
              "    .dataframe tbody tr th {\n",
              "        vertical-align: top;\n",
              "    }\n",
              "\n",
              "    .dataframe thead th {\n",
              "        text-align: right;\n",
              "    }\n",
              "</style>\n",
              "<table border=\"1\" class=\"dataframe\">\n",
              "  <thead>\n",
              "    <tr style=\"text-align: right;\">\n",
              "      <th></th>\n",
              "      <th>id</th>\n",
              "      <th>region</th>\n",
              "      <th>latitude</th>\n",
              "      <th>longitude</th>\n",
              "      <th>accommodation_type</th>\n",
              "      <th>cost</th>\n",
              "      <th>minimum_nights</th>\n",
              "      <th>number_of_reviews</th>\n",
              "      <th>reviews_per_month</th>\n",
              "      <th>owner_id</th>\n",
              "      <th>owned_hotels</th>\n",
              "      <th>yearly_availability</th>\n",
              "    </tr>\n",
              "  </thead>\n",
              "  <tbody>\n",
              "    <tr>\n",
              "      <th>0</th>\n",
              "      <td>13232</td>\n",
              "      <td>Manhattan</td>\n",
              "      <td>40.71854</td>\n",
              "      <td>-74.00439</td>\n",
              "      <td>Entire home/apt</td>\n",
              "      <td>170</td>\n",
              "      <td>5</td>\n",
              "      <td>7</td>\n",
              "      <td>0.56</td>\n",
              "      <td>929983</td>\n",
              "      <td>1</td>\n",
              "      <td>0</td>\n",
              "    </tr>\n",
              "    <tr>\n",
              "      <th>1</th>\n",
              "      <td>246</td>\n",
              "      <td>Brooklyn</td>\n",
              "      <td>40.64446</td>\n",
              "      <td>-73.95030</td>\n",
              "      <td>Entire home/apt</td>\n",
              "      <td>65</td>\n",
              "      <td>3</td>\n",
              "      <td>238</td>\n",
              "      <td>2.30</td>\n",
              "      <td>281764</td>\n",
              "      <td>1</td>\n",
              "      <td>0</td>\n",
              "    </tr>\n",
              "    <tr>\n",
              "      <th>2</th>\n",
              "      <td>19091</td>\n",
              "      <td>Queens</td>\n",
              "      <td>40.78573</td>\n",
              "      <td>-73.81062</td>\n",
              "      <td>Private room</td>\n",
              "      <td>85</td>\n",
              "      <td>1</td>\n",
              "      <td>0</td>\n",
              "      <td>NaN</td>\n",
              "      <td>19923341</td>\n",
              "      <td>1</td>\n",
              "      <td>1</td>\n",
              "    </tr>\n",
              "    <tr>\n",
              "      <th>3</th>\n",
              "      <td>34305</td>\n",
              "      <td>Manhattan</td>\n",
              "      <td>40.73863</td>\n",
              "      <td>-73.98002</td>\n",
              "      <td>Private room</td>\n",
              "      <td>210</td>\n",
              "      <td>30</td>\n",
              "      <td>0</td>\n",
              "      <td>NaN</td>\n",
              "      <td>200380610</td>\n",
              "      <td>65</td>\n",
              "      <td>1</td>\n",
              "    </tr>\n",
              "    <tr>\n",
              "      <th>4</th>\n",
              "      <td>444</td>\n",
              "      <td>Manhattan</td>\n",
              "      <td>40.82426</td>\n",
              "      <td>-73.94630</td>\n",
              "      <td>Shared room</td>\n",
              "      <td>75</td>\n",
              "      <td>3</td>\n",
              "      <td>38</td>\n",
              "      <td>0.42</td>\n",
              "      <td>745069</td>\n",
              "      <td>3</td>\n",
              "      <td>1</td>\n",
              "    </tr>\n",
              "  </tbody>\n",
              "</table>\n",
              "</div>\n",
              "      <button class=\"colab-df-convert\" onclick=\"convertToInteractive('df-d7b6ed90-0702-42d7-968d-cb07395d819a')\"\n",
              "              title=\"Convert this dataframe to an interactive table.\"\n",
              "              style=\"display:none;\">\n",
              "        \n",
              "  <svg xmlns=\"http://www.w3.org/2000/svg\" height=\"24px\"viewBox=\"0 0 24 24\"\n",
              "       width=\"24px\">\n",
              "    <path d=\"M0 0h24v24H0V0z\" fill=\"none\"/>\n",
              "    <path d=\"M18.56 5.44l.94 2.06.94-2.06 2.06-.94-2.06-.94-.94-2.06-.94 2.06-2.06.94zm-11 1L8.5 8.5l.94-2.06 2.06-.94-2.06-.94L8.5 2.5l-.94 2.06-2.06.94zm10 10l.94 2.06.94-2.06 2.06-.94-2.06-.94-.94-2.06-.94 2.06-2.06.94z\"/><path d=\"M17.41 7.96l-1.37-1.37c-.4-.4-.92-.59-1.43-.59-.52 0-1.04.2-1.43.59L10.3 9.45l-7.72 7.72c-.78.78-.78 2.05 0 2.83L4 21.41c.39.39.9.59 1.41.59.51 0 1.02-.2 1.41-.59l7.78-7.78 2.81-2.81c.8-.78.8-2.07 0-2.86zM5.41 20L4 18.59l7.72-7.72 1.47 1.35L5.41 20z\"/>\n",
              "  </svg>\n",
              "      </button>\n",
              "      \n",
              "  <style>\n",
              "    .colab-df-container {\n",
              "      display:flex;\n",
              "      flex-wrap:wrap;\n",
              "      gap: 12px;\n",
              "    }\n",
              "\n",
              "    .colab-df-convert {\n",
              "      background-color: #E8F0FE;\n",
              "      border: none;\n",
              "      border-radius: 50%;\n",
              "      cursor: pointer;\n",
              "      display: none;\n",
              "      fill: #1967D2;\n",
              "      height: 32px;\n",
              "      padding: 0 0 0 0;\n",
              "      width: 32px;\n",
              "    }\n",
              "\n",
              "    .colab-df-convert:hover {\n",
              "      background-color: #E2EBFA;\n",
              "      box-shadow: 0px 1px 2px rgba(60, 64, 67, 0.3), 0px 1px 3px 1px rgba(60, 64, 67, 0.15);\n",
              "      fill: #174EA6;\n",
              "    }\n",
              "\n",
              "    [theme=dark] .colab-df-convert {\n",
              "      background-color: #3B4455;\n",
              "      fill: #D2E3FC;\n",
              "    }\n",
              "\n",
              "    [theme=dark] .colab-df-convert:hover {\n",
              "      background-color: #434B5C;\n",
              "      box-shadow: 0px 1px 3px 1px rgba(0, 0, 0, 0.15);\n",
              "      filter: drop-shadow(0px 1px 2px rgba(0, 0, 0, 0.3));\n",
              "      fill: #FFFFFF;\n",
              "    }\n",
              "  </style>\n",
              "\n",
              "      <script>\n",
              "        const buttonEl =\n",
              "          document.querySelector('#df-d7b6ed90-0702-42d7-968d-cb07395d819a button.colab-df-convert');\n",
              "        buttonEl.style.display =\n",
              "          google.colab.kernel.accessAllowed ? 'block' : 'none';\n",
              "\n",
              "        async function convertToInteractive(key) {\n",
              "          const element = document.querySelector('#df-d7b6ed90-0702-42d7-968d-cb07395d819a');\n",
              "          const dataTable =\n",
              "            await google.colab.kernel.invokeFunction('convertToInteractive',\n",
              "                                                     [key], {});\n",
              "          if (!dataTable) return;\n",
              "\n",
              "          const docLinkHtml = 'Like what you see? Visit the ' +\n",
              "            '<a target=\"_blank\" href=https://colab.research.google.com/notebooks/data_table.ipynb>data table notebook</a>'\n",
              "            + ' to learn more about interactive tables.';\n",
              "          element.innerHTML = '';\n",
              "          dataTable['output_type'] = 'display_data';\n",
              "          await google.colab.output.renderOutput(dataTable, element);\n",
              "          const docLink = document.createElement('div');\n",
              "          docLink.innerHTML = docLinkHtml;\n",
              "          element.appendChild(docLink);\n",
              "        }\n",
              "      </script>\n",
              "    </div>\n",
              "  </div>\n",
              "  "
            ],
            "text/plain": [
              "      id     region  latitude  ...   owner_id owned_hotels  yearly_availability\n",
              "0  13232  Manhattan  40.71854  ...     929983            1                    0\n",
              "1    246   Brooklyn  40.64446  ...     281764            1                    0\n",
              "2  19091     Queens  40.78573  ...   19923341            1                    1\n",
              "3  34305  Manhattan  40.73863  ...  200380610           65                    1\n",
              "4    444  Manhattan  40.82426  ...     745069            3                    1\n",
              "\n",
              "[5 rows x 12 columns]"
            ]
          },
          "metadata": {},
          "execution_count": 54
        }
      ]
    },
    {
      "cell_type": "code",
      "source": [
        "df.shape"
      ],
      "metadata": {
        "colab": {
          "base_uri": "https://localhost:8080/"
        },
        "id": "GsdUeXsqFklc",
        "outputId": "db520f7f-74c2-414e-86cc-429f778da532"
      },
      "execution_count": null,
      "outputs": [
        {
          "output_type": "execute_result",
          "data": {
            "text/plain": [
              "(2870, 12)"
            ]
          },
          "metadata": {},
          "execution_count": 55
        }
      ]
    },
    {
      "cell_type": "code",
      "source": [
        "df = df.drop(columns=['id','owner_id'])\n",
        "print('Final total columns: ', len(df.columns))"
      ],
      "metadata": {
        "colab": {
          "base_uri": "https://localhost:8080/"
        },
        "id": "CCbK7IhmkU-j",
        "outputId": "e8bc4f8e-2db6-45ce-df82-aa04186e3b7a"
      },
      "execution_count": null,
      "outputs": [
        {
          "output_type": "stream",
          "name": "stdout",
          "text": [
            "Final total columns:  10\n"
          ]
        }
      ]
    },
    {
      "cell_type": "code",
      "source": [
        "df.head()"
      ],
      "metadata": {
        "colab": {
          "base_uri": "https://localhost:8080/",
          "height": 270
        },
        "id": "d5mBkzNGpubh",
        "outputId": "6222d670-28a1-4e63-9da2-cf8d40568177"
      },
      "execution_count": null,
      "outputs": [
        {
          "output_type": "execute_result",
          "data": {
            "text/html": [
              "\n",
              "  <div id=\"df-76b9763a-fb22-4624-ab02-32dc9d9052d4\">\n",
              "    <div class=\"colab-df-container\">\n",
              "      <div>\n",
              "<style scoped>\n",
              "    .dataframe tbody tr th:only-of-type {\n",
              "        vertical-align: middle;\n",
              "    }\n",
              "\n",
              "    .dataframe tbody tr th {\n",
              "        vertical-align: top;\n",
              "    }\n",
              "\n",
              "    .dataframe thead th {\n",
              "        text-align: right;\n",
              "    }\n",
              "</style>\n",
              "<table border=\"1\" class=\"dataframe\">\n",
              "  <thead>\n",
              "    <tr style=\"text-align: right;\">\n",
              "      <th></th>\n",
              "      <th>region</th>\n",
              "      <th>latitude</th>\n",
              "      <th>longitude</th>\n",
              "      <th>accommodation_type</th>\n",
              "      <th>cost</th>\n",
              "      <th>minimum_nights</th>\n",
              "      <th>number_of_reviews</th>\n",
              "      <th>reviews_per_month</th>\n",
              "      <th>owned_hotels</th>\n",
              "      <th>yearly_availability</th>\n",
              "    </tr>\n",
              "  </thead>\n",
              "  <tbody>\n",
              "    <tr>\n",
              "      <th>0</th>\n",
              "      <td>Manhattan</td>\n",
              "      <td>40.71854</td>\n",
              "      <td>-74.00439</td>\n",
              "      <td>Entire home/apt</td>\n",
              "      <td>170</td>\n",
              "      <td>5</td>\n",
              "      <td>7</td>\n",
              "      <td>0.56</td>\n",
              "      <td>1</td>\n",
              "      <td>0</td>\n",
              "    </tr>\n",
              "    <tr>\n",
              "      <th>1</th>\n",
              "      <td>Brooklyn</td>\n",
              "      <td>40.64446</td>\n",
              "      <td>-73.95030</td>\n",
              "      <td>Entire home/apt</td>\n",
              "      <td>65</td>\n",
              "      <td>3</td>\n",
              "      <td>238</td>\n",
              "      <td>2.30</td>\n",
              "      <td>1</td>\n",
              "      <td>0</td>\n",
              "    </tr>\n",
              "    <tr>\n",
              "      <th>2</th>\n",
              "      <td>Queens</td>\n",
              "      <td>40.78573</td>\n",
              "      <td>-73.81062</td>\n",
              "      <td>Private room</td>\n",
              "      <td>85</td>\n",
              "      <td>1</td>\n",
              "      <td>0</td>\n",
              "      <td>NaN</td>\n",
              "      <td>1</td>\n",
              "      <td>1</td>\n",
              "    </tr>\n",
              "    <tr>\n",
              "      <th>3</th>\n",
              "      <td>Manhattan</td>\n",
              "      <td>40.73863</td>\n",
              "      <td>-73.98002</td>\n",
              "      <td>Private room</td>\n",
              "      <td>210</td>\n",
              "      <td>30</td>\n",
              "      <td>0</td>\n",
              "      <td>NaN</td>\n",
              "      <td>65</td>\n",
              "      <td>1</td>\n",
              "    </tr>\n",
              "    <tr>\n",
              "      <th>4</th>\n",
              "      <td>Manhattan</td>\n",
              "      <td>40.82426</td>\n",
              "      <td>-73.94630</td>\n",
              "      <td>Shared room</td>\n",
              "      <td>75</td>\n",
              "      <td>3</td>\n",
              "      <td>38</td>\n",
              "      <td>0.42</td>\n",
              "      <td>3</td>\n",
              "      <td>1</td>\n",
              "    </tr>\n",
              "  </tbody>\n",
              "</table>\n",
              "</div>\n",
              "      <button class=\"colab-df-convert\" onclick=\"convertToInteractive('df-76b9763a-fb22-4624-ab02-32dc9d9052d4')\"\n",
              "              title=\"Convert this dataframe to an interactive table.\"\n",
              "              style=\"display:none;\">\n",
              "        \n",
              "  <svg xmlns=\"http://www.w3.org/2000/svg\" height=\"24px\"viewBox=\"0 0 24 24\"\n",
              "       width=\"24px\">\n",
              "    <path d=\"M0 0h24v24H0V0z\" fill=\"none\"/>\n",
              "    <path d=\"M18.56 5.44l.94 2.06.94-2.06 2.06-.94-2.06-.94-.94-2.06-.94 2.06-2.06.94zm-11 1L8.5 8.5l.94-2.06 2.06-.94-2.06-.94L8.5 2.5l-.94 2.06-2.06.94zm10 10l.94 2.06.94-2.06 2.06-.94-2.06-.94-.94-2.06-.94 2.06-2.06.94z\"/><path d=\"M17.41 7.96l-1.37-1.37c-.4-.4-.92-.59-1.43-.59-.52 0-1.04.2-1.43.59L10.3 9.45l-7.72 7.72c-.78.78-.78 2.05 0 2.83L4 21.41c.39.39.9.59 1.41.59.51 0 1.02-.2 1.41-.59l7.78-7.78 2.81-2.81c.8-.78.8-2.07 0-2.86zM5.41 20L4 18.59l7.72-7.72 1.47 1.35L5.41 20z\"/>\n",
              "  </svg>\n",
              "      </button>\n",
              "      \n",
              "  <style>\n",
              "    .colab-df-container {\n",
              "      display:flex;\n",
              "      flex-wrap:wrap;\n",
              "      gap: 12px;\n",
              "    }\n",
              "\n",
              "    .colab-df-convert {\n",
              "      background-color: #E8F0FE;\n",
              "      border: none;\n",
              "      border-radius: 50%;\n",
              "      cursor: pointer;\n",
              "      display: none;\n",
              "      fill: #1967D2;\n",
              "      height: 32px;\n",
              "      padding: 0 0 0 0;\n",
              "      width: 32px;\n",
              "    }\n",
              "\n",
              "    .colab-df-convert:hover {\n",
              "      background-color: #E2EBFA;\n",
              "      box-shadow: 0px 1px 2px rgba(60, 64, 67, 0.3), 0px 1px 3px 1px rgba(60, 64, 67, 0.15);\n",
              "      fill: #174EA6;\n",
              "    }\n",
              "\n",
              "    [theme=dark] .colab-df-convert {\n",
              "      background-color: #3B4455;\n",
              "      fill: #D2E3FC;\n",
              "    }\n",
              "\n",
              "    [theme=dark] .colab-df-convert:hover {\n",
              "      background-color: #434B5C;\n",
              "      box-shadow: 0px 1px 3px 1px rgba(0, 0, 0, 0.15);\n",
              "      filter: drop-shadow(0px 1px 2px rgba(0, 0, 0, 0.3));\n",
              "      fill: #FFFFFF;\n",
              "    }\n",
              "  </style>\n",
              "\n",
              "      <script>\n",
              "        const buttonEl =\n",
              "          document.querySelector('#df-76b9763a-fb22-4624-ab02-32dc9d9052d4 button.colab-df-convert');\n",
              "        buttonEl.style.display =\n",
              "          google.colab.kernel.accessAllowed ? 'block' : 'none';\n",
              "\n",
              "        async function convertToInteractive(key) {\n",
              "          const element = document.querySelector('#df-76b9763a-fb22-4624-ab02-32dc9d9052d4');\n",
              "          const dataTable =\n",
              "            await google.colab.kernel.invokeFunction('convertToInteractive',\n",
              "                                                     [key], {});\n",
              "          if (!dataTable) return;\n",
              "\n",
              "          const docLinkHtml = 'Like what you see? Visit the ' +\n",
              "            '<a target=\"_blank\" href=https://colab.research.google.com/notebooks/data_table.ipynb>data table notebook</a>'\n",
              "            + ' to learn more about interactive tables.';\n",
              "          element.innerHTML = '';\n",
              "          dataTable['output_type'] = 'display_data';\n",
              "          await google.colab.output.renderOutput(dataTable, element);\n",
              "          const docLink = document.createElement('div');\n",
              "          docLink.innerHTML = docLinkHtml;\n",
              "          element.appendChild(docLink);\n",
              "        }\n",
              "      </script>\n",
              "    </div>\n",
              "  </div>\n",
              "  "
            ],
            "text/plain": [
              "      region  latitude  ...  owned_hotels yearly_availability\n",
              "0  Manhattan  40.71854  ...             1                   0\n",
              "1   Brooklyn  40.64446  ...             1                   0\n",
              "2     Queens  40.78573  ...             1                   1\n",
              "3  Manhattan  40.73863  ...            65                   1\n",
              "4  Manhattan  40.82426  ...             3                   1\n",
              "\n",
              "[5 rows x 10 columns]"
            ]
          },
          "metadata": {},
          "execution_count": 57
        }
      ]
    },
    {
      "cell_type": "code",
      "source": [
        "from sklearn.preprocessing import LabelEncoder\n",
        "\n",
        "\n",
        "le = LabelEncoder()\n",
        "columns = ['region', 'accommodation_type', ]\n",
        "for i in columns:\n",
        "    df[i] = le.fit_transform(df[i])"
      ],
      "metadata": {
        "id": "lFNXyge5lEU9"
      },
      "execution_count": null,
      "outputs": []
    },
    {
      "cell_type": "code",
      "source": [
        "for i in df.columns:\n",
        "    df[i] = df[i].fillna(df[i].mode()[0])"
      ],
      "metadata": {
        "id": "WzV6a8CmlSon"
      },
      "execution_count": null,
      "outputs": []
    },
    {
      "cell_type": "code",
      "source": [
        "e=pd.DataFrame(df.yearly_availability.value_counts()).reset_index(drop=False)\n",
        "e.columns=['yearly_availability','Frequency'] # rename columns\n",
        "plt.figure(figsize=(14,6)) # adjust figure size\n",
        "ax = sns.barplot(x=\"yearly_availability\", y=\"Frequency\", data=e) # draw barplot"
      ],
      "metadata": {
        "colab": {
          "base_uri": "https://localhost:8080/",
          "height": 389
        },
        "id": "tYOgW-J7p56F",
        "outputId": "c7fbe253-30be-4a62-beb5-8d02e6ec36e7"
      },
      "execution_count": null,
      "outputs": [
        {
          "output_type": "display_data",
          "data": {
            "image/png": "[encoded data removed]",
            "text/plain": [
              "<Figure size 1008x432 with 1 Axes>"
            ]
          },
          "metadata": {
            "needs_background": "light"
          }
        }
      ]
    },
    {
      "cell_type": "code",
      "source": [
        "from imblearn.under_sampling import RandomUnderSampler\n",
        "\n",
        "\n",
        "y = df['yearly_availability']\n",
        "X = df.drop(columns = ['yearly_availability'])\n",
        "RUS = RandomUnderSampler()\n",
        "X, y = RUS.fit_resample(X, y)\n",
        "print(len(X), len(y))"
      ],
      "metadata": {
        "colab": {
          "base_uri": "https://localhost:8080/"
        },
        "id": "kncg0UCEqM5S",
        "outputId": "b2f6be51-cb77-49f4-f93b-552b935b8e14"
      },
      "execution_count": null,
      "outputs": [
        {
          "output_type": "stream",
          "name": "stdout",
          "text": [
            "2862 2862\n"
          ]
        }
      ]
    },
    {
      "cell_type": "code",
      "source": [
        "y = df['yearly_availability']\n",
        "X = df.drop(columns = ['yearly_availability'])"
      ],
      "metadata": {
        "id": "1ISVDf5Jtr1k"
      },
      "execution_count": null,
      "outputs": []
    },
    {
      "cell_type": "markdown",
      "source": [
        "**For Model Evaluation Always Train the model on Training dataset and Verify the evaluation metrics on test data sets.**\n",
        "\n",
        "**Sometimes validation set is made to optimize the hyper-parameters separately**"
      ],
      "metadata": {
        "id": "els8_30oF3pe"
      }
    },
    {
      "cell_type": "code",
      "source": [
        "\n",
        "\n",
        "from sklearn.model_selection import train_test_split\n",
        "\n",
        "X_train, X_test, y_train, y_test = train_test_split(X, y, test_size = 0.20)\n",
        "print(len(X_train), len(X_test))\n",
        "print(len(y_train), len(y_test))"
      ],
      "metadata": {
        "colab": {
          "base_uri": "https://localhost:8080/"
        },
        "id": "RgR-cpXbliNe",
        "outputId": "2a0e4afd-b0a8-49fa-b3eb-1813309f08f5"
      },
      "execution_count": null,
      "outputs": [
        {
          "output_type": "stream",
          "name": "stdout",
          "text": [
            "2296 574\n",
            "2296 574\n"
          ]
        }
      ]
    },
    {
      "cell_type": "markdown",
      "source": [
        "**Class for Training and Evaluation:**"
      ],
      "metadata": {
        "id": "gMWTqmsvGOGA"
      }
    },
    {
      "cell_type": "code",
      "source": [
        "class TrainAndEval:\n",
        "\n",
        "  def __init__(self, clf, X_train, y_train, X_test, y_test):\n",
        "    self.clf = clf\n",
        "    self.X_train = X_train\n",
        "    self.y_train = y_train\n",
        "    self.X_test = X_test\n",
        "    self.y_test = y_test\n",
        "\n",
        "  def train(self):\n",
        "    return self.clf.fit(self.X_train, self.y_train)\n",
        "\n",
        "  def eval(self):\n",
        "    y_pred = self.clf.predict(self.X_test)\n",
        "    tn, fp, fn, tp = confusion_matrix(self.y_test,y_pred).ravel()\n",
        "    print('True Negatives:', tn)\n",
        "    print('False Positives:', fp)\n",
        "    print('False Negatives:', fn)\n",
        "    print('True Positives:', tp)\n",
        "    print(classification_report(self.y_test,y_pred))"
      ],
      "metadata": {
        "id": "Uc9a628Cls7H"
      },
      "execution_count": null,
      "outputs": []
    },
    {
      "cell_type": "markdown",
      "source": [
        "**Reason for choosing Classifiers and Particularly Tree Structures:**\n",
        "\n",
        "\n",
        "\n",
        "*   **Whenever you have a given label to model around, classification is the best choice. Clustering can also be done where labels are not required to get other meaningful insights out of data.**\n",
        "\n",
        "*   **Tree Based Classifiers are best in terms of interpretation of the end results. Because in real world scenarios, detecting fraud is just one part. But what actions to take to handle and optimize the processes, these tree structures help through the attributes hierarchy that which actions can be taken and some buckets can be made to start with.**\n",
        "\n",
        "*   **Simple SVM and Logistic regression are always the best baselines to compare-with**\n",
        "\n",
        "\n",
        "*   **Neural Networks are not used for simplicity and not getting into black boxed domain as interpretations of the results become harder.**\n",
        "\n",
        "\n",
        "*   **Else, a multi-layer perceptron could also be trained, would not recommend CNN or RNN for this use case. Though some people use RNNs for contexutal understanding in the fraud behavior.**\n",
        "\n",
        "\n",
        "\n"
      ],
      "metadata": {
        "id": "cyZHBcBLGVBx"
      }
    },
    {
      "cell_type": "markdown",
      "source": [
        "# **Gradient Boosting Classifier:**"
      ],
      "metadata": {
        "id": "Je7iGirhIVt1"
      }
    },
    {
      "cell_type": "code",
      "source": [
        "from sklearn.model_selection import GridSearchCV\n",
        "from sklearn.ensemble import GradientBoostingClassifier\n",
        "params = {'n_estimators': [10, 50, 125, 500], 'max_depth': [1, 3, 5], \n",
        "          'learning_rate': [0.05, 0.1, 0.5, 0.9]}\n",
        "grid = GridSearchCV(estimator=GradientBoostingClassifier(random_state = 0), param_grid=params, cv=5, verbose=3)\n",
        "grid = grid.fit(X_train, y_train)"
      ],
      "metadata": {
        "colab": {
          "base_uri": "https://localhost:8080/"
        },
        "id": "wLeH5PuEl8NG",
        "outputId": "df520fdf-dd52-4fad-eece-f70e1cc81606"
      },
      "execution_count": null,
      "outputs": [
        {
          "output_type": "stream",
          "name": "stdout",
          "text": [
            "Fitting 5 folds for each of 48 candidates, totalling 240 fits\n",
            "[CV 1/5] END learning_rate=0.05, max_depth=1, n_estimators=10;, score=0.828 total time=   0.1s\n",
            "[CV 2/5] END learning_rate=0.05, max_depth=1, n_estimators=10;, score=0.786 total time=   0.1s\n",
            "[CV 3/5] END learning_rate=0.05, max_depth=1, n_estimators=10;, score=0.802 total time=   0.0s\n",
            "[CV 4/5] END learning_rate=0.05, max_depth=1, n_estimators=10;, score=0.802 total time=   0.0s\n",
            "[CV 5/5] END learning_rate=0.05, max_depth=1, n_estimators=10;, score=0.819 total time=   0.0s\n",
            "[CV 1/5] END learning_rate=0.05, max_depth=1, n_estimators=50;, score=0.917 total time=   0.2s\n",
            "[CV 2/5] END learning_rate=0.05, max_depth=1, n_estimators=50;, score=0.786 total time=   0.2s\n",
            "[CV 3/5] END learning_rate=0.05, max_depth=1, n_estimators=50;, score=0.802 total time=   0.2s\n",
            "[CV 4/5] END learning_rate=0.05, max_depth=1, n_estimators=50;, score=0.802 total time=   0.1s\n",
            "[CV 5/5] END learning_rate=0.05, max_depth=1, n_estimators=50;, score=0.819 total time=   0.2s\n",
            "[CV 1/5] END learning_rate=0.05, max_depth=1, n_estimators=125;, score=0.917 total time=   0.4s\n",
            "[CV 2/5] END learning_rate=0.05, max_depth=1, n_estimators=125;, score=0.919 total time=   0.4s\n",
            "[CV 3/5] END learning_rate=0.05, max_depth=1, n_estimators=125;, score=0.919 total time=   0.4s\n",
            "[CV 4/5] END learning_rate=0.05, max_depth=1, n_estimators=125;, score=0.932 total time=   0.4s\n",
            "[CV 5/5] END learning_rate=0.05, max_depth=1, n_estimators=125;, score=0.924 total time=   0.4s\n",
            "[CV 1/5] END learning_rate=0.05, max_depth=1, n_estimators=500;, score=0.917 total time=   2.2s\n",
            "[CV 2/5] END learning_rate=0.05, max_depth=1, n_estimators=500;, score=0.917 total time=   1.4s\n",
            "[CV 3/5] END learning_rate=0.05, max_depth=1, n_estimators=500;, score=0.913 total time=   1.5s\n",
            "[CV 4/5] END learning_rate=0.05, max_depth=1, n_estimators=500;, score=0.935 total time=   1.4s\n",
            "[CV 5/5] END learning_rate=0.05, max_depth=1, n_estimators=500;, score=0.924 total time=   1.4s\n",
            "[CV 1/5] END learning_rate=0.05, max_depth=3, n_estimators=10;, score=0.911 total time=   0.1s\n",
            "[CV 2/5] END learning_rate=0.05, max_depth=3, n_estimators=10;, score=0.919 total time=   0.1s\n",
            "[CV 3/5] END learning_rate=0.05, max_depth=3, n_estimators=10;, score=0.915 total time=   0.1s\n",
            "[CV 4/5] END learning_rate=0.05, max_depth=3, n_estimators=10;, score=0.932 total time=   0.1s\n",
            "[CV 5/5] END learning_rate=0.05, max_depth=3, n_estimators=10;, score=0.924 total time=   0.1s\n",
            "[CV 1/5] END learning_rate=0.05, max_depth=3, n_estimators=50;, score=0.920 total time=   0.3s\n",
            "[CV 2/5] END learning_rate=0.05, max_depth=3, n_estimators=50;, score=0.919 total time=   0.4s\n",
            "[CV 3/5] END learning_rate=0.05, max_depth=3, n_estimators=50;, score=0.915 total time=   0.3s\n",
            "[CV 4/5] END learning_rate=0.05, max_depth=3, n_estimators=50;, score=0.935 total time=   0.3s\n",
            "[CV 5/5] END learning_rate=0.05, max_depth=3, n_estimators=50;, score=0.922 total time=   0.3s\n",
            "[CV 1/5] END learning_rate=0.05, max_depth=3, n_estimators=125;, score=0.913 total time=   0.8s\n",
            "[CV 2/5] END learning_rate=0.05, max_depth=3, n_estimators=125;, score=0.924 total time=   0.7s\n",
            "[CV 3/5] END learning_rate=0.05, max_depth=3, n_estimators=125;, score=0.913 total time=   0.4s\n",
            "[CV 4/5] END learning_rate=0.05, max_depth=3, n_estimators=125;, score=0.937 total time=   0.4s\n",
            "[CV 5/5] END learning_rate=0.05, max_depth=3, n_estimators=125;, score=0.930 total time=   0.4s\n",
            "[CV 1/5] END learning_rate=0.05, max_depth=3, n_estimators=500;, score=0.920 total time=   1.8s\n",
            "[CV 2/5] END learning_rate=0.05, max_depth=3, n_estimators=500;, score=0.930 total time=   1.8s\n",
            "[CV 3/5] END learning_rate=0.05, max_depth=3, n_estimators=500;, score=0.906 total time=   1.7s\n",
            "[CV 4/5] END learning_rate=0.05, max_depth=3, n_estimators=500;, score=0.926 total time=   1.7s\n",
            "[CV 5/5] END learning_rate=0.05, max_depth=3, n_estimators=500;, score=0.928 total time=   1.7s\n",
            "[CV 1/5] END learning_rate=0.05, max_depth=5, n_estimators=10;, score=0.907 total time=   0.1s\n",
            "[CV 2/5] END learning_rate=0.05, max_depth=5, n_estimators=10;, score=0.928 total time=   0.1s\n",
            "[CV 3/5] END learning_rate=0.05, max_depth=5, n_estimators=10;, score=0.913 total time=   0.1s\n",
            "[CV 4/5] END learning_rate=0.05, max_depth=5, n_estimators=10;, score=0.919 total time=   0.1s\n",
            "[CV 5/5] END learning_rate=0.05, max_depth=5, n_estimators=10;, score=0.922 total time=   0.1s\n",
            "[CV 1/5] END learning_rate=0.05, max_depth=5, n_estimators=50;, score=0.913 total time=   0.3s\n",
            "[CV 2/5] END learning_rate=0.05, max_depth=5, n_estimators=50;, score=0.924 total time=   0.3s\n",
            "[CV 3/5] END learning_rate=0.05, max_depth=5, n_estimators=50;, score=0.908 total time=   0.3s\n",
            "[CV 4/5] END learning_rate=0.05, max_depth=5, n_estimators=50;, score=0.930 total time=   0.3s\n",
            "[CV 5/5] END learning_rate=0.05, max_depth=5, n_estimators=50;, score=0.928 total time=   0.3s\n",
            "[CV 1/5] END learning_rate=0.05, max_depth=5, n_estimators=125;, score=0.913 total time=   0.7s\n",
            "[CV 2/5] END learning_rate=0.05, max_depth=5, n_estimators=125;, score=0.941 total time=   0.7s\n",
            "[CV 3/5] END learning_rate=0.05, max_depth=5, n_estimators=125;, score=0.917 total time=   0.7s\n",
            "[CV 4/5] END learning_rate=0.05, max_depth=5, n_estimators=125;, score=0.937 total time=   0.7s\n",
            "[CV 5/5] END learning_rate=0.05, max_depth=5, n_estimators=125;, score=0.932 total time=   0.7s\n",
            "[CV 1/5] END learning_rate=0.05, max_depth=5, n_estimators=500;, score=0.915 total time=   2.8s\n",
            "[CV 2/5] END learning_rate=0.05, max_depth=5, n_estimators=500;, score=0.935 total time=   2.9s\n",
            "[CV 3/5] END learning_rate=0.05, max_depth=5, n_estimators=500;, score=0.917 total time=   2.8s\n",
            "[CV 4/5] END learning_rate=0.05, max_depth=5, n_estimators=500;, score=0.926 total time=   2.8s\n",
            "[CV 5/5] END learning_rate=0.05, max_depth=5, n_estimators=500;, score=0.926 total time=   2.8s\n",
            "[CV 1/5] END learning_rate=0.1, max_depth=1, n_estimators=10;, score=0.828 total time=   0.0s\n",
            "[CV 2/5] END learning_rate=0.1, max_depth=1, n_estimators=10;, score=0.786 total time=   0.0s\n",
            "[CV 3/5] END learning_rate=0.1, max_depth=1, n_estimators=10;, score=0.802 total time=   0.0s\n",
            "[CV 4/5] END learning_rate=0.1, max_depth=1, n_estimators=10;, score=0.802 total time=   0.0s\n",
            "[CV 5/5] END learning_rate=0.1, max_depth=1, n_estimators=10;, score=0.819 total time=   0.0s\n",
            "[CV 1/5] END learning_rate=0.1, max_depth=1, n_estimators=50;, score=0.917 total time=   0.1s\n",
            "[CV 2/5] END learning_rate=0.1, max_depth=1, n_estimators=50;, score=0.919 total time=   0.1s\n",
            "[CV 3/5] END learning_rate=0.1, max_depth=1, n_estimators=50;, score=0.919 total time=   0.1s\n",
            "[CV 4/5] END learning_rate=0.1, max_depth=1, n_estimators=50;, score=0.932 total time=   0.1s\n",
            "[CV 5/5] END learning_rate=0.1, max_depth=1, n_estimators=50;, score=0.924 total time=   0.1s\n",
            "[CV 1/5] END learning_rate=0.1, max_depth=1, n_estimators=125;, score=0.917 total time=   0.2s\n",
            "[CV 2/5] END learning_rate=0.1, max_depth=1, n_estimators=125;, score=0.919 total time=   0.2s\n",
            "[CV 3/5] END learning_rate=0.1, max_depth=1, n_estimators=125;, score=0.917 total time=   0.2s\n",
            "[CV 4/5] END learning_rate=0.1, max_depth=1, n_estimators=125;, score=0.932 total time=   0.2s\n",
            "[CV 5/5] END learning_rate=0.1, max_depth=1, n_estimators=125;, score=0.924 total time=   0.2s\n",
            "[CV 1/5] END learning_rate=0.1, max_depth=1, n_estimators=500;, score=0.911 total time=   0.7s\n",
            "[CV 2/5] END learning_rate=0.1, max_depth=1, n_estimators=500;, score=0.915 total time=   0.8s\n",
            "[CV 3/5] END learning_rate=0.1, max_depth=1, n_estimators=500;, score=0.902 total time=   0.8s\n",
            "[CV 4/5] END learning_rate=0.1, max_depth=1, n_estimators=500;, score=0.928 total time=   0.8s\n",
            "[CV 5/5] END learning_rate=0.1, max_depth=1, n_estimators=500;, score=0.922 total time=   0.8s\n",
            "[CV 1/5] END learning_rate=0.1, max_depth=3, n_estimators=10;, score=0.917 total time=   0.0s\n",
            "[CV 2/5] END learning_rate=0.1, max_depth=3, n_estimators=10;, score=0.919 total time=   0.0s\n",
            "[CV 3/5] END learning_rate=0.1, max_depth=3, n_estimators=10;, score=0.915 total time=   0.0s\n",
            "[CV 4/5] END learning_rate=0.1, max_depth=3, n_estimators=10;, score=0.935 total time=   0.0s\n",
            "[CV 5/5] END learning_rate=0.1, max_depth=3, n_estimators=10;, score=0.924 total time=   0.0s\n",
            "[CV 1/5] END learning_rate=0.1, max_depth=3, n_estimators=50;, score=0.913 total time=   0.2s\n",
            "[CV 2/5] END learning_rate=0.1, max_depth=3, n_estimators=50;, score=0.926 total time=   0.2s\n",
            "[CV 3/5] END learning_rate=0.1, max_depth=3, n_estimators=50;, score=0.908 total time=   0.2s\n",
            "[CV 4/5] END learning_rate=0.1, max_depth=3, n_estimators=50;, score=0.937 total time=   0.2s\n",
            "[CV 5/5] END learning_rate=0.1, max_depth=3, n_estimators=50;, score=0.926 total time=   0.2s\n",
            "[CV 1/5] END learning_rate=0.1, max_depth=3, n_estimators=125;, score=0.915 total time=   0.4s\n",
            "[CV 2/5] END learning_rate=0.1, max_depth=3, n_estimators=125;, score=0.932 total time=   0.4s\n",
            "[CV 3/5] END learning_rate=0.1, max_depth=3, n_estimators=125;, score=0.911 total time=   0.4s\n",
            "[CV 4/5] END learning_rate=0.1, max_depth=3, n_estimators=125;, score=0.935 total time=   0.4s\n",
            "[CV 5/5] END learning_rate=0.1, max_depth=3, n_estimators=125;, score=0.932 total time=   0.4s\n",
            "[CV 1/5] END learning_rate=0.1, max_depth=3, n_estimators=500;, score=0.922 total time=   1.7s\n",
            "[CV 2/5] END learning_rate=0.1, max_depth=3, n_estimators=500;, score=0.926 total time=   1.7s\n",
            "[CV 3/5] END learning_rate=0.1, max_depth=3, n_estimators=500;, score=0.906 total time=   1.7s\n",
            "[CV 4/5] END learning_rate=0.1, max_depth=3, n_estimators=500;, score=0.922 total time=   1.7s\n",
            "[CV 5/5] END learning_rate=0.1, max_depth=3, n_estimators=500;, score=0.930 total time=   1.7s\n",
            "[CV 1/5] END learning_rate=0.1, max_depth=5, n_estimators=10;, score=0.915 total time=   0.1s\n",
            "[CV 2/5] END learning_rate=0.1, max_depth=5, n_estimators=10;, score=0.928 total time=   0.1s\n",
            "[CV 3/5] END learning_rate=0.1, max_depth=5, n_estimators=10;, score=0.915 total time=   0.1s\n",
            "[CV 4/5] END learning_rate=0.1, max_depth=5, n_estimators=10;, score=0.928 total time=   0.1s\n",
            "[CV 5/5] END learning_rate=0.1, max_depth=5, n_estimators=10;, score=0.928 total time=   0.1s\n",
            "[CV 1/5] END learning_rate=0.1, max_depth=5, n_estimators=50;, score=0.911 total time=   0.3s\n",
            "[CV 2/5] END learning_rate=0.1, max_depth=5, n_estimators=50;, score=0.932 total time=   0.3s\n",
            "[CV 3/5] END learning_rate=0.1, max_depth=5, n_estimators=50;, score=0.913 total time=   0.3s\n",
            "[CV 4/5] END learning_rate=0.1, max_depth=5, n_estimators=50;, score=0.932 total time=   0.3s\n",
            "[CV 5/5] END learning_rate=0.1, max_depth=5, n_estimators=50;, score=0.930 total time=   0.3s\n",
            "[CV 1/5] END learning_rate=0.1, max_depth=5, n_estimators=125;, score=0.915 total time=   0.7s\n",
            "[CV 2/5] END learning_rate=0.1, max_depth=5, n_estimators=125;, score=0.932 total time=   0.7s\n",
            "[CV 3/5] END learning_rate=0.1, max_depth=5, n_estimators=125;, score=0.917 total time=   0.7s\n",
            "[CV 4/5] END learning_rate=0.1, max_depth=5, n_estimators=125;, score=0.928 total time=   0.7s\n",
            "[CV 5/5] END learning_rate=0.1, max_depth=5, n_estimators=125;, score=0.937 total time=   0.7s\n",
            "[CV 1/5] END learning_rate=0.1, max_depth=5, n_estimators=500;, score=0.915 total time=   2.8s\n",
            "[CV 2/5] END learning_rate=0.1, max_depth=5, n_estimators=500;, score=0.928 total time=   2.9s\n",
            "[CV 3/5] END learning_rate=0.1, max_depth=5, n_estimators=500;, score=0.917 total time=   2.9s\n",
            "[CV 4/5] END learning_rate=0.1, max_depth=5, n_estimators=500;, score=0.919 total time=   2.9s\n",
            "[CV 5/5] END learning_rate=0.1, max_depth=5, n_estimators=500;, score=0.932 total time=   2.9s\n",
            "[CV 1/5] END learning_rate=0.5, max_depth=1, n_estimators=10;, score=0.917 total time=   0.0s\n",
            "[CV 2/5] END learning_rate=0.5, max_depth=1, n_estimators=10;, score=0.919 total time=   0.0s\n",
            "[CV 3/5] END learning_rate=0.5, max_depth=1, n_estimators=10;, score=0.919 total time=   0.0s\n",
            "[CV 4/5] END learning_rate=0.5, max_depth=1, n_estimators=10;, score=0.932 total time=   0.0s\n",
            "[CV 5/5] END learning_rate=0.5, max_depth=1, n_estimators=10;, score=0.924 total time=   0.0s\n",
            "[CV 1/5] END learning_rate=0.5, max_depth=1, n_estimators=50;, score=0.915 total time=   0.1s\n",
            "[CV 2/5] END learning_rate=0.5, max_depth=1, n_estimators=50;, score=0.917 total time=   0.1s\n",
            "[CV 3/5] END learning_rate=0.5, max_depth=1, n_estimators=50;, score=0.898 total time=   0.1s\n",
            "[CV 4/5] END learning_rate=0.5, max_depth=1, n_estimators=50;, score=0.928 total time=   0.1s\n",
            "[CV 5/5] END learning_rate=0.5, max_depth=1, n_estimators=50;, score=0.926 total time=   0.1s\n",
            "[CV 1/5] END learning_rate=0.5, max_depth=1, n_estimators=125;, score=0.911 total time=   0.2s\n",
            "[CV 2/5] END learning_rate=0.5, max_depth=1, n_estimators=125;, score=0.917 total time=   0.2s\n",
            "[CV 3/5] END learning_rate=0.5, max_depth=1, n_estimators=125;, score=0.891 total time=   0.2s\n",
            "[CV 4/5] END learning_rate=0.5, max_depth=1, n_estimators=125;, score=0.922 total time=   0.2s\n",
            "[CV 5/5] END learning_rate=0.5, max_depth=1, n_estimators=125;, score=0.915 total time=   0.2s\n",
            "[CV 1/5] END learning_rate=0.5, max_depth=1, n_estimators=500;, score=0.913 total time=   0.8s\n",
            "[CV 2/5] END learning_rate=0.5, max_depth=1, n_estimators=500;, score=0.915 total time=   0.8s\n",
            "[CV 3/5] END learning_rate=0.5, max_depth=1, n_estimators=500;, score=0.887 total time=   0.8s\n",
            "[CV 4/5] END learning_rate=0.5, max_depth=1, n_estimators=500;, score=0.913 total time=   0.8s\n",
            "[CV 5/5] END learning_rate=0.5, max_depth=1, n_estimators=500;, score=0.902 total time=   0.8s\n",
            "[CV 1/5] END learning_rate=0.5, max_depth=3, n_estimators=10;, score=0.915 total time=   0.0s\n",
            "[CV 2/5] END learning_rate=0.5, max_depth=3, n_estimators=10;, score=0.928 total time=   0.0s\n",
            "[CV 3/5] END learning_rate=0.5, max_depth=3, n_estimators=10;, score=0.911 total time=   0.0s\n",
            "[CV 4/5] END learning_rate=0.5, max_depth=3, n_estimators=10;, score=0.930 total time=   0.0s\n",
            "[CV 5/5] END learning_rate=0.5, max_depth=3, n_estimators=10;, score=0.919 total time=   0.0s\n",
            "[CV 1/5] END learning_rate=0.5, max_depth=3, n_estimators=50;, score=0.922 total time=   0.6s\n",
            "[CV 2/5] END learning_rate=0.5, max_depth=3, n_estimators=50;, score=0.922 total time=   0.4s\n",
            "[CV 3/5] END learning_rate=0.5, max_depth=3, n_estimators=50;, score=0.904 total time=   0.2s\n",
            "[CV 4/5] END learning_rate=0.5, max_depth=3, n_estimators=50;, score=0.919 total time=   0.2s\n",
            "[CV 5/5] END learning_rate=0.5, max_depth=3, n_estimators=50;, score=0.919 total time=   0.7s\n",
            "[CV 1/5] END learning_rate=0.5, max_depth=3, n_estimators=125;, score=0.915 total time=   0.6s\n",
            "[CV 2/5] END learning_rate=0.5, max_depth=3, n_estimators=125;, score=0.928 total time=   1.1s\n",
            "[CV 3/5] END learning_rate=0.5, max_depth=3, n_estimators=125;, score=0.904 total time=   0.4s\n",
            "[CV 4/5] END learning_rate=0.5, max_depth=3, n_estimators=125;, score=0.917 total time=   0.5s\n",
            "[CV 5/5] END learning_rate=0.5, max_depth=3, n_estimators=125;, score=0.919 total time=   0.4s\n",
            "[CV 1/5] END learning_rate=0.5, max_depth=3, n_estimators=500;, score=0.913 total time=   1.8s\n",
            "[CV 2/5] END learning_rate=0.5, max_depth=3, n_estimators=500;, score=0.932 total time=   1.8s\n",
            "[CV 3/5] END learning_rate=0.5, max_depth=3, n_estimators=500;, score=0.911 total time=   1.8s\n",
            "[CV 4/5] END learning_rate=0.5, max_depth=3, n_estimators=500;, score=0.919 total time=   1.8s\n",
            "[CV 5/5] END learning_rate=0.5, max_depth=3, n_estimators=500;, score=0.915 total time=   1.8s\n",
            "[CV 1/5] END learning_rate=0.5, max_depth=5, n_estimators=10;, score=0.915 total time=   0.1s\n",
            "[CV 2/5] END learning_rate=0.5, max_depth=5, n_estimators=10;, score=0.926 total time=   0.1s\n",
            "[CV 3/5] END learning_rate=0.5, max_depth=5, n_estimators=10;, score=0.911 total time=   0.1s\n",
            "[CV 4/5] END learning_rate=0.5, max_depth=5, n_estimators=10;, score=0.926 total time=   0.1s\n",
            "[CV 5/5] END learning_rate=0.5, max_depth=5, n_estimators=10;, score=0.935 total time=   0.1s\n",
            "[CV 1/5] END learning_rate=0.5, max_depth=5, n_estimators=50;, score=0.913 total time=   0.3s\n",
            "[CV 2/5] END learning_rate=0.5, max_depth=5, n_estimators=50;, score=0.926 total time=   0.3s\n",
            "[CV 3/5] END learning_rate=0.5, max_depth=5, n_estimators=50;, score=0.922 total time=   0.3s\n",
            "[CV 4/5] END learning_rate=0.5, max_depth=5, n_estimators=50;, score=0.930 total time=   0.3s\n",
            "[CV 5/5] END learning_rate=0.5, max_depth=5, n_estimators=50;, score=0.924 total time=   0.3s\n",
            "[CV 1/5] END learning_rate=0.5, max_depth=5, n_estimators=125;, score=0.915 total time=   0.8s\n",
            "[CV 2/5] END learning_rate=0.5, max_depth=5, n_estimators=125;, score=0.926 total time=   0.7s\n",
            "[CV 3/5] END learning_rate=0.5, max_depth=5, n_estimators=125;, score=0.919 total time=   0.7s\n",
            "[CV 4/5] END learning_rate=0.5, max_depth=5, n_estimators=125;, score=0.922 total time=   0.7s\n",
            "[CV 5/5] END learning_rate=0.5, max_depth=5, n_estimators=125;, score=0.935 total time=   0.7s\n",
            "[CV 1/5] END learning_rate=0.5, max_depth=5, n_estimators=500;, score=0.911 total time=   2.0s\n",
            "[CV 2/5] END learning_rate=0.5, max_depth=5, n_estimators=500;, score=0.928 total time=   2.1s\n",
            "[CV 3/5] END learning_rate=0.5, max_depth=5, n_estimators=500;, score=0.919 total time=   2.1s\n",
            "[CV 4/5] END learning_rate=0.5, max_depth=5, n_estimators=500;, score=0.928 total time=   2.1s\n",
            "[CV 5/5] END learning_rate=0.5, max_depth=5, n_estimators=500;, score=0.930 total time=   2.0s\n",
            "[CV 1/5] END learning_rate=0.9, max_depth=1, n_estimators=10;, score=0.915 total time=   0.0s\n",
            "[CV 2/5] END learning_rate=0.9, max_depth=1, n_estimators=10;, score=0.917 total time=   0.0s\n",
            "[CV 3/5] END learning_rate=0.9, max_depth=1, n_estimators=10;, score=0.913 total time=   0.0s\n",
            "[CV 4/5] END learning_rate=0.9, max_depth=1, n_estimators=10;, score=0.924 total time=   0.0s\n",
            "[CV 5/5] END learning_rate=0.9, max_depth=1, n_estimators=10;, score=0.924 total time=   0.0s\n",
            "[CV 1/5] END learning_rate=0.9, max_depth=1, n_estimators=50;, score=0.909 total time=   0.1s\n",
            "[CV 2/5] END learning_rate=0.9, max_depth=1, n_estimators=50;, score=0.919 total time=   0.1s\n",
            "[CV 3/5] END learning_rate=0.9, max_depth=1, n_estimators=50;, score=0.893 total time=   0.1s\n",
            "[CV 4/5] END learning_rate=0.9, max_depth=1, n_estimators=50;, score=0.913 total time=   0.1s\n",
            "[CV 5/5] END learning_rate=0.9, max_depth=1, n_estimators=50;, score=0.917 total time=   0.1s\n",
            "[CV 1/5] END learning_rate=0.9, max_depth=1, n_estimators=125;, score=0.915 total time=   0.2s\n",
            "[CV 2/5] END learning_rate=0.9, max_depth=1, n_estimators=125;, score=0.915 total time=   0.2s\n",
            "[CV 3/5] END learning_rate=0.9, max_depth=1, n_estimators=125;, score=0.889 total time=   0.2s\n",
            "[CV 4/5] END learning_rate=0.9, max_depth=1, n_estimators=125;, score=0.915 total time=   0.2s\n",
            "[CV 5/5] END learning_rate=0.9, max_depth=1, n_estimators=125;, score=0.906 total time=   0.2s\n",
            "[CV 1/5] END learning_rate=0.9, max_depth=1, n_estimators=500;, score=0.907 total time=   0.8s\n",
            "[CV 2/5] END learning_rate=0.9, max_depth=1, n_estimators=500;, score=0.913 total time=   0.7s\n",
            "[CV 3/5] END learning_rate=0.9, max_depth=1, n_estimators=500;, score=0.880 total time=   0.7s\n",
            "[CV 4/5] END learning_rate=0.9, max_depth=1, n_estimators=500;, score=0.913 total time=   0.8s\n",
            "[CV 5/5] END learning_rate=0.9, max_depth=1, n_estimators=500;, score=0.902 total time=   0.8s\n",
            "[CV 1/5] END learning_rate=0.9, max_depth=3, n_estimators=10;, score=0.915 total time=   0.0s\n",
            "[CV 2/5] END learning_rate=0.9, max_depth=3, n_estimators=10;, score=0.922 total time=   0.0s\n",
            "[CV 3/5] END learning_rate=0.9, max_depth=3, n_estimators=10;, score=0.904 total time=   0.0s\n",
            "[CV 4/5] END learning_rate=0.9, max_depth=3, n_estimators=10;, score=0.930 total time=   0.0s\n",
            "[CV 5/5] END learning_rate=0.9, max_depth=3, n_estimators=10;, score=0.922 total time=   0.0s\n",
            "[CV 1/5] END learning_rate=0.9, max_depth=3, n_estimators=50;, score=0.917 total time=   0.2s\n",
            "[CV 2/5] END learning_rate=0.9, max_depth=3, n_estimators=50;, score=0.908 total time=   0.2s\n",
            "[CV 3/5] END learning_rate=0.9, max_depth=3, n_estimators=50;, score=0.902 total time=   0.2s\n",
            "[CV 4/5] END learning_rate=0.9, max_depth=3, n_estimators=50;, score=0.913 total time=   0.2s\n",
            "[CV 5/5] END learning_rate=0.9, max_depth=3, n_estimators=50;, score=0.924 total time=   0.2s\n",
            "[CV 1/5] END learning_rate=0.9, max_depth=3, n_estimators=125;, score=0.913 total time=   0.4s\n",
            "[CV 2/5] END learning_rate=0.9, max_depth=3, n_estimators=125;, score=0.917 total time=   0.4s\n",
            "[CV 3/5] END learning_rate=0.9, max_depth=3, n_estimators=125;, score=0.922 total time=   0.4s\n",
            "[CV 4/5] END learning_rate=0.9, max_depth=3, n_estimators=125;, score=0.928 total time=   0.4s\n",
            "[CV 5/5] END learning_rate=0.9, max_depth=3, n_estimators=125;, score=0.926 total time=   0.4s\n",
            "[CV 1/5] END learning_rate=0.9, max_depth=3, n_estimators=500;, score=0.915 total time=   1.7s\n",
            "[CV 2/5] END learning_rate=0.9, max_depth=3, n_estimators=500;, score=0.924 total time=   1.7s\n",
            "[CV 3/5] END learning_rate=0.9, max_depth=3, n_estimators=500;, score=0.908 total time=   1.7s\n",
            "[CV 4/5] END learning_rate=0.9, max_depth=3, n_estimators=500;, score=0.919 total time=   1.7s\n",
            "[CV 5/5] END learning_rate=0.9, max_depth=3, n_estimators=500;, score=0.906 total time=   1.7s\n",
            "[CV 1/5] END learning_rate=0.9, max_depth=5, n_estimators=10;, score=0.911 total time=   0.1s\n",
            "[CV 2/5] END learning_rate=0.9, max_depth=5, n_estimators=10;, score=0.917 total time=   0.1s\n",
            "[CV 3/5] END learning_rate=0.9, max_depth=5, n_estimators=10;, score=0.906 total time=   0.1s\n",
            "[CV 4/5] END learning_rate=0.9, max_depth=5, n_estimators=10;, score=0.911 total time=   0.1s\n",
            "[CV 5/5] END learning_rate=0.9, max_depth=5, n_estimators=10;, score=0.911 total time=   0.1s\n",
            "[CV 1/5] END learning_rate=0.9, max_depth=5, n_estimators=50;, score=0.898 total time=   0.3s\n",
            "[CV 2/5] END learning_rate=0.9, max_depth=5, n_estimators=50;, score=0.928 total time=   0.3s\n",
            "[CV 3/5] END learning_rate=0.9, max_depth=5, n_estimators=50;, score=0.924 total time=   0.3s\n",
            "[CV 4/5] END learning_rate=0.9, max_depth=5, n_estimators=50;, score=0.913 total time=   0.3s\n",
            "[CV 5/5] END learning_rate=0.9, max_depth=5, n_estimators=50;, score=0.919 total time=   0.3s\n",
            "[CV 1/5] END learning_rate=0.9, max_depth=5, n_estimators=125;, score=0.904 total time=   0.7s\n",
            "[CV 2/5] END learning_rate=0.9, max_depth=5, n_estimators=125;, score=0.928 total time=   0.7s\n",
            "[CV 3/5] END learning_rate=0.9, max_depth=5, n_estimators=125;, score=0.911 total time=   0.7s\n",
            "[CV 4/5] END learning_rate=0.9, max_depth=5, n_estimators=125;, score=0.915 total time=   0.7s\n",
            "[CV 5/5] END learning_rate=0.9, max_depth=5, n_estimators=125;, score=0.930 total time=   0.7s\n",
            "[CV 1/5] END learning_rate=0.9, max_depth=5, n_estimators=500;, score=0.913 total time=   1.2s\n",
            "[CV 2/5] END learning_rate=0.9, max_depth=5, n_estimators=500;, score=0.926 total time=   1.3s\n",
            "[CV 3/5] END learning_rate=0.9, max_depth=5, n_estimators=500;, score=0.913 total time=   1.3s\n",
            "[CV 4/5] END learning_rate=0.9, max_depth=5, n_estimators=500;, score=0.917 total time=   1.2s\n",
            "[CV 5/5] END learning_rate=0.9, max_depth=5, n_estimators=500;, score=0.928 total time=   1.2s\n"
          ]
        }
      ]
    },
    {
      "cell_type": "code",
      "source": [
        "clf = grid.best_estimator_\n",
        "GBT = TrainAndEval(clf, X_train, y_train, X_test, y_test)\n",
        "GBT.eval()"
      ],
      "metadata": {
        "colab": {
          "base_uri": "https://localhost:8080/"
        },
        "id": "Xje_VT_ql_Pk",
        "outputId": "6419b073-9fcc-4598-969f-b6902653d956"
      },
      "execution_count": null,
      "outputs": [
        {
          "output_type": "stream",
          "name": "stdout",
          "text": [
            "True Negatives: 260\n",
            "False Positives: 19\n",
            "False Negatives: 23\n",
            "True Positives: 272\n",
            "              precision    recall  f1-score   support\n",
            "\n",
            "           0       0.92      0.93      0.93       279\n",
            "           1       0.93      0.92      0.93       295\n",
            "\n",
            "    accuracy                           0.93       574\n",
            "   macro avg       0.93      0.93      0.93       574\n",
            "weighted avg       0.93      0.93      0.93       574\n",
            "\n"
          ]
        }
      ]
    },
    {
      "cell_type": "code",
      "source": [
        "df_test = pd.read_csv('/content/test.csv')\n"
      ],
      "metadata": {
        "id": "RIHoFo1SraNV"
      },
      "execution_count": null,
      "outputs": []
    },
    {
      "cell_type": "code",
      "source": [
        "df_test = df_test.drop(columns=['id', 'owner_id'])\n",
        "print('Final total columns: ', len(df_test.columns))"
      ],
      "metadata": {
        "colab": {
          "base_uri": "https://localhost:8080/"
        },
        "id": "5sQkP8-SrLp6",
        "outputId": "e2b827a1-031c-4be7-d2fa-fbd9eea85380"
      },
      "execution_count": null,
      "outputs": [
        {
          "output_type": "stream",
          "name": "stdout",
          "text": [
            "Final total columns:  9\n"
          ]
        }
      ]
    },
    {
      "cell_type": "code",
      "source": [
        "from sklearn.preprocessing import LabelEncoder\n",
        "\n",
        "\n",
        "le = LabelEncoder()\n",
        "columns = ['region', 'accommodation_type', ]\n",
        "for i in columns:\n",
        "    df_test[i] = le.fit_transform(df_test[i])\n"
      ],
      "metadata": {
        "id": "bcaJqAzWr3sE"
      },
      "execution_count": null,
      "outputs": []
    },
    {
      "cell_type": "code",
      "source": [
        "len(df_test)"
      ],
      "metadata": {
        "colab": {
          "base_uri": "https://localhost:8080/"
        },
        "id": "dNCULyROsZVF",
        "outputId": "320ba0df-b376-44ec-d5a0-1fceafb3ee51"
      },
      "execution_count": null,
      "outputs": [
        {
          "output_type": "execute_result",
          "data": {
            "text/plain": [
              "718"
            ]
          },
          "metadata": {},
          "execution_count": 70
        }
      ]
    },
    {
      "cell_type": "code",
      "source": [
        "for i in df_test.columns:\n",
        "    df_test[i] = df_test[i].fillna(df_test[i].mode()[0])"
      ],
      "metadata": {
        "id": "pE9xqZVZrT9k"
      },
      "execution_count": null,
      "outputs": []
    },
    {
      "cell_type": "code",
      "source": [
        "len(clf.predict(df_test))"
      ],
      "metadata": {
        "colab": {
          "base_uri": "https://localhost:8080/"
        },
        "id": "XeR0uolyrUCe",
        "outputId": "a6ade119-56a9-436c-85c3-8a6b56866e78"
      },
      "execution_count": null,
      "outputs": [
        {
          "output_type": "execute_result",
          "data": {
            "text/plain": [
              "718"
            ]
          },
          "metadata": {},
          "execution_count": 72
        }
      ]
    },
    {
      "cell_type": "code",
      "source": [
        ""
      ],
      "metadata": {
        "id": "pUi3Xi1hrUFg"
      },
      "execution_count": null,
      "outputs": []
    },
    {
      "cell_type": "code",
      "source": [
        ""
      ],
      "metadata": {
        "id": "6ZXvjRXkrUI7"
      },
      "execution_count": null,
      "outputs": []
    },
    {
      "cell_type": "code",
      "source": [
        ""
      ],
      "metadata": {
        "id": "AbYzK1sFrUNy"
      },
      "execution_count": null,
      "outputs": []
    },
    {
      "cell_type": "code",
      "source": [
        ""
      ],
      "metadata": {
        "id": "NVbw-GCHrURJ"
      },
      "execution_count": null,
      "outputs": []
    },
    {
      "cell_type": "markdown",
      "source": [
        "**We can see that Gradient Boosting Classifier gave good results:**\n",
        "\n",
        "\n",
        "*   **F1 Score = 72%**\n",
        "*   **Precision = 75%**\n",
        "*   **Recall = 70%**\n",
        "\n",
        "\n"
      ],
      "metadata": {
        "id": "M0_JesdhIilI"
      }
    },
    {
      "cell_type": "markdown",
      "source": [
        "# **Grid XGBoost**"
      ],
      "metadata": {
        "id": "jQUOHCx5Juh5"
      }
    },
    {
      "cell_type": "code",
      "source": [
        "\n",
        "\n",
        "params = {'n_estimators': [10, 50, 125, 500], 'max_depth': [1, 3, 5], \n",
        "          'learning_rate': [0.05, 0.1, 0.5,  0.9]\n",
        "        }\n",
        "\n",
        "gridXGB = GridSearchCV(estimator=XGBClassifier(), param_grid=params, cv=5, verbose=3)\n",
        "gridXGB = gridXGB.fit(X_train, y_train)\n"
      ],
      "metadata": {
        "colab": {
          "base_uri": "https://localhost:8080/"
        },
        "id": "DGFGOmwnmCSs",
        "outputId": "7fa39141-ec0c-4288-9811-69278e75f87a"
      },
      "execution_count": null,
      "outputs": [
        {
          "output_type": "stream",
          "name": "stdout",
          "text": [
            "Fitting 5 folds for each of 48 candidates, totalling 240 fits\n",
            "[CV 1/5] END learning_rate=0.05, max_depth=1, n_estimators=10;, score=0.828 total time=   0.0s\n",
            "[CV 2/5] END learning_rate=0.05, max_depth=1, n_estimators=10;, score=0.786 total time=   0.0s\n",
            "[CV 3/5] END learning_rate=0.05, max_depth=1, n_estimators=10;, score=0.802 total time=   0.0s\n",
            "[CV 4/5] END learning_rate=0.05, max_depth=1, n_estimators=10;, score=0.802 total time=   0.0s\n",
            "[CV 5/5] END learning_rate=0.05, max_depth=1, n_estimators=10;, score=0.819 total time=   0.0s\n",
            "[CV 1/5] END learning_rate=0.05, max_depth=1, n_estimators=50;, score=0.828 total time=   0.0s\n",
            "[CV 2/5] END learning_rate=0.05, max_depth=1, n_estimators=50;, score=0.786 total time=   0.0s\n",
            "[CV 3/5] END learning_rate=0.05, max_depth=1, n_estimators=50;, score=0.802 total time=   0.0s\n",
            "[CV 4/5] END learning_rate=0.05, max_depth=1, n_estimators=50;, score=0.802 total time=   0.0s\n",
            "[CV 5/5] END learning_rate=0.05, max_depth=1, n_estimators=50;, score=0.819 total time=   0.0s\n",
            "[CV 1/5] END learning_rate=0.05, max_depth=1, n_estimators=125;, score=0.917 total time=   0.1s\n",
            "[CV 2/5] END learning_rate=0.05, max_depth=1, n_estimators=125;, score=0.919 total time=   0.1s\n",
            "[CV 3/5] END learning_rate=0.05, max_depth=1, n_estimators=125;, score=0.919 total time=   0.1s\n",
            "[CV 4/5] END learning_rate=0.05, max_depth=1, n_estimators=125;, score=0.932 total time=   0.1s\n",
            "[CV 5/5] END learning_rate=0.05, max_depth=1, n_estimators=125;, score=0.924 total time=   0.1s\n",
            "[CV 1/5] END learning_rate=0.05, max_depth=1, n_estimators=500;, score=0.917 total time=   0.3s\n",
            "[CV 2/5] END learning_rate=0.05, max_depth=1, n_estimators=500;, score=0.917 total time=   0.3s\n",
            "[CV 3/5] END learning_rate=0.05, max_depth=1, n_estimators=500;, score=0.911 total time=   0.3s\n",
            "[CV 4/5] END learning_rate=0.05, max_depth=1, n_estimators=500;, score=0.930 total time=   0.3s\n",
            "[CV 5/5] END learning_rate=0.05, max_depth=1, n_estimators=500;, score=0.926 total time=   0.3s\n",
            "[CV 1/5] END learning_rate=0.05, max_depth=3, n_estimators=10;, score=0.917 total time=   0.0s\n",
            "[CV 2/5] END learning_rate=0.05, max_depth=3, n_estimators=10;, score=0.919 total time=   0.0s\n",
            "[CV 3/5] END learning_rate=0.05, max_depth=3, n_estimators=10;, score=0.915 total time=   0.0s\n",
            "[CV 4/5] END learning_rate=0.05, max_depth=3, n_estimators=10;, score=0.932 total time=   0.0s\n",
            "[CV 5/5] END learning_rate=0.05, max_depth=3, n_estimators=10;, score=0.924 total time=   0.0s\n",
            "[CV 1/5] END learning_rate=0.05, max_depth=3, n_estimators=50;, score=0.917 total time=   0.1s\n",
            "[CV 2/5] END learning_rate=0.05, max_depth=3, n_estimators=50;, score=0.919 total time=   0.1s\n",
            "[CV 3/5] END learning_rate=0.05, max_depth=3, n_estimators=50;, score=0.919 total time=   0.1s\n",
            "[CV 4/5] END learning_rate=0.05, max_depth=3, n_estimators=50;, score=0.935 total time=   0.1s\n",
            "[CV 5/5] END learning_rate=0.05, max_depth=3, n_estimators=50;, score=0.922 total time=   0.1s\n",
            "[CV 1/5] END learning_rate=0.05, max_depth=3, n_estimators=125;, score=0.913 total time=   0.2s\n",
            "[CV 2/5] END learning_rate=0.05, max_depth=3, n_estimators=125;, score=0.926 total time=   0.1s\n",
            "[CV 3/5] END learning_rate=0.05, max_depth=3, n_estimators=125;, score=0.915 total time=   0.1s\n",
            "[CV 4/5] END learning_rate=0.05, max_depth=3, n_estimators=125;, score=0.937 total time=   0.2s\n",
            "[CV 5/5] END learning_rate=0.05, max_depth=3, n_estimators=125;, score=0.924 total time=   0.2s\n",
            "[CV 1/5] END learning_rate=0.05, max_depth=3, n_estimators=500;, score=0.917 total time=   0.5s\n",
            "[CV 2/5] END learning_rate=0.05, max_depth=3, n_estimators=500;, score=0.924 total time=   0.6s\n",
            "[CV 3/5] END learning_rate=0.05, max_depth=3, n_estimators=500;, score=0.926 total time=   0.5s\n",
            "[CV 4/5] END learning_rate=0.05, max_depth=3, n_estimators=500;, score=0.926 total time=   0.6s\n",
            "[CV 5/5] END learning_rate=0.05, max_depth=3, n_estimators=500;, score=0.924 total time=   0.5s\n",
            "[CV 1/5] END learning_rate=0.05, max_depth=5, n_estimators=10;, score=0.915 total time=   0.0s\n",
            "[CV 2/5] END learning_rate=0.05, max_depth=5, n_estimators=10;, score=0.928 total time=   0.0s\n",
            "[CV 3/5] END learning_rate=0.05, max_depth=5, n_estimators=10;, score=0.915 total time=   0.0s\n",
            "[CV 4/5] END learning_rate=0.05, max_depth=5, n_estimators=10;, score=0.919 total time=   0.0s\n",
            "[CV 5/5] END learning_rate=0.05, max_depth=5, n_estimators=10;, score=0.924 total time=   0.0s\n",
            "[CV 1/5] END learning_rate=0.05, max_depth=5, n_estimators=50;, score=0.917 total time=   0.1s\n",
            "[CV 2/5] END learning_rate=0.05, max_depth=5, n_estimators=50;, score=0.924 total time=   0.1s\n",
            "[CV 3/5] END learning_rate=0.05, max_depth=5, n_estimators=50;, score=0.915 total time=   0.1s\n",
            "[CV 4/5] END learning_rate=0.05, max_depth=5, n_estimators=50;, score=0.926 total time=   0.1s\n",
            "[CV 5/5] END learning_rate=0.05, max_depth=5, n_estimators=50;, score=0.926 total time=   0.1s\n",
            "[CV 1/5] END learning_rate=0.05, max_depth=5, n_estimators=125;, score=0.915 total time=   0.3s\n",
            "[CV 2/5] END learning_rate=0.05, max_depth=5, n_estimators=125;, score=0.930 total time=   0.2s\n",
            "[CV 3/5] END learning_rate=0.05, max_depth=5, n_estimators=125;, score=0.917 total time=   0.3s\n",
            "[CV 4/5] END learning_rate=0.05, max_depth=5, n_estimators=125;, score=0.930 total time=   0.2s\n",
            "[CV 5/5] END learning_rate=0.05, max_depth=5, n_estimators=125;, score=0.928 total time=   0.2s\n",
            "[CV 1/5] END learning_rate=0.05, max_depth=5, n_estimators=500;, score=0.930 total time=   0.9s\n",
            "[CV 2/5] END learning_rate=0.05, max_depth=5, n_estimators=500;, score=0.926 total time=   0.9s\n",
            "[CV 3/5] END learning_rate=0.05, max_depth=5, n_estimators=500;, score=0.917 total time=   0.9s\n",
            "[CV 4/5] END learning_rate=0.05, max_depth=5, n_estimators=500;, score=0.930 total time=   0.9s\n",
            "[CV 5/5] END learning_rate=0.05, max_depth=5, n_estimators=500;, score=0.919 total time=   0.9s\n",
            "[CV 1/5] END learning_rate=0.1, max_depth=1, n_estimators=10;, score=0.828 total time=   0.0s\n",
            "[CV 2/5] END learning_rate=0.1, max_depth=1, n_estimators=10;, score=0.786 total time=   0.0s\n",
            "[CV 3/5] END learning_rate=0.1, max_depth=1, n_estimators=10;, score=0.802 total time=   0.0s\n",
            "[CV 4/5] END learning_rate=0.1, max_depth=1, n_estimators=10;, score=0.802 total time=   0.0s\n",
            "[CV 5/5] END learning_rate=0.1, max_depth=1, n_estimators=10;, score=0.819 total time=   0.0s\n",
            "[CV 1/5] END learning_rate=0.1, max_depth=1, n_estimators=50;, score=0.917 total time=   0.0s\n",
            "[CV 2/5] END learning_rate=0.1, max_depth=1, n_estimators=50;, score=0.919 total time=   0.0s\n",
            "[CV 3/5] END learning_rate=0.1, max_depth=1, n_estimators=50;, score=0.919 total time=   0.0s\n",
            "[CV 4/5] END learning_rate=0.1, max_depth=1, n_estimators=50;, score=0.932 total time=   0.0s\n",
            "[CV 5/5] END learning_rate=0.1, max_depth=1, n_estimators=50;, score=0.924 total time=   0.0s\n",
            "[CV 1/5] END learning_rate=0.1, max_depth=1, n_estimators=125;, score=0.917 total time=   0.1s\n",
            "[CV 2/5] END learning_rate=0.1, max_depth=1, n_estimators=125;, score=0.919 total time=   0.1s\n",
            "[CV 3/5] END learning_rate=0.1, max_depth=1, n_estimators=125;, score=0.915 total time=   0.1s\n",
            "[CV 4/5] END learning_rate=0.1, max_depth=1, n_estimators=125;, score=0.932 total time=   0.1s\n",
            "[CV 5/5] END learning_rate=0.1, max_depth=1, n_estimators=125;, score=0.924 total time=   0.1s\n",
            "[CV 1/5] END learning_rate=0.1, max_depth=1, n_estimators=500;, score=0.911 total time=   0.3s\n",
            "[CV 2/5] END learning_rate=0.1, max_depth=1, n_estimators=500;, score=0.915 total time=   0.3s\n",
            "[CV 3/5] END learning_rate=0.1, max_depth=1, n_estimators=500;, score=0.893 total time=   0.3s\n",
            "[CV 4/5] END learning_rate=0.1, max_depth=1, n_estimators=500;, score=0.928 total time=   0.3s\n",
            "[CV 5/5] END learning_rate=0.1, max_depth=1, n_estimators=500;, score=0.917 total time=   0.3s\n",
            "[CV 1/5] END learning_rate=0.1, max_depth=3, n_estimators=10;, score=0.917 total time=   0.0s\n",
            "[CV 2/5] END learning_rate=0.1, max_depth=3, n_estimators=10;, score=0.919 total time=   0.0s\n",
            "[CV 3/5] END learning_rate=0.1, max_depth=3, n_estimators=10;, score=0.919 total time=   0.0s\n",
            "[CV 4/5] END learning_rate=0.1, max_depth=3, n_estimators=10;, score=0.932 total time=   0.0s\n",
            "[CV 5/5] END learning_rate=0.1, max_depth=3, n_estimators=10;, score=0.922 total time=   0.0s\n",
            "[CV 1/5] END learning_rate=0.1, max_depth=3, n_estimators=50;, score=0.915 total time=   0.1s\n",
            "[CV 2/5] END learning_rate=0.1, max_depth=3, n_estimators=50;, score=0.919 total time=   0.1s\n",
            "[CV 3/5] END learning_rate=0.1, max_depth=3, n_estimators=50;, score=0.911 total time=   0.1s\n",
            "[CV 4/5] END learning_rate=0.1, max_depth=3, n_estimators=50;, score=0.935 total time=   0.1s\n",
            "[CV 5/5] END learning_rate=0.1, max_depth=3, n_estimators=50;, score=0.922 total time=   0.1s\n",
            "[CV 1/5] END learning_rate=0.1, max_depth=3, n_estimators=125;, score=0.917 total time=   0.1s\n",
            "[CV 2/5] END learning_rate=0.1, max_depth=3, n_estimators=125;, score=0.926 total time=   0.1s\n",
            "[CV 3/5] END learning_rate=0.1, max_depth=3, n_estimators=125;, score=0.924 total time=   0.1s\n",
            "[CV 4/5] END learning_rate=0.1, max_depth=3, n_estimators=125;, score=0.930 total time=   0.2s\n",
            "[CV 5/5] END learning_rate=0.1, max_depth=3, n_estimators=125;, score=0.932 total time=   0.1s\n",
            "[CV 1/5] END learning_rate=0.1, max_depth=3, n_estimators=500;, score=0.920 total time=   0.5s\n",
            "[CV 2/5] END learning_rate=0.1, max_depth=3, n_estimators=500;, score=0.924 total time=   0.5s\n",
            "[CV 3/5] END learning_rate=0.1, max_depth=3, n_estimators=500;, score=0.913 total time=   0.6s\n",
            "[CV 4/5] END learning_rate=0.1, max_depth=3, n_estimators=500;, score=0.922 total time=   0.6s\n",
            "[CV 5/5] END learning_rate=0.1, max_depth=3, n_estimators=500;, score=0.915 total time=   0.5s\n",
            "[CV 1/5] END learning_rate=0.1, max_depth=5, n_estimators=10;, score=0.913 total time=   0.0s\n",
            "[CV 2/5] END learning_rate=0.1, max_depth=5, n_estimators=10;, score=0.926 total time=   0.0s\n",
            "[CV 3/5] END learning_rate=0.1, max_depth=5, n_estimators=10;, score=0.913 total time=   0.0s\n",
            "[CV 4/5] END learning_rate=0.1, max_depth=5, n_estimators=10;, score=0.922 total time=   0.0s\n",
            "[CV 5/5] END learning_rate=0.1, max_depth=5, n_estimators=10;, score=0.924 total time=   0.0s\n",
            "[CV 1/5] END learning_rate=0.1, max_depth=5, n_estimators=50;, score=0.917 total time=   0.1s\n",
            "[CV 2/5] END learning_rate=0.1, max_depth=5, n_estimators=50;, score=0.924 total time=   0.1s\n",
            "[CV 3/5] END learning_rate=0.1, max_depth=5, n_estimators=50;, score=0.915 total time=   0.1s\n",
            "[CV 4/5] END learning_rate=0.1, max_depth=5, n_estimators=50;, score=0.924 total time=   0.1s\n",
            "[CV 5/5] END learning_rate=0.1, max_depth=5, n_estimators=50;, score=0.928 total time=   0.1s\n",
            "[CV 1/5] END learning_rate=0.1, max_depth=5, n_estimators=125;, score=0.924 total time=   0.2s\n",
            "[CV 2/5] END learning_rate=0.1, max_depth=5, n_estimators=125;, score=0.924 total time=   0.2s\n",
            "[CV 3/5] END learning_rate=0.1, max_depth=5, n_estimators=125;, score=0.917 total time=   0.2s\n",
            "[CV 4/5] END learning_rate=0.1, max_depth=5, n_estimators=125;, score=0.926 total time=   0.2s\n",
            "[CV 5/5] END learning_rate=0.1, max_depth=5, n_estimators=125;, score=0.926 total time=   0.2s\n",
            "[CV 1/5] END learning_rate=0.1, max_depth=5, n_estimators=500;, score=0.920 total time=   0.9s\n",
            "[CV 2/5] END learning_rate=0.1, max_depth=5, n_estimators=500;, score=0.924 total time=   0.9s\n",
            "[CV 3/5] END learning_rate=0.1, max_depth=5, n_estimators=500;, score=0.908 total time=   0.9s\n",
            "[CV 4/5] END learning_rate=0.1, max_depth=5, n_estimators=500;, score=0.928 total time=   0.9s\n",
            "[CV 5/5] END learning_rate=0.1, max_depth=5, n_estimators=500;, score=0.915 total time=   0.9s\n",
            "[CV 1/5] END learning_rate=0.5, max_depth=1, n_estimators=10;, score=0.917 total time=   0.0s\n",
            "[CV 2/5] END learning_rate=0.5, max_depth=1, n_estimators=10;, score=0.919 total time=   0.0s\n",
            "[CV 3/5] END learning_rate=0.5, max_depth=1, n_estimators=10;, score=0.919 total time=   0.0s\n",
            "[CV 4/5] END learning_rate=0.5, max_depth=1, n_estimators=10;, score=0.932 total time=   0.0s\n",
            "[CV 5/5] END learning_rate=0.5, max_depth=1, n_estimators=10;, score=0.924 total time=   0.0s\n",
            "[CV 1/5] END learning_rate=0.5, max_depth=1, n_estimators=50;, score=0.913 total time=   0.0s\n",
            "[CV 2/5] END learning_rate=0.5, max_depth=1, n_estimators=50;, score=0.915 total time=   0.0s\n",
            "[CV 3/5] END learning_rate=0.5, max_depth=1, n_estimators=50;, score=0.902 total time=   0.0s\n",
            "[CV 4/5] END learning_rate=0.5, max_depth=1, n_estimators=50;, score=0.932 total time=   0.0s\n",
            "[CV 5/5] END learning_rate=0.5, max_depth=1, n_estimators=50;, score=0.924 total time=   0.0s\n",
            "[CV 1/5] END learning_rate=0.5, max_depth=1, n_estimators=125;, score=0.913 total time=   0.1s\n",
            "[CV 2/5] END learning_rate=0.5, max_depth=1, n_estimators=125;, score=0.917 total time=   0.1s\n",
            "[CV 3/5] END learning_rate=0.5, max_depth=1, n_estimators=125;, score=0.893 total time=   0.1s\n",
            "[CV 4/5] END learning_rate=0.5, max_depth=1, n_estimators=125;, score=0.926 total time=   0.1s\n",
            "[CV 5/5] END learning_rate=0.5, max_depth=1, n_estimators=125;, score=0.915 total time=   0.1s\n",
            "[CV 1/5] END learning_rate=0.5, max_depth=1, n_estimators=500;, score=0.911 total time=   0.3s\n",
            "[CV 2/5] END learning_rate=0.5, max_depth=1, n_estimators=500;, score=0.911 total time=   0.3s\n",
            "[CV 3/5] END learning_rate=0.5, max_depth=1, n_estimators=500;, score=0.876 total time=   0.3s\n",
            "[CV 4/5] END learning_rate=0.5, max_depth=1, n_estimators=500;, score=0.902 total time=   0.3s\n",
            "[CV 5/5] END learning_rate=0.5, max_depth=1, n_estimators=500;, score=0.917 total time=   0.3s\n",
            "[CV 1/5] END learning_rate=0.5, max_depth=3, n_estimators=10;, score=0.907 total time=   0.0s\n",
            "[CV 2/5] END learning_rate=0.5, max_depth=3, n_estimators=10;, score=0.922 total time=   0.0s\n",
            "[CV 3/5] END learning_rate=0.5, max_depth=3, n_estimators=10;, score=0.915 total time=   0.0s\n",
            "[CV 4/5] END learning_rate=0.5, max_depth=3, n_estimators=10;, score=0.928 total time=   0.0s\n",
            "[CV 5/5] END learning_rate=0.5, max_depth=3, n_estimators=10;, score=0.928 total time=   0.0s\n",
            "[CV 1/5] END learning_rate=0.5, max_depth=3, n_estimators=50;, score=0.924 total time=   0.1s\n",
            "[CV 2/5] END learning_rate=0.5, max_depth=3, n_estimators=50;, score=0.926 total time=   0.1s\n",
            "[CV 3/5] END learning_rate=0.5, max_depth=3, n_estimators=50;, score=0.913 total time=   0.1s\n",
            "[CV 4/5] END learning_rate=0.5, max_depth=3, n_estimators=50;, score=0.932 total time=   0.1s\n",
            "[CV 5/5] END learning_rate=0.5, max_depth=3, n_estimators=50;, score=0.928 total time=   0.1s\n",
            "[CV 1/5] END learning_rate=0.5, max_depth=3, n_estimators=125;, score=0.924 total time=   0.1s\n",
            "[CV 2/5] END learning_rate=0.5, max_depth=3, n_estimators=125;, score=0.922 total time=   0.1s\n",
            "[CV 3/5] END learning_rate=0.5, max_depth=3, n_estimators=125;, score=0.900 total time=   0.1s\n",
            "[CV 4/5] END learning_rate=0.5, max_depth=3, n_estimators=125;, score=0.924 total time=   0.2s\n",
            "[CV 5/5] END learning_rate=0.5, max_depth=3, n_estimators=125;, score=0.915 total time=   0.1s\n",
            "[CV 1/5] END learning_rate=0.5, max_depth=3, n_estimators=500;, score=0.920 total time=   0.5s\n",
            "[CV 2/5] END learning_rate=0.5, max_depth=3, n_estimators=500;, score=0.919 total time=   0.5s\n",
            "[CV 3/5] END learning_rate=0.5, max_depth=3, n_estimators=500;, score=0.898 total time=   0.5s\n",
            "[CV 4/5] END learning_rate=0.5, max_depth=3, n_estimators=500;, score=0.924 total time=   0.5s\n",
            "[CV 5/5] END learning_rate=0.5, max_depth=3, n_estimators=500;, score=0.913 total time=   0.5s\n",
            "[CV 1/5] END learning_rate=0.5, max_depth=5, n_estimators=10;, score=0.909 total time=   0.0s\n",
            "[CV 2/5] END learning_rate=0.5, max_depth=5, n_estimators=10;, score=0.930 total time=   0.0s\n",
            "[CV 3/5] END learning_rate=0.5, max_depth=5, n_estimators=10;, score=0.913 total time=   0.0s\n",
            "[CV 4/5] END learning_rate=0.5, max_depth=5, n_estimators=10;, score=0.919 total time=   0.0s\n",
            "[CV 5/5] END learning_rate=0.5, max_depth=5, n_estimators=10;, score=0.928 total time=   0.0s\n",
            "[CV 1/5] END learning_rate=0.5, max_depth=5, n_estimators=50;, score=0.907 total time=   0.1s\n",
            "[CV 2/5] END learning_rate=0.5, max_depth=5, n_estimators=50;, score=0.922 total time=   0.1s\n",
            "[CV 3/5] END learning_rate=0.5, max_depth=5, n_estimators=50;, score=0.915 total time=   0.1s\n",
            "[CV 4/5] END learning_rate=0.5, max_depth=5, n_estimators=50;, score=0.919 total time=   0.1s\n",
            "[CV 5/5] END learning_rate=0.5, max_depth=5, n_estimators=50;, score=0.922 total time=   0.1s\n",
            "[CV 1/5] END learning_rate=0.5, max_depth=5, n_estimators=125;, score=0.917 total time=   0.2s\n",
            "[CV 2/5] END learning_rate=0.5, max_depth=5, n_estimators=125;, score=0.915 total time=   0.2s\n",
            "[CV 3/5] END learning_rate=0.5, max_depth=5, n_estimators=125;, score=0.915 total time=   0.2s\n",
            "[CV 4/5] END learning_rate=0.5, max_depth=5, n_estimators=125;, score=0.924 total time=   0.2s\n",
            "[CV 5/5] END learning_rate=0.5, max_depth=5, n_estimators=125;, score=0.917 total time=   0.2s\n",
            "[CV 1/5] END learning_rate=0.5, max_depth=5, n_estimators=500;, score=0.915 total time=   0.7s\n",
            "[CV 2/5] END learning_rate=0.5, max_depth=5, n_estimators=500;, score=0.919 total time=   0.7s\n",
            "[CV 3/5] END learning_rate=0.5, max_depth=5, n_estimators=500;, score=0.902 total time=   0.7s\n",
            "[CV 4/5] END learning_rate=0.5, max_depth=5, n_estimators=500;, score=0.922 total time=   0.7s\n",
            "[CV 5/5] END learning_rate=0.5, max_depth=5, n_estimators=500;, score=0.908 total time=   0.7s\n",
            "[CV 1/5] END learning_rate=0.9, max_depth=1, n_estimators=10;, score=0.915 total time=   0.0s\n",
            "[CV 2/5] END learning_rate=0.9, max_depth=1, n_estimators=10;, score=0.913 total time=   0.0s\n",
            "[CV 3/5] END learning_rate=0.9, max_depth=1, n_estimators=10;, score=0.922 total time=   0.0s\n",
            "[CV 4/5] END learning_rate=0.9, max_depth=1, n_estimators=10;, score=0.935 total time=   0.0s\n",
            "[CV 5/5] END learning_rate=0.9, max_depth=1, n_estimators=10;, score=0.917 total time=   0.0s\n",
            "[CV 1/5] END learning_rate=0.9, max_depth=1, n_estimators=50;, score=0.913 total time=   0.0s\n",
            "[CV 2/5] END learning_rate=0.9, max_depth=1, n_estimators=50;, score=0.913 total time=   0.0s\n",
            "[CV 3/5] END learning_rate=0.9, max_depth=1, n_estimators=50;, score=0.895 total time=   0.0s\n",
            "[CV 4/5] END learning_rate=0.9, max_depth=1, n_estimators=50;, score=0.919 total time=   0.0s\n",
            "[CV 5/5] END learning_rate=0.9, max_depth=1, n_estimators=50;, score=0.917 total time=   0.0s\n",
            "[CV 1/5] END learning_rate=0.9, max_depth=1, n_estimators=125;, score=0.909 total time=   0.1s\n",
            "[CV 2/5] END learning_rate=0.9, max_depth=1, n_estimators=125;, score=0.915 total time=   0.1s\n",
            "[CV 3/5] END learning_rate=0.9, max_depth=1, n_estimators=125;, score=0.891 total time=   0.1s\n",
            "[CV 4/5] END learning_rate=0.9, max_depth=1, n_estimators=125;, score=0.911 total time=   0.1s\n",
            "[CV 5/5] END learning_rate=0.9, max_depth=1, n_estimators=125;, score=0.915 total time=   0.1s\n",
            "[CV 1/5] END learning_rate=0.9, max_depth=1, n_estimators=500;, score=0.904 total time=   0.3s\n",
            "[CV 2/5] END learning_rate=0.9, max_depth=1, n_estimators=500;, score=0.906 total time=   0.3s\n",
            "[CV 3/5] END learning_rate=0.9, max_depth=1, n_estimators=500;, score=0.876 total time=   0.3s\n",
            "[CV 4/5] END learning_rate=0.9, max_depth=1, n_estimators=500;, score=0.904 total time=   0.3s\n",
            "[CV 5/5] END learning_rate=0.9, max_depth=1, n_estimators=500;, score=0.911 total time=   0.3s\n",
            "[CV 1/5] END learning_rate=0.9, max_depth=3, n_estimators=10;, score=0.922 total time=   0.0s\n",
            "[CV 2/5] END learning_rate=0.9, max_depth=3, n_estimators=10;, score=0.919 total time=   0.0s\n",
            "[CV 3/5] END learning_rate=0.9, max_depth=3, n_estimators=10;, score=0.913 total time=   0.0s\n",
            "[CV 4/5] END learning_rate=0.9, max_depth=3, n_estimators=10;, score=0.908 total time=   0.0s\n",
            "[CV 5/5] END learning_rate=0.9, max_depth=3, n_estimators=10;, score=0.924 total time=   0.0s\n",
            "[CV 1/5] END learning_rate=0.9, max_depth=3, n_estimators=50;, score=0.915 total time=   0.1s\n",
            "[CV 2/5] END learning_rate=0.9, max_depth=3, n_estimators=50;, score=0.917 total time=   0.1s\n",
            "[CV 3/5] END learning_rate=0.9, max_depth=3, n_estimators=50;, score=0.904 total time=   0.1s\n",
            "[CV 4/5] END learning_rate=0.9, max_depth=3, n_estimators=50;, score=0.917 total time=   0.1s\n",
            "[CV 5/5] END learning_rate=0.9, max_depth=3, n_estimators=50;, score=0.908 total time=   0.1s\n",
            "[CV 1/5] END learning_rate=0.9, max_depth=3, n_estimators=125;, score=0.911 total time=   0.2s\n",
            "[CV 2/5] END learning_rate=0.9, max_depth=3, n_estimators=125;, score=0.922 total time=   0.1s\n",
            "[CV 3/5] END learning_rate=0.9, max_depth=3, n_estimators=125;, score=0.900 total time=   0.2s\n",
            "[CV 4/5] END learning_rate=0.9, max_depth=3, n_estimators=125;, score=0.913 total time=   0.1s\n",
            "[CV 5/5] END learning_rate=0.9, max_depth=3, n_estimators=125;, score=0.913 total time=   0.2s\n",
            "[CV 1/5] END learning_rate=0.9, max_depth=3, n_estimators=500;, score=0.904 total time=   0.5s\n",
            "[CV 2/5] END learning_rate=0.9, max_depth=3, n_estimators=500;, score=0.915 total time=   0.6s\n",
            "[CV 3/5] END learning_rate=0.9, max_depth=3, n_estimators=500;, score=0.895 total time=   0.5s\n",
            "[CV 4/5] END learning_rate=0.9, max_depth=3, n_estimators=500;, score=0.908 total time=   0.5s\n",
            "[CV 5/5] END learning_rate=0.9, max_depth=3, n_estimators=500;, score=0.913 total time=   0.5s\n",
            "[CV 1/5] END learning_rate=0.9, max_depth=5, n_estimators=10;, score=0.922 total time=   0.0s\n",
            "[CV 2/5] END learning_rate=0.9, max_depth=5, n_estimators=10;, score=0.928 total time=   0.0s\n",
            "[CV 3/5] END learning_rate=0.9, max_depth=5, n_estimators=10;, score=0.924 total time=   0.0s\n",
            "[CV 4/5] END learning_rate=0.9, max_depth=5, n_estimators=10;, score=0.913 total time=   0.0s\n",
            "[CV 5/5] END learning_rate=0.9, max_depth=5, n_estimators=10;, score=0.930 total time=   0.0s\n",
            "[CV 1/5] END learning_rate=0.9, max_depth=5, n_estimators=50;, score=0.928 total time=   0.1s\n",
            "[CV 2/5] END learning_rate=0.9, max_depth=5, n_estimators=50;, score=0.917 total time=   0.1s\n",
            "[CV 3/5] END learning_rate=0.9, max_depth=5, n_estimators=50;, score=0.904 total time=   0.1s\n",
            "[CV 4/5] END learning_rate=0.9, max_depth=5, n_estimators=50;, score=0.919 total time=   0.1s\n",
            "[CV 5/5] END learning_rate=0.9, max_depth=5, n_estimators=50;, score=0.906 total time=   0.1s\n",
            "[CV 1/5] END learning_rate=0.9, max_depth=5, n_estimators=125;, score=0.930 total time=   0.2s\n",
            "[CV 2/5] END learning_rate=0.9, max_depth=5, n_estimators=125;, score=0.922 total time=   0.2s\n",
            "[CV 3/5] END learning_rate=0.9, max_depth=5, n_estimators=125;, score=0.904 total time=   0.2s\n",
            "[CV 4/5] END learning_rate=0.9, max_depth=5, n_estimators=125;, score=0.919 total time=   0.2s\n",
            "[CV 5/5] END learning_rate=0.9, max_depth=5, n_estimators=125;, score=0.908 total time=   0.2s\n",
            "[CV 1/5] END learning_rate=0.9, max_depth=5, n_estimators=500;, score=0.922 total time=   0.6s\n",
            "[CV 2/5] END learning_rate=0.9, max_depth=5, n_estimators=500;, score=0.919 total time=   0.6s\n",
            "[CV 3/5] END learning_rate=0.9, max_depth=5, n_estimators=500;, score=0.906 total time=   0.6s\n",
            "[CV 4/5] END learning_rate=0.9, max_depth=5, n_estimators=500;, score=0.922 total time=   0.6s\n",
            "[CV 5/5] END learning_rate=0.9, max_depth=5, n_estimators=500;, score=0.915 total time=   0.6s\n"
          ]
        }
      ]
    },
    {
      "cell_type": "code",
      "source": [
        "gridXGB = gridXGB.best_estimator_\n",
        "XGB = TrainAndEval(gridXGB, X_train, y_train, X_test, y_test)\n",
        "XGB.eval()"
      ],
      "metadata": {
        "colab": {
          "base_uri": "https://localhost:8080/"
        },
        "id": "gpcJOA5HmFh9",
        "outputId": "5d78dafe-5aed-409c-9990-fc3ce2ab482f"
      },
      "execution_count": null,
      "outputs": [
        {
          "output_type": "stream",
          "name": "stdout",
          "text": [
            "True Negatives: 259\n",
            "False Positives: 20\n",
            "False Negatives: 15\n",
            "True Positives: 280\n",
            "              precision    recall  f1-score   support\n",
            "\n",
            "           0       0.95      0.93      0.94       279\n",
            "           1       0.93      0.95      0.94       295\n",
            "\n",
            "    accuracy                           0.94       574\n",
            "   macro avg       0.94      0.94      0.94       574\n",
            "weighted avg       0.94      0.94      0.94       574\n",
            "\n"
          ]
        }
      ]
    },
    {
      "cell_type": "markdown",
      "source": [
        "**We can see that Grid XGBoost Classifier gave better results than the last one:**\n",
        "\n",
        "\n",
        "*   **F1 Score = 73%**\n",
        "*   **Precision = 75%**\n",
        "*   **Recall = 70%**"
      ],
      "metadata": {
        "id": "k75AzjroKETa"
      }
    },
    {
      "cell_type": "markdown",
      "source": [
        "# **SVM**"
      ],
      "metadata": {
        "id": "VuojHEaxKrJC"
      }
    },
    {
      "cell_type": "code",
      "source": [
        "params = {\n",
        "    'C': [0.05, 0.1, 0.5, 1, 10, 50, 100],\n",
        "    'kernel': ['poly', 'rbf'],\n",
        "    'degree': [1, 2, 3, 4]\n",
        "}\n",
        "\n",
        "gridSVM = GridSearchCV(estimator=SVC(), param_grid=params, cv=5, verbose=3)\n",
        "gridSVM = gridSVM.fit(X_train, y_train)"
      ],
      "metadata": {
        "colab": {
          "base_uri": "https://localhost:8080/"
        },
        "id": "pkRW05nemI1V",
        "outputId": "a2c001b6-eba2-4927-8b01-0605ce7ad96f"
      },
      "execution_count": null,
      "outputs": [
        {
          "output_type": "stream",
          "name": "stdout",
          "text": [
            "Fitting 5 folds for each of 56 candidates, totalling 280 fits\n",
            "[CV 1/5] END .....C=0.05, degree=1, kernel=poly;, score=0.515 total time=   7.5s\n",
            "[CV 2/5] END .....C=0.05, degree=1, kernel=poly;, score=0.517 total time=   7.6s\n",
            "[CV 3/5] END .....C=0.05, degree=1, kernel=poly;, score=0.501 total time=   8.0s\n",
            "[CV 4/5] END .....C=0.05, degree=1, kernel=poly;, score=0.511 total time=   7.7s\n",
            "[CV 5/5] END .....C=0.05, degree=1, kernel=poly;, score=0.498 total time=   7.5s\n",
            "[CV 1/5] END ......C=0.05, degree=1, kernel=rbf;, score=0.522 total time=  12.0s\n",
            "[CV 2/5] END ......C=0.05, degree=1, kernel=rbf;, score=0.522 total time=  11.9s\n",
            "[CV 3/5] END ......C=0.05, degree=1, kernel=rbf;, score=0.505 total time=  12.1s\n",
            "[CV 4/5] END ......C=0.05, degree=1, kernel=rbf;, score=0.516 total time=  12.0s\n",
            "[CV 5/5] END ......C=0.05, degree=1, kernel=rbf;, score=0.505 total time=  12.3s\n",
            "[CV 1/5] END .....C=0.05, degree=2, kernel=poly;, score=0.517 total time=   7.7s\n",
            "[CV 2/5] END .....C=0.05, degree=2, kernel=poly;, score=0.509 total time=   7.9s\n",
            "[CV 3/5] END .....C=0.05, degree=2, kernel=poly;, score=0.504 total time=   7.9s\n",
            "[CV 4/5] END .....C=0.05, degree=2, kernel=poly;, score=0.512 total time=   8.4s\n",
            "[CV 5/5] END .....C=0.05, degree=2, kernel=poly;, score=0.507 total time=   8.6s\n",
            "[CV 1/5] END ......C=0.05, degree=2, kernel=rbf;, score=0.522 total time=  12.1s\n",
            "[CV 2/5] END ......C=0.05, degree=2, kernel=rbf;, score=0.522 total time=  12.0s\n",
            "[CV 3/5] END ......C=0.05, degree=2, kernel=rbf;, score=0.505 total time=  12.1s\n",
            "[CV 4/5] END ......C=0.05, degree=2, kernel=rbf;, score=0.516 total time=  12.0s\n",
            "[CV 5/5] END ......C=0.05, degree=2, kernel=rbf;, score=0.505 total time=  12.4s\n",
            "[CV 1/5] END .....C=0.05, degree=3, kernel=poly;, score=0.509 total time=   8.7s\n",
            "[CV 2/5] END .....C=0.05, degree=3, kernel=poly;, score=0.510 total time=   8.8s\n",
            "[CV 3/5] END .....C=0.05, degree=3, kernel=poly;, score=0.504 total time=   9.4s\n",
            "[CV 4/5] END .....C=0.05, degree=3, kernel=poly;, score=0.507 total time=   8.2s\n",
            "[CV 5/5] END .....C=0.05, degree=3, kernel=poly;, score=0.514 total time=   8.4s\n",
            "[CV 1/5] END ......C=0.05, degree=3, kernel=rbf;, score=0.522 total time=  12.0s\n",
            "[CV 2/5] END ......C=0.05, degree=3, kernel=rbf;, score=0.522 total time=  12.4s\n",
            "[CV 3/5] END ......C=0.05, degree=3, kernel=rbf;, score=0.505 total time=  12.2s\n",
            "[CV 4/5] END ......C=0.05, degree=3, kernel=rbf;, score=0.516 total time=  12.1s\n",
            "[CV 5/5] END ......C=0.05, degree=3, kernel=rbf;, score=0.505 total time=  12.3s\n",
            "[CV 1/5] END .....C=0.05, degree=4, kernel=poly;, score=0.519 total time=  10.0s\n",
            "[CV 2/5] END .....C=0.05, degree=4, kernel=poly;, score=0.520 total time=  12.3s\n",
            "[CV 3/5] END .....C=0.05, degree=4, kernel=poly;, score=0.517 total time=   8.8s\n",
            "[CV 4/5] END .....C=0.05, degree=4, kernel=poly;, score=0.521 total time=   9.1s\n",
            "[CV 5/5] END .....C=0.05, degree=4, kernel=poly;, score=0.516 total time=   9.1s\n",
            "[CV 1/5] END ......C=0.05, degree=4, kernel=rbf;, score=0.522 total time=  12.0s\n",
            "[CV 2/5] END ......C=0.05, degree=4, kernel=rbf;, score=0.522 total time=  11.9s\n",
            "[CV 3/5] END ......C=0.05, degree=4, kernel=rbf;, score=0.505 total time=  12.1s\n",
            "[CV 4/5] END ......C=0.05, degree=4, kernel=rbf;, score=0.516 total time=  12.0s\n",
            "[CV 5/5] END ......C=0.05, degree=4, kernel=rbf;, score=0.505 total time=  12.3s\n",
            "[CV 1/5] END ......C=0.1, degree=1, kernel=poly;, score=0.522 total time=   7.4s\n",
            "[CV 2/5] END ......C=0.1, degree=1, kernel=poly;, score=0.516 total time=   7.4s\n",
            "[CV 3/5] END ......C=0.1, degree=1, kernel=poly;, score=0.506 total time=   7.7s\n",
            "[CV 4/5] END ......C=0.1, degree=1, kernel=poly;, score=0.513 total time=   7.5s\n",
            "[CV 5/5] END ......C=0.1, degree=1, kernel=poly;, score=0.504 total time=   7.5s\n",
            "[CV 1/5] END .......C=0.1, degree=1, kernel=rbf;, score=0.543 total time=  12.0s\n",
            "[CV 2/5] END .......C=0.1, degree=1, kernel=rbf;, score=0.540 total time=  12.1s\n",
            "[CV 3/5] END .......C=0.1, degree=1, kernel=rbf;, score=0.543 total time=  12.0s\n",
            "[CV 4/5] END .......C=0.1, degree=1, kernel=rbf;, score=0.543 total time=  12.1s\n",
            "[CV 5/5] END .......C=0.1, degree=1, kernel=rbf;, score=0.511 total time=  12.3s\n",
            "[CV 1/5] END ......C=0.1, degree=2, kernel=poly;, score=0.516 total time=   7.6s\n",
            "[CV 2/5] END ......C=0.1, degree=2, kernel=poly;, score=0.511 total time=   8.8s\n",
            "[CV 3/5] END ......C=0.1, degree=2, kernel=poly;, score=0.502 total time=   7.8s\n",
            "[CV 4/5] END ......C=0.1, degree=2, kernel=poly;, score=0.514 total time=   8.3s\n",
            "[CV 5/5] END ......C=0.1, degree=2, kernel=poly;, score=0.506 total time=   7.9s\n",
            "[CV 1/5] END .......C=0.1, degree=2, kernel=rbf;, score=0.543 total time=  12.0s\n",
            "[CV 2/5] END .......C=0.1, degree=2, kernel=rbf;, score=0.540 total time=  12.1s\n",
            "[CV 3/5] END .......C=0.1, degree=2, kernel=rbf;, score=0.543 total time=  12.0s\n",
            "[CV 4/5] END .......C=0.1, degree=2, kernel=rbf;, score=0.543 total time=  11.9s\n",
            "[CV 5/5] END .......C=0.1, degree=2, kernel=rbf;, score=0.511 total time=  12.4s\n",
            "[CV 1/5] END ......C=0.1, degree=3, kernel=poly;, score=0.517 total time=   8.9s\n",
            "[CV 2/5] END ......C=0.1, degree=3, kernel=poly;, score=0.512 total time=   9.5s\n",
            "[CV 3/5] END ......C=0.1, degree=3, kernel=poly;, score=0.511 total time=   8.9s\n",
            "[CV 4/5] END ......C=0.1, degree=3, kernel=poly;, score=0.516 total time=   9.4s\n",
            "[CV 5/5] END ......C=0.1, degree=3, kernel=poly;, score=0.514 total time=   8.9s\n",
            "[CV 1/5] END .......C=0.1, degree=3, kernel=rbf;, score=0.543 total time=  12.0s\n",
            "[CV 2/5] END .......C=0.1, degree=3, kernel=rbf;, score=0.540 total time=  12.1s\n",
            "[CV 3/5] END .......C=0.1, degree=3, kernel=rbf;, score=0.543 total time=  12.1s\n",
            "[CV 4/5] END .......C=0.1, degree=3, kernel=rbf;, score=0.543 total time=  11.8s\n",
            "[CV 5/5] END .......C=0.1, degree=3, kernel=rbf;, score=0.511 total time=  12.3s\n",
            "[CV 1/5] END ......C=0.1, degree=4, kernel=poly;, score=0.520 total time=   9.8s\n",
            "[CV 2/5] END ......C=0.1, degree=4, kernel=poly;, score=0.522 total time=   9.2s\n",
            "[CV 3/5] END ......C=0.1, degree=4, kernel=poly;, score=0.519 total time=  10.0s\n",
            "[CV 4/5] END ......C=0.1, degree=4, kernel=poly;, score=0.528 total time=   9.2s\n",
            "[CV 5/5] END ......C=0.1, degree=4, kernel=poly;, score=0.526 total time=  10.0s\n",
            "[CV 1/5] END .......C=0.1, degree=4, kernel=rbf;, score=0.543 total time=  12.0s\n",
            "[CV 2/5] END .......C=0.1, degree=4, kernel=rbf;, score=0.540 total time=  12.1s\n",
            "[CV 3/5] END .......C=0.1, degree=4, kernel=rbf;, score=0.543 total time=  12.1s\n",
            "[CV 4/5] END .......C=0.1, degree=4, kernel=rbf;, score=0.543 total time=  11.9s\n",
            "[CV 5/5] END .......C=0.1, degree=4, kernel=rbf;, score=0.511 total time=  12.4s\n",
            "[CV 1/5] END ......C=0.5, degree=1, kernel=poly;, score=0.531 total time=   7.5s\n",
            "[CV 2/5] END ......C=0.5, degree=1, kernel=poly;, score=0.525 total time=   7.7s\n",
            "[CV 3/5] END ......C=0.5, degree=1, kernel=poly;, score=0.523 total time=   7.6s\n",
            "[CV 4/5] END ......C=0.5, degree=1, kernel=poly;, score=0.526 total time=   7.5s\n",
            "[CV 5/5] END ......C=0.5, degree=1, kernel=poly;, score=0.504 total time=   7.6s\n",
            "[CV 1/5] END .......C=0.5, degree=1, kernel=rbf;, score=0.551 total time=  12.0s\n",
            "[CV 2/5] END .......C=0.5, degree=1, kernel=rbf;, score=0.554 total time=  11.7s\n",
            "[CV 3/5] END .......C=0.5, degree=1, kernel=rbf;, score=0.554 total time=  11.5s\n",
            "[CV 4/5] END .......C=0.5, degree=1, kernel=rbf;, score=0.555 total time=  12.0s\n",
            "[CV 5/5] END .......C=0.5, degree=1, kernel=rbf;, score=0.523 total time=  11.7s\n",
            "[CV 1/5] END ......C=0.5, degree=2, kernel=poly;, score=0.527 total time=   7.8s\n",
            "[CV 2/5] END ......C=0.5, degree=2, kernel=poly;, score=0.532 total time=   7.8s\n",
            "[CV 3/5] END ......C=0.5, degree=2, kernel=poly;, score=0.525 total time=   7.9s\n",
            "[CV 4/5] END ......C=0.5, degree=2, kernel=poly;, score=0.526 total time=   7.9s\n",
            "[CV 5/5] END ......C=0.5, degree=2, kernel=poly;, score=0.523 total time=   8.2s\n",
            "[CV 1/5] END .......C=0.5, degree=2, kernel=rbf;, score=0.551 total time=  11.9s\n",
            "[CV 2/5] END .......C=0.5, degree=2, kernel=rbf;, score=0.554 total time=  12.0s\n",
            "[CV 3/5] END .......C=0.5, degree=2, kernel=rbf;, score=0.554 total time=  11.5s\n",
            "[CV 4/5] END .......C=0.5, degree=2, kernel=rbf;, score=0.555 total time=  12.0s\n",
            "[CV 5/5] END .......C=0.5, degree=2, kernel=rbf;, score=0.523 total time=  11.7s\n",
            "[CV 1/5] END ......C=0.5, degree=3, kernel=poly;, score=0.525 total time=   9.0s\n",
            "[CV 2/5] END ......C=0.5, degree=3, kernel=poly;, score=0.528 total time=   9.0s\n",
            "[CV 3/5] END ......C=0.5, degree=3, kernel=poly;, score=0.520 total time=  10.3s\n",
            "[CV 4/5] END ......C=0.5, degree=3, kernel=poly;, score=0.530 total time=   9.2s\n",
            "[CV 5/5] END ......C=0.5, degree=3, kernel=poly;, score=0.526 total time=   8.9s\n",
            "[CV 1/5] END .......C=0.5, degree=3, kernel=rbf;, score=0.551 total time=  11.9s\n",
            "[CV 2/5] END .......C=0.5, degree=3, kernel=rbf;, score=0.554 total time=  11.8s\n",
            "[CV 3/5] END .......C=0.5, degree=3, kernel=rbf;, score=0.554 total time=  11.5s\n",
            "[CV 4/5] END .......C=0.5, degree=3, kernel=rbf;, score=0.555 total time=  12.0s\n",
            "[CV 5/5] END .......C=0.5, degree=3, kernel=rbf;, score=0.523 total time=  11.7s\n",
            "[CV 1/5] END ......C=0.5, degree=4, kernel=poly;, score=0.525 total time=  10.9s\n",
            "[CV 2/5] END ......C=0.5, degree=4, kernel=poly;, score=0.524 total time=  11.1s\n",
            "[CV 3/5] END ......C=0.5, degree=4, kernel=poly;, score=0.522 total time=  10.8s\n",
            "[CV 4/5] END ......C=0.5, degree=4, kernel=poly;, score=0.526 total time=  11.8s\n",
            "[CV 5/5] END ......C=0.5, degree=4, kernel=poly;, score=0.525 total time=  10.8s\n",
            "[CV 1/5] END .......C=0.5, degree=4, kernel=rbf;, score=0.551 total time=  12.1s\n",
            "[CV 2/5] END .......C=0.5, degree=4, kernel=rbf;, score=0.554 total time=  13.9s\n",
            "[CV 3/5] END .......C=0.5, degree=4, kernel=rbf;, score=0.554 total time=  11.6s\n",
            "[CV 4/5] END .......C=0.5, degree=4, kernel=rbf;, score=0.555 total time=  12.0s\n",
            "[CV 5/5] END .......C=0.5, degree=4, kernel=rbf;, score=0.523 total time=  11.7s\n",
            "[CV 1/5] END ........C=1, degree=1, kernel=poly;, score=0.570 total time=   7.4s\n",
            "[CV 2/5] END ........C=1, degree=1, kernel=poly;, score=0.555 total time=   7.4s\n",
            "[CV 3/5] END ........C=1, degree=1, kernel=poly;, score=0.573 total time=   7.3s\n",
            "[CV 4/5] END ........C=1, degree=1, kernel=poly;, score=0.560 total time=   7.4s\n",
            "[CV 5/5] END ........C=1, degree=1, kernel=poly;, score=0.528 total time=   7.4s\n",
            "[CV 1/5] END .........C=1, degree=1, kernel=rbf;, score=0.577 total time=  11.8s\n",
            "[CV 2/5] END .........C=1, degree=1, kernel=rbf;, score=0.579 total time=  11.7s\n",
            "[CV 3/5] END .........C=1, degree=1, kernel=rbf;, score=0.581 total time=  11.8s\n",
            "[CV 4/5] END .........C=1, degree=1, kernel=rbf;, score=0.587 total time=  12.1s\n",
            "[CV 5/5] END .........C=1, degree=1, kernel=rbf;, score=0.551 total time=  11.3s\n",
            "[CV 1/5] END ........C=1, degree=2, kernel=poly;, score=0.541 total time=   8.2s\n",
            "[CV 2/5] END ........C=1, degree=2, kernel=poly;, score=0.545 total time=   8.4s\n",
            "[CV 3/5] END ........C=1, degree=2, kernel=poly;, score=0.533 total time=   7.8s\n",
            "[CV 4/5] END ........C=1, degree=2, kernel=poly;, score=0.542 total time=   8.4s\n",
            "[CV 5/5] END ........C=1, degree=2, kernel=poly;, score=0.550 total time=   8.1s\n",
            "[CV 1/5] END .........C=1, degree=2, kernel=rbf;, score=0.577 total time=  11.7s\n",
            "[CV 2/5] END .........C=1, degree=2, kernel=rbf;, score=0.579 total time=  11.7s\n",
            "[CV 3/5] END .........C=1, degree=2, kernel=rbf;, score=0.581 total time=  11.8s\n",
            "[CV 4/5] END .........C=1, degree=2, kernel=rbf;, score=0.587 total time=  12.1s\n",
            "[CV 5/5] END .........C=1, degree=2, kernel=rbf;, score=0.551 total time=  11.3s\n",
            "[CV 1/5] END ........C=1, degree=3, kernel=poly;, score=0.528 total time=   9.6s\n",
            "[CV 2/5] END ........C=1, degree=3, kernel=poly;, score=0.528 total time=   9.8s\n",
            "[CV 3/5] END ........C=1, degree=3, kernel=poly;, score=0.525 total time=   9.7s\n",
            "[CV 4/5] END ........C=1, degree=3, kernel=poly;, score=0.534 total time=   8.9s\n",
            "[CV 5/5] END ........C=1, degree=3, kernel=poly;, score=0.531 total time=  10.0s\n",
            "[CV 1/5] END .........C=1, degree=3, kernel=rbf;, score=0.577 total time=  11.7s\n",
            "[CV 2/5] END .........C=1, degree=3, kernel=rbf;, score=0.579 total time=  11.7s\n",
            "[CV 3/5] END .........C=1, degree=3, kernel=rbf;, score=0.581 total time=  11.8s\n",
            "[CV 4/5] END .........C=1, degree=3, kernel=rbf;, score=0.587 total time=  12.1s\n",
            "[CV 5/5] END .........C=1, degree=3, kernel=rbf;, score=0.551 total time=  11.3s\n",
            "[CV 1/5] END ........C=1, degree=4, kernel=poly;, score=0.527 total time=  11.7s\n",
            "[CV 2/5] END ........C=1, degree=4, kernel=poly;, score=0.523 total time=  12.3s\n",
            "[CV 3/5] END ........C=1, degree=4, kernel=poly;, score=0.524 total time=  11.5s\n",
            "[CV 4/5] END ........C=1, degree=4, kernel=poly;, score=0.527 total time=  12.3s\n",
            "[CV 5/5] END ........C=1, degree=4, kernel=poly;, score=0.527 total time=  11.4s\n",
            "[CV 1/5] END .........C=1, degree=4, kernel=rbf;, score=0.577 total time=  11.7s\n",
            "[CV 2/5] END .........C=1, degree=4, kernel=rbf;, score=0.579 total time=  11.7s\n",
            "[CV 3/5] END .........C=1, degree=4, kernel=rbf;, score=0.581 total time=  11.7s\n",
            "[CV 4/5] END .........C=1, degree=4, kernel=rbf;, score=0.587 total time=  12.1s\n",
            "[CV 5/5] END .........C=1, degree=4, kernel=rbf;, score=0.551 total time=  11.3s\n",
            "[CV 1/5] END .......C=10, degree=1, kernel=poly;, score=0.598 total time=   9.0s\n",
            "[CV 2/5] END .......C=10, degree=1, kernel=poly;, score=0.611 total time=   9.1s\n",
            "[CV 3/5] END .......C=10, degree=1, kernel=poly;, score=0.598 total time=   8.6s\n",
            "[CV 4/5] END .......C=10, degree=1, kernel=poly;, score=0.605 total time=   8.6s\n",
            "[CV 5/5] END .......C=10, degree=1, kernel=poly;, score=0.587 total time=   8.6s\n",
            "[CV 1/5] END ........C=10, degree=1, kernel=rbf;, score=0.607 total time=  11.0s\n",
            "[CV 2/5] END ........C=10, degree=1, kernel=rbf;, score=0.614 total time=  11.0s\n",
            "[CV 3/5] END ........C=10, degree=1, kernel=rbf;, score=0.609 total time=  11.4s\n",
            "[CV 4/5] END ........C=10, degree=1, kernel=rbf;, score=0.622 total time=  11.1s\n",
            "[CV 5/5] END ........C=10, degree=1, kernel=rbf;, score=0.594 total time=  11.1s\n",
            "[CV 1/5] END .......C=10, degree=2, kernel=poly;, score=0.591 total time=   9.0s\n",
            "[CV 2/5] END .......C=10, degree=2, kernel=poly;, score=0.585 total time=   9.2s\n",
            "[CV 3/5] END .......C=10, degree=2, kernel=poly;, score=0.593 total time=   9.8s\n",
            "[CV 4/5] END .......C=10, degree=2, kernel=poly;, score=0.592 total time=   9.0s\n",
            "[CV 5/5] END .......C=10, degree=2, kernel=poly;, score=0.566 total time=  10.2s\n",
            "[CV 1/5] END ........C=10, degree=2, kernel=rbf;, score=0.607 total time=  11.6s\n",
            "[CV 2/5] END ........C=10, degree=2, kernel=rbf;, score=0.614 total time=  11.0s\n",
            "[CV 3/5] END ........C=10, degree=2, kernel=rbf;, score=0.609 total time=  11.3s\n",
            "[CV 4/5] END ........C=10, degree=2, kernel=rbf;, score=0.622 total time=  11.0s\n",
            "[CV 5/5] END ........C=10, degree=2, kernel=rbf;, score=0.594 total time=  11.2s\n",
            "[CV 1/5] END .......C=10, degree=3, kernel=poly;, score=0.564 total time=  12.1s\n",
            "[CV 2/5] END .......C=10, degree=3, kernel=poly;, score=0.564 total time=  11.4s\n",
            "[CV 3/5] END .......C=10, degree=3, kernel=poly;, score=0.565 total time=  12.2s\n",
            "[CV 4/5] END .......C=10, degree=3, kernel=poly;, score=0.565 total time=  11.5s\n",
            "[CV 5/5] END .......C=10, degree=3, kernel=poly;, score=0.559 total time=  13.1s\n",
            "[CV 1/5] END ........C=10, degree=3, kernel=rbf;, score=0.607 total time=  11.0s\n",
            "[CV 2/5] END ........C=10, degree=3, kernel=rbf;, score=0.614 total time=  11.0s\n",
            "[CV 3/5] END ........C=10, degree=3, kernel=rbf;, score=0.609 total time=  11.4s\n",
            "[CV 4/5] END ........C=10, degree=3, kernel=rbf;, score=0.622 total time=  11.0s\n",
            "[CV 5/5] END ........C=10, degree=3, kernel=rbf;, score=0.594 total time=  11.1s\n",
            "[CV 1/5] END .......C=10, degree=4, kernel=poly;, score=0.531 total time=  17.8s\n",
            "[CV 2/5] END .......C=10, degree=4, kernel=poly;, score=0.534 total time=  18.4s\n",
            "[CV 3/5] END .......C=10, degree=4, kernel=poly;, score=0.530 total time=  21.0s\n",
            "[CV 4/5] END .......C=10, degree=4, kernel=poly;, score=0.533 total time=  16.6s\n",
            "[CV 5/5] END .......C=10, degree=4, kernel=poly;, score=0.534 total time=  20.6s\n",
            "[CV 1/5] END ........C=10, degree=4, kernel=rbf;, score=0.607 total time=  11.0s\n",
            "[CV 2/5] END ........C=10, degree=4, kernel=rbf;, score=0.614 total time=  11.0s\n",
            "[CV 3/5] END ........C=10, degree=4, kernel=rbf;, score=0.609 total time=  11.4s\n",
            "[CV 4/5] END ........C=10, degree=4, kernel=rbf;, score=0.622 total time=  11.0s\n",
            "[CV 5/5] END ........C=10, degree=4, kernel=rbf;, score=0.594 total time=  11.1s\n",
            "[CV 1/5] END .......C=50, degree=1, kernel=poly;, score=0.606 total time=  11.1s\n",
            "[CV 2/5] END .......C=50, degree=1, kernel=poly;, score=0.611 total time=  10.0s\n",
            "[CV 3/5] END .......C=50, degree=1, kernel=poly;, score=0.599 total time=  10.0s\n",
            "[CV 4/5] END .......C=50, degree=1, kernel=poly;, score=0.608 total time=  10.3s\n",
            "[CV 5/5] END .......C=50, degree=1, kernel=poly;, score=0.590 total time=  10.5s\n",
            "[CV 1/5] END ........C=50, degree=1, kernel=rbf;, score=0.610 total time=  11.8s\n",
            "[CV 2/5] END ........C=50, degree=1, kernel=rbf;, score=0.615 total time=  11.5s\n",
            "[CV 3/5] END ........C=50, degree=1, kernel=rbf;, score=0.615 total time=  11.7s\n",
            "[CV 4/5] END ........C=50, degree=1, kernel=rbf;, score=0.626 total time=  11.4s\n",
            "[CV 5/5] END ........C=50, degree=1, kernel=rbf;, score=0.598 total time=  11.5s\n",
            "[CV 1/5] END .......C=50, degree=2, kernel=poly;, score=0.592 total time=  12.0s\n",
            "[CV 2/5] END .......C=50, degree=2, kernel=poly;, score=0.600 total time=  12.1s\n",
            "[CV 3/5] END .......C=50, degree=2, kernel=poly;, score=0.594 total time=  11.8s\n",
            "[CV 4/5] END .......C=50, degree=2, kernel=poly;, score=0.591 total time=  12.1s\n",
            "[CV 5/5] END .......C=50, degree=2, kernel=poly;, score=0.578 total time=  11.6s\n",
            "[CV 1/5] END ........C=50, degree=2, kernel=rbf;, score=0.610 total time=  11.7s\n",
            "[CV 2/5] END ........C=50, degree=2, kernel=rbf;, score=0.615 total time=  11.5s\n",
            "[CV 3/5] END ........C=50, degree=2, kernel=rbf;, score=0.615 total time=  11.7s\n",
            "[CV 4/5] END ........C=50, degree=2, kernel=rbf;, score=0.626 total time=  11.4s\n",
            "[CV 5/5] END ........C=50, degree=2, kernel=rbf;, score=0.598 total time=  11.5s\n",
            "[CV 1/5] END .......C=50, degree=3, kernel=poly;, score=0.591 total time=  20.0s\n",
            "[CV 2/5] END .......C=50, degree=3, kernel=poly;, score=0.578 total time=  22.1s\n",
            "[CV 3/5] END .......C=50, degree=3, kernel=poly;, score=0.587 total time=  18.5s\n",
            "[CV 4/5] END .......C=50, degree=3, kernel=poly;, score=0.582 total time=  19.3s\n",
            "[CV 5/5] END .......C=50, degree=3, kernel=poly;, score=0.562 total time=  18.1s\n",
            "[CV 1/5] END ........C=50, degree=3, kernel=rbf;, score=0.610 total time=  11.7s\n",
            "[CV 2/5] END ........C=50, degree=3, kernel=rbf;, score=0.615 total time=  11.4s\n",
            "[CV 3/5] END ........C=50, degree=3, kernel=rbf;, score=0.615 total time=  11.7s\n",
            "[CV 4/5] END ........C=50, degree=3, kernel=rbf;, score=0.626 total time=  11.4s\n",
            "[CV 5/5] END ........C=50, degree=3, kernel=rbf;, score=0.598 total time=  11.5s\n",
            "[CV 1/5] END .......C=50, degree=4, kernel=poly;, score=0.554 total time=  26.2s\n",
            "[CV 2/5] END .......C=50, degree=4, kernel=poly;, score=0.559 total time=  33.4s\n",
            "[CV 3/5] END .......C=50, degree=4, kernel=poly;, score=0.557 total time=  37.8s\n",
            "[CV 4/5] END .......C=50, degree=4, kernel=poly;, score=0.544 total time=  29.4s\n",
            "[CV 5/5] END .......C=50, degree=4, kernel=poly;, score=0.554 total time=  34.6s\n",
            "[CV 1/5] END ........C=50, degree=4, kernel=rbf;, score=0.610 total time=  11.7s\n",
            "[CV 2/5] END ........C=50, degree=4, kernel=rbf;, score=0.615 total time=  11.4s\n",
            "[CV 3/5] END ........C=50, degree=4, kernel=rbf;, score=0.615 total time=  11.7s\n",
            "[CV 4/5] END ........C=50, degree=4, kernel=rbf;, score=0.626 total time=  11.3s\n",
            "[CV 5/5] END ........C=50, degree=4, kernel=rbf;, score=0.598 total time=  11.5s\n",
            "[CV 1/5] END ......C=100, degree=1, kernel=poly;, score=0.606 total time=  12.0s\n",
            "[CV 2/5] END ......C=100, degree=1, kernel=poly;, score=0.612 total time=  12.4s\n",
            "[CV 3/5] END ......C=100, degree=1, kernel=poly;, score=0.601 total time=  11.8s\n",
            "[CV 4/5] END ......C=100, degree=1, kernel=poly;, score=0.610 total time=  12.2s\n",
            "[CV 5/5] END ......C=100, degree=1, kernel=poly;, score=0.592 total time=  11.6s\n",
            "[CV 1/5] END .......C=100, degree=1, kernel=rbf;, score=0.613 total time=  12.0s\n",
            "[CV 2/5] END .......C=100, degree=1, kernel=rbf;, score=0.615 total time=  12.1s\n",
            "[CV 3/5] END .......C=100, degree=1, kernel=rbf;, score=0.615 total time=  11.9s\n",
            "[CV 4/5] END .......C=100, degree=1, kernel=rbf;, score=0.625 total time=  11.7s\n",
            "[CV 5/5] END .......C=100, degree=1, kernel=rbf;, score=0.597 total time=  11.9s\n",
            "[CV 1/5] END ......C=100, degree=2, kernel=poly;, score=0.591 total time=  14.0s\n",
            "[CV 2/5] END ......C=100, degree=2, kernel=poly;, score=0.603 total time=  14.1s\n",
            "[CV 3/5] END ......C=100, degree=2, kernel=poly;, score=0.591 total time=  13.3s\n",
            "[CV 4/5] END ......C=100, degree=2, kernel=poly;, score=0.591 total time=  14.2s\n",
            "[CV 5/5] END ......C=100, degree=2, kernel=poly;, score=0.581 total time=  14.0s\n",
            "[CV 1/5] END .......C=100, degree=2, kernel=rbf;, score=0.613 total time=  12.0s\n",
            "[CV 2/5] END .......C=100, degree=2, kernel=rbf;, score=0.615 total time=  12.1s\n",
            "[CV 3/5] END .......C=100, degree=2, kernel=rbf;, score=0.615 total time=  11.9s\n",
            "[CV 4/5] END .......C=100, degree=2, kernel=rbf;, score=0.625 total time=  11.8s\n",
            "[CV 5/5] END .......C=100, degree=2, kernel=rbf;, score=0.597 total time=  12.0s\n",
            "[CV 1/5] END ......C=100, degree=3, kernel=poly;, score=0.587 total time=  24.4s\n",
            "[CV 2/5] END ......C=100, degree=3, kernel=poly;, score=0.574 total time=  25.9s\n",
            "[CV 3/5] END ......C=100, degree=3, kernel=poly;, score=0.586 total time=  24.7s\n",
            "[CV 4/5] END ......C=100, degree=3, kernel=poly;, score=0.583 total time=  26.2s\n",
            "[CV 5/5] END ......C=100, degree=3, kernel=poly;, score=0.556 total time=  25.2s\n",
            "[CV 1/5] END .......C=100, degree=3, kernel=rbf;, score=0.613 total time=  12.1s\n",
            "[CV 2/5] END .......C=100, degree=3, kernel=rbf;, score=0.615 total time=  12.1s\n",
            "[CV 3/5] END .......C=100, degree=3, kernel=rbf;, score=0.615 total time=  12.1s\n",
            "[CV 4/5] END .......C=100, degree=3, kernel=rbf;, score=0.625 total time=  11.7s\n",
            "[CV 5/5] END .......C=100, degree=3, kernel=rbf;, score=0.597 total time=  11.9s\n",
            "[CV 1/5] END ......C=100, degree=4, kernel=poly;, score=0.569 total time=  44.5s\n",
            "[CV 2/5] END ......C=100, degree=4, kernel=poly;, score=0.549 total time=  44.9s\n",
            "[CV 3/5] END ......C=100, degree=4, kernel=poly;, score=0.564 total time=  52.8s\n",
            "[CV 4/5] END ......C=100, degree=4, kernel=poly;, score=0.550 total time=  44.1s\n",
            "[CV 5/5] END ......C=100, degree=4, kernel=poly;, score=0.549 total time=  47.9s\n",
            "[CV 1/5] END .......C=100, degree=4, kernel=rbf;, score=0.613 total time=  12.1s\n",
            "[CV 2/5] END .......C=100, degree=4, kernel=rbf;, score=0.615 total time=  12.1s\n",
            "[CV 3/5] END .......C=100, degree=4, kernel=rbf;, score=0.615 total time=  11.9s\n",
            "[CV 4/5] END .......C=100, degree=4, kernel=rbf;, score=0.625 total time=  11.7s\n",
            "[CV 5/5] END .......C=100, degree=4, kernel=rbf;, score=0.597 total time=  12.0s\n"
          ]
        }
      ]
    },
    {
      "cell_type": "code",
      "source": [
        "gridSVM = gridSVM.best_estimator_\n",
        "SVM = TrainAndEval(gridSVM, X_train, y_train, X_test, y_test)\n",
        "SVM.eval()"
      ],
      "metadata": {
        "colab": {
          "base_uri": "https://localhost:8080/"
        },
        "id": "NSIXFa7EmMlI",
        "outputId": "697b8e27-a862-42a2-ee43-cd69cfd030aa"
      },
      "execution_count": null,
      "outputs": [
        {
          "output_type": "stream",
          "name": "stdout",
          "text": [
            "True Negatives: 1277\n",
            "False Positives: 443\n",
            "False Negatives: 856\n",
            "True Positives: 963\n",
            "              precision    recall  f1-score   support\n",
            "\n",
            "           0       0.60      0.74      0.66      1720\n",
            "           1       0.68      0.53      0.60      1819\n",
            "\n",
            "    accuracy                           0.63      3539\n",
            "   macro avg       0.64      0.64      0.63      3539\n",
            "weighted avg       0.64      0.63      0.63      3539\n",
            "\n"
          ]
        }
      ]
    },
    {
      "cell_type": "markdown",
      "source": [
        "**The Results of Grid SVM Classifier:**\n",
        "\n",
        "\n",
        "*   **F1 Score = 60%**\n",
        "*   **Precision = 68%**\n",
        "*   **Recall = 53%**"
      ],
      "metadata": {
        "id": "gVo0uxrkKYy1"
      }
    },
    {
      "cell_type": "markdown",
      "source": [
        "**The reason Random Forest is used but not simple Decision Tree becasue decision trees tend to over-fit quickly.**"
      ],
      "metadata": {
        "id": "UhzrWuxsLCxY"
      }
    },
    {
      "cell_type": "markdown",
      "source": [
        "# **Random Forest**"
      ],
      "metadata": {
        "id": "basal1ocKu15"
      }
    },
    {
      "cell_type": "code",
      "source": [
        "from sklearn.ensemble import RandomForestClassifier\n",
        "params = {\n",
        "    'n_estimators': [10, 50, 100, 300, 500],\n",
        "    'max_depth': [1, 3, 5],\n",
        "    'bootstrap': [True, False],\n",
        "    'min_samples_leaf': [1, 2, 4],\n",
        "    'min_samples_split': [2, 5, 10]\n",
        "}\n",
        "\n",
        "gridRF = GridSearchCV(estimator=RandomForestClassifier(), param_grid=params, cv=5, verbose=3)\n",
        "gridRF = gridRF.fit(X_train, y_train)"
      ],
      "metadata": {
        "colab": {
          "base_uri": "https://localhost:8080/"
        },
        "id": "7YLJrQ5lmO08",
        "outputId": "361e34c2-8826-4cdf-8cfb-11d95678f661"
      },
      "execution_count": null,
      "outputs": [
        {
          "output_type": "stream",
          "name": "stdout",
          "text": [
            "Fitting 5 folds for each of 270 candidates, totalling 1350 fits\n",
            "[CV 1/5] END bootstrap=True, max_depth=1, min_samples_leaf=1, min_samples_split=2, n_estimators=10;, score=0.635 total time=   0.1s\n",
            "[CV 2/5] END bootstrap=True, max_depth=1, min_samples_leaf=1, min_samples_split=2, n_estimators=10;, score=0.636 total time=   0.0s\n",
            "[CV 3/5] END bootstrap=True, max_depth=1, min_samples_leaf=1, min_samples_split=2, n_estimators=10;, score=0.629 total time=   0.0s\n",
            "[CV 4/5] END bootstrap=True, max_depth=1, min_samples_leaf=1, min_samples_split=2, n_estimators=10;, score=0.635 total time=   0.1s\n",
            "[CV 5/5] END bootstrap=True, max_depth=1, min_samples_leaf=1, min_samples_split=2, n_estimators=10;, score=0.605 total time=   0.1s\n",
            "[CV 1/5] END bootstrap=True, max_depth=1, min_samples_leaf=1, min_samples_split=2, n_estimators=50;, score=0.643 total time=   0.2s\n",
            "[CV 2/5] END bootstrap=True, max_depth=1, min_samples_leaf=1, min_samples_split=2, n_estimators=50;, score=0.642 total time=   0.2s\n",
            "[CV 3/5] END bootstrap=True, max_depth=1, min_samples_leaf=1, min_samples_split=2, n_estimators=50;, score=0.651 total time=   0.2s\n",
            "[CV 4/5] END bootstrap=True, max_depth=1, min_samples_leaf=1, min_samples_split=2, n_estimators=50;, score=0.616 total time=   0.2s\n",
            "[CV 5/5] END bootstrap=True, max_depth=1, min_samples_leaf=1, min_samples_split=2, n_estimators=50;, score=0.616 total time=   0.2s\n",
            "[CV 1/5] END bootstrap=True, max_depth=1, min_samples_leaf=1, min_samples_split=2, n_estimators=100;, score=0.646 total time=   0.4s\n",
            "[CV 2/5] END bootstrap=True, max_depth=1, min_samples_leaf=1, min_samples_split=2, n_estimators=100;, score=0.640 total time=   0.4s\n",
            "[CV 3/5] END bootstrap=True, max_depth=1, min_samples_leaf=1, min_samples_split=2, n_estimators=100;, score=0.653 total time=   0.4s\n",
            "[CV 4/5] END bootstrap=True, max_depth=1, min_samples_leaf=1, min_samples_split=2, n_estimators=100;, score=0.643 total time=   0.4s\n",
            "[CV 5/5] END bootstrap=True, max_depth=1, min_samples_leaf=1, min_samples_split=2, n_estimators=100;, score=0.621 total time=   0.4s\n",
            "[CV 1/5] END bootstrap=True, max_depth=1, min_samples_leaf=1, min_samples_split=2, n_estimators=300;, score=0.647 total time=   1.1s\n",
            "[CV 2/5] END bootstrap=True, max_depth=1, min_samples_leaf=1, min_samples_split=2, n_estimators=300;, score=0.648 total time=   1.1s\n",
            "[CV 3/5] END bootstrap=True, max_depth=1, min_samples_leaf=1, min_samples_split=2, n_estimators=300;, score=0.647 total time=   1.1s\n",
            "[CV 4/5] END bootstrap=True, max_depth=1, min_samples_leaf=1, min_samples_split=2, n_estimators=300;, score=0.648 total time=   1.1s\n",
            "[CV 5/5] END bootstrap=True, max_depth=1, min_samples_leaf=1, min_samples_split=2, n_estimators=300;, score=0.620 total time=   1.2s\n",
            "[CV 1/5] END bootstrap=True, max_depth=1, min_samples_leaf=1, min_samples_split=2, n_estimators=500;, score=0.646 total time=   1.9s\n",
            "[CV 2/5] END bootstrap=True, max_depth=1, min_samples_leaf=1, min_samples_split=2, n_estimators=500;, score=0.649 total time=   1.9s\n",
            "[CV 3/5] END bootstrap=True, max_depth=1, min_samples_leaf=1, min_samples_split=2, n_estimators=500;, score=0.654 total time=   1.9s\n",
            "[CV 4/5] END bootstrap=True, max_depth=1, min_samples_leaf=1, min_samples_split=2, n_estimators=500;, score=0.655 total time=   1.9s\n",
            "[CV 5/5] END bootstrap=True, max_depth=1, min_samples_leaf=1, min_samples_split=2, n_estimators=500;, score=0.637 total time=   1.9s\n",
            "[CV 1/5] END bootstrap=True, max_depth=1, min_samples_leaf=1, min_samples_split=5, n_estimators=10;, score=0.635 total time=   0.0s\n",
            "[CV 2/5] END bootstrap=True, max_depth=1, min_samples_leaf=1, min_samples_split=5, n_estimators=10;, score=0.631 total time=   0.1s\n",
            "[CV 3/5] END bootstrap=True, max_depth=1, min_samples_leaf=1, min_samples_split=5, n_estimators=10;, score=0.628 total time=   0.0s\n",
            "[CV 4/5] END bootstrap=True, max_depth=1, min_samples_leaf=1, min_samples_split=5, n_estimators=10;, score=0.606 total time=   0.0s\n",
            "[CV 5/5] END bootstrap=True, max_depth=1, min_samples_leaf=1, min_samples_split=5, n_estimators=10;, score=0.578 total time=   0.1s\n",
            "[CV 1/5] END bootstrap=True, max_depth=1, min_samples_leaf=1, min_samples_split=5, n_estimators=50;, score=0.639 total time=   0.2s\n",
            "[CV 2/5] END bootstrap=True, max_depth=1, min_samples_leaf=1, min_samples_split=5, n_estimators=50;, score=0.610 total time=   0.2s\n",
            "[CV 3/5] END bootstrap=True, max_depth=1, min_samples_leaf=1, min_samples_split=5, n_estimators=50;, score=0.641 total time=   0.2s\n",
            "[CV 4/5] END bootstrap=True, max_depth=1, min_samples_leaf=1, min_samples_split=5, n_estimators=50;, score=0.654 total time=   0.2s\n",
            "[CV 5/5] END bootstrap=True, max_depth=1, min_samples_leaf=1, min_samples_split=5, n_estimators=50;, score=0.619 total time=   0.2s\n",
            "[CV 1/5] END bootstrap=True, max_depth=1, min_samples_leaf=1, min_samples_split=5, n_estimators=100;, score=0.647 total time=   0.4s\n",
            "[CV 2/5] END bootstrap=True, max_depth=1, min_samples_leaf=1, min_samples_split=5, n_estimators=100;, score=0.629 total time=   0.4s\n",
            "[CV 3/5] END bootstrap=True, max_depth=1, min_samples_leaf=1, min_samples_split=5, n_estimators=100;, score=0.643 total time=   0.4s\n",
            "[CV 4/5] END bootstrap=True, max_depth=1, min_samples_leaf=1, min_samples_split=5, n_estimators=100;, score=0.650 total time=   0.4s\n",
            "[CV 5/5] END bootstrap=True, max_depth=1, min_samples_leaf=1, min_samples_split=5, n_estimators=100;, score=0.631 total time=   0.4s\n",
            "[CV 1/5] END bootstrap=True, max_depth=1, min_samples_leaf=1, min_samples_split=5, n_estimators=300;, score=0.649 total time=   1.1s\n",
            "[CV 2/5] END bootstrap=True, max_depth=1, min_samples_leaf=1, min_samples_split=5, n_estimators=300;, score=0.646 total time=   1.1s\n",
            "[CV 3/5] END bootstrap=True, max_depth=1, min_samples_leaf=1, min_samples_split=5, n_estimators=300;, score=0.642 total time=   1.1s\n",
            "[CV 4/5] END bootstrap=True, max_depth=1, min_samples_leaf=1, min_samples_split=5, n_estimators=300;, score=0.651 total time=   1.1s\n",
            "[CV 5/5] END bootstrap=True, max_depth=1, min_samples_leaf=1, min_samples_split=5, n_estimators=300;, score=0.635 total time=   1.1s\n",
            "[CV 1/5] END bootstrap=True, max_depth=1, min_samples_leaf=1, min_samples_split=5, n_estimators=500;, score=0.651 total time=   1.9s\n",
            "[CV 2/5] END bootstrap=True, max_depth=1, min_samples_leaf=1, min_samples_split=5, n_estimators=500;, score=0.647 total time=   1.9s\n",
            "[CV 3/5] END bootstrap=True, max_depth=1, min_samples_leaf=1, min_samples_split=5, n_estimators=500;, score=0.650 total time=   1.9s\n",
            "[CV 4/5] END bootstrap=True, max_depth=1, min_samples_leaf=1, min_samples_split=5, n_estimators=500;, score=0.653 total time=   1.9s\n",
            "[CV 5/5] END bootstrap=True, max_depth=1, min_samples_leaf=1, min_samples_split=5, n_estimators=500;, score=0.631 total time=   1.9s\n",
            "[CV 1/5] END bootstrap=True, max_depth=1, min_samples_leaf=1, min_samples_split=10, n_estimators=10;, score=0.641 total time=   0.1s\n",
            "[CV 2/5] END bootstrap=True, max_depth=1, min_samples_leaf=1, min_samples_split=10, n_estimators=10;, score=0.584 total time=   0.1s\n",
            "[CV 3/5] END bootstrap=True, max_depth=1, min_samples_leaf=1, min_samples_split=10, n_estimators=10;, score=0.649 total time=   0.0s\n",
            "[CV 4/5] END bootstrap=True, max_depth=1, min_samples_leaf=1, min_samples_split=10, n_estimators=10;, score=0.626 total time=   0.0s\n",
            "[CV 5/5] END bootstrap=True, max_depth=1, min_samples_leaf=1, min_samples_split=10, n_estimators=10;, score=0.603 total time=   0.1s\n",
            "[CV 1/5] END bootstrap=True, max_depth=1, min_samples_leaf=1, min_samples_split=10, n_estimators=50;, score=0.639 total time=   0.2s\n",
            "[CV 2/5] END bootstrap=True, max_depth=1, min_samples_leaf=1, min_samples_split=10, n_estimators=50;, score=0.644 total time=   0.2s\n",
            "[CV 3/5] END bootstrap=True, max_depth=1, min_samples_leaf=1, min_samples_split=10, n_estimators=50;, score=0.646 total time=   0.2s\n",
            "[CV 4/5] END bootstrap=True, max_depth=1, min_samples_leaf=1, min_samples_split=10, n_estimators=50;, score=0.662 total time=   0.2s\n",
            "[CV 5/5] END bootstrap=True, max_depth=1, min_samples_leaf=1, min_samples_split=10, n_estimators=50;, score=0.628 total time=   0.2s\n",
            "[CV 1/5] END bootstrap=True, max_depth=1, min_samples_leaf=1, min_samples_split=10, n_estimators=100;, score=0.639 total time=   0.4s\n",
            "[CV 2/5] END bootstrap=True, max_depth=1, min_samples_leaf=1, min_samples_split=10, n_estimators=100;, score=0.640 total time=   0.4s\n",
            "[CV 3/5] END bootstrap=True, max_depth=1, min_samples_leaf=1, min_samples_split=10, n_estimators=100;, score=0.649 total time=   0.4s\n",
            "[CV 4/5] END bootstrap=True, max_depth=1, min_samples_leaf=1, min_samples_split=10, n_estimators=100;, score=0.658 total time=   0.4s\n",
            "[CV 5/5] END bootstrap=True, max_depth=1, min_samples_leaf=1, min_samples_split=10, n_estimators=100;, score=0.638 total time=   0.4s\n",
            "[CV 1/5] END bootstrap=True, max_depth=1, min_samples_leaf=1, min_samples_split=10, n_estimators=300;, score=0.643 total time=   1.1s\n",
            "[CV 2/5] END bootstrap=True, max_depth=1, min_samples_leaf=1, min_samples_split=10, n_estimators=300;, score=0.643 total time=   1.1s\n",
            "[CV 3/5] END bootstrap=True, max_depth=1, min_samples_leaf=1, min_samples_split=10, n_estimators=300;, score=0.658 total time=   1.2s\n",
            "[CV 4/5] END bootstrap=True, max_depth=1, min_samples_leaf=1, min_samples_split=10, n_estimators=300;, score=0.654 total time=   1.1s\n",
            "[CV 5/5] END bootstrap=True, max_depth=1, min_samples_leaf=1, min_samples_split=10, n_estimators=300;, score=0.617 total time=   1.2s\n",
            "[CV 1/5] END bootstrap=True, max_depth=1, min_samples_leaf=1, min_samples_split=10, n_estimators=500;, score=0.646 total time=   1.8s\n",
            "[CV 2/5] END bootstrap=True, max_depth=1, min_samples_leaf=1, min_samples_split=10, n_estimators=500;, score=0.646 total time=   1.9s\n",
            "[CV 3/5] END bootstrap=True, max_depth=1, min_samples_leaf=1, min_samples_split=10, n_estimators=500;, score=0.649 total time=   1.9s\n",
            "[CV 4/5] END bootstrap=True, max_depth=1, min_samples_leaf=1, min_samples_split=10, n_estimators=500;, score=0.656 total time=   1.9s\n",
            "[CV 5/5] END bootstrap=True, max_depth=1, min_samples_leaf=1, min_samples_split=10, n_estimators=500;, score=0.635 total time=   1.9s\n",
            "[CV 1/5] END bootstrap=True, max_depth=1, min_samples_leaf=2, min_samples_split=2, n_estimators=10;, score=0.599 total time=   0.0s\n",
            "[CV 2/5] END bootstrap=True, max_depth=1, min_samples_leaf=2, min_samples_split=2, n_estimators=10;, score=0.633 total time=   0.0s\n",
            "[CV 3/5] END bootstrap=True, max_depth=1, min_samples_leaf=2, min_samples_split=2, n_estimators=10;, score=0.636 total time=   0.0s\n",
            "[CV 4/5] END bootstrap=True, max_depth=1, min_samples_leaf=2, min_samples_split=2, n_estimators=10;, score=0.613 total time=   0.0s\n",
            "[CV 5/5] END bootstrap=True, max_depth=1, min_samples_leaf=2, min_samples_split=2, n_estimators=10;, score=0.635 total time=   0.0s\n",
            "[CV 1/5] END bootstrap=True, max_depth=1, min_samples_leaf=2, min_samples_split=2, n_estimators=50;, score=0.645 total time=   0.2s\n",
            "[CV 2/5] END bootstrap=True, max_depth=1, min_samples_leaf=2, min_samples_split=2, n_estimators=50;, score=0.643 total time=   0.2s\n",
            "[CV 3/5] END bootstrap=True, max_depth=1, min_samples_leaf=2, min_samples_split=2, n_estimators=50;, score=0.646 total time=   0.2s\n",
            "[CV 4/5] END bootstrap=True, max_depth=1, min_samples_leaf=2, min_samples_split=2, n_estimators=50;, score=0.659 total time=   0.2s\n",
            "[CV 5/5] END bootstrap=True, max_depth=1, min_samples_leaf=2, min_samples_split=2, n_estimators=50;, score=0.638 total time=   0.2s\n",
            "[CV 1/5] END bootstrap=True, max_depth=1, min_samples_leaf=2, min_samples_split=2, n_estimators=100;, score=0.644 total time=   0.4s\n",
            "[CV 2/5] END bootstrap=True, max_depth=1, min_samples_leaf=2, min_samples_split=2, n_estimators=100;, score=0.643 total time=   0.4s\n",
            "[CV 3/5] END bootstrap=True, max_depth=1, min_samples_leaf=2, min_samples_split=2, n_estimators=100;, score=0.640 total time=   0.4s\n",
            "[CV 4/5] END bootstrap=True, max_depth=1, min_samples_leaf=2, min_samples_split=2, n_estimators=100;, score=0.656 total time=   0.4s\n",
            "[CV 5/5] END bootstrap=True, max_depth=1, min_samples_leaf=2, min_samples_split=2, n_estimators=100;, score=0.620 total time=   0.4s\n",
            "[CV 1/5] END bootstrap=True, max_depth=1, min_samples_leaf=2, min_samples_split=2, n_estimators=300;, score=0.638 total time=   1.1s\n",
            "[CV 2/5] END bootstrap=True, max_depth=1, min_samples_leaf=2, min_samples_split=2, n_estimators=300;, score=0.643 total time=   1.1s\n",
            "[CV 3/5] END bootstrap=True, max_depth=1, min_samples_leaf=2, min_samples_split=2, n_estimators=300;, score=0.646 total time=   1.1s\n",
            "[CV 4/5] END bootstrap=True, max_depth=1, min_samples_leaf=2, min_samples_split=2, n_estimators=300;, score=0.656 total time=   1.2s\n",
            "[CV 5/5] END bootstrap=True, max_depth=1, min_samples_leaf=2, min_samples_split=2, n_estimators=300;, score=0.629 total time=   1.1s\n",
            "[CV 1/5] END bootstrap=True, max_depth=1, min_samples_leaf=2, min_samples_split=2, n_estimators=500;, score=0.647 total time=   1.9s\n",
            "[CV 2/5] END bootstrap=True, max_depth=1, min_samples_leaf=2, min_samples_split=2, n_estimators=500;, score=0.645 total time=   1.9s\n",
            "[CV 3/5] END bootstrap=True, max_depth=1, min_samples_leaf=2, min_samples_split=2, n_estimators=500;, score=0.640 total time=   1.9s\n",
            "[CV 4/5] END bootstrap=True, max_depth=1, min_samples_leaf=2, min_samples_split=2, n_estimators=500;, score=0.653 total time=   1.8s\n",
            "[CV 5/5] END bootstrap=True, max_depth=1, min_samples_leaf=2, min_samples_split=2, n_estimators=500;, score=0.632 total time=   1.9s\n",
            "[CV 1/5] END bootstrap=True, max_depth=1, min_samples_leaf=2, min_samples_split=5, n_estimators=10;, score=0.613 total time=   0.1s\n",
            "[CV 2/5] END bootstrap=True, max_depth=1, min_samples_leaf=2, min_samples_split=5, n_estimators=10;, score=0.616 total time=   0.0s\n",
            "[CV 3/5] END bootstrap=True, max_depth=1, min_samples_leaf=2, min_samples_split=5, n_estimators=10;, score=0.644 total time=   0.0s\n",
            "[CV 4/5] END bootstrap=True, max_depth=1, min_samples_leaf=2, min_samples_split=5, n_estimators=10;, score=0.632 total time=   0.0s\n",
            "[CV 5/5] END bootstrap=True, max_depth=1, min_samples_leaf=2, min_samples_split=5, n_estimators=10;, score=0.587 total time=   0.1s\n",
            "[CV 1/5] END bootstrap=True, max_depth=1, min_samples_leaf=2, min_samples_split=5, n_estimators=50;, score=0.640 total time=   0.2s\n",
            "[CV 2/5] END bootstrap=True, max_depth=1, min_samples_leaf=2, min_samples_split=5, n_estimators=50;, score=0.638 total time=   0.2s\n",
            "[CV 3/5] END bootstrap=True, max_depth=1, min_samples_leaf=2, min_samples_split=5, n_estimators=50;, score=0.649 total time=   0.2s\n",
            "[CV 4/5] END bootstrap=True, max_depth=1, min_samples_leaf=2, min_samples_split=5, n_estimators=50;, score=0.653 total time=   0.2s\n",
            "[CV 5/5] END bootstrap=True, max_depth=1, min_samples_leaf=2, min_samples_split=5, n_estimators=50;, score=0.631 total time=   0.2s\n",
            "[CV 1/5] END bootstrap=True, max_depth=1, min_samples_leaf=2, min_samples_split=5, n_estimators=100;, score=0.652 total time=   0.4s\n",
            "[CV 2/5] END bootstrap=True, max_depth=1, min_samples_leaf=2, min_samples_split=5, n_estimators=100;, score=0.646 total time=   0.4s\n",
            "[CV 3/5] END bootstrap=True, max_depth=1, min_samples_leaf=2, min_samples_split=5, n_estimators=100;, score=0.638 total time=   0.4s\n",
            "[CV 4/5] END bootstrap=True, max_depth=1, min_samples_leaf=2, min_samples_split=5, n_estimators=100;, score=0.654 total time=   0.4s\n",
            "[CV 5/5] END bootstrap=True, max_depth=1, min_samples_leaf=2, min_samples_split=5, n_estimators=100;, score=0.636 total time=   0.4s\n",
            "[CV 1/5] END bootstrap=True, max_depth=1, min_samples_leaf=2, min_samples_split=5, n_estimators=300;, score=0.645 total time=   1.1s\n",
            "[CV 2/5] END bootstrap=True, max_depth=1, min_samples_leaf=2, min_samples_split=5, n_estimators=300;, score=0.638 total time=   1.1s\n",
            "[CV 3/5] END bootstrap=True, max_depth=1, min_samples_leaf=2, min_samples_split=5, n_estimators=300;, score=0.651 total time=   1.1s\n",
            "[CV 4/5] END bootstrap=True, max_depth=1, min_samples_leaf=2, min_samples_split=5, n_estimators=300;, score=0.656 total time=   1.1s\n",
            "[CV 5/5] END bootstrap=True, max_depth=1, min_samples_leaf=2, min_samples_split=5, n_estimators=300;, score=0.616 total time=   1.2s\n",
            "[CV 1/5] END bootstrap=True, max_depth=1, min_samples_leaf=2, min_samples_split=5, n_estimators=500;, score=0.651 total time=   1.9s\n",
            "[CV 2/5] END bootstrap=True, max_depth=1, min_samples_leaf=2, min_samples_split=5, n_estimators=500;, score=0.643 total time=   1.9s\n",
            "[CV 3/5] END bootstrap=True, max_depth=1, min_samples_leaf=2, min_samples_split=5, n_estimators=500;, score=0.650 total time=   1.9s\n",
            "[CV 4/5] END bootstrap=True, max_depth=1, min_samples_leaf=2, min_samples_split=5, n_estimators=500;, score=0.653 total time=   1.9s\n",
            "[CV 5/5] END bootstrap=True, max_depth=1, min_samples_leaf=2, min_samples_split=5, n_estimators=500;, score=0.615 total time=   1.9s\n",
            "[CV 1/5] END bootstrap=True, max_depth=1, min_samples_leaf=2, min_samples_split=10, n_estimators=10;, score=0.622 total time=   0.1s\n",
            "[CV 2/5] END bootstrap=True, max_depth=1, min_samples_leaf=2, min_samples_split=10, n_estimators=10;, score=0.601 total time=   0.1s\n",
            "[CV 3/5] END bootstrap=True, max_depth=1, min_samples_leaf=2, min_samples_split=10, n_estimators=10;, score=0.623 total time=   0.0s\n",
            "[CV 4/5] END bootstrap=True, max_depth=1, min_samples_leaf=2, min_samples_split=10, n_estimators=10;, score=0.646 total time=   0.1s\n",
            "[CV 5/5] END bootstrap=True, max_depth=1, min_samples_leaf=2, min_samples_split=10, n_estimators=10;, score=0.615 total time=   0.0s\n",
            "[CV 1/5] END bootstrap=True, max_depth=1, min_samples_leaf=2, min_samples_split=10, n_estimators=50;, score=0.646 total time=   0.2s\n",
            "[CV 2/5] END bootstrap=True, max_depth=1, min_samples_leaf=2, min_samples_split=10, n_estimators=50;, score=0.648 total time=   0.2s\n",
            "[CV 3/5] END bootstrap=True, max_depth=1, min_samples_leaf=2, min_samples_split=10, n_estimators=50;, score=0.659 total time=   0.2s\n",
            "[CV 4/5] END bootstrap=True, max_depth=1, min_samples_leaf=2, min_samples_split=10, n_estimators=50;, score=0.643 total time=   0.2s\n",
            "[CV 5/5] END bootstrap=True, max_depth=1, min_samples_leaf=2, min_samples_split=10, n_estimators=50;, score=0.636 total time=   0.2s\n",
            "[CV 1/5] END bootstrap=True, max_depth=1, min_samples_leaf=2, min_samples_split=10, n_estimators=100;, score=0.640 total time=   0.4s\n",
            "[CV 2/5] END bootstrap=True, max_depth=1, min_samples_leaf=2, min_samples_split=10, n_estimators=100;, score=0.639 total time=   0.4s\n",
            "[CV 3/5] END bootstrap=True, max_depth=1, min_samples_leaf=2, min_samples_split=10, n_estimators=100;, score=0.647 total time=   0.4s\n",
            "[CV 4/5] END bootstrap=True, max_depth=1, min_samples_leaf=2, min_samples_split=10, n_estimators=100;, score=0.655 total time=   0.4s\n",
            "[CV 5/5] END bootstrap=True, max_depth=1, min_samples_leaf=2, min_samples_split=10, n_estimators=100;, score=0.639 total time=   0.4s\n",
            "[CV 1/5] END bootstrap=True, max_depth=1, min_samples_leaf=2, min_samples_split=10, n_estimators=300;, score=0.646 total time=   1.1s\n",
            "[CV 2/5] END bootstrap=True, max_depth=1, min_samples_leaf=2, min_samples_split=10, n_estimators=300;, score=0.643 total time=   1.2s\n",
            "[CV 3/5] END bootstrap=True, max_depth=1, min_samples_leaf=2, min_samples_split=10, n_estimators=300;, score=0.639 total time=   1.2s\n",
            "[CV 4/5] END bootstrap=True, max_depth=1, min_samples_leaf=2, min_samples_split=10, n_estimators=300;, score=0.647 total time=   1.1s\n",
            "[CV 5/5] END bootstrap=True, max_depth=1, min_samples_leaf=2, min_samples_split=10, n_estimators=300;, score=0.619 total time=   1.1s\n",
            "[CV 1/5] END bootstrap=True, max_depth=1, min_samples_leaf=2, min_samples_split=10, n_estimators=500;, score=0.648 total time=   1.9s\n",
            "[CV 2/5] END bootstrap=True, max_depth=1, min_samples_leaf=2, min_samples_split=10, n_estimators=500;, score=0.644 total time=   1.9s\n",
            "[CV 3/5] END bootstrap=True, max_depth=1, min_samples_leaf=2, min_samples_split=10, n_estimators=500;, score=0.658 total time=   1.9s\n",
            "[CV 4/5] END bootstrap=True, max_depth=1, min_samples_leaf=2, min_samples_split=10, n_estimators=500;, score=0.654 total time=   1.9s\n",
            "[CV 5/5] END bootstrap=True, max_depth=1, min_samples_leaf=2, min_samples_split=10, n_estimators=500;, score=0.636 total time=   1.9s\n",
            "[CV 1/5] END bootstrap=True, max_depth=1, min_samples_leaf=4, min_samples_split=2, n_estimators=10;, score=0.632 total time=   0.1s\n",
            "[CV 2/5] END bootstrap=True, max_depth=1, min_samples_leaf=4, min_samples_split=2, n_estimators=10;, score=0.624 total time=   0.0s\n",
            "[CV 3/5] END bootstrap=True, max_depth=1, min_samples_leaf=4, min_samples_split=2, n_estimators=10;, score=0.625 total time=   0.0s\n",
            "[CV 4/5] END bootstrap=True, max_depth=1, min_samples_leaf=4, min_samples_split=2, n_estimators=10;, score=0.626 total time=   0.1s\n",
            "[CV 5/5] END bootstrap=True, max_depth=1, min_samples_leaf=4, min_samples_split=2, n_estimators=10;, score=0.617 total time=   0.1s\n",
            "[CV 1/5] END bootstrap=True, max_depth=1, min_samples_leaf=4, min_samples_split=2, n_estimators=50;, score=0.625 total time=   0.2s\n",
            "[CV 2/5] END bootstrap=True, max_depth=1, min_samples_leaf=4, min_samples_split=2, n_estimators=50;, score=0.633 total time=   0.2s\n",
            "[CV 3/5] END bootstrap=True, max_depth=1, min_samples_leaf=4, min_samples_split=2, n_estimators=50;, score=0.632 total time=   0.2s\n",
            "[CV 4/5] END bootstrap=True, max_depth=1, min_samples_leaf=4, min_samples_split=2, n_estimators=50;, score=0.627 total time=   0.2s\n",
            "[CV 5/5] END bootstrap=True, max_depth=1, min_samples_leaf=4, min_samples_split=2, n_estimators=50;, score=0.611 total time=   0.2s\n",
            "[CV 1/5] END bootstrap=True, max_depth=1, min_samples_leaf=4, min_samples_split=2, n_estimators=100;, score=0.650 total time=   0.4s\n",
            "[CV 2/5] END bootstrap=True, max_depth=1, min_samples_leaf=4, min_samples_split=2, n_estimators=100;, score=0.641 total time=   0.4s\n",
            "[CV 3/5] END bootstrap=True, max_depth=1, min_samples_leaf=4, min_samples_split=2, n_estimators=100;, score=0.647 total time=   0.4s\n",
            "[CV 4/5] END bootstrap=True, max_depth=1, min_samples_leaf=4, min_samples_split=2, n_estimators=100;, score=0.659 total time=   0.4s\n",
            "[CV 5/5] END bootstrap=True, max_depth=1, min_samples_leaf=4, min_samples_split=2, n_estimators=100;, score=0.617 total time=   0.4s\n",
            "[CV 1/5] END bootstrap=True, max_depth=1, min_samples_leaf=4, min_samples_split=2, n_estimators=300;, score=0.646 total time=   1.1s\n",
            "[CV 2/5] END bootstrap=True, max_depth=1, min_samples_leaf=4, min_samples_split=2, n_estimators=300;, score=0.648 total time=   1.1s\n",
            "[CV 3/5] END bootstrap=True, max_depth=1, min_samples_leaf=4, min_samples_split=2, n_estimators=300;, score=0.647 total time=   1.1s\n",
            "[CV 4/5] END bootstrap=True, max_depth=1, min_samples_leaf=4, min_samples_split=2, n_estimators=300;, score=0.653 total time=   1.1s\n",
            "[CV 5/5] END bootstrap=True, max_depth=1, min_samples_leaf=4, min_samples_split=2, n_estimators=300;, score=0.629 total time=   1.1s\n",
            "[CV 1/5] END bootstrap=True, max_depth=1, min_samples_leaf=4, min_samples_split=2, n_estimators=500;, score=0.645 total time=   1.8s\n",
            "[CV 2/5] END bootstrap=True, max_depth=1, min_samples_leaf=4, min_samples_split=2, n_estimators=500;, score=0.645 total time=   1.8s\n",
            "[CV 3/5] END bootstrap=True, max_depth=1, min_samples_leaf=4, min_samples_split=2, n_estimators=500;, score=0.652 total time=   1.9s\n",
            "[CV 4/5] END bootstrap=True, max_depth=1, min_samples_leaf=4, min_samples_split=2, n_estimators=500;, score=0.654 total time=   1.9s\n",
            "[CV 5/5] END bootstrap=True, max_depth=1, min_samples_leaf=4, min_samples_split=2, n_estimators=500;, score=0.618 total time=   1.9s\n",
            "[CV 1/5] END bootstrap=True, max_depth=1, min_samples_leaf=4, min_samples_split=5, n_estimators=10;, score=0.620 total time=   0.0s\n",
            "[CV 2/5] END bootstrap=True, max_depth=1, min_samples_leaf=4, min_samples_split=5, n_estimators=10;, score=0.598 total time=   0.0s\n",
            "[CV 3/5] END bootstrap=True, max_depth=1, min_samples_leaf=4, min_samples_split=5, n_estimators=10;, score=0.600 total time=   0.0s\n",
            "[CV 4/5] END bootstrap=True, max_depth=1, min_samples_leaf=4, min_samples_split=5, n_estimators=10;, score=0.616 total time=   0.1s\n",
            "[CV 5/5] END bootstrap=True, max_depth=1, min_samples_leaf=4, min_samples_split=5, n_estimators=10;, score=0.575 total time=   0.1s\n",
            "[CV 1/5] END bootstrap=True, max_depth=1, min_samples_leaf=4, min_samples_split=5, n_estimators=50;, score=0.649 total time=   0.2s\n",
            "[CV 2/5] END bootstrap=True, max_depth=1, min_samples_leaf=4, min_samples_split=5, n_estimators=50;, score=0.627 total time=   0.2s\n",
            "[CV 3/5] END bootstrap=True, max_depth=1, min_samples_leaf=4, min_samples_split=5, n_estimators=50;, score=0.650 total time=   0.2s\n",
            "[CV 4/5] END bootstrap=True, max_depth=1, min_samples_leaf=4, min_samples_split=5, n_estimators=50;, score=0.654 total time=   0.2s\n",
            "[CV 5/5] END bootstrap=True, max_depth=1, min_samples_leaf=4, min_samples_split=5, n_estimators=50;, score=0.613 total time=   0.2s\n",
            "[CV 1/5] END bootstrap=True, max_depth=1, min_samples_leaf=4, min_samples_split=5, n_estimators=100;, score=0.643 total time=   0.4s\n",
            "[CV 2/5] END bootstrap=True, max_depth=1, min_samples_leaf=4, min_samples_split=5, n_estimators=100;, score=0.635 total time=   0.4s\n",
            "[CV 3/5] END bootstrap=True, max_depth=1, min_samples_leaf=4, min_samples_split=5, n_estimators=100;, score=0.651 total time=   0.4s\n",
            "[CV 4/5] END bootstrap=True, max_depth=1, min_samples_leaf=4, min_samples_split=5, n_estimators=100;, score=0.641 total time=   0.4s\n",
            "[CV 5/5] END bootstrap=True, max_depth=1, min_samples_leaf=4, min_samples_split=5, n_estimators=100;, score=0.614 total time=   0.4s\n",
            "[CV 1/5] END bootstrap=True, max_depth=1, min_samples_leaf=4, min_samples_split=5, n_estimators=300;, score=0.652 total time=   1.1s\n",
            "[CV 2/5] END bootstrap=True, max_depth=1, min_samples_leaf=4, min_samples_split=5, n_estimators=300;, score=0.644 total time=   1.1s\n",
            "[CV 3/5] END bootstrap=True, max_depth=1, min_samples_leaf=4, min_samples_split=5, n_estimators=300;, score=0.649 total time=   1.1s\n",
            "[CV 4/5] END bootstrap=True, max_depth=1, min_samples_leaf=4, min_samples_split=5, n_estimators=300;, score=0.653 total time=   1.1s\n",
            "[CV 5/5] END bootstrap=True, max_depth=1, min_samples_leaf=4, min_samples_split=5, n_estimators=300;, score=0.631 total time=   1.1s\n",
            "[CV 1/5] END bootstrap=True, max_depth=1, min_samples_leaf=4, min_samples_split=5, n_estimators=500;, score=0.645 total time=   1.9s\n",
            "[CV 2/5] END bootstrap=True, max_depth=1, min_samples_leaf=4, min_samples_split=5, n_estimators=500;, score=0.647 total time=   1.9s\n",
            "[CV 3/5] END bootstrap=True, max_depth=1, min_samples_leaf=4, min_samples_split=5, n_estimators=500;, score=0.642 total time=   2.3s\n",
            "[CV 4/5] END bootstrap=True, max_depth=1, min_samples_leaf=4, min_samples_split=5, n_estimators=500;, score=0.653 total time=   1.8s\n",
            "[CV 5/5] END bootstrap=True, max_depth=1, min_samples_leaf=4, min_samples_split=5, n_estimators=500;, score=0.630 total time=   1.8s\n",
            "[CV 1/5] END bootstrap=True, max_depth=1, min_samples_leaf=4, min_samples_split=10, n_estimators=10;, score=0.641 total time=   0.0s\n",
            "[CV 2/5] END bootstrap=True, max_depth=1, min_samples_leaf=4, min_samples_split=10, n_estimators=10;, score=0.619 total time=   0.0s\n",
            "[CV 3/5] END bootstrap=True, max_depth=1, min_samples_leaf=4, min_samples_split=10, n_estimators=10;, score=0.628 total time=   0.0s\n",
            "[CV 4/5] END bootstrap=True, max_depth=1, min_samples_leaf=4, min_samples_split=10, n_estimators=10;, score=0.597 total time=   0.0s\n",
            "[CV 5/5] END bootstrap=True, max_depth=1, min_samples_leaf=4, min_samples_split=10, n_estimators=10;, score=0.574 total time=   0.1s\n",
            "[CV 1/5] END bootstrap=True, max_depth=1, min_samples_leaf=4, min_samples_split=10, n_estimators=50;, score=0.640 total time=   0.2s\n",
            "[CV 2/5] END bootstrap=True, max_depth=1, min_samples_leaf=4, min_samples_split=10, n_estimators=50;, score=0.643 total time=   0.2s\n",
            "[CV 3/5] END bootstrap=True, max_depth=1, min_samples_leaf=4, min_samples_split=10, n_estimators=50;, score=0.654 total time=   0.2s\n",
            "[CV 4/5] END bootstrap=True, max_depth=1, min_samples_leaf=4, min_samples_split=10, n_estimators=50;, score=0.644 total time=   0.2s\n",
            "[CV 5/5] END bootstrap=True, max_depth=1, min_samples_leaf=4, min_samples_split=10, n_estimators=50;, score=0.646 total time=   0.2s\n",
            "[CV 1/5] END bootstrap=True, max_depth=1, min_samples_leaf=4, min_samples_split=10, n_estimators=100;, score=0.645 total time=   0.4s\n",
            "[CV 2/5] END bootstrap=True, max_depth=1, min_samples_leaf=4, min_samples_split=10, n_estimators=100;, score=0.642 total time=   0.4s\n",
            "[CV 3/5] END bootstrap=True, max_depth=1, min_samples_leaf=4, min_samples_split=10, n_estimators=100;, score=0.641 total time=   0.4s\n",
            "[CV 4/5] END bootstrap=True, max_depth=1, min_samples_leaf=4, min_samples_split=10, n_estimators=100;, score=0.659 total time=   0.4s\n",
            "[CV 5/5] END bootstrap=True, max_depth=1, min_samples_leaf=4, min_samples_split=10, n_estimators=100;, score=0.634 total time=   0.4s\n",
            "[CV 1/5] END bootstrap=True, max_depth=1, min_samples_leaf=4, min_samples_split=10, n_estimators=300;, score=0.643 total time=   1.1s\n",
            "[CV 2/5] END bootstrap=True, max_depth=1, min_samples_leaf=4, min_samples_split=10, n_estimators=300;, score=0.645 total time=   1.1s\n",
            "[CV 3/5] END bootstrap=True, max_depth=1, min_samples_leaf=4, min_samples_split=10, n_estimators=300;, score=0.651 total time=   1.1s\n",
            "[CV 4/5] END bootstrap=True, max_depth=1, min_samples_leaf=4, min_samples_split=10, n_estimators=300;, score=0.655 total time=   1.1s\n",
            "[CV 5/5] END bootstrap=True, max_depth=1, min_samples_leaf=4, min_samples_split=10, n_estimators=300;, score=0.632 total time=   1.1s\n",
            "[CV 1/5] END bootstrap=True, max_depth=1, min_samples_leaf=4, min_samples_split=10, n_estimators=500;, score=0.648 total time=   1.9s\n",
            "[CV 2/5] END bootstrap=True, max_depth=1, min_samples_leaf=4, min_samples_split=10, n_estimators=500;, score=0.645 total time=   1.9s\n",
            "[CV 3/5] END bootstrap=True, max_depth=1, min_samples_leaf=4, min_samples_split=10, n_estimators=500;, score=0.642 total time=   1.8s\n",
            "[CV 4/5] END bootstrap=True, max_depth=1, min_samples_leaf=4, min_samples_split=10, n_estimators=500;, score=0.654 total time=   1.9s\n",
            "[CV 5/5] END bootstrap=True, max_depth=1, min_samples_leaf=4, min_samples_split=10, n_estimators=500;, score=0.631 total time=   1.8s\n",
            "[CV 1/5] END bootstrap=True, max_depth=3, min_samples_leaf=1, min_samples_split=2, n_estimators=10;, score=0.639 total time=   0.1s\n",
            "[CV 2/5] END bootstrap=True, max_depth=3, min_samples_leaf=1, min_samples_split=2, n_estimators=10;, score=0.649 total time=   0.1s\n",
            "[CV 3/5] END bootstrap=True, max_depth=3, min_samples_leaf=1, min_samples_split=2, n_estimators=10;, score=0.661 total time=   0.1s\n",
            "[CV 4/5] END bootstrap=True, max_depth=3, min_samples_leaf=1, min_samples_split=2, n_estimators=10;, score=0.656 total time=   0.1s\n",
            "[CV 5/5] END bootstrap=True, max_depth=3, min_samples_leaf=1, min_samples_split=2, n_estimators=10;, score=0.640 total time=   0.1s\n",
            "[CV 1/5] END bootstrap=True, max_depth=3, min_samples_leaf=1, min_samples_split=2, n_estimators=50;, score=0.653 total time=   0.3s\n",
            "[CV 2/5] END bootstrap=True, max_depth=3, min_samples_leaf=1, min_samples_split=2, n_estimators=50;, score=0.659 total time=   0.3s\n",
            "[CV 3/5] END bootstrap=True, max_depth=3, min_samples_leaf=1, min_samples_split=2, n_estimators=50;, score=0.665 total time=   0.3s\n",
            "[CV 4/5] END bootstrap=True, max_depth=3, min_samples_leaf=1, min_samples_split=2, n_estimators=50;, score=0.668 total time=   0.3s\n",
            "[CV 5/5] END bootstrap=True, max_depth=3, min_samples_leaf=1, min_samples_split=2, n_estimators=50;, score=0.650 total time=   0.3s\n",
            "[CV 1/5] END bootstrap=True, max_depth=3, min_samples_leaf=1, min_samples_split=2, n_estimators=100;, score=0.662 total time=   0.6s\n",
            "[CV 2/5] END bootstrap=True, max_depth=3, min_samples_leaf=1, min_samples_split=2, n_estimators=100;, score=0.653 total time=   0.6s\n",
            "[CV 3/5] END bootstrap=True, max_depth=3, min_samples_leaf=1, min_samples_split=2, n_estimators=100;, score=0.672 total time=   0.6s\n",
            "[CV 4/5] END bootstrap=True, max_depth=3, min_samples_leaf=1, min_samples_split=2, n_estimators=100;, score=0.670 total time=   0.6s\n",
            "[CV 5/5] END bootstrap=True, max_depth=3, min_samples_leaf=1, min_samples_split=2, n_estimators=100;, score=0.653 total time=   0.6s\n",
            "[CV 1/5] END bootstrap=True, max_depth=3, min_samples_leaf=1, min_samples_split=2, n_estimators=300;, score=0.664 total time=   1.7s\n",
            "[CV 2/5] END bootstrap=True, max_depth=3, min_samples_leaf=1, min_samples_split=2, n_estimators=300;, score=0.653 total time=   1.7s\n",
            "[CV 3/5] END bootstrap=True, max_depth=3, min_samples_leaf=1, min_samples_split=2, n_estimators=300;, score=0.667 total time=   1.6s\n",
            "[CV 4/5] END bootstrap=True, max_depth=3, min_samples_leaf=1, min_samples_split=2, n_estimators=300;, score=0.670 total time=   1.7s\n",
            "[CV 5/5] END bootstrap=True, max_depth=3, min_samples_leaf=1, min_samples_split=2, n_estimators=300;, score=0.649 total time=   1.7s\n",
            "[CV 1/5] END bootstrap=True, max_depth=3, min_samples_leaf=1, min_samples_split=2, n_estimators=500;, score=0.664 total time=   2.8s\n",
            "[CV 2/5] END bootstrap=True, max_depth=3, min_samples_leaf=1, min_samples_split=2, n_estimators=500;, score=0.659 total time=   2.8s\n",
            "[CV 3/5] END bootstrap=True, max_depth=3, min_samples_leaf=1, min_samples_split=2, n_estimators=500;, score=0.670 total time=   2.8s\n",
            "[CV 4/5] END bootstrap=True, max_depth=3, min_samples_leaf=1, min_samples_split=2, n_estimators=500;, score=0.671 total time=   2.9s\n",
            "[CV 5/5] END bootstrap=True, max_depth=3, min_samples_leaf=1, min_samples_split=2, n_estimators=500;, score=0.646 total time=   2.8s\n",
            "[CV 1/5] END bootstrap=True, max_depth=3, min_samples_leaf=1, min_samples_split=5, n_estimators=10;, score=0.656 total time=   0.1s\n",
            "[CV 2/5] END bootstrap=True, max_depth=3, min_samples_leaf=1, min_samples_split=5, n_estimators=10;, score=0.643 total time=   0.1s\n",
            "[CV 3/5] END bootstrap=True, max_depth=3, min_samples_leaf=1, min_samples_split=5, n_estimators=10;, score=0.671 total time=   0.1s\n",
            "[CV 4/5] END bootstrap=True, max_depth=3, min_samples_leaf=1, min_samples_split=5, n_estimators=10;, score=0.669 total time=   0.1s\n",
            "[CV 5/5] END bootstrap=True, max_depth=3, min_samples_leaf=1, min_samples_split=5, n_estimators=10;, score=0.622 total time=   0.1s\n",
            "[CV 1/5] END bootstrap=True, max_depth=3, min_samples_leaf=1, min_samples_split=5, n_estimators=50;, score=0.660 total time=   0.3s\n",
            "[CV 2/5] END bootstrap=True, max_depth=3, min_samples_leaf=1, min_samples_split=5, n_estimators=50;, score=0.650 total time=   0.3s\n",
            "[CV 3/5] END bootstrap=True, max_depth=3, min_samples_leaf=1, min_samples_split=5, n_estimators=50;, score=0.679 total time=   0.3s\n",
            "[CV 4/5] END bootstrap=True, max_depth=3, min_samples_leaf=1, min_samples_split=5, n_estimators=50;, score=0.660 total time=   0.3s\n",
            "[CV 5/5] END bootstrap=True, max_depth=3, min_samples_leaf=1, min_samples_split=5, n_estimators=50;, score=0.633 total time=   0.3s\n",
            "[CV 1/5] END bootstrap=True, max_depth=3, min_samples_leaf=1, min_samples_split=5, n_estimators=100;, score=0.660 total time=   0.6s\n",
            "[CV 2/5] END bootstrap=True, max_depth=3, min_samples_leaf=1, min_samples_split=5, n_estimators=100;, score=0.655 total time=   0.6s\n",
            "[CV 3/5] END bootstrap=True, max_depth=3, min_samples_leaf=1, min_samples_split=5, n_estimators=100;, score=0.664 total time=   0.6s\n",
            "[CV 4/5] END bootstrap=True, max_depth=3, min_samples_leaf=1, min_samples_split=5, n_estimators=100;, score=0.668 total time=   0.6s\n",
            "[CV 5/5] END bootstrap=True, max_depth=3, min_samples_leaf=1, min_samples_split=5, n_estimators=100;, score=0.645 total time=   0.5s\n",
            "[CV 1/5] END bootstrap=True, max_depth=3, min_samples_leaf=1, min_samples_split=5, n_estimators=300;, score=0.664 total time=   1.7s\n",
            "[CV 2/5] END bootstrap=True, max_depth=3, min_samples_leaf=1, min_samples_split=5, n_estimators=300;, score=0.656 total time=   1.7s\n",
            "[CV 3/5] END bootstrap=True, max_depth=3, min_samples_leaf=1, min_samples_split=5, n_estimators=300;, score=0.663 total time=   1.7s\n",
            "[CV 4/5] END bootstrap=True, max_depth=3, min_samples_leaf=1, min_samples_split=5, n_estimators=300;, score=0.671 total time=   1.7s\n",
            "[CV 5/5] END bootstrap=True, max_depth=3, min_samples_leaf=1, min_samples_split=5, n_estimators=300;, score=0.647 total time=   1.7s\n",
            "[CV 1/5] END bootstrap=True, max_depth=3, min_samples_leaf=1, min_samples_split=5, n_estimators=500;, score=0.665 total time=   2.8s\n",
            "[CV 2/5] END bootstrap=True, max_depth=3, min_samples_leaf=1, min_samples_split=5, n_estimators=500;, score=0.657 total time=   2.8s\n",
            "[CV 3/5] END bootstrap=True, max_depth=3, min_samples_leaf=1, min_samples_split=5, n_estimators=500;, score=0.664 total time=   2.8s\n",
            "[CV 4/5] END bootstrap=True, max_depth=3, min_samples_leaf=1, min_samples_split=5, n_estimators=500;, score=0.673 total time=   2.8s\n",
            "[CV 5/5] END bootstrap=True, max_depth=3, min_samples_leaf=1, min_samples_split=5, n_estimators=500;, score=0.643 total time=   2.8s\n",
            "[CV 1/5] END bootstrap=True, max_depth=3, min_samples_leaf=1, min_samples_split=10, n_estimators=10;, score=0.644 total time=   0.1s\n",
            "[CV 2/5] END bootstrap=True, max_depth=3, min_samples_leaf=1, min_samples_split=10, n_estimators=10;, score=0.660 total time=   0.1s\n",
            "[CV 3/5] END bootstrap=True, max_depth=3, min_samples_leaf=1, min_samples_split=10, n_estimators=10;, score=0.660 total time=   0.1s\n",
            "[CV 4/5] END bootstrap=True, max_depth=3, min_samples_leaf=1, min_samples_split=10, n_estimators=10;, score=0.665 total time=   0.1s\n",
            "[CV 5/5] END bootstrap=True, max_depth=3, min_samples_leaf=1, min_samples_split=10, n_estimators=10;, score=0.629 total time=   0.1s\n",
            "[CV 1/5] END bootstrap=True, max_depth=3, min_samples_leaf=1, min_samples_split=10, n_estimators=50;, score=0.661 total time=   0.3s\n",
            "[CV 2/5] END bootstrap=True, max_depth=3, min_samples_leaf=1, min_samples_split=10, n_estimators=50;, score=0.656 total time=   0.3s\n",
            "[CV 3/5] END bootstrap=True, max_depth=3, min_samples_leaf=1, min_samples_split=10, n_estimators=50;, score=0.675 total time=   0.3s\n",
            "[CV 4/5] END bootstrap=True, max_depth=3, min_samples_leaf=1, min_samples_split=10, n_estimators=50;, score=0.672 total time=   0.3s\n",
            "[CV 5/5] END bootstrap=True, max_depth=3, min_samples_leaf=1, min_samples_split=10, n_estimators=50;, score=0.645 total time=   0.3s\n",
            "[CV 1/5] END bootstrap=True, max_depth=3, min_samples_leaf=1, min_samples_split=10, n_estimators=100;, score=0.665 total time=   0.6s\n",
            "[CV 2/5] END bootstrap=True, max_depth=3, min_samples_leaf=1, min_samples_split=10, n_estimators=100;, score=0.650 total time=   0.6s\n",
            "[CV 3/5] END bootstrap=True, max_depth=3, min_samples_leaf=1, min_samples_split=10, n_estimators=100;, score=0.664 total time=   0.6s\n",
            "[CV 4/5] END bootstrap=True, max_depth=3, min_samples_leaf=1, min_samples_split=10, n_estimators=100;, score=0.662 total time=   0.6s\n",
            "[CV 5/5] END bootstrap=True, max_depth=3, min_samples_leaf=1, min_samples_split=10, n_estimators=100;, score=0.643 total time=   0.5s\n",
            "[CV 1/5] END bootstrap=True, max_depth=3, min_samples_leaf=1, min_samples_split=10, n_estimators=300;, score=0.664 total time=   1.7s\n",
            "[CV 2/5] END bootstrap=True, max_depth=3, min_samples_leaf=1, min_samples_split=10, n_estimators=300;, score=0.655 total time=   1.7s\n",
            "[CV 3/5] END bootstrap=True, max_depth=3, min_samples_leaf=1, min_samples_split=10, n_estimators=300;, score=0.663 total time=   1.7s\n",
            "[CV 4/5] END bootstrap=True, max_depth=3, min_samples_leaf=1, min_samples_split=10, n_estimators=300;, score=0.673 total time=   1.8s\n",
            "[CV 5/5] END bootstrap=True, max_depth=3, min_samples_leaf=1, min_samples_split=10, n_estimators=300;, score=0.650 total time=   1.7s\n",
            "[CV 1/5] END bootstrap=True, max_depth=3, min_samples_leaf=1, min_samples_split=10, n_estimators=500;, score=0.663 total time=   2.8s\n",
            "[CV 2/5] END bootstrap=True, max_depth=3, min_samples_leaf=1, min_samples_split=10, n_estimators=500;, score=0.656 total time=   2.8s\n",
            "[CV 3/5] END bootstrap=True, max_depth=3, min_samples_leaf=1, min_samples_split=10, n_estimators=500;, score=0.663 total time=   2.8s\n",
            "[CV 4/5] END bootstrap=True, max_depth=3, min_samples_leaf=1, min_samples_split=10, n_estimators=500;, score=0.670 total time=   2.8s\n",
            "[CV 5/5] END bootstrap=True, max_depth=3, min_samples_leaf=1, min_samples_split=10, n_estimators=500;, score=0.649 total time=   2.8s\n",
            "[CV 1/5] END bootstrap=True, max_depth=3, min_samples_leaf=2, min_samples_split=2, n_estimators=10;, score=0.656 total time=   0.1s\n",
            "[CV 2/5] END bootstrap=True, max_depth=3, min_samples_leaf=2, min_samples_split=2, n_estimators=10;, score=0.642 total time=   0.1s\n",
            "[CV 3/5] END bootstrap=True, max_depth=3, min_samples_leaf=2, min_samples_split=2, n_estimators=10;, score=0.658 total time=   0.1s\n",
            "[CV 4/5] END bootstrap=True, max_depth=3, min_samples_leaf=2, min_samples_split=2, n_estimators=10;, score=0.657 total time=   0.1s\n",
            "[CV 5/5] END bootstrap=True, max_depth=3, min_samples_leaf=2, min_samples_split=2, n_estimators=10;, score=0.630 total time=   0.1s\n",
            "[CV 1/5] END bootstrap=True, max_depth=3, min_samples_leaf=2, min_samples_split=2, n_estimators=50;, score=0.662 total time=   0.3s\n",
            "[CV 2/5] END bootstrap=True, max_depth=3, min_samples_leaf=2, min_samples_split=2, n_estimators=50;, score=0.654 total time=   0.3s\n",
            "[CV 3/5] END bootstrap=True, max_depth=3, min_samples_leaf=2, min_samples_split=2, n_estimators=50;, score=0.661 total time=   0.3s\n",
            "[CV 4/5] END bootstrap=True, max_depth=3, min_samples_leaf=2, min_samples_split=2, n_estimators=50;, score=0.672 total time=   0.3s\n",
            "[CV 5/5] END bootstrap=True, max_depth=3, min_samples_leaf=2, min_samples_split=2, n_estimators=50;, score=0.647 total time=   0.3s\n",
            "[CV 1/5] END bootstrap=True, max_depth=3, min_samples_leaf=2, min_samples_split=2, n_estimators=100;, score=0.665 total time=   0.6s\n",
            "[CV 2/5] END bootstrap=True, max_depth=3, min_samples_leaf=2, min_samples_split=2, n_estimators=100;, score=0.655 total time=   0.6s\n",
            "[CV 3/5] END bootstrap=True, max_depth=3, min_samples_leaf=2, min_samples_split=2, n_estimators=100;, score=0.661 total time=   0.6s\n",
            "[CV 4/5] END bootstrap=True, max_depth=3, min_samples_leaf=2, min_samples_split=2, n_estimators=100;, score=0.664 total time=   0.6s\n",
            "[CV 5/5] END bootstrap=True, max_depth=3, min_samples_leaf=2, min_samples_split=2, n_estimators=100;, score=0.651 total time=   0.6s\n",
            "[CV 1/5] END bootstrap=True, max_depth=3, min_samples_leaf=2, min_samples_split=2, n_estimators=300;, score=0.663 total time=   1.7s\n",
            "[CV 2/5] END bootstrap=True, max_depth=3, min_samples_leaf=2, min_samples_split=2, n_estimators=300;, score=0.657 total time=   1.7s\n",
            "[CV 3/5] END bootstrap=True, max_depth=3, min_samples_leaf=2, min_samples_split=2, n_estimators=300;, score=0.663 total time=   1.6s\n",
            "[CV 4/5] END bootstrap=True, max_depth=3, min_samples_leaf=2, min_samples_split=2, n_estimators=300;, score=0.672 total time=   1.7s\n",
            "[CV 5/5] END bootstrap=True, max_depth=3, min_samples_leaf=2, min_samples_split=2, n_estimators=300;, score=0.649 total time=   1.7s\n",
            "[CV 1/5] END bootstrap=True, max_depth=3, min_samples_leaf=2, min_samples_split=2, n_estimators=500;, score=0.662 total time=   2.9s\n",
            "[CV 2/5] END bootstrap=True, max_depth=3, min_samples_leaf=2, min_samples_split=2, n_estimators=500;, score=0.655 total time=   2.8s\n",
            "[CV 3/5] END bootstrap=True, max_depth=3, min_samples_leaf=2, min_samples_split=2, n_estimators=500;, score=0.667 total time=   2.8s\n",
            "[CV 4/5] END bootstrap=True, max_depth=3, min_samples_leaf=2, min_samples_split=2, n_estimators=500;, score=0.672 total time=   2.8s\n",
            "[CV 5/5] END bootstrap=True, max_depth=3, min_samples_leaf=2, min_samples_split=2, n_estimators=500;, score=0.646 total time=   2.8s\n",
            "[CV 1/5] END bootstrap=True, max_depth=3, min_samples_leaf=2, min_samples_split=5, n_estimators=10;, score=0.649 total time=   0.1s\n",
            "[CV 2/5] END bootstrap=True, max_depth=3, min_samples_leaf=2, min_samples_split=5, n_estimators=10;, score=0.639 total time=   0.1s\n",
            "[CV 3/5] END bootstrap=True, max_depth=3, min_samples_leaf=2, min_samples_split=5, n_estimators=10;, score=0.666 total time=   0.1s\n",
            "[CV 4/5] END bootstrap=True, max_depth=3, min_samples_leaf=2, min_samples_split=5, n_estimators=10;, score=0.668 total time=   0.1s\n",
            "[CV 5/5] END bootstrap=True, max_depth=3, min_samples_leaf=2, min_samples_split=5, n_estimators=10;, score=0.640 total time=   0.1s\n",
            "[CV 1/5] END bootstrap=True, max_depth=3, min_samples_leaf=2, min_samples_split=5, n_estimators=50;, score=0.659 total time=   0.3s\n",
            "[CV 2/5] END bootstrap=True, max_depth=3, min_samples_leaf=2, min_samples_split=5, n_estimators=50;, score=0.654 total time=   0.3s\n",
            "[CV 3/5] END bootstrap=True, max_depth=3, min_samples_leaf=2, min_samples_split=5, n_estimators=50;, score=0.667 total time=   0.3s\n",
            "[CV 4/5] END bootstrap=True, max_depth=3, min_samples_leaf=2, min_samples_split=5, n_estimators=50;, score=0.668 total time=   0.3s\n",
            "[CV 5/5] END bootstrap=True, max_depth=3, min_samples_leaf=2, min_samples_split=5, n_estimators=50;, score=0.631 total time=   0.3s\n",
            "[CV 1/5] END bootstrap=True, max_depth=3, min_samples_leaf=2, min_samples_split=5, n_estimators=100;, score=0.659 total time=   0.6s\n",
            "[CV 2/5] END bootstrap=True, max_depth=3, min_samples_leaf=2, min_samples_split=5, n_estimators=100;, score=0.653 total time=   0.6s\n",
            "[CV 3/5] END bootstrap=True, max_depth=3, min_samples_leaf=2, min_samples_split=5, n_estimators=100;, score=0.664 total time=   0.6s\n",
            "[CV 4/5] END bootstrap=True, max_depth=3, min_samples_leaf=2, min_samples_split=5, n_estimators=100;, score=0.669 total time=   0.6s\n",
            "[CV 5/5] END bootstrap=True, max_depth=3, min_samples_leaf=2, min_samples_split=5, n_estimators=100;, score=0.638 total time=   0.6s\n",
            "[CV 1/5] END bootstrap=True, max_depth=3, min_samples_leaf=2, min_samples_split=5, n_estimators=300;, score=0.663 total time=   1.7s\n",
            "[CV 2/5] END bootstrap=True, max_depth=3, min_samples_leaf=2, min_samples_split=5, n_estimators=300;, score=0.658 total time=   1.7s\n",
            "[CV 3/5] END bootstrap=True, max_depth=3, min_samples_leaf=2, min_samples_split=5, n_estimators=300;, score=0.663 total time=   1.7s\n",
            "[CV 4/5] END bootstrap=True, max_depth=3, min_samples_leaf=2, min_samples_split=5, n_estimators=300;, score=0.667 total time=   1.7s\n",
            "[CV 5/5] END bootstrap=True, max_depth=3, min_samples_leaf=2, min_samples_split=5, n_estimators=300;, score=0.649 total time=   1.7s\n",
            "[CV 1/5] END bootstrap=True, max_depth=3, min_samples_leaf=2, min_samples_split=5, n_estimators=500;, score=0.660 total time=   2.8s\n",
            "[CV 2/5] END bootstrap=True, max_depth=3, min_samples_leaf=2, min_samples_split=5, n_estimators=500;, score=0.655 total time=   2.9s\n",
            "[CV 3/5] END bootstrap=True, max_depth=3, min_samples_leaf=2, min_samples_split=5, n_estimators=500;, score=0.669 total time=   2.8s\n",
            "[CV 4/5] END bootstrap=True, max_depth=3, min_samples_leaf=2, min_samples_split=5, n_estimators=500;, score=0.674 total time=   2.8s\n",
            "[CV 5/5] END bootstrap=True, max_depth=3, min_samples_leaf=2, min_samples_split=5, n_estimators=500;, score=0.647 total time=   2.8s\n",
            "[CV 1/5] END bootstrap=True, max_depth=3, min_samples_leaf=2, min_samples_split=10, n_estimators=10;, score=0.654 total time=   0.1s\n",
            "[CV 2/5] END bootstrap=True, max_depth=3, min_samples_leaf=2, min_samples_split=10, n_estimators=10;, score=0.637 total time=   0.1s\n",
            "[CV 3/5] END bootstrap=True, max_depth=3, min_samples_leaf=2, min_samples_split=10, n_estimators=10;, score=0.650 total time=   0.1s\n",
            "[CV 4/5] END bootstrap=True, max_depth=3, min_samples_leaf=2, min_samples_split=10, n_estimators=10;, score=0.667 total time=   0.1s\n",
            "[CV 5/5] END bootstrap=True, max_depth=3, min_samples_leaf=2, min_samples_split=10, n_estimators=10;, score=0.651 total time=   0.1s\n",
            "[CV 1/5] END bootstrap=True, max_depth=3, min_samples_leaf=2, min_samples_split=10, n_estimators=50;, score=0.659 total time=   0.3s\n",
            "[CV 2/5] END bootstrap=True, max_depth=3, min_samples_leaf=2, min_samples_split=10, n_estimators=50;, score=0.652 total time=   0.3s\n",
            "[CV 3/5] END bootstrap=True, max_depth=3, min_samples_leaf=2, min_samples_split=10, n_estimators=50;, score=0.665 total time=   0.3s\n",
            "[CV 4/5] END bootstrap=True, max_depth=3, min_samples_leaf=2, min_samples_split=10, n_estimators=50;, score=0.672 total time=   0.3s\n",
            "[CV 5/5] END bootstrap=True, max_depth=3, min_samples_leaf=2, min_samples_split=10, n_estimators=50;, score=0.640 total time=   0.3s\n",
            "[CV 1/5] END bootstrap=True, max_depth=3, min_samples_leaf=2, min_samples_split=10, n_estimators=100;, score=0.664 total time=   0.6s\n",
            "[CV 2/5] END bootstrap=True, max_depth=3, min_samples_leaf=2, min_samples_split=10, n_estimators=100;, score=0.658 total time=   0.6s\n",
            "[CV 3/5] END bootstrap=True, max_depth=3, min_samples_leaf=2, min_samples_split=10, n_estimators=100;, score=0.665 total time=   0.6s\n",
            "[CV 4/5] END bootstrap=True, max_depth=3, min_samples_leaf=2, min_samples_split=10, n_estimators=100;, score=0.663 total time=   0.6s\n",
            "[CV 5/5] END bootstrap=True, max_depth=3, min_samples_leaf=2, min_samples_split=10, n_estimators=100;, score=0.649 total time=   0.6s\n",
            "[CV 1/5] END bootstrap=True, max_depth=3, min_samples_leaf=2, min_samples_split=10, n_estimators=300;, score=0.663 total time=   1.7s\n",
            "[CV 2/5] END bootstrap=True, max_depth=3, min_samples_leaf=2, min_samples_split=10, n_estimators=300;, score=0.655 total time=   1.7s\n",
            "[CV 3/5] END bootstrap=True, max_depth=3, min_samples_leaf=2, min_samples_split=10, n_estimators=300;, score=0.664 total time=   1.7s\n",
            "[CV 4/5] END bootstrap=True, max_depth=3, min_samples_leaf=2, min_samples_split=10, n_estimators=300;, score=0.670 total time=   1.6s\n",
            "[CV 5/5] END bootstrap=True, max_depth=3, min_samples_leaf=2, min_samples_split=10, n_estimators=300;, score=0.649 total time=   1.6s\n",
            "[CV 1/5] END bootstrap=True, max_depth=3, min_samples_leaf=2, min_samples_split=10, n_estimators=500;, score=0.660 total time=   2.9s\n",
            "[CV 2/5] END bootstrap=True, max_depth=3, min_samples_leaf=2, min_samples_split=10, n_estimators=500;, score=0.658 total time=   2.8s\n",
            "[CV 3/5] END bootstrap=True, max_depth=3, min_samples_leaf=2, min_samples_split=10, n_estimators=500;, score=0.668 total time=   2.8s\n",
            "[CV 4/5] END bootstrap=True, max_depth=3, min_samples_leaf=2, min_samples_split=10, n_estimators=500;, score=0.673 total time=   2.9s\n",
            "[CV 5/5] END bootstrap=True, max_depth=3, min_samples_leaf=2, min_samples_split=10, n_estimators=500;, score=0.639 total time=   2.8s\n",
            "[CV 1/5] END bootstrap=True, max_depth=3, min_samples_leaf=4, min_samples_split=2, n_estimators=10;, score=0.654 total time=   0.1s\n",
            "[CV 2/5] END bootstrap=True, max_depth=3, min_samples_leaf=4, min_samples_split=2, n_estimators=10;, score=0.637 total time=   0.1s\n",
            "[CV 3/5] END bootstrap=True, max_depth=3, min_samples_leaf=4, min_samples_split=2, n_estimators=10;, score=0.653 total time=   0.1s\n",
            "[CV 4/5] END bootstrap=True, max_depth=3, min_samples_leaf=4, min_samples_split=2, n_estimators=10;, score=0.659 total time=   0.1s\n",
            "[CV 5/5] END bootstrap=True, max_depth=3, min_samples_leaf=4, min_samples_split=2, n_estimators=10;, score=0.631 total time=   0.1s\n",
            "[CV 1/5] END bootstrap=True, max_depth=3, min_samples_leaf=4, min_samples_split=2, n_estimators=50;, score=0.663 total time=   0.3s\n",
            "[CV 2/5] END bootstrap=True, max_depth=3, min_samples_leaf=4, min_samples_split=2, n_estimators=50;, score=0.652 total time=   0.3s\n",
            "[CV 3/5] END bootstrap=True, max_depth=3, min_samples_leaf=4, min_samples_split=2, n_estimators=50;, score=0.673 total time=   0.3s\n",
            "[CV 4/5] END bootstrap=True, max_depth=3, min_samples_leaf=4, min_samples_split=2, n_estimators=50;, score=0.665 total time=   0.3s\n",
            "[CV 5/5] END bootstrap=True, max_depth=3, min_samples_leaf=4, min_samples_split=2, n_estimators=50;, score=0.645 total time=   0.3s\n",
            "[CV 1/5] END bootstrap=True, max_depth=3, min_samples_leaf=4, min_samples_split=2, n_estimators=100;, score=0.658 total time=   0.6s\n",
            "[CV 2/5] END bootstrap=True, max_depth=3, min_samples_leaf=4, min_samples_split=2, n_estimators=100;, score=0.649 total time=   0.6s\n",
            "[CV 3/5] END bootstrap=True, max_depth=3, min_samples_leaf=4, min_samples_split=2, n_estimators=100;, score=0.672 total time=   0.6s\n",
            "[CV 4/5] END bootstrap=True, max_depth=3, min_samples_leaf=4, min_samples_split=2, n_estimators=100;, score=0.661 total time=   0.6s\n",
            "[CV 5/5] END bootstrap=True, max_depth=3, min_samples_leaf=4, min_samples_split=2, n_estimators=100;, score=0.647 total time=   0.6s\n",
            "[CV 1/5] END bootstrap=True, max_depth=3, min_samples_leaf=4, min_samples_split=2, n_estimators=300;, score=0.664 total time=   1.7s\n",
            "[CV 2/5] END bootstrap=True, max_depth=3, min_samples_leaf=4, min_samples_split=2, n_estimators=300;, score=0.655 total time=   1.7s\n",
            "[CV 3/5] END bootstrap=True, max_depth=3, min_samples_leaf=4, min_samples_split=2, n_estimators=300;, score=0.666 total time=   1.7s\n",
            "[CV 4/5] END bootstrap=True, max_depth=3, min_samples_leaf=4, min_samples_split=2, n_estimators=300;, score=0.671 total time=   1.7s\n",
            "[CV 5/5] END bootstrap=True, max_depth=3, min_samples_leaf=4, min_samples_split=2, n_estimators=300;, score=0.645 total time=   1.7s\n",
            "[CV 1/5] END bootstrap=True, max_depth=3, min_samples_leaf=4, min_samples_split=2, n_estimators=500;, score=0.663 total time=   2.8s\n",
            "[CV 2/5] END bootstrap=True, max_depth=3, min_samples_leaf=4, min_samples_split=2, n_estimators=500;, score=0.656 total time=   2.8s\n",
            "[CV 3/5] END bootstrap=True, max_depth=3, min_samples_leaf=4, min_samples_split=2, n_estimators=500;, score=0.667 total time=   2.8s\n",
            "[CV 4/5] END bootstrap=True, max_depth=3, min_samples_leaf=4, min_samples_split=2, n_estimators=500;, score=0.674 total time=   2.8s\n",
            "[CV 5/5] END bootstrap=True, max_depth=3, min_samples_leaf=4, min_samples_split=2, n_estimators=500;, score=0.648 total time=   2.8s\n",
            "[CV 1/5] END bootstrap=True, max_depth=3, min_samples_leaf=4, min_samples_split=5, n_estimators=10;, score=0.670 total time=   0.1s\n",
            "[CV 2/5] END bootstrap=True, max_depth=3, min_samples_leaf=4, min_samples_split=5, n_estimators=10;, score=0.655 total time=   0.1s\n",
            "[CV 3/5] END bootstrap=True, max_depth=3, min_samples_leaf=4, min_samples_split=5, n_estimators=10;, score=0.649 total time=   0.1s\n",
            "[CV 4/5] END bootstrap=True, max_depth=3, min_samples_leaf=4, min_samples_split=5, n_estimators=10;, score=0.670 total time=   0.1s\n",
            "[CV 5/5] END bootstrap=True, max_depth=3, min_samples_leaf=4, min_samples_split=5, n_estimators=10;, score=0.643 total time=   0.1s\n",
            "[CV 1/5] END bootstrap=True, max_depth=3, min_samples_leaf=4, min_samples_split=5, n_estimators=50;, score=0.663 total time=   0.3s\n",
            "[CV 2/5] END bootstrap=True, max_depth=3, min_samples_leaf=4, min_samples_split=5, n_estimators=50;, score=0.650 total time=   0.3s\n",
            "[CV 3/5] END bootstrap=True, max_depth=3, min_samples_leaf=4, min_samples_split=5, n_estimators=50;, score=0.663 total time=   0.3s\n",
            "[CV 4/5] END bootstrap=True, max_depth=3, min_samples_leaf=4, min_samples_split=5, n_estimators=50;, score=0.661 total time=   0.3s\n",
            "[CV 5/5] END bootstrap=True, max_depth=3, min_samples_leaf=4, min_samples_split=5, n_estimators=50;, score=0.643 total time=   0.3s\n",
            "[CV 1/5] END bootstrap=True, max_depth=3, min_samples_leaf=4, min_samples_split=5, n_estimators=100;, score=0.659 total time=   0.6s\n",
            "[CV 2/5] END bootstrap=True, max_depth=3, min_samples_leaf=4, min_samples_split=5, n_estimators=100;, score=0.651 total time=   0.6s\n",
            "[CV 3/5] END bootstrap=True, max_depth=3, min_samples_leaf=4, min_samples_split=5, n_estimators=100;, score=0.669 total time=   0.6s\n",
            "[CV 4/5] END bootstrap=True, max_depth=3, min_samples_leaf=4, min_samples_split=5, n_estimators=100;, score=0.671 total time=   0.6s\n",
            "[CV 5/5] END bootstrap=True, max_depth=3, min_samples_leaf=4, min_samples_split=5, n_estimators=100;, score=0.650 total time=   0.6s\n",
            "[CV 1/5] END bootstrap=True, max_depth=3, min_samples_leaf=4, min_samples_split=5, n_estimators=300;, score=0.663 total time=   1.7s\n",
            "[CV 2/5] END bootstrap=True, max_depth=3, min_samples_leaf=4, min_samples_split=5, n_estimators=300;, score=0.655 total time=   1.7s\n",
            "[CV 3/5] END bootstrap=True, max_depth=3, min_samples_leaf=4, min_samples_split=5, n_estimators=300;, score=0.667 total time=   1.7s\n",
            "[CV 4/5] END bootstrap=True, max_depth=3, min_samples_leaf=4, min_samples_split=5, n_estimators=300;, score=0.666 total time=   1.7s\n",
            "[CV 5/5] END bootstrap=True, max_depth=3, min_samples_leaf=4, min_samples_split=5, n_estimators=300;, score=0.645 total time=   1.7s\n",
            "[CV 1/5] END bootstrap=True, max_depth=3, min_samples_leaf=4, min_samples_split=5, n_estimators=500;, score=0.661 total time=   2.8s\n",
            "[CV 2/5] END bootstrap=True, max_depth=3, min_samples_leaf=4, min_samples_split=5, n_estimators=500;, score=0.656 total time=   2.8s\n",
            "[CV 3/5] END bootstrap=True, max_depth=3, min_samples_leaf=4, min_samples_split=5, n_estimators=500;, score=0.663 total time=   2.8s\n",
            "[CV 4/5] END bootstrap=True, max_depth=3, min_samples_leaf=4, min_samples_split=5, n_estimators=500;, score=0.668 total time=   2.8s\n",
            "[CV 5/5] END bootstrap=True, max_depth=3, min_samples_leaf=4, min_samples_split=5, n_estimators=500;, score=0.651 total time=   2.9s\n",
            "[CV 1/5] END bootstrap=True, max_depth=3, min_samples_leaf=4, min_samples_split=10, n_estimators=10;, score=0.658 total time=   0.1s\n",
            "[CV 2/5] END bootstrap=True, max_depth=3, min_samples_leaf=4, min_samples_split=10, n_estimators=10;, score=0.651 total time=   0.1s\n",
            "[CV 3/5] END bootstrap=True, max_depth=3, min_samples_leaf=4, min_samples_split=10, n_estimators=10;, score=0.673 total time=   0.1s\n",
            "[CV 4/5] END bootstrap=True, max_depth=3, min_samples_leaf=4, min_samples_split=10, n_estimators=10;, score=0.665 total time=   0.1s\n",
            "[CV 5/5] END bootstrap=True, max_depth=3, min_samples_leaf=4, min_samples_split=10, n_estimators=10;, score=0.648 total time=   0.1s\n",
            "[CV 1/5] END bootstrap=True, max_depth=3, min_samples_leaf=4, min_samples_split=10, n_estimators=50;, score=0.665 total time=   0.4s\n",
            "[CV 2/5] END bootstrap=True, max_depth=3, min_samples_leaf=4, min_samples_split=10, n_estimators=50;, score=0.649 total time=   0.4s\n",
            "[CV 3/5] END bootstrap=True, max_depth=3, min_samples_leaf=4, min_samples_split=10, n_estimators=50;, score=0.662 total time=   0.3s\n",
            "[CV 4/5] END bootstrap=True, max_depth=3, min_samples_leaf=4, min_samples_split=10, n_estimators=50;, score=0.668 total time=   0.3s\n",
            "[CV 5/5] END bootstrap=True, max_depth=3, min_samples_leaf=4, min_samples_split=10, n_estimators=50;, score=0.647 total time=   0.3s\n",
            "[CV 1/5] END bootstrap=True, max_depth=3, min_samples_leaf=4, min_samples_split=10, n_estimators=100;, score=0.665 total time=   0.6s\n",
            "[CV 2/5] END bootstrap=True, max_depth=3, min_samples_leaf=4, min_samples_split=10, n_estimators=100;, score=0.657 total time=   0.6s\n",
            "[CV 3/5] END bootstrap=True, max_depth=3, min_samples_leaf=4, min_samples_split=10, n_estimators=100;, score=0.673 total time=   0.6s\n",
            "[CV 4/5] END bootstrap=True, max_depth=3, min_samples_leaf=4, min_samples_split=10, n_estimators=100;, score=0.674 total time=   0.6s\n",
            "[CV 5/5] END bootstrap=True, max_depth=3, min_samples_leaf=4, min_samples_split=10, n_estimators=100;, score=0.638 total time=   0.6s\n",
            "[CV 1/5] END bootstrap=True, max_depth=3, min_samples_leaf=4, min_samples_split=10, n_estimators=300;, score=0.665 total time=   1.7s\n",
            "[CV 2/5] END bootstrap=True, max_depth=3, min_samples_leaf=4, min_samples_split=10, n_estimators=300;, score=0.660 total time=   1.7s\n",
            "[CV 3/5] END bootstrap=True, max_depth=3, min_samples_leaf=4, min_samples_split=10, n_estimators=300;, score=0.666 total time=   1.7s\n",
            "[CV 4/5] END bootstrap=True, max_depth=3, min_samples_leaf=4, min_samples_split=10, n_estimators=300;, score=0.670 total time=   1.7s\n",
            "[CV 5/5] END bootstrap=True, max_depth=3, min_samples_leaf=4, min_samples_split=10, n_estimators=300;, score=0.648 total time=   1.7s\n",
            "[CV 1/5] END bootstrap=True, max_depth=3, min_samples_leaf=4, min_samples_split=10, n_estimators=500;, score=0.661 total time=   2.8s\n",
            "[CV 2/5] END bootstrap=True, max_depth=3, min_samples_leaf=4, min_samples_split=10, n_estimators=500;, score=0.655 total time=   2.8s\n",
            "[CV 3/5] END bootstrap=True, max_depth=3, min_samples_leaf=4, min_samples_split=10, n_estimators=500;, score=0.665 total time=   2.8s\n",
            "[CV 4/5] END bootstrap=True, max_depth=3, min_samples_leaf=4, min_samples_split=10, n_estimators=500;, score=0.673 total time=   2.7s\n",
            "[CV 5/5] END bootstrap=True, max_depth=3, min_samples_leaf=4, min_samples_split=10, n_estimators=500;, score=0.646 total time=   2.8s\n",
            "[CV 1/5] END bootstrap=True, max_depth=5, min_samples_leaf=1, min_samples_split=2, n_estimators=10;, score=0.666 total time=   0.1s\n",
            "[CV 2/5] END bootstrap=True, max_depth=5, min_samples_leaf=1, min_samples_split=2, n_estimators=10;, score=0.663 total time=   0.1s\n",
            "[CV 3/5] END bootstrap=True, max_depth=5, min_samples_leaf=1, min_samples_split=2, n_estimators=10;, score=0.665 total time=   0.1s\n",
            "[CV 4/5] END bootstrap=True, max_depth=5, min_samples_leaf=1, min_samples_split=2, n_estimators=10;, score=0.682 total time=   0.1s\n",
            "[CV 5/5] END bootstrap=True, max_depth=5, min_samples_leaf=1, min_samples_split=2, n_estimators=10;, score=0.644 total time=   0.1s\n",
            "[CV 1/5] END bootstrap=True, max_depth=5, min_samples_leaf=1, min_samples_split=2, n_estimators=50;, score=0.672 total time=   0.4s\n",
            "[CV 2/5] END bootstrap=True, max_depth=5, min_samples_leaf=1, min_samples_split=2, n_estimators=50;, score=0.668 total time=   0.4s\n",
            "[CV 3/5] END bootstrap=True, max_depth=5, min_samples_leaf=1, min_samples_split=2, n_estimators=50;, score=0.688 total time=   0.4s\n",
            "[CV 4/5] END bootstrap=True, max_depth=5, min_samples_leaf=1, min_samples_split=2, n_estimators=50;, score=0.676 total time=   0.4s\n",
            "[CV 5/5] END bootstrap=True, max_depth=5, min_samples_leaf=1, min_samples_split=2, n_estimators=50;, score=0.662 total time=   0.4s\n",
            "[CV 1/5] END bootstrap=True, max_depth=5, min_samples_leaf=1, min_samples_split=2, n_estimators=100;, score=0.677 total time=   0.8s\n",
            "[CV 2/5] END bootstrap=True, max_depth=5, min_samples_leaf=1, min_samples_split=2, n_estimators=100;, score=0.663 total time=   0.8s\n",
            "[CV 3/5] END bootstrap=True, max_depth=5, min_samples_leaf=1, min_samples_split=2, n_estimators=100;, score=0.680 total time=   0.7s\n",
            "[CV 4/5] END bootstrap=True, max_depth=5, min_samples_leaf=1, min_samples_split=2, n_estimators=100;, score=0.677 total time=   0.8s\n",
            "[CV 5/5] END bootstrap=True, max_depth=5, min_samples_leaf=1, min_samples_split=2, n_estimators=100;, score=0.659 total time=   0.8s\n",
            "[CV 1/5] END bootstrap=True, max_depth=5, min_samples_leaf=1, min_samples_split=2, n_estimators=300;, score=0.674 total time=   2.3s\n",
            "[CV 2/5] END bootstrap=True, max_depth=5, min_samples_leaf=1, min_samples_split=2, n_estimators=300;, score=0.668 total time=   2.2s\n",
            "[CV 3/5] END bootstrap=True, max_depth=5, min_samples_leaf=1, min_samples_split=2, n_estimators=300;, score=0.687 total time=   2.2s\n",
            "[CV 4/5] END bootstrap=True, max_depth=5, min_samples_leaf=1, min_samples_split=2, n_estimators=300;, score=0.677 total time=   2.2s\n",
            "[CV 5/5] END bootstrap=True, max_depth=5, min_samples_leaf=1, min_samples_split=2, n_estimators=300;, score=0.665 total time=   2.2s\n",
            "[CV 1/5] END bootstrap=True, max_depth=5, min_samples_leaf=1, min_samples_split=2, n_estimators=500;, score=0.674 total time=   3.7s\n",
            "[CV 2/5] END bootstrap=True, max_depth=5, min_samples_leaf=1, min_samples_split=2, n_estimators=500;, score=0.665 total time=   3.7s\n",
            "[CV 3/5] END bootstrap=True, max_depth=5, min_samples_leaf=1, min_samples_split=2, n_estimators=500;, score=0.688 total time=   3.7s\n",
            "[CV 4/5] END bootstrap=True, max_depth=5, min_samples_leaf=1, min_samples_split=2, n_estimators=500;, score=0.678 total time=   3.9s\n",
            "[CV 5/5] END bootstrap=True, max_depth=5, min_samples_leaf=1, min_samples_split=2, n_estimators=500;, score=0.664 total time=   3.8s\n",
            "[CV 1/5] END bootstrap=True, max_depth=5, min_samples_leaf=1, min_samples_split=5, n_estimators=10;, score=0.674 total time=   0.1s\n",
            "[CV 2/5] END bootstrap=True, max_depth=5, min_samples_leaf=1, min_samples_split=5, n_estimators=10;, score=0.667 total time=   0.1s\n",
            "[CV 3/5] END bootstrap=True, max_depth=5, min_samples_leaf=1, min_samples_split=5, n_estimators=10;, score=0.669 total time=   0.1s\n",
            "[CV 4/5] END bootstrap=True, max_depth=5, min_samples_leaf=1, min_samples_split=5, n_estimators=10;, score=0.668 total time=   0.1s\n",
            "[CV 5/5] END bootstrap=True, max_depth=5, min_samples_leaf=1, min_samples_split=5, n_estimators=10;, score=0.674 total time=   0.1s\n",
            "[CV 1/5] END bootstrap=True, max_depth=5, min_samples_leaf=1, min_samples_split=5, n_estimators=50;, score=0.671 total time=   0.4s\n",
            "[CV 2/5] END bootstrap=True, max_depth=5, min_samples_leaf=1, min_samples_split=5, n_estimators=50;, score=0.676 total time=   0.4s\n",
            "[CV 3/5] END bootstrap=True, max_depth=5, min_samples_leaf=1, min_samples_split=5, n_estimators=50;, score=0.687 total time=   0.4s\n",
            "[CV 4/5] END bootstrap=True, max_depth=5, min_samples_leaf=1, min_samples_split=5, n_estimators=50;, score=0.676 total time=   0.4s\n",
            "[CV 5/5] END bootstrap=True, max_depth=5, min_samples_leaf=1, min_samples_split=5, n_estimators=50;, score=0.661 total time=   0.4s\n",
            "[CV 1/5] END bootstrap=True, max_depth=5, min_samples_leaf=1, min_samples_split=5, n_estimators=100;, score=0.674 total time=   0.8s\n",
            "[CV 2/5] END bootstrap=True, max_depth=5, min_samples_leaf=1, min_samples_split=5, n_estimators=100;, score=0.666 total time=   0.7s\n",
            "[CV 3/5] END bootstrap=True, max_depth=5, min_samples_leaf=1, min_samples_split=5, n_estimators=100;, score=0.677 total time=   0.7s\n",
            "[CV 4/5] END bootstrap=True, max_depth=5, min_samples_leaf=1, min_samples_split=5, n_estimators=100;, score=0.682 total time=   0.7s\n",
            "[CV 5/5] END bootstrap=True, max_depth=5, min_samples_leaf=1, min_samples_split=5, n_estimators=100;, score=0.667 total time=   0.7s\n",
            "[CV 1/5] END bootstrap=True, max_depth=5, min_samples_leaf=1, min_samples_split=5, n_estimators=300;, score=0.674 total time=   2.2s\n",
            "[CV 2/5] END bootstrap=True, max_depth=5, min_samples_leaf=1, min_samples_split=5, n_estimators=300;, score=0.663 total time=   2.2s\n",
            "[CV 3/5] END bootstrap=True, max_depth=5, min_samples_leaf=1, min_samples_split=5, n_estimators=300;, score=0.687 total time=   2.3s\n",
            "[CV 4/5] END bootstrap=True, max_depth=5, min_samples_leaf=1, min_samples_split=5, n_estimators=300;, score=0.680 total time=   2.3s\n",
            "[CV 5/5] END bootstrap=True, max_depth=5, min_samples_leaf=1, min_samples_split=5, n_estimators=300;, score=0.662 total time=   2.2s\n",
            "[CV 1/5] END bootstrap=True, max_depth=5, min_samples_leaf=1, min_samples_split=5, n_estimators=500;, score=0.673 total time=   3.7s\n",
            "[CV 2/5] END bootstrap=True, max_depth=5, min_samples_leaf=1, min_samples_split=5, n_estimators=500;, score=0.670 total time=   3.6s\n",
            "[CV 3/5] END bootstrap=True, max_depth=5, min_samples_leaf=1, min_samples_split=5, n_estimators=500;, score=0.686 total time=   3.7s\n",
            "[CV 4/5] END bootstrap=True, max_depth=5, min_samples_leaf=1, min_samples_split=5, n_estimators=500;, score=0.679 total time=   3.7s\n",
            "[CV 5/5] END bootstrap=True, max_depth=5, min_samples_leaf=1, min_samples_split=5, n_estimators=500;, score=0.661 total time=   3.7s\n",
            "[CV 1/5] END bootstrap=True, max_depth=5, min_samples_leaf=1, min_samples_split=10, n_estimators=10;, score=0.671 total time=   0.1s\n",
            "[CV 2/5] END bootstrap=True, max_depth=5, min_samples_leaf=1, min_samples_split=10, n_estimators=10;, score=0.658 total time=   0.1s\n",
            "[CV 3/5] END bootstrap=True, max_depth=5, min_samples_leaf=1, min_samples_split=10, n_estimators=10;, score=0.666 total time=   0.1s\n",
            "[CV 4/5] END bootstrap=True, max_depth=5, min_samples_leaf=1, min_samples_split=10, n_estimators=10;, score=0.679 total time=   0.1s\n",
            "[CV 5/5] END bootstrap=True, max_depth=5, min_samples_leaf=1, min_samples_split=10, n_estimators=10;, score=0.659 total time=   0.1s\n",
            "[CV 1/5] END bootstrap=True, max_depth=5, min_samples_leaf=1, min_samples_split=10, n_estimators=50;, score=0.676 total time=   0.4s\n",
            "[CV 2/5] END bootstrap=True, max_depth=5, min_samples_leaf=1, min_samples_split=10, n_estimators=50;, score=0.666 total time=   0.4s\n",
            "[CV 3/5] END bootstrap=True, max_depth=5, min_samples_leaf=1, min_samples_split=10, n_estimators=50;, score=0.683 total time=   0.4s\n",
            "[CV 4/5] END bootstrap=True, max_depth=5, min_samples_leaf=1, min_samples_split=10, n_estimators=50;, score=0.678 total time=   0.4s\n",
            "[CV 5/5] END bootstrap=True, max_depth=5, min_samples_leaf=1, min_samples_split=10, n_estimators=50;, score=0.659 total time=   0.4s\n",
            "[CV 1/5] END bootstrap=True, max_depth=5, min_samples_leaf=1, min_samples_split=10, n_estimators=100;, score=0.678 total time=   0.7s\n",
            "[CV 2/5] END bootstrap=True, max_depth=5, min_samples_leaf=1, min_samples_split=10, n_estimators=100;, score=0.663 total time=   0.8s\n",
            "[CV 3/5] END bootstrap=True, max_depth=5, min_samples_leaf=1, min_samples_split=10, n_estimators=100;, score=0.690 total time=   0.7s\n",
            "[CV 4/5] END bootstrap=True, max_depth=5, min_samples_leaf=1, min_samples_split=10, n_estimators=100;, score=0.681 total time=   0.7s\n",
            "[CV 5/5] END bootstrap=True, max_depth=5, min_samples_leaf=1, min_samples_split=10, n_estimators=100;, score=0.660 total time=   0.8s\n",
            "[CV 1/5] END bootstrap=True, max_depth=5, min_samples_leaf=1, min_samples_split=10, n_estimators=300;, score=0.673 total time=   2.2s\n",
            "[CV 2/5] END bootstrap=True, max_depth=5, min_samples_leaf=1, min_samples_split=10, n_estimators=300;, score=0.666 total time=   2.2s\n",
            "[CV 3/5] END bootstrap=True, max_depth=5, min_samples_leaf=1, min_samples_split=10, n_estimators=300;, score=0.680 total time=   2.3s\n",
            "[CV 4/5] END bootstrap=True, max_depth=5, min_samples_leaf=1, min_samples_split=10, n_estimators=300;, score=0.677 total time=   2.2s\n",
            "[CV 5/5] END bootstrap=True, max_depth=5, min_samples_leaf=1, min_samples_split=10, n_estimators=300;, score=0.661 total time=   2.2s\n",
            "[CV 1/5] END bootstrap=True, max_depth=5, min_samples_leaf=1, min_samples_split=10, n_estimators=500;, score=0.676 total time=   3.7s\n",
            "[CV 2/5] END bootstrap=True, max_depth=5, min_samples_leaf=1, min_samples_split=10, n_estimators=500;, score=0.667 total time=   3.7s\n",
            "[CV 3/5] END bootstrap=True, max_depth=5, min_samples_leaf=1, min_samples_split=10, n_estimators=500;, score=0.682 total time=   3.7s\n",
            "[CV 4/5] END bootstrap=True, max_depth=5, min_samples_leaf=1, min_samples_split=10, n_estimators=500;, score=0.676 total time=   3.7s\n",
            "[CV 5/5] END bootstrap=True, max_depth=5, min_samples_leaf=1, min_samples_split=10, n_estimators=500;, score=0.662 total time=   3.7s\n",
            "[CV 1/5] END bootstrap=True, max_depth=5, min_samples_leaf=2, min_samples_split=2, n_estimators=10;, score=0.666 total time=   0.1s\n",
            "[CV 2/5] END bootstrap=True, max_depth=5, min_samples_leaf=2, min_samples_split=2, n_estimators=10;, score=0.657 total time=   0.1s\n",
            "[CV 3/5] END bootstrap=True, max_depth=5, min_samples_leaf=2, min_samples_split=2, n_estimators=10;, score=0.664 total time=   0.1s\n",
            "[CV 4/5] END bootstrap=True, max_depth=5, min_samples_leaf=2, min_samples_split=2, n_estimators=10;, score=0.670 total time=   0.1s\n",
            "[CV 5/5] END bootstrap=True, max_depth=5, min_samples_leaf=2, min_samples_split=2, n_estimators=10;, score=0.654 total time=   0.1s\n",
            "[CV 1/5] END bootstrap=True, max_depth=5, min_samples_leaf=2, min_samples_split=2, n_estimators=50;, score=0.679 total time=   0.4s\n",
            "[CV 2/5] END bootstrap=True, max_depth=5, min_samples_leaf=2, min_samples_split=2, n_estimators=50;, score=0.661 total time=   0.4s\n",
            "[CV 3/5] END bootstrap=True, max_depth=5, min_samples_leaf=2, min_samples_split=2, n_estimators=50;, score=0.686 total time=   0.4s\n",
            "[CV 4/5] END bootstrap=True, max_depth=5, min_samples_leaf=2, min_samples_split=2, n_estimators=50;, score=0.678 total time=   0.4s\n",
            "[CV 5/5] END bootstrap=True, max_depth=5, min_samples_leaf=2, min_samples_split=2, n_estimators=50;, score=0.659 total time=   0.4s\n",
            "[CV 1/5] END bootstrap=True, max_depth=5, min_samples_leaf=2, min_samples_split=2, n_estimators=100;, score=0.672 total time=   0.8s\n",
            "[CV 2/5] END bootstrap=True, max_depth=5, min_samples_leaf=2, min_samples_split=2, n_estimators=100;, score=0.666 total time=   0.8s\n",
            "[CV 3/5] END bootstrap=True, max_depth=5, min_samples_leaf=2, min_samples_split=2, n_estimators=100;, score=0.686 total time=   0.7s\n",
            "[CV 4/5] END bootstrap=True, max_depth=5, min_samples_leaf=2, min_samples_split=2, n_estimators=100;, score=0.677 total time=   0.7s\n",
            "[CV 5/5] END bootstrap=True, max_depth=5, min_samples_leaf=2, min_samples_split=2, n_estimators=100;, score=0.669 total time=   0.8s\n",
            "[CV 1/5] END bootstrap=True, max_depth=5, min_samples_leaf=2, min_samples_split=2, n_estimators=300;, score=0.673 total time=   2.3s\n",
            "[CV 2/5] END bootstrap=True, max_depth=5, min_samples_leaf=2, min_samples_split=2, n_estimators=300;, score=0.664 total time=   2.2s\n",
            "[CV 3/5] END bootstrap=True, max_depth=5, min_samples_leaf=2, min_samples_split=2, n_estimators=300;, score=0.685 total time=   2.2s\n",
            "[CV 4/5] END bootstrap=True, max_depth=5, min_samples_leaf=2, min_samples_split=2, n_estimators=300;, score=0.681 total time=   2.2s\n",
            "[CV 5/5] END bootstrap=True, max_depth=5, min_samples_leaf=2, min_samples_split=2, n_estimators=300;, score=0.662 total time=   2.2s\n",
            "[CV 1/5] END bootstrap=True, max_depth=5, min_samples_leaf=2, min_samples_split=2, n_estimators=500;, score=0.675 total time=   3.7s\n",
            "[CV 2/5] END bootstrap=True, max_depth=5, min_samples_leaf=2, min_samples_split=2, n_estimators=500;, score=0.667 total time=   3.7s\n",
            "[CV 3/5] END bootstrap=True, max_depth=5, min_samples_leaf=2, min_samples_split=2, n_estimators=500;, score=0.686 total time=   3.7s\n",
            "[CV 4/5] END bootstrap=True, max_depth=5, min_samples_leaf=2, min_samples_split=2, n_estimators=500;, score=0.676 total time=   3.8s\n",
            "[CV 5/5] END bootstrap=True, max_depth=5, min_samples_leaf=2, min_samples_split=2, n_estimators=500;, score=0.661 total time=   3.7s\n",
            "[CV 1/5] END bootstrap=True, max_depth=5, min_samples_leaf=2, min_samples_split=5, n_estimators=10;, score=0.671 total time=   0.1s\n",
            "[CV 2/5] END bootstrap=True, max_depth=5, min_samples_leaf=2, min_samples_split=5, n_estimators=10;, score=0.654 total time=   0.1s\n",
            "[CV 3/5] END bootstrap=True, max_depth=5, min_samples_leaf=2, min_samples_split=5, n_estimators=10;, score=0.687 total time=   0.1s\n",
            "[CV 4/5] END bootstrap=True, max_depth=5, min_samples_leaf=2, min_samples_split=5, n_estimators=10;, score=0.675 total time=   0.1s\n",
            "[CV 5/5] END bootstrap=True, max_depth=5, min_samples_leaf=2, min_samples_split=5, n_estimators=10;, score=0.656 total time=   0.1s\n",
            "[CV 1/5] END bootstrap=True, max_depth=5, min_samples_leaf=2, min_samples_split=5, n_estimators=50;, score=0.675 total time=   0.4s\n",
            "[CV 2/5] END bootstrap=True, max_depth=5, min_samples_leaf=2, min_samples_split=5, n_estimators=50;, score=0.673 total time=   0.4s\n",
            "[CV 3/5] END bootstrap=True, max_depth=5, min_samples_leaf=2, min_samples_split=5, n_estimators=50;, score=0.689 total time=   0.4s\n",
            "[CV 4/5] END bootstrap=True, max_depth=5, min_samples_leaf=2, min_samples_split=5, n_estimators=50;, score=0.676 total time=   0.4s\n",
            "[CV 5/5] END bootstrap=True, max_depth=5, min_samples_leaf=2, min_samples_split=5, n_estimators=50;, score=0.666 total time=   0.4s\n",
            "[CV 1/5] END bootstrap=True, max_depth=5, min_samples_leaf=2, min_samples_split=5, n_estimators=100;, score=0.676 total time=   0.8s\n",
            "[CV 2/5] END bootstrap=True, max_depth=5, min_samples_leaf=2, min_samples_split=5, n_estimators=100;, score=0.668 total time=   0.7s\n",
            "[CV 3/5] END bootstrap=True, max_depth=5, min_samples_leaf=2, min_samples_split=5, n_estimators=100;, score=0.682 total time=   0.7s\n",
            "[CV 4/5] END bootstrap=True, max_depth=5, min_samples_leaf=2, min_samples_split=5, n_estimators=100;, score=0.677 total time=   0.8s\n",
            "[CV 5/5] END bootstrap=True, max_depth=5, min_samples_leaf=2, min_samples_split=5, n_estimators=100;, score=0.660 total time=   0.8s\n",
            "[CV 1/5] END bootstrap=True, max_depth=5, min_samples_leaf=2, min_samples_split=5, n_estimators=300;, score=0.671 total time=   2.2s\n",
            "[CV 2/5] END bootstrap=True, max_depth=5, min_samples_leaf=2, min_samples_split=5, n_estimators=300;, score=0.664 total time=   2.3s\n",
            "[CV 3/5] END bootstrap=True, max_depth=5, min_samples_leaf=2, min_samples_split=5, n_estimators=300;, score=0.686 total time=   2.2s\n",
            "[CV 4/5] END bootstrap=True, max_depth=5, min_samples_leaf=2, min_samples_split=5, n_estimators=300;, score=0.680 total time=   2.3s\n",
            "[CV 5/5] END bootstrap=True, max_depth=5, min_samples_leaf=2, min_samples_split=5, n_estimators=300;, score=0.664 total time=   2.3s\n",
            "[CV 1/5] END bootstrap=True, max_depth=5, min_samples_leaf=2, min_samples_split=5, n_estimators=500;, score=0.674 total time=   3.7s\n",
            "[CV 2/5] END bootstrap=True, max_depth=5, min_samples_leaf=2, min_samples_split=5, n_estimators=500;, score=0.665 total time=   3.7s\n",
            "[CV 3/5] END bootstrap=True, max_depth=5, min_samples_leaf=2, min_samples_split=5, n_estimators=500;, score=0.685 total time=   3.7s\n",
            "[CV 4/5] END bootstrap=True, max_depth=5, min_samples_leaf=2, min_samples_split=5, n_estimators=500;, score=0.678 total time=   3.7s\n",
            "[CV 5/5] END bootstrap=True, max_depth=5, min_samples_leaf=2, min_samples_split=5, n_estimators=500;, score=0.665 total time=   3.7s\n",
            "[CV 1/5] END bootstrap=True, max_depth=5, min_samples_leaf=2, min_samples_split=10, n_estimators=10;, score=0.664 total time=   0.1s\n",
            "[CV 2/5] END bootstrap=True, max_depth=5, min_samples_leaf=2, min_samples_split=10, n_estimators=10;, score=0.655 total time=   0.1s\n",
            "[CV 3/5] END bootstrap=True, max_depth=5, min_samples_leaf=2, min_samples_split=10, n_estimators=10;, score=0.677 total time=   0.1s\n",
            "[CV 4/5] END bootstrap=True, max_depth=5, min_samples_leaf=2, min_samples_split=10, n_estimators=10;, score=0.670 total time=   0.1s\n",
            "[CV 5/5] END bootstrap=True, max_depth=5, min_samples_leaf=2, min_samples_split=10, n_estimators=10;, score=0.649 total time=   0.1s\n",
            "[CV 1/5] END bootstrap=True, max_depth=5, min_samples_leaf=2, min_samples_split=10, n_estimators=50;, score=0.667 total time=   0.4s\n",
            "[CV 2/5] END bootstrap=True, max_depth=5, min_samples_leaf=2, min_samples_split=10, n_estimators=50;, score=0.663 total time=   0.4s\n",
            "[CV 3/5] END bootstrap=True, max_depth=5, min_samples_leaf=2, min_samples_split=10, n_estimators=50;, score=0.682 total time=   0.4s\n",
            "[CV 4/5] END bootstrap=True, max_depth=5, min_samples_leaf=2, min_samples_split=10, n_estimators=50;, score=0.684 total time=   0.4s\n",
            "[CV 5/5] END bootstrap=True, max_depth=5, min_samples_leaf=2, min_samples_split=10, n_estimators=50;, score=0.662 total time=   0.4s\n",
            "[CV 1/5] END bootstrap=True, max_depth=5, min_samples_leaf=2, min_samples_split=10, n_estimators=100;, score=0.676 total time=   0.8s\n",
            "[CV 2/5] END bootstrap=True, max_depth=5, min_samples_leaf=2, min_samples_split=10, n_estimators=100;, score=0.670 total time=   0.7s\n",
            "[CV 3/5] END bootstrap=True, max_depth=5, min_samples_leaf=2, min_samples_split=10, n_estimators=100;, score=0.686 total time=   0.8s\n",
            "[CV 4/5] END bootstrap=True, max_depth=5, min_samples_leaf=2, min_samples_split=10, n_estimators=100;, score=0.677 total time=   0.8s\n",
            "[CV 5/5] END bootstrap=True, max_depth=5, min_samples_leaf=2, min_samples_split=10, n_estimators=100;, score=0.667 total time=   0.8s\n",
            "[CV 1/5] END bootstrap=True, max_depth=5, min_samples_leaf=2, min_samples_split=10, n_estimators=300;, score=0.671 total time=   2.2s\n",
            "[CV 2/5] END bootstrap=True, max_depth=5, min_samples_leaf=2, min_samples_split=10, n_estimators=300;, score=0.669 total time=   2.2s\n",
            "[CV 3/5] END bootstrap=True, max_depth=5, min_samples_leaf=2, min_samples_split=10, n_estimators=300;, score=0.685 total time=   2.2s\n",
            "[CV 4/5] END bootstrap=True, max_depth=5, min_samples_leaf=2, min_samples_split=10, n_estimators=300;, score=0.681 total time=   2.2s\n",
            "[CV 5/5] END bootstrap=True, max_depth=5, min_samples_leaf=2, min_samples_split=10, n_estimators=300;, score=0.662 total time=   2.2s\n",
            "[CV 1/5] END bootstrap=True, max_depth=5, min_samples_leaf=2, min_samples_split=10, n_estimators=500;, score=0.673 total time=   3.7s\n",
            "[CV 2/5] END bootstrap=True, max_depth=5, min_samples_leaf=2, min_samples_split=10, n_estimators=500;, score=0.667 total time=   3.7s\n",
            "[CV 3/5] END bootstrap=True, max_depth=5, min_samples_leaf=2, min_samples_split=10, n_estimators=500;, score=0.684 total time=   3.7s\n",
            "[CV 4/5] END bootstrap=True, max_depth=5, min_samples_leaf=2, min_samples_split=10, n_estimators=500;, score=0.680 total time=   3.8s\n",
            "[CV 5/5] END bootstrap=True, max_depth=5, min_samples_leaf=2, min_samples_split=10, n_estimators=500;, score=0.663 total time=   4.0s\n",
            "[CV 1/5] END bootstrap=True, max_depth=5, min_samples_leaf=4, min_samples_split=2, n_estimators=10;, score=0.668 total time=   0.1s\n",
            "[CV 2/5] END bootstrap=True, max_depth=5, min_samples_leaf=4, min_samples_split=2, n_estimators=10;, score=0.658 total time=   0.1s\n",
            "[CV 3/5] END bootstrap=True, max_depth=5, min_samples_leaf=4, min_samples_split=2, n_estimators=10;, score=0.659 total time=   0.1s\n",
            "[CV 4/5] END bootstrap=True, max_depth=5, min_samples_leaf=4, min_samples_split=2, n_estimators=10;, score=0.681 total time=   0.1s\n",
            "[CV 5/5] END bootstrap=True, max_depth=5, min_samples_leaf=4, min_samples_split=2, n_estimators=10;, score=0.656 total time=   0.1s\n",
            "[CV 1/5] END bootstrap=True, max_depth=5, min_samples_leaf=4, min_samples_split=2, n_estimators=50;, score=0.664 total time=   0.4s\n",
            "[CV 2/5] END bootstrap=True, max_depth=5, min_samples_leaf=4, min_samples_split=2, n_estimators=50;, score=0.668 total time=   0.4s\n",
            "[CV 3/5] END bootstrap=True, max_depth=5, min_samples_leaf=4, min_samples_split=2, n_estimators=50;, score=0.686 total time=   0.4s\n",
            "[CV 4/5] END bootstrap=True, max_depth=5, min_samples_leaf=4, min_samples_split=2, n_estimators=50;, score=0.675 total time=   0.4s\n",
            "[CV 5/5] END bootstrap=True, max_depth=5, min_samples_leaf=4, min_samples_split=2, n_estimators=50;, score=0.659 total time=   0.4s\n",
            "[CV 1/5] END bootstrap=True, max_depth=5, min_samples_leaf=4, min_samples_split=2, n_estimators=100;, score=0.675 total time=   0.8s\n",
            "[CV 2/5] END bootstrap=True, max_depth=5, min_samples_leaf=4, min_samples_split=2, n_estimators=100;, score=0.666 total time=   0.8s\n",
            "[CV 3/5] END bootstrap=True, max_depth=5, min_samples_leaf=4, min_samples_split=2, n_estimators=100;, score=0.679 total time=   0.8s\n",
            "[CV 4/5] END bootstrap=True, max_depth=5, min_samples_leaf=4, min_samples_split=2, n_estimators=100;, score=0.679 total time=   0.8s\n",
            "[CV 5/5] END bootstrap=True, max_depth=5, min_samples_leaf=4, min_samples_split=2, n_estimators=100;, score=0.663 total time=   0.8s\n",
            "[CV 1/5] END bootstrap=True, max_depth=5, min_samples_leaf=4, min_samples_split=2, n_estimators=300;, score=0.672 total time=   2.3s\n",
            "[CV 2/5] END bootstrap=True, max_depth=5, min_samples_leaf=4, min_samples_split=2, n_estimators=300;, score=0.669 total time=   2.3s\n",
            "[CV 3/5] END bootstrap=True, max_depth=5, min_samples_leaf=4, min_samples_split=2, n_estimators=300;, score=0.686 total time=   2.3s\n",
            "[CV 4/5] END bootstrap=True, max_depth=5, min_samples_leaf=4, min_samples_split=2, n_estimators=300;, score=0.680 total time=   2.2s\n",
            "[CV 5/5] END bootstrap=True, max_depth=5, min_samples_leaf=4, min_samples_split=2, n_estimators=300;, score=0.664 total time=   2.2s\n",
            "[CV 1/5] END bootstrap=True, max_depth=5, min_samples_leaf=4, min_samples_split=2, n_estimators=500;, score=0.675 total time=   3.7s\n",
            "[CV 2/5] END bootstrap=True, max_depth=5, min_samples_leaf=4, min_samples_split=2, n_estimators=500;, score=0.668 total time=   3.7s\n",
            "[CV 3/5] END bootstrap=True, max_depth=5, min_samples_leaf=4, min_samples_split=2, n_estimators=500;, score=0.681 total time=   3.7s\n",
            "[CV 4/5] END bootstrap=True, max_depth=5, min_samples_leaf=4, min_samples_split=2, n_estimators=500;, score=0.679 total time=   3.7s\n",
            "[CV 5/5] END bootstrap=True, max_depth=5, min_samples_leaf=4, min_samples_split=2, n_estimators=500;, score=0.664 total time=   3.7s\n",
            "[CV 1/5] END bootstrap=True, max_depth=5, min_samples_leaf=4, min_samples_split=5, n_estimators=10;, score=0.680 total time=   0.1s\n",
            "[CV 2/5] END bootstrap=True, max_depth=5, min_samples_leaf=4, min_samples_split=5, n_estimators=10;, score=0.664 total time=   0.1s\n",
            "[CV 3/5] END bootstrap=True, max_depth=5, min_samples_leaf=4, min_samples_split=5, n_estimators=10;, score=0.685 total time=   0.1s\n",
            "[CV 4/5] END bootstrap=True, max_depth=5, min_samples_leaf=4, min_samples_split=5, n_estimators=10;, score=0.669 total time=   0.1s\n",
            "[CV 5/5] END bootstrap=True, max_depth=5, min_samples_leaf=4, min_samples_split=5, n_estimators=10;, score=0.673 total time=   0.1s\n",
            "[CV 1/5] END bootstrap=True, max_depth=5, min_samples_leaf=4, min_samples_split=5, n_estimators=50;, score=0.673 total time=   0.4s\n",
            "[CV 2/5] END bootstrap=True, max_depth=5, min_samples_leaf=4, min_samples_split=5, n_estimators=50;, score=0.670 total time=   0.4s\n",
            "[CV 3/5] END bootstrap=True, max_depth=5, min_samples_leaf=4, min_samples_split=5, n_estimators=50;, score=0.687 total time=   0.4s\n",
            "[CV 4/5] END bootstrap=True, max_depth=5, min_samples_leaf=4, min_samples_split=5, n_estimators=50;, score=0.675 total time=   0.4s\n",
            "[CV 5/5] END bootstrap=True, max_depth=5, min_samples_leaf=4, min_samples_split=5, n_estimators=50;, score=0.653 total time=   0.4s\n",
            "[CV 1/5] END bootstrap=True, max_depth=5, min_samples_leaf=4, min_samples_split=5, n_estimators=100;, score=0.672 total time=   0.8s\n",
            "[CV 2/5] END bootstrap=True, max_depth=5, min_samples_leaf=4, min_samples_split=5, n_estimators=100;, score=0.667 total time=   0.8s\n",
            "[CV 3/5] END bootstrap=True, max_depth=5, min_samples_leaf=4, min_samples_split=5, n_estimators=100;, score=0.684 total time=   0.8s\n",
            "[CV 4/5] END bootstrap=True, max_depth=5, min_samples_leaf=4, min_samples_split=5, n_estimators=100;, score=0.676 total time=   0.8s\n",
            "[CV 5/5] END bootstrap=True, max_depth=5, min_samples_leaf=4, min_samples_split=5, n_estimators=100;, score=0.666 total time=   0.8s\n",
            "[CV 1/5] END bootstrap=True, max_depth=5, min_samples_leaf=4, min_samples_split=5, n_estimators=300;, score=0.674 total time=   2.3s\n",
            "[CV 2/5] END bootstrap=True, max_depth=5, min_samples_leaf=4, min_samples_split=5, n_estimators=300;, score=0.670 total time=   2.2s\n",
            "[CV 3/5] END bootstrap=True, max_depth=5, min_samples_leaf=4, min_samples_split=5, n_estimators=300;, score=0.682 total time=   2.2s\n",
            "[CV 4/5] END bootstrap=True, max_depth=5, min_samples_leaf=4, min_samples_split=5, n_estimators=300;, score=0.680 total time=   2.3s\n",
            "[CV 5/5] END bootstrap=True, max_depth=5, min_samples_leaf=4, min_samples_split=5, n_estimators=300;, score=0.664 total time=   2.3s\n",
            "[CV 1/5] END bootstrap=True, max_depth=5, min_samples_leaf=4, min_samples_split=5, n_estimators=500;, score=0.674 total time=   3.7s\n",
            "[CV 2/5] END bootstrap=True, max_depth=5, min_samples_leaf=4, min_samples_split=5, n_estimators=500;, score=0.667 total time=   3.8s\n",
            "[CV 3/5] END bootstrap=True, max_depth=5, min_samples_leaf=4, min_samples_split=5, n_estimators=500;, score=0.680 total time=   3.7s\n",
            "[CV 4/5] END bootstrap=True, max_depth=5, min_samples_leaf=4, min_samples_split=5, n_estimators=500;, score=0.681 total time=   3.8s\n",
            "[CV 5/5] END bootstrap=True, max_depth=5, min_samples_leaf=4, min_samples_split=5, n_estimators=500;, score=0.659 total time=   3.8s\n",
            "[CV 1/5] END bootstrap=True, max_depth=5, min_samples_leaf=4, min_samples_split=10, n_estimators=10;, score=0.670 total time=   0.1s\n",
            "[CV 2/5] END bootstrap=True, max_depth=5, min_samples_leaf=4, min_samples_split=10, n_estimators=10;, score=0.671 total time=   0.1s\n",
            "[CV 3/5] END bootstrap=True, max_depth=5, min_samples_leaf=4, min_samples_split=10, n_estimators=10;, score=0.661 total time=   0.1s\n",
            "[CV 4/5] END bootstrap=True, max_depth=5, min_samples_leaf=4, min_samples_split=10, n_estimators=10;, score=0.670 total time=   0.1s\n",
            "[CV 5/5] END bootstrap=True, max_depth=5, min_samples_leaf=4, min_samples_split=10, n_estimators=10;, score=0.655 total time=   0.1s\n",
            "[CV 1/5] END bootstrap=True, max_depth=5, min_samples_leaf=4, min_samples_split=10, n_estimators=50;, score=0.675 total time=   0.4s\n",
            "[CV 2/5] END bootstrap=True, max_depth=5, min_samples_leaf=4, min_samples_split=10, n_estimators=50;, score=0.669 total time=   0.4s\n",
            "[CV 3/5] END bootstrap=True, max_depth=5, min_samples_leaf=4, min_samples_split=10, n_estimators=50;, score=0.678 total time=   0.4s\n",
            "[CV 4/5] END bootstrap=True, max_depth=5, min_samples_leaf=4, min_samples_split=10, n_estimators=50;, score=0.675 total time=   0.4s\n",
            "[CV 5/5] END bootstrap=True, max_depth=5, min_samples_leaf=4, min_samples_split=10, n_estimators=50;, score=0.662 total time=   0.4s\n",
            "[CV 1/5] END bootstrap=True, max_depth=5, min_samples_leaf=4, min_samples_split=10, n_estimators=100;, score=0.674 total time=   0.8s\n",
            "[CV 2/5] END bootstrap=True, max_depth=5, min_samples_leaf=4, min_samples_split=10, n_estimators=100;, score=0.671 total time=   0.8s\n",
            "[CV 3/5] END bootstrap=True, max_depth=5, min_samples_leaf=4, min_samples_split=10, n_estimators=100;, score=0.691 total time=   0.8s\n",
            "[CV 4/5] END bootstrap=True, max_depth=5, min_samples_leaf=4, min_samples_split=10, n_estimators=100;, score=0.680 total time=   0.8s\n",
            "[CV 5/5] END bootstrap=True, max_depth=5, min_samples_leaf=4, min_samples_split=10, n_estimators=100;, score=0.661 total time=   0.8s\n",
            "[CV 1/5] END bootstrap=True, max_depth=5, min_samples_leaf=4, min_samples_split=10, n_estimators=300;, score=0.674 total time=   2.3s\n",
            "[CV 2/5] END bootstrap=True, max_depth=5, min_samples_leaf=4, min_samples_split=10, n_estimators=300;, score=0.668 total time=   2.3s\n",
            "[CV 3/5] END bootstrap=True, max_depth=5, min_samples_leaf=4, min_samples_split=10, n_estimators=300;, score=0.685 total time=   2.3s\n",
            "[CV 4/5] END bootstrap=True, max_depth=5, min_samples_leaf=4, min_samples_split=10, n_estimators=300;, score=0.684 total time=   2.3s\n",
            "[CV 5/5] END bootstrap=True, max_depth=5, min_samples_leaf=4, min_samples_split=10, n_estimators=300;, score=0.668 total time=   2.3s\n",
            "[CV 1/5] END bootstrap=True, max_depth=5, min_samples_leaf=4, min_samples_split=10, n_estimators=500;, score=0.677 total time=   3.9s\n",
            "[CV 2/5] END bootstrap=True, max_depth=5, min_samples_leaf=4, min_samples_split=10, n_estimators=500;, score=0.665 total time=   3.8s\n",
            "[CV 3/5] END bootstrap=True, max_depth=5, min_samples_leaf=4, min_samples_split=10, n_estimators=500;, score=0.680 total time=   4.0s\n",
            "[CV 4/5] END bootstrap=True, max_depth=5, min_samples_leaf=4, min_samples_split=10, n_estimators=500;, score=0.677 total time=   3.9s\n",
            "[CV 5/5] END bootstrap=True, max_depth=5, min_samples_leaf=4, min_samples_split=10, n_estimators=500;, score=0.662 total time=   3.9s\n",
            "[CV 1/5] END bootstrap=False, max_depth=1, min_samples_leaf=1, min_samples_split=2, n_estimators=10;, score=0.601 total time=   0.0s\n",
            "[CV 2/5] END bootstrap=False, max_depth=1, min_samples_leaf=1, min_samples_split=2, n_estimators=10;, score=0.641 total time=   0.0s\n",
            "[CV 3/5] END bootstrap=False, max_depth=1, min_samples_leaf=1, min_samples_split=2, n_estimators=10;, score=0.639 total time=   0.0s\n",
            "[CV 4/5] END bootstrap=False, max_depth=1, min_samples_leaf=1, min_samples_split=2, n_estimators=10;, score=0.648 total time=   0.1s\n",
            "[CV 5/5] END bootstrap=False, max_depth=1, min_samples_leaf=1, min_samples_split=2, n_estimators=10;, score=0.641 total time=   0.1s\n",
            "[CV 1/5] END bootstrap=False, max_depth=1, min_samples_leaf=1, min_samples_split=2, n_estimators=50;, score=0.639 total time=   0.2s\n",
            "[CV 2/5] END bootstrap=False, max_depth=1, min_samples_leaf=1, min_samples_split=2, n_estimators=50;, score=0.635 total time=   0.2s\n",
            "[CV 3/5] END bootstrap=False, max_depth=1, min_samples_leaf=1, min_samples_split=2, n_estimators=50;, score=0.639 total time=   0.2s\n",
            "[CV 4/5] END bootstrap=False, max_depth=1, min_samples_leaf=1, min_samples_split=2, n_estimators=50;, score=0.645 total time=   0.2s\n",
            "[CV 5/5] END bootstrap=False, max_depth=1, min_samples_leaf=1, min_samples_split=2, n_estimators=50;, score=0.633 total time=   0.2s\n",
            "[CV 1/5] END bootstrap=False, max_depth=1, min_samples_leaf=1, min_samples_split=2, n_estimators=100;, score=0.638 total time=   0.4s\n",
            "[CV 2/5] END bootstrap=False, max_depth=1, min_samples_leaf=1, min_samples_split=2, n_estimators=100;, score=0.645 total time=   0.4s\n",
            "[CV 3/5] END bootstrap=False, max_depth=1, min_samples_leaf=1, min_samples_split=2, n_estimators=100;, score=0.644 total time=   0.4s\n",
            "[CV 4/5] END bootstrap=False, max_depth=1, min_samples_leaf=1, min_samples_split=2, n_estimators=100;, score=0.644 total time=   0.4s\n",
            "[CV 5/5] END bootstrap=False, max_depth=1, min_samples_leaf=1, min_samples_split=2, n_estimators=100;, score=0.633 total time=   0.4s\n",
            "[CV 1/5] END bootstrap=False, max_depth=1, min_samples_leaf=1, min_samples_split=2, n_estimators=300;, score=0.640 total time=   1.1s\n",
            "[CV 2/5] END bootstrap=False, max_depth=1, min_samples_leaf=1, min_samples_split=2, n_estimators=300;, score=0.643 total time=   1.2s\n",
            "[CV 3/5] END bootstrap=False, max_depth=1, min_samples_leaf=1, min_samples_split=2, n_estimators=300;, score=0.641 total time=   1.1s\n",
            "[CV 4/5] END bootstrap=False, max_depth=1, min_samples_leaf=1, min_samples_split=2, n_estimators=300;, score=0.648 total time=   1.2s\n",
            "[CV 5/5] END bootstrap=False, max_depth=1, min_samples_leaf=1, min_samples_split=2, n_estimators=300;, score=0.635 total time=   1.2s\n",
            "[CV 1/5] END bootstrap=False, max_depth=1, min_samples_leaf=1, min_samples_split=2, n_estimators=500;, score=0.638 total time=   2.0s\n",
            "[CV 2/5] END bootstrap=False, max_depth=1, min_samples_leaf=1, min_samples_split=2, n_estimators=500;, score=0.644 total time=   1.9s\n",
            "[CV 3/5] END bootstrap=False, max_depth=1, min_samples_leaf=1, min_samples_split=2, n_estimators=500;, score=0.647 total time=   1.9s\n",
            "[CV 4/5] END bootstrap=False, max_depth=1, min_samples_leaf=1, min_samples_split=2, n_estimators=500;, score=0.644 total time=   1.9s\n",
            "[CV 5/5] END bootstrap=False, max_depth=1, min_samples_leaf=1, min_samples_split=2, n_estimators=500;, score=0.618 total time=   1.9s\n",
            "[CV 1/5] END bootstrap=False, max_depth=1, min_samples_leaf=1, min_samples_split=5, n_estimators=10;, score=0.640 total time=   0.0s\n",
            "[CV 2/5] END bootstrap=False, max_depth=1, min_samples_leaf=1, min_samples_split=5, n_estimators=10;, score=0.631 total time=   0.0s\n",
            "[CV 3/5] END bootstrap=False, max_depth=1, min_samples_leaf=1, min_samples_split=5, n_estimators=10;, score=0.594 total time=   0.0s\n",
            "[CV 4/5] END bootstrap=False, max_depth=1, min_samples_leaf=1, min_samples_split=5, n_estimators=10;, score=0.625 total time=   0.0s\n",
            "[CV 5/5] END bootstrap=False, max_depth=1, min_samples_leaf=1, min_samples_split=5, n_estimators=10;, score=0.573 total time=   0.1s\n",
            "[CV 1/5] END bootstrap=False, max_depth=1, min_samples_leaf=1, min_samples_split=5, n_estimators=50;, score=0.643 total time=   0.2s\n",
            "[CV 2/5] END bootstrap=False, max_depth=1, min_samples_leaf=1, min_samples_split=5, n_estimators=50;, score=0.634 total time=   0.2s\n",
            "[CV 3/5] END bootstrap=False, max_depth=1, min_samples_leaf=1, min_samples_split=5, n_estimators=50;, score=0.649 total time=   0.2s\n",
            "[CV 4/5] END bootstrap=False, max_depth=1, min_samples_leaf=1, min_samples_split=5, n_estimators=50;, score=0.645 total time=   0.2s\n",
            "[CV 5/5] END bootstrap=False, max_depth=1, min_samples_leaf=1, min_samples_split=5, n_estimators=50;, score=0.631 total time=   0.2s\n",
            "[CV 1/5] END bootstrap=False, max_depth=1, min_samples_leaf=1, min_samples_split=5, n_estimators=100;, score=0.642 total time=   0.4s\n",
            "[CV 2/5] END bootstrap=False, max_depth=1, min_samples_leaf=1, min_samples_split=5, n_estimators=100;, score=0.634 total time=   0.4s\n",
            "[CV 3/5] END bootstrap=False, max_depth=1, min_samples_leaf=1, min_samples_split=5, n_estimators=100;, score=0.653 total time=   0.4s\n",
            "[CV 4/5] END bootstrap=False, max_depth=1, min_samples_leaf=1, min_samples_split=5, n_estimators=100;, score=0.647 total time=   0.4s\n",
            "[CV 5/5] END bootstrap=False, max_depth=1, min_samples_leaf=1, min_samples_split=5, n_estimators=100;, score=0.619 total time=   0.4s\n",
            "[CV 1/5] END bootstrap=False, max_depth=1, min_samples_leaf=1, min_samples_split=5, n_estimators=300;, score=0.637 total time=   1.2s\n",
            "[CV 2/5] END bootstrap=False, max_depth=1, min_samples_leaf=1, min_samples_split=5, n_estimators=300;, score=0.635 total time=   1.1s\n",
            "[CV 3/5] END bootstrap=False, max_depth=1, min_samples_leaf=1, min_samples_split=5, n_estimators=300;, score=0.647 total time=   1.2s\n",
            "[CV 4/5] END bootstrap=False, max_depth=1, min_samples_leaf=1, min_samples_split=5, n_estimators=300;, score=0.645 total time=   1.2s\n",
            "[CV 5/5] END bootstrap=False, max_depth=1, min_samples_leaf=1, min_samples_split=5, n_estimators=300;, score=0.633 total time=   1.2s\n",
            "[CV 1/5] END bootstrap=False, max_depth=1, min_samples_leaf=1, min_samples_split=5, n_estimators=500;, score=0.639 total time=   1.9s\n",
            "[CV 2/5] END bootstrap=False, max_depth=1, min_samples_leaf=1, min_samples_split=5, n_estimators=500;, score=0.641 total time=   1.9s\n",
            "[CV 3/5] END bootstrap=False, max_depth=1, min_samples_leaf=1, min_samples_split=5, n_estimators=500;, score=0.649 total time=   1.9s\n",
            "[CV 4/5] END bootstrap=False, max_depth=1, min_samples_leaf=1, min_samples_split=5, n_estimators=500;, score=0.644 total time=   1.9s\n",
            "[CV 5/5] END bootstrap=False, max_depth=1, min_samples_leaf=1, min_samples_split=5, n_estimators=500;, score=0.633 total time=   1.9s\n",
            "[CV 1/5] END bootstrap=False, max_depth=1, min_samples_leaf=1, min_samples_split=10, n_estimators=10;, score=0.638 total time=   0.0s\n",
            "[CV 2/5] END bootstrap=False, max_depth=1, min_samples_leaf=1, min_samples_split=10, n_estimators=10;, score=0.643 total time=   0.1s\n",
            "[CV 3/5] END bootstrap=False, max_depth=1, min_samples_leaf=1, min_samples_split=10, n_estimators=10;, score=0.599 total time=   0.0s\n",
            "[CV 4/5] END bootstrap=False, max_depth=1, min_samples_leaf=1, min_samples_split=10, n_estimators=10;, score=0.628 total time=   0.1s\n",
            "[CV 5/5] END bootstrap=False, max_depth=1, min_samples_leaf=1, min_samples_split=10, n_estimators=10;, score=0.617 total time=   0.1s\n",
            "[CV 1/5] END bootstrap=False, max_depth=1, min_samples_leaf=1, min_samples_split=10, n_estimators=50;, score=0.643 total time=   0.2s\n",
            "[CV 2/5] END bootstrap=False, max_depth=1, min_samples_leaf=1, min_samples_split=10, n_estimators=50;, score=0.634 total time=   0.2s\n",
            "[CV 3/5] END bootstrap=False, max_depth=1, min_samples_leaf=1, min_samples_split=10, n_estimators=50;, score=0.647 total time=   0.2s\n",
            "[CV 4/5] END bootstrap=False, max_depth=1, min_samples_leaf=1, min_samples_split=10, n_estimators=50;, score=0.646 total time=   0.2s\n",
            "[CV 5/5] END bootstrap=False, max_depth=1, min_samples_leaf=1, min_samples_split=10, n_estimators=50;, score=0.633 total time=   0.2s\n",
            "[CV 1/5] END bootstrap=False, max_depth=1, min_samples_leaf=1, min_samples_split=10, n_estimators=100;, score=0.640 total time=   0.4s\n",
            "[CV 2/5] END bootstrap=False, max_depth=1, min_samples_leaf=1, min_samples_split=10, n_estimators=100;, score=0.631 total time=   0.4s\n",
            "[CV 3/5] END bootstrap=False, max_depth=1, min_samples_leaf=1, min_samples_split=10, n_estimators=100;, score=0.647 total time=   0.4s\n",
            "[CV 4/5] END bootstrap=False, max_depth=1, min_samples_leaf=1, min_samples_split=10, n_estimators=100;, score=0.646 total time=   0.4s\n",
            "[CV 5/5] END bootstrap=False, max_depth=1, min_samples_leaf=1, min_samples_split=10, n_estimators=100;, score=0.626 total time=   0.4s\n",
            "[CV 1/5] END bootstrap=False, max_depth=1, min_samples_leaf=1, min_samples_split=10, n_estimators=300;, score=0.636 total time=   1.2s\n",
            "[CV 2/5] END bootstrap=False, max_depth=1, min_samples_leaf=1, min_samples_split=10, n_estimators=300;, score=0.635 total time=   1.1s\n",
            "[CV 3/5] END bootstrap=False, max_depth=1, min_samples_leaf=1, min_samples_split=10, n_estimators=300;, score=0.645 total time=   1.1s\n",
            "[CV 4/5] END bootstrap=False, max_depth=1, min_samples_leaf=1, min_samples_split=10, n_estimators=300;, score=0.645 total time=   1.1s\n",
            "[CV 5/5] END bootstrap=False, max_depth=1, min_samples_leaf=1, min_samples_split=10, n_estimators=300;, score=0.632 total time=   1.1s\n",
            "[CV 1/5] END bootstrap=False, max_depth=1, min_samples_leaf=1, min_samples_split=10, n_estimators=500;, score=0.644 total time=   1.9s\n",
            "[CV 2/5] END bootstrap=False, max_depth=1, min_samples_leaf=1, min_samples_split=10, n_estimators=500;, score=0.644 total time=   1.9s\n",
            "[CV 3/5] END bootstrap=False, max_depth=1, min_samples_leaf=1, min_samples_split=10, n_estimators=500;, score=0.647 total time=   1.9s\n",
            "[CV 4/5] END bootstrap=False, max_depth=1, min_samples_leaf=1, min_samples_split=10, n_estimators=500;, score=0.644 total time=   1.9s\n",
            "[CV 5/5] END bootstrap=False, max_depth=1, min_samples_leaf=1, min_samples_split=10, n_estimators=500;, score=0.640 total time=   1.9s\n",
            "[CV 1/5] END bootstrap=False, max_depth=1, min_samples_leaf=2, min_samples_split=2, n_estimators=10;, score=0.602 total time=   0.1s\n",
            "[CV 2/5] END bootstrap=False, max_depth=1, min_samples_leaf=2, min_samples_split=2, n_estimators=10;, score=0.633 total time=   0.0s\n",
            "[CV 3/5] END bootstrap=False, max_depth=1, min_samples_leaf=2, min_samples_split=2, n_estimators=10;, score=0.641 total time=   0.0s\n",
            "[CV 4/5] END bootstrap=False, max_depth=1, min_samples_leaf=2, min_samples_split=2, n_estimators=10;, score=0.597 total time=   0.0s\n",
            "[CV 5/5] END bootstrap=False, max_depth=1, min_samples_leaf=2, min_samples_split=2, n_estimators=10;, score=0.629 total time=   0.1s\n",
            "[CV 1/5] END bootstrap=False, max_depth=1, min_samples_leaf=2, min_samples_split=2, n_estimators=50;, score=0.642 total time=   0.2s\n",
            "[CV 2/5] END bootstrap=False, max_depth=1, min_samples_leaf=2, min_samples_split=2, n_estimators=50;, score=0.629 total time=   0.2s\n",
            "[CV 3/5] END bootstrap=False, max_depth=1, min_samples_leaf=2, min_samples_split=2, n_estimators=50;, score=0.646 total time=   0.2s\n",
            "[CV 4/5] END bootstrap=False, max_depth=1, min_samples_leaf=2, min_samples_split=2, n_estimators=50;, score=0.644 total time=   0.2s\n",
            "[CV 5/5] END bootstrap=False, max_depth=1, min_samples_leaf=2, min_samples_split=2, n_estimators=50;, score=0.623 total time=   0.2s\n",
            "[CV 1/5] END bootstrap=False, max_depth=1, min_samples_leaf=2, min_samples_split=2, n_estimators=100;, score=0.641 total time=   0.4s\n",
            "[CV 2/5] END bootstrap=False, max_depth=1, min_samples_leaf=2, min_samples_split=2, n_estimators=100;, score=0.640 total time=   0.4s\n",
            "[CV 3/5] END bootstrap=False, max_depth=1, min_samples_leaf=2, min_samples_split=2, n_estimators=100;, score=0.645 total time=   0.4s\n",
            "[CV 4/5] END bootstrap=False, max_depth=1, min_samples_leaf=2, min_samples_split=2, n_estimators=100;, score=0.643 total time=   0.4s\n",
            "[CV 5/5] END bootstrap=False, max_depth=1, min_samples_leaf=2, min_samples_split=2, n_estimators=100;, score=0.627 total time=   0.4s\n",
            "[CV 1/5] END bootstrap=False, max_depth=1, min_samples_leaf=2, min_samples_split=2, n_estimators=300;, score=0.636 total time=   1.1s\n",
            "[CV 2/5] END bootstrap=False, max_depth=1, min_samples_leaf=2, min_samples_split=2, n_estimators=300;, score=0.643 total time=   1.2s\n",
            "[CV 3/5] END bootstrap=False, max_depth=1, min_samples_leaf=2, min_samples_split=2, n_estimators=300;, score=0.646 total time=   1.1s\n",
            "[CV 4/5] END bootstrap=False, max_depth=1, min_samples_leaf=2, min_samples_split=2, n_estimators=300;, score=0.646 total time=   1.1s\n",
            "[CV 5/5] END bootstrap=False, max_depth=1, min_samples_leaf=2, min_samples_split=2, n_estimators=300;, score=0.626 total time=   1.2s\n",
            "[CV 1/5] END bootstrap=False, max_depth=1, min_samples_leaf=2, min_samples_split=2, n_estimators=500;, score=0.642 total time=   1.9s\n",
            "[CV 2/5] END bootstrap=False, max_depth=1, min_samples_leaf=2, min_samples_split=2, n_estimators=500;, score=0.640 total time=   1.9s\n",
            "[CV 3/5] END bootstrap=False, max_depth=1, min_samples_leaf=2, min_samples_split=2, n_estimators=500;, score=0.651 total time=   1.9s\n",
            "[CV 4/5] END bootstrap=False, max_depth=1, min_samples_leaf=2, min_samples_split=2, n_estimators=500;, score=0.644 total time=   1.8s\n",
            "[CV 5/5] END bootstrap=False, max_depth=1, min_samples_leaf=2, min_samples_split=2, n_estimators=500;, score=0.619 total time=   2.0s\n",
            "[CV 1/5] END bootstrap=False, max_depth=1, min_samples_leaf=2, min_samples_split=5, n_estimators=10;, score=0.608 total time=   0.0s\n",
            "[CV 2/5] END bootstrap=False, max_depth=1, min_samples_leaf=2, min_samples_split=5, n_estimators=10;, score=0.625 total time=   0.1s\n",
            "[CV 3/5] END bootstrap=False, max_depth=1, min_samples_leaf=2, min_samples_split=5, n_estimators=10;, score=0.648 total time=   0.1s\n",
            "[CV 4/5] END bootstrap=False, max_depth=1, min_samples_leaf=2, min_samples_split=5, n_estimators=10;, score=0.621 total time=   0.1s\n",
            "[CV 5/5] END bootstrap=False, max_depth=1, min_samples_leaf=2, min_samples_split=5, n_estimators=10;, score=0.606 total time=   0.1s\n",
            "[CV 1/5] END bootstrap=False, max_depth=1, min_samples_leaf=2, min_samples_split=5, n_estimators=50;, score=0.641 total time=   0.2s\n",
            "[CV 2/5] END bootstrap=False, max_depth=1, min_samples_leaf=2, min_samples_split=5, n_estimators=50;, score=0.641 total time=   0.2s\n",
            "[CV 3/5] END bootstrap=False, max_depth=1, min_samples_leaf=2, min_samples_split=5, n_estimators=50;, score=0.646 total time=   0.2s\n",
            "[CV 4/5] END bootstrap=False, max_depth=1, min_samples_leaf=2, min_samples_split=5, n_estimators=50;, score=0.644 total time=   0.2s\n",
            "[CV 5/5] END bootstrap=False, max_depth=1, min_samples_leaf=2, min_samples_split=5, n_estimators=50;, score=0.618 total time=   0.2s\n",
            "[CV 1/5] END bootstrap=False, max_depth=1, min_samples_leaf=2, min_samples_split=5, n_estimators=100;, score=0.639 total time=   0.4s\n",
            "[CV 2/5] END bootstrap=False, max_depth=1, min_samples_leaf=2, min_samples_split=5, n_estimators=100;, score=0.633 total time=   0.4s\n",
            "[CV 3/5] END bootstrap=False, max_depth=1, min_samples_leaf=2, min_samples_split=5, n_estimators=100;, score=0.647 total time=   0.4s\n",
            "[CV 4/5] END bootstrap=False, max_depth=1, min_samples_leaf=2, min_samples_split=5, n_estimators=100;, score=0.644 total time=   0.4s\n",
            "[CV 5/5] END bootstrap=False, max_depth=1, min_samples_leaf=2, min_samples_split=5, n_estimators=100;, score=0.613 total time=   0.4s\n",
            "[CV 1/5] END bootstrap=False, max_depth=1, min_samples_leaf=2, min_samples_split=5, n_estimators=300;, score=0.642 total time=   1.1s\n",
            "[CV 2/5] END bootstrap=False, max_depth=1, min_samples_leaf=2, min_samples_split=5, n_estimators=300;, score=0.644 total time=   1.1s\n",
            "[CV 3/5] END bootstrap=False, max_depth=1, min_samples_leaf=2, min_samples_split=5, n_estimators=300;, score=0.650 total time=   1.1s\n",
            "[CV 4/5] END bootstrap=False, max_depth=1, min_samples_leaf=2, min_samples_split=5, n_estimators=300;, score=0.645 total time=   1.1s\n",
            "[CV 5/5] END bootstrap=False, max_depth=1, min_samples_leaf=2, min_samples_split=5, n_estimators=300;, score=0.625 total time=   1.2s\n",
            "[CV 1/5] END bootstrap=False, max_depth=1, min_samples_leaf=2, min_samples_split=5, n_estimators=500;, score=0.641 total time=   1.9s\n",
            "[CV 2/5] END bootstrap=False, max_depth=1, min_samples_leaf=2, min_samples_split=5, n_estimators=500;, score=0.636 total time=   1.9s\n",
            "[CV 3/5] END bootstrap=False, max_depth=1, min_samples_leaf=2, min_samples_split=5, n_estimators=500;, score=0.642 total time=   1.9s\n",
            "[CV 4/5] END bootstrap=False, max_depth=1, min_samples_leaf=2, min_samples_split=5, n_estimators=500;, score=0.646 total time=   1.9s\n",
            "[CV 5/5] END bootstrap=False, max_depth=1, min_samples_leaf=2, min_samples_split=5, n_estimators=500;, score=0.634 total time=   1.9s\n",
            "[CV 1/5] END bootstrap=False, max_depth=1, min_samples_leaf=2, min_samples_split=10, n_estimators=10;, score=0.579 total time=   0.0s\n",
            "[CV 2/5] END bootstrap=False, max_depth=1, min_samples_leaf=2, min_samples_split=10, n_estimators=10;, score=0.647 total time=   0.0s\n",
            "[CV 3/5] END bootstrap=False, max_depth=1, min_samples_leaf=2, min_samples_split=10, n_estimators=10;, score=0.602 total time=   0.0s\n",
            "[CV 4/5] END bootstrap=False, max_depth=1, min_samples_leaf=2, min_samples_split=10, n_estimators=10;, score=0.640 total time=   0.1s\n",
            "[CV 5/5] END bootstrap=False, max_depth=1, min_samples_leaf=2, min_samples_split=10, n_estimators=10;, score=0.619 total time=   0.0s\n",
            "[CV 1/5] END bootstrap=False, max_depth=1, min_samples_leaf=2, min_samples_split=10, n_estimators=50;, score=0.638 total time=   0.2s\n",
            "[CV 2/5] END bootstrap=False, max_depth=1, min_samples_leaf=2, min_samples_split=10, n_estimators=50;, score=0.638 total time=   0.2s\n",
            "[CV 3/5] END bootstrap=False, max_depth=1, min_samples_leaf=2, min_samples_split=10, n_estimators=50;, score=0.653 total time=   0.2s\n",
            "[CV 4/5] END bootstrap=False, max_depth=1, min_samples_leaf=2, min_samples_split=10, n_estimators=50;, score=0.643 total time=   0.2s\n",
            "[CV 5/5] END bootstrap=False, max_depth=1, min_samples_leaf=2, min_samples_split=10, n_estimators=50;, score=0.614 total time=   0.2s\n",
            "[CV 1/5] END bootstrap=False, max_depth=1, min_samples_leaf=2, min_samples_split=10, n_estimators=100;, score=0.636 total time=   0.4s\n",
            "[CV 2/5] END bootstrap=False, max_depth=1, min_samples_leaf=2, min_samples_split=10, n_estimators=100;, score=0.641 total time=   0.4s\n",
            "[CV 3/5] END bootstrap=False, max_depth=1, min_samples_leaf=2, min_samples_split=10, n_estimators=100;, score=0.649 total time=   0.4s\n",
            "[CV 4/5] END bootstrap=False, max_depth=1, min_samples_leaf=2, min_samples_split=10, n_estimators=100;, score=0.645 total time=   0.4s\n",
            "[CV 5/5] END bootstrap=False, max_depth=1, min_samples_leaf=2, min_samples_split=10, n_estimators=100;, score=0.614 total time=   0.4s\n",
            "[CV 1/5] END bootstrap=False, max_depth=1, min_samples_leaf=2, min_samples_split=10, n_estimators=300;, score=0.641 total time=   1.2s\n",
            "[CV 2/5] END bootstrap=False, max_depth=1, min_samples_leaf=2, min_samples_split=10, n_estimators=300;, score=0.643 total time=   1.2s\n",
            "[CV 3/5] END bootstrap=False, max_depth=1, min_samples_leaf=2, min_samples_split=10, n_estimators=300;, score=0.650 total time=   1.1s\n",
            "[CV 4/5] END bootstrap=False, max_depth=1, min_samples_leaf=2, min_samples_split=10, n_estimators=300;, score=0.647 total time=   1.1s\n",
            "[CV 5/5] END bootstrap=False, max_depth=1, min_samples_leaf=2, min_samples_split=10, n_estimators=300;, score=0.637 total time=   1.1s\n",
            "[CV 1/5] END bootstrap=False, max_depth=1, min_samples_leaf=2, min_samples_split=10, n_estimators=500;, score=0.639 total time=   1.9s\n",
            "[CV 2/5] END bootstrap=False, max_depth=1, min_samples_leaf=2, min_samples_split=10, n_estimators=500;, score=0.646 total time=   1.9s\n",
            "[CV 3/5] END bootstrap=False, max_depth=1, min_samples_leaf=2, min_samples_split=10, n_estimators=500;, score=0.641 total time=   1.8s\n",
            "[CV 4/5] END bootstrap=False, max_depth=1, min_samples_leaf=2, min_samples_split=10, n_estimators=500;, score=0.646 total time=   1.9s\n",
            "[CV 5/5] END bootstrap=False, max_depth=1, min_samples_leaf=2, min_samples_split=10, n_estimators=500;, score=0.619 total time=   1.9s\n",
            "[CV 1/5] END bootstrap=False, max_depth=1, min_samples_leaf=4, min_samples_split=2, n_estimators=10;, score=0.588 total time=   0.0s\n",
            "[CV 2/5] END bootstrap=False, max_depth=1, min_samples_leaf=4, min_samples_split=2, n_estimators=10;, score=0.626 total time=   0.1s\n",
            "[CV 3/5] END bootstrap=False, max_depth=1, min_samples_leaf=4, min_samples_split=2, n_estimators=10;, score=0.625 total time=   0.0s\n",
            "[CV 4/5] END bootstrap=False, max_depth=1, min_samples_leaf=4, min_samples_split=2, n_estimators=10;, score=0.629 total time=   0.0s\n",
            "[CV 5/5] END bootstrap=False, max_depth=1, min_samples_leaf=4, min_samples_split=2, n_estimators=10;, score=0.617 total time=   0.1s\n",
            "[CV 1/5] END bootstrap=False, max_depth=1, min_samples_leaf=4, min_samples_split=2, n_estimators=50;, score=0.626 total time=   0.2s\n",
            "[CV 2/5] END bootstrap=False, max_depth=1, min_samples_leaf=4, min_samples_split=2, n_estimators=50;, score=0.646 total time=   0.2s\n",
            "[CV 3/5] END bootstrap=False, max_depth=1, min_samples_leaf=4, min_samples_split=2, n_estimators=50;, score=0.649 total time=   0.2s\n",
            "[CV 4/5] END bootstrap=False, max_depth=1, min_samples_leaf=4, min_samples_split=2, n_estimators=50;, score=0.647 total time=   0.2s\n",
            "[CV 5/5] END bootstrap=False, max_depth=1, min_samples_leaf=4, min_samples_split=2, n_estimators=50;, score=0.618 total time=   0.2s\n",
            "[CV 1/5] END bootstrap=False, max_depth=1, min_samples_leaf=4, min_samples_split=2, n_estimators=100;, score=0.642 total time=   0.4s\n",
            "[CV 2/5] END bootstrap=False, max_depth=1, min_samples_leaf=4, min_samples_split=2, n_estimators=100;, score=0.648 total time=   0.4s\n",
            "[CV 3/5] END bootstrap=False, max_depth=1, min_samples_leaf=4, min_samples_split=2, n_estimators=100;, score=0.650 total time=   0.4s\n",
            "[CV 4/5] END bootstrap=False, max_depth=1, min_samples_leaf=4, min_samples_split=2, n_estimators=100;, score=0.643 total time=   0.4s\n",
            "[CV 5/5] END bootstrap=False, max_depth=1, min_samples_leaf=4, min_samples_split=2, n_estimators=100;, score=0.620 total time=   0.4s\n",
            "[CV 1/5] END bootstrap=False, max_depth=1, min_samples_leaf=4, min_samples_split=2, n_estimators=300;, score=0.640 total time=   1.1s\n",
            "[CV 2/5] END bootstrap=False, max_depth=1, min_samples_leaf=4, min_samples_split=2, n_estimators=300;, score=0.629 total time=   1.1s\n",
            "[CV 3/5] END bootstrap=False, max_depth=1, min_samples_leaf=4, min_samples_split=2, n_estimators=300;, score=0.650 total time=   1.1s\n",
            "[CV 4/5] END bootstrap=False, max_depth=1, min_samples_leaf=4, min_samples_split=2, n_estimators=300;, score=0.646 total time=   1.2s\n",
            "[CV 5/5] END bootstrap=False, max_depth=1, min_samples_leaf=4, min_samples_split=2, n_estimators=300;, score=0.616 total time=   1.1s\n",
            "[CV 1/5] END bootstrap=False, max_depth=1, min_samples_leaf=4, min_samples_split=2, n_estimators=500;, score=0.636 total time=   1.9s\n",
            "[CV 2/5] END bootstrap=False, max_depth=1, min_samples_leaf=4, min_samples_split=2, n_estimators=500;, score=0.643 total time=   1.9s\n",
            "[CV 3/5] END bootstrap=False, max_depth=1, min_samples_leaf=4, min_samples_split=2, n_estimators=500;, score=0.641 total time=   1.9s\n",
            "[CV 4/5] END bootstrap=False, max_depth=1, min_samples_leaf=4, min_samples_split=2, n_estimators=500;, score=0.643 total time=   1.9s\n",
            "[CV 5/5] END bootstrap=False, max_depth=1, min_samples_leaf=4, min_samples_split=2, n_estimators=500;, score=0.616 total time=   1.9s\n",
            "[CV 1/5] END bootstrap=False, max_depth=1, min_samples_leaf=4, min_samples_split=5, n_estimators=10;, score=0.592 total time=   0.0s\n",
            "[CV 2/5] END bootstrap=False, max_depth=1, min_samples_leaf=4, min_samples_split=5, n_estimators=10;, score=0.615 total time=   0.1s\n",
            "[CV 3/5] END bootstrap=False, max_depth=1, min_samples_leaf=4, min_samples_split=5, n_estimators=10;, score=0.652 total time=   0.1s\n",
            "[CV 4/5] END bootstrap=False, max_depth=1, min_samples_leaf=4, min_samples_split=5, n_estimators=10;, score=0.633 total time=   0.1s\n",
            "[CV 5/5] END bootstrap=False, max_depth=1, min_samples_leaf=4, min_samples_split=5, n_estimators=10;, score=0.632 total time=   0.0s\n",
            "[CV 1/5] END bootstrap=False, max_depth=1, min_samples_leaf=4, min_samples_split=5, n_estimators=50;, score=0.628 total time=   0.2s\n",
            "[CV 2/5] END bootstrap=False, max_depth=1, min_samples_leaf=4, min_samples_split=5, n_estimators=50;, score=0.632 total time=   0.2s\n",
            "[CV 3/5] END bootstrap=False, max_depth=1, min_samples_leaf=4, min_samples_split=5, n_estimators=50;, score=0.641 total time=   0.2s\n",
            "[CV 4/5] END bootstrap=False, max_depth=1, min_samples_leaf=4, min_samples_split=5, n_estimators=50;, score=0.645 total time=   0.2s\n",
            "[CV 5/5] END bootstrap=False, max_depth=1, min_samples_leaf=4, min_samples_split=5, n_estimators=50;, score=0.633 total time=   0.2s\n",
            "[CV 1/5] END bootstrap=False, max_depth=1, min_samples_leaf=4, min_samples_split=5, n_estimators=100;, score=0.639 total time=   0.4s\n",
            "[CV 2/5] END bootstrap=False, max_depth=1, min_samples_leaf=4, min_samples_split=5, n_estimators=100;, score=0.635 total time=   0.4s\n",
            "[CV 3/5] END bootstrap=False, max_depth=1, min_samples_leaf=4, min_samples_split=5, n_estimators=100;, score=0.647 total time=   0.4s\n",
            "[CV 4/5] END bootstrap=False, max_depth=1, min_samples_leaf=4, min_samples_split=5, n_estimators=100;, score=0.650 total time=   0.4s\n",
            "[CV 5/5] END bootstrap=False, max_depth=1, min_samples_leaf=4, min_samples_split=5, n_estimators=100;, score=0.632 total time=   0.4s\n",
            "[CV 1/5] END bootstrap=False, max_depth=1, min_samples_leaf=4, min_samples_split=5, n_estimators=300;, score=0.638 total time=   1.1s\n",
            "[CV 2/5] END bootstrap=False, max_depth=1, min_samples_leaf=4, min_samples_split=5, n_estimators=300;, score=0.643 total time=   1.1s\n",
            "[CV 3/5] END bootstrap=False, max_depth=1, min_samples_leaf=4, min_samples_split=5, n_estimators=300;, score=0.640 total time=   1.2s\n",
            "[CV 4/5] END bootstrap=False, max_depth=1, min_samples_leaf=4, min_samples_split=5, n_estimators=300;, score=0.644 total time=   1.1s\n",
            "[CV 5/5] END bootstrap=False, max_depth=1, min_samples_leaf=4, min_samples_split=5, n_estimators=300;, score=0.634 total time=   1.1s\n",
            "[CV 1/5] END bootstrap=False, max_depth=1, min_samples_leaf=4, min_samples_split=5, n_estimators=500;, score=0.643 total time=   1.9s\n",
            "[CV 2/5] END bootstrap=False, max_depth=1, min_samples_leaf=4, min_samples_split=5, n_estimators=500;, score=0.644 total time=   1.9s\n",
            "[CV 3/5] END bootstrap=False, max_depth=1, min_samples_leaf=4, min_samples_split=5, n_estimators=500;, score=0.647 total time=   1.8s\n",
            "[CV 4/5] END bootstrap=False, max_depth=1, min_samples_leaf=4, min_samples_split=5, n_estimators=500;, score=0.644 total time=   1.9s\n",
            "[CV 5/5] END bootstrap=False, max_depth=1, min_samples_leaf=4, min_samples_split=5, n_estimators=500;, score=0.633 total time=   1.9s\n",
            "[CV 1/5] END bootstrap=False, max_depth=1, min_samples_leaf=4, min_samples_split=10, n_estimators=10;, score=0.588 total time=   0.0s\n",
            "[CV 2/5] END bootstrap=False, max_depth=1, min_samples_leaf=4, min_samples_split=10, n_estimators=10;, score=0.636 total time=   0.0s\n",
            "[CV 3/5] END bootstrap=False, max_depth=1, min_samples_leaf=4, min_samples_split=10, n_estimators=10;, score=0.600 total time=   0.0s\n",
            "[CV 4/5] END bootstrap=False, max_depth=1, min_samples_leaf=4, min_samples_split=10, n_estimators=10;, score=0.646 total time=   0.1s\n",
            "[CV 5/5] END bootstrap=False, max_depth=1, min_samples_leaf=4, min_samples_split=10, n_estimators=10;, score=0.587 total time=   0.0s\n",
            "[CV 1/5] END bootstrap=False, max_depth=1, min_samples_leaf=4, min_samples_split=10, n_estimators=50;, score=0.628 total time=   0.2s\n",
            "[CV 2/5] END bootstrap=False, max_depth=1, min_samples_leaf=4, min_samples_split=10, n_estimators=50;, score=0.634 total time=   0.2s\n",
            "[CV 3/5] END bootstrap=False, max_depth=1, min_samples_leaf=4, min_samples_split=10, n_estimators=50;, score=0.646 total time=   0.2s\n",
            "[CV 4/5] END bootstrap=False, max_depth=1, min_samples_leaf=4, min_samples_split=10, n_estimators=50;, score=0.643 total time=   0.2s\n",
            "[CV 5/5] END bootstrap=False, max_depth=1, min_samples_leaf=4, min_samples_split=10, n_estimators=50;, score=0.641 total time=   0.2s\n",
            "[CV 1/5] END bootstrap=False, max_depth=1, min_samples_leaf=4, min_samples_split=10, n_estimators=100;, score=0.644 total time=   0.4s\n",
            "[CV 2/5] END bootstrap=False, max_depth=1, min_samples_leaf=4, min_samples_split=10, n_estimators=100;, score=0.635 total time=   0.4s\n",
            "[CV 3/5] END bootstrap=False, max_depth=1, min_samples_leaf=4, min_samples_split=10, n_estimators=100;, score=0.641 total time=   0.4s\n",
            "[CV 4/5] END bootstrap=False, max_depth=1, min_samples_leaf=4, min_samples_split=10, n_estimators=100;, score=0.647 total time=   0.4s\n",
            "[CV 5/5] END bootstrap=False, max_depth=1, min_samples_leaf=4, min_samples_split=10, n_estimators=100;, score=0.630 total time=   0.4s\n",
            "[CV 1/5] END bootstrap=False, max_depth=1, min_samples_leaf=4, min_samples_split=10, n_estimators=300;, score=0.641 total time=   1.1s\n",
            "[CV 2/5] END bootstrap=False, max_depth=1, min_samples_leaf=4, min_samples_split=10, n_estimators=300;, score=0.641 total time=   1.1s\n",
            "[CV 3/5] END bootstrap=False, max_depth=1, min_samples_leaf=4, min_samples_split=10, n_estimators=300;, score=0.641 total time=   1.2s\n",
            "[CV 4/5] END bootstrap=False, max_depth=1, min_samples_leaf=4, min_samples_split=10, n_estimators=300;, score=0.645 total time=   1.1s\n",
            "[CV 5/5] END bootstrap=False, max_depth=1, min_samples_leaf=4, min_samples_split=10, n_estimators=300;, score=0.632 total time=   1.1s\n",
            "[CV 1/5] END bootstrap=False, max_depth=1, min_samples_leaf=4, min_samples_split=10, n_estimators=500;, score=0.643 total time=   1.9s\n",
            "[CV 2/5] END bootstrap=False, max_depth=1, min_samples_leaf=4, min_samples_split=10, n_estimators=500;, score=0.644 total time=   1.9s\n",
            "[CV 3/5] END bootstrap=False, max_depth=1, min_samples_leaf=4, min_samples_split=10, n_estimators=500;, score=0.646 total time=   1.9s\n",
            "[CV 4/5] END bootstrap=False, max_depth=1, min_samples_leaf=4, min_samples_split=10, n_estimators=500;, score=0.643 total time=   1.9s\n",
            "[CV 5/5] END bootstrap=False, max_depth=1, min_samples_leaf=4, min_samples_split=10, n_estimators=500;, score=0.621 total time=   1.9s\n",
            "[CV 1/5] END bootstrap=False, max_depth=3, min_samples_leaf=1, min_samples_split=2, n_estimators=10;, score=0.645 total time=   0.1s\n",
            "[CV 2/5] END bootstrap=False, max_depth=3, min_samples_leaf=1, min_samples_split=2, n_estimators=10;, score=0.639 total time=   0.1s\n",
            "[CV 3/5] END bootstrap=False, max_depth=3, min_samples_leaf=1, min_samples_split=2, n_estimators=10;, score=0.662 total time=   0.1s\n",
            "[CV 4/5] END bootstrap=False, max_depth=3, min_samples_leaf=1, min_samples_split=2, n_estimators=10;, score=0.661 total time=   0.1s\n",
            "[CV 5/5] END bootstrap=False, max_depth=3, min_samples_leaf=1, min_samples_split=2, n_estimators=10;, score=0.634 total time=   0.1s\n",
            "[CV 1/5] END bootstrap=False, max_depth=3, min_samples_leaf=1, min_samples_split=2, n_estimators=50;, score=0.657 total time=   0.4s\n",
            "[CV 2/5] END bootstrap=False, max_depth=3, min_samples_leaf=1, min_samples_split=2, n_estimators=50;, score=0.650 total time=   0.4s\n",
            "[CV 3/5] END bootstrap=False, max_depth=3, min_samples_leaf=1, min_samples_split=2, n_estimators=50;, score=0.664 total time=   0.4s\n",
            "[CV 4/5] END bootstrap=False, max_depth=3, min_samples_leaf=1, min_samples_split=2, n_estimators=50;, score=0.665 total time=   0.4s\n",
            "[CV 5/5] END bootstrap=False, max_depth=3, min_samples_leaf=1, min_samples_split=2, n_estimators=50;, score=0.656 total time=   0.4s\n",
            "[CV 1/5] END bootstrap=False, max_depth=3, min_samples_leaf=1, min_samples_split=2, n_estimators=100;, score=0.652 total time=   0.7s\n",
            "[CV 2/5] END bootstrap=False, max_depth=3, min_samples_leaf=1, min_samples_split=2, n_estimators=100;, score=0.656 total time=   0.7s\n",
            "[CV 3/5] END bootstrap=False, max_depth=3, min_samples_leaf=1, min_samples_split=2, n_estimators=100;, score=0.659 total time=   0.7s\n",
            "[CV 4/5] END bootstrap=False, max_depth=3, min_samples_leaf=1, min_samples_split=2, n_estimators=100;, score=0.667 total time=   0.7s\n",
            "[CV 5/5] END bootstrap=False, max_depth=3, min_samples_leaf=1, min_samples_split=2, n_estimators=100;, score=0.648 total time=   0.7s\n",
            "[CV 1/5] END bootstrap=False, max_depth=3, min_samples_leaf=1, min_samples_split=2, n_estimators=300;, score=0.658 total time=   2.1s\n",
            "[CV 2/5] END bootstrap=False, max_depth=3, min_samples_leaf=1, min_samples_split=2, n_estimators=300;, score=0.659 total time=   2.1s\n",
            "[CV 3/5] END bootstrap=False, max_depth=3, min_samples_leaf=1, min_samples_split=2, n_estimators=300;, score=0.674 total time=   2.1s\n",
            "[CV 4/5] END bootstrap=False, max_depth=3, min_samples_leaf=1, min_samples_split=2, n_estimators=300;, score=0.664 total time=   2.1s\n",
            "[CV 5/5] END bootstrap=False, max_depth=3, min_samples_leaf=1, min_samples_split=2, n_estimators=300;, score=0.643 total time=   2.0s\n",
            "[CV 1/5] END bootstrap=False, max_depth=3, min_samples_leaf=1, min_samples_split=2, n_estimators=500;, score=0.659 total time=   3.4s\n",
            "[CV 2/5] END bootstrap=False, max_depth=3, min_samples_leaf=1, min_samples_split=2, n_estimators=500;, score=0.653 total time=   3.4s\n",
            "[CV 3/5] END bootstrap=False, max_depth=3, min_samples_leaf=1, min_samples_split=2, n_estimators=500;, score=0.665 total time=   3.5s\n",
            "[CV 4/5] END bootstrap=False, max_depth=3, min_samples_leaf=1, min_samples_split=2, n_estimators=500;, score=0.666 total time=   3.4s\n",
            "[CV 5/5] END bootstrap=False, max_depth=3, min_samples_leaf=1, min_samples_split=2, n_estimators=500;, score=0.646 total time=   3.4s\n",
            "[CV 1/5] END bootstrap=False, max_depth=3, min_samples_leaf=1, min_samples_split=5, n_estimators=10;, score=0.650 total time=   0.1s\n",
            "[CV 2/5] END bootstrap=False, max_depth=3, min_samples_leaf=1, min_samples_split=5, n_estimators=10;, score=0.633 total time=   0.1s\n",
            "[CV 3/5] END bootstrap=False, max_depth=3, min_samples_leaf=1, min_samples_split=5, n_estimators=10;, score=0.653 total time=   0.1s\n",
            "[CV 4/5] END bootstrap=False, max_depth=3, min_samples_leaf=1, min_samples_split=5, n_estimators=10;, score=0.644 total time=   0.1s\n",
            "[CV 5/5] END bootstrap=False, max_depth=3, min_samples_leaf=1, min_samples_split=5, n_estimators=10;, score=0.633 total time=   0.1s\n",
            "[CV 1/5] END bootstrap=False, max_depth=3, min_samples_leaf=1, min_samples_split=5, n_estimators=50;, score=0.655 total time=   0.4s\n",
            "[CV 2/5] END bootstrap=False, max_depth=3, min_samples_leaf=1, min_samples_split=5, n_estimators=50;, score=0.665 total time=   0.3s\n",
            "[CV 3/5] END bootstrap=False, max_depth=3, min_samples_leaf=1, min_samples_split=5, n_estimators=50;, score=0.660 total time=   0.4s\n",
            "[CV 4/5] END bootstrap=False, max_depth=3, min_samples_leaf=1, min_samples_split=5, n_estimators=50;, score=0.658 total time=   0.3s\n",
            "[CV 5/5] END bootstrap=False, max_depth=3, min_samples_leaf=1, min_samples_split=5, n_estimators=50;, score=0.646 total time=   0.3s\n",
            "[CV 1/5] END bootstrap=False, max_depth=3, min_samples_leaf=1, min_samples_split=5, n_estimators=100;, score=0.662 total time=   0.7s\n",
            "[CV 2/5] END bootstrap=False, max_depth=3, min_samples_leaf=1, min_samples_split=5, n_estimators=100;, score=0.647 total time=   0.7s\n",
            "[CV 3/5] END bootstrap=False, max_depth=3, min_samples_leaf=1, min_samples_split=5, n_estimators=100;, score=0.664 total time=   0.7s\n",
            "[CV 4/5] END bootstrap=False, max_depth=3, min_samples_leaf=1, min_samples_split=5, n_estimators=100;, score=0.664 total time=   0.7s\n",
            "[CV 5/5] END bootstrap=False, max_depth=3, min_samples_leaf=1, min_samples_split=5, n_estimators=100;, score=0.635 total time=   0.7s\n",
            "[CV 1/5] END bootstrap=False, max_depth=3, min_samples_leaf=1, min_samples_split=5, n_estimators=300;, score=0.664 total time=   2.1s\n",
            "[CV 2/5] END bootstrap=False, max_depth=3, min_samples_leaf=1, min_samples_split=5, n_estimators=300;, score=0.656 total time=   2.1s\n",
            "[CV 3/5] END bootstrap=False, max_depth=3, min_samples_leaf=1, min_samples_split=5, n_estimators=300;, score=0.663 total time=   2.1s\n",
            "[CV 4/5] END bootstrap=False, max_depth=3, min_samples_leaf=1, min_samples_split=5, n_estimators=300;, score=0.665 total time=   2.0s\n",
            "[CV 5/5] END bootstrap=False, max_depth=3, min_samples_leaf=1, min_samples_split=5, n_estimators=300;, score=0.648 total time=   2.1s\n",
            "[CV 1/5] END bootstrap=False, max_depth=3, min_samples_leaf=1, min_samples_split=5, n_estimators=500;, score=0.662 total time=   3.5s\n",
            "[CV 2/5] END bootstrap=False, max_depth=3, min_samples_leaf=1, min_samples_split=5, n_estimators=500;, score=0.657 total time=   3.5s\n",
            "[CV 3/5] END bootstrap=False, max_depth=3, min_samples_leaf=1, min_samples_split=5, n_estimators=500;, score=0.664 total time=   3.5s\n",
            "[CV 4/5] END bootstrap=False, max_depth=3, min_samples_leaf=1, min_samples_split=5, n_estimators=500;, score=0.665 total time=   3.4s\n",
            "[CV 5/5] END bootstrap=False, max_depth=3, min_samples_leaf=1, min_samples_split=5, n_estimators=500;, score=0.641 total time=   3.4s\n",
            "[CV 1/5] END bootstrap=False, max_depth=3, min_samples_leaf=1, min_samples_split=10, n_estimators=10;, score=0.660 total time=   0.1s\n",
            "[CV 2/5] END bootstrap=False, max_depth=3, min_samples_leaf=1, min_samples_split=10, n_estimators=10;, score=0.644 total time=   0.1s\n",
            "[CV 3/5] END bootstrap=False, max_depth=3, min_samples_leaf=1, min_samples_split=10, n_estimators=10;, score=0.661 total time=   0.1s\n",
            "[CV 4/5] END bootstrap=False, max_depth=3, min_samples_leaf=1, min_samples_split=10, n_estimators=10;, score=0.659 total time=   0.1s\n",
            "[CV 5/5] END bootstrap=False, max_depth=3, min_samples_leaf=1, min_samples_split=10, n_estimators=10;, score=0.642 total time=   0.1s\n",
            "[CV 1/5] END bootstrap=False, max_depth=3, min_samples_leaf=1, min_samples_split=10, n_estimators=50;, score=0.657 total time=   0.4s\n",
            "[CV 2/5] END bootstrap=False, max_depth=3, min_samples_leaf=1, min_samples_split=10, n_estimators=50;, score=0.657 total time=   0.4s\n",
            "[CV 3/5] END bootstrap=False, max_depth=3, min_samples_leaf=1, min_samples_split=10, n_estimators=50;, score=0.658 total time=   0.4s\n",
            "[CV 4/5] END bootstrap=False, max_depth=3, min_samples_leaf=1, min_samples_split=10, n_estimators=50;, score=0.661 total time=   0.4s\n",
            "[CV 5/5] END bootstrap=False, max_depth=3, min_samples_leaf=1, min_samples_split=10, n_estimators=50;, score=0.630 total time=   0.4s\n",
            "[CV 1/5] END bootstrap=False, max_depth=3, min_samples_leaf=1, min_samples_split=10, n_estimators=100;, score=0.664 total time=   0.7s\n",
            "[CV 2/5] END bootstrap=False, max_depth=3, min_samples_leaf=1, min_samples_split=10, n_estimators=100;, score=0.657 total time=   0.7s\n",
            "[CV 3/5] END bootstrap=False, max_depth=3, min_samples_leaf=1, min_samples_split=10, n_estimators=100;, score=0.661 total time=   0.7s\n",
            "[CV 4/5] END bootstrap=False, max_depth=3, min_samples_leaf=1, min_samples_split=10, n_estimators=100;, score=0.666 total time=   0.7s\n",
            "[CV 5/5] END bootstrap=False, max_depth=3, min_samples_leaf=1, min_samples_split=10, n_estimators=100;, score=0.632 total time=   0.7s\n",
            "[CV 1/5] END bootstrap=False, max_depth=3, min_samples_leaf=1, min_samples_split=10, n_estimators=300;, score=0.663 total time=   2.1s\n",
            "[CV 2/5] END bootstrap=False, max_depth=3, min_samples_leaf=1, min_samples_split=10, n_estimators=300;, score=0.652 total time=   2.0s\n",
            "[CV 3/5] END bootstrap=False, max_depth=3, min_samples_leaf=1, min_samples_split=10, n_estimators=300;, score=0.668 total time=   2.1s\n",
            "[CV 4/5] END bootstrap=False, max_depth=3, min_samples_leaf=1, min_samples_split=10, n_estimators=300;, score=0.662 total time=   2.1s\n",
            "[CV 5/5] END bootstrap=False, max_depth=3, min_samples_leaf=1, min_samples_split=10, n_estimators=300;, score=0.651 total time=   2.1s\n",
            "[CV 1/5] END bootstrap=False, max_depth=3, min_samples_leaf=1, min_samples_split=10, n_estimators=500;, score=0.664 total time=   3.5s\n",
            "[CV 2/5] END bootstrap=False, max_depth=3, min_samples_leaf=1, min_samples_split=10, n_estimators=500;, score=0.656 total time=   3.4s\n",
            "[CV 3/5] END bootstrap=False, max_depth=3, min_samples_leaf=1, min_samples_split=10, n_estimators=500;, score=0.667 total time=   3.5s\n",
            "[CV 4/5] END bootstrap=False, max_depth=3, min_samples_leaf=1, min_samples_split=10, n_estimators=500;, score=0.665 total time=   3.4s\n",
            "[CV 5/5] END bootstrap=False, max_depth=3, min_samples_leaf=1, min_samples_split=10, n_estimators=500;, score=0.650 total time=   3.5s\n",
            "[CV 1/5] END bootstrap=False, max_depth=3, min_samples_leaf=2, min_samples_split=2, n_estimators=10;, score=0.657 total time=   0.1s\n",
            "[CV 2/5] END bootstrap=False, max_depth=3, min_samples_leaf=2, min_samples_split=2, n_estimators=10;, score=0.646 total time=   0.1s\n",
            "[CV 3/5] END bootstrap=False, max_depth=3, min_samples_leaf=2, min_samples_split=2, n_estimators=10;, score=0.662 total time=   0.1s\n",
            "[CV 4/5] END bootstrap=False, max_depth=3, min_samples_leaf=2, min_samples_split=2, n_estimators=10;, score=0.665 total time=   0.1s\n",
            "[CV 5/5] END bootstrap=False, max_depth=3, min_samples_leaf=2, min_samples_split=2, n_estimators=10;, score=0.636 total time=   0.1s\n",
            "[CV 1/5] END bootstrap=False, max_depth=3, min_samples_leaf=2, min_samples_split=2, n_estimators=50;, score=0.658 total time=   0.4s\n",
            "[CV 2/5] END bootstrap=False, max_depth=3, min_samples_leaf=2, min_samples_split=2, n_estimators=50;, score=0.652 total time=   0.3s\n",
            "[CV 3/5] END bootstrap=False, max_depth=3, min_samples_leaf=2, min_samples_split=2, n_estimators=50;, score=0.658 total time=   0.4s\n",
            "[CV 4/5] END bootstrap=False, max_depth=3, min_samples_leaf=2, min_samples_split=2, n_estimators=50;, score=0.661 total time=   0.4s\n",
            "[CV 5/5] END bootstrap=False, max_depth=3, min_samples_leaf=2, min_samples_split=2, n_estimators=50;, score=0.648 total time=   0.4s\n",
            "[CV 1/5] END bootstrap=False, max_depth=3, min_samples_leaf=2, min_samples_split=2, n_estimators=100;, score=0.655 total time=   0.7s\n",
            "[CV 2/5] END bootstrap=False, max_depth=3, min_samples_leaf=2, min_samples_split=2, n_estimators=100;, score=0.655 total time=   0.7s\n",
            "[CV 3/5] END bootstrap=False, max_depth=3, min_samples_leaf=2, min_samples_split=2, n_estimators=100;, score=0.657 total time=   0.7s\n",
            "[CV 4/5] END bootstrap=False, max_depth=3, min_samples_leaf=2, min_samples_split=2, n_estimators=100;, score=0.662 total time=   0.7s\n",
            "[CV 5/5] END bootstrap=False, max_depth=3, min_samples_leaf=2, min_samples_split=2, n_estimators=100;, score=0.640 total time=   0.7s\n",
            "[CV 1/5] END bootstrap=False, max_depth=3, min_samples_leaf=2, min_samples_split=2, n_estimators=300;, score=0.659 total time=   2.1s\n",
            "[CV 2/5] END bootstrap=False, max_depth=3, min_samples_leaf=2, min_samples_split=2, n_estimators=300;, score=0.656 total time=   2.1s\n",
            "[CV 3/5] END bootstrap=False, max_depth=3, min_samples_leaf=2, min_samples_split=2, n_estimators=300;, score=0.662 total time=   2.1s\n",
            "[CV 4/5] END bootstrap=False, max_depth=3, min_samples_leaf=2, min_samples_split=2, n_estimators=300;, score=0.665 total time=   2.1s\n",
            "[CV 5/5] END bootstrap=False, max_depth=3, min_samples_leaf=2, min_samples_split=2, n_estimators=300;, score=0.650 total time=   2.1s\n",
            "[CV 1/5] END bootstrap=False, max_depth=3, min_samples_leaf=2, min_samples_split=2, n_estimators=500;, score=0.662 total time=   3.4s\n",
            "[CV 2/5] END bootstrap=False, max_depth=3, min_samples_leaf=2, min_samples_split=2, n_estimators=500;, score=0.653 total time=   3.5s\n",
            "[CV 3/5] END bootstrap=False, max_depth=3, min_samples_leaf=2, min_samples_split=2, n_estimators=500;, score=0.662 total time=   3.5s\n",
            "[CV 4/5] END bootstrap=False, max_depth=3, min_samples_leaf=2, min_samples_split=2, n_estimators=500;, score=0.667 total time=   3.4s\n",
            "[CV 5/5] END bootstrap=False, max_depth=3, min_samples_leaf=2, min_samples_split=2, n_estimators=500;, score=0.646 total time=   3.3s\n",
            "[CV 1/5] END bootstrap=False, max_depth=3, min_samples_leaf=2, min_samples_split=5, n_estimators=10;, score=0.634 total time=   0.1s\n",
            "[CV 2/5] END bootstrap=False, max_depth=3, min_samples_leaf=2, min_samples_split=5, n_estimators=10;, score=0.652 total time=   0.1s\n",
            "[CV 3/5] END bootstrap=False, max_depth=3, min_samples_leaf=2, min_samples_split=5, n_estimators=10;, score=0.665 total time=   0.1s\n",
            "[CV 4/5] END bootstrap=False, max_depth=3, min_samples_leaf=2, min_samples_split=5, n_estimators=10;, score=0.655 total time=   0.1s\n",
            "[CV 5/5] END bootstrap=False, max_depth=3, min_samples_leaf=2, min_samples_split=5, n_estimators=10;, score=0.615 total time=   0.1s\n",
            "[CV 1/5] END bootstrap=False, max_depth=3, min_samples_leaf=2, min_samples_split=5, n_estimators=50;, score=0.659 total time=   0.4s\n",
            "[CV 2/5] END bootstrap=False, max_depth=3, min_samples_leaf=2, min_samples_split=5, n_estimators=50;, score=0.657 total time=   0.4s\n",
            "[CV 3/5] END bootstrap=False, max_depth=3, min_samples_leaf=2, min_samples_split=5, n_estimators=50;, score=0.666 total time=   0.4s\n",
            "[CV 4/5] END bootstrap=False, max_depth=3, min_samples_leaf=2, min_samples_split=5, n_estimators=50;, score=0.661 total time=   0.4s\n",
            "[CV 5/5] END bootstrap=False, max_depth=3, min_samples_leaf=2, min_samples_split=5, n_estimators=50;, score=0.652 total time=   0.3s\n",
            "[CV 1/5] END bootstrap=False, max_depth=3, min_samples_leaf=2, min_samples_split=5, n_estimators=100;, score=0.662 total time=   0.7s\n",
            "[CV 2/5] END bootstrap=False, max_depth=3, min_samples_leaf=2, min_samples_split=5, n_estimators=100;, score=0.643 total time=   0.7s\n",
            "[CV 3/5] END bootstrap=False, max_depth=3, min_samples_leaf=2, min_samples_split=5, n_estimators=100;, score=0.665 total time=   0.7s\n",
            "[CV 4/5] END bootstrap=False, max_depth=3, min_samples_leaf=2, min_samples_split=5, n_estimators=100;, score=0.665 total time=   0.7s\n",
            "[CV 5/5] END bootstrap=False, max_depth=3, min_samples_leaf=2, min_samples_split=5, n_estimators=100;, score=0.641 total time=   0.7s\n",
            "[CV 1/5] END bootstrap=False, max_depth=3, min_samples_leaf=2, min_samples_split=5, n_estimators=300;, score=0.667 total time=   2.0s\n",
            "[CV 2/5] END bootstrap=False, max_depth=3, min_samples_leaf=2, min_samples_split=5, n_estimators=300;, score=0.656 total time=   2.0s\n",
            "[CV 3/5] END bootstrap=False, max_depth=3, min_samples_leaf=2, min_samples_split=5, n_estimators=300;, score=0.664 total time=   2.0s\n",
            "[CV 4/5] END bootstrap=False, max_depth=3, min_samples_leaf=2, min_samples_split=5, n_estimators=300;, score=0.665 total time=   2.1s\n",
            "[CV 5/5] END bootstrap=False, max_depth=3, min_samples_leaf=2, min_samples_split=5, n_estimators=300;, score=0.646 total time=   2.1s\n",
            "[CV 1/5] END bootstrap=False, max_depth=3, min_samples_leaf=2, min_samples_split=5, n_estimators=500;, score=0.661 total time=   3.5s\n",
            "[CV 2/5] END bootstrap=False, max_depth=3, min_samples_leaf=2, min_samples_split=5, n_estimators=500;, score=0.657 total time=   3.5s\n",
            "[CV 3/5] END bootstrap=False, max_depth=3, min_samples_leaf=2, min_samples_split=5, n_estimators=500;, score=0.662 total time=   3.4s\n",
            "[CV 4/5] END bootstrap=False, max_depth=3, min_samples_leaf=2, min_samples_split=5, n_estimators=500;, score=0.666 total time=   3.4s\n",
            "[CV 5/5] END bootstrap=False, max_depth=3, min_samples_leaf=2, min_samples_split=5, n_estimators=500;, score=0.647 total time=   3.5s\n",
            "[CV 1/5] END bootstrap=False, max_depth=3, min_samples_leaf=2, min_samples_split=10, n_estimators=10;, score=0.646 total time=   0.1s\n",
            "[CV 2/5] END bootstrap=False, max_depth=3, min_samples_leaf=2, min_samples_split=10, n_estimators=10;, score=0.643 total time=   0.1s\n",
            "[CV 3/5] END bootstrap=False, max_depth=3, min_samples_leaf=2, min_samples_split=10, n_estimators=10;, score=0.656 total time=   0.1s\n",
            "[CV 4/5] END bootstrap=False, max_depth=3, min_samples_leaf=2, min_samples_split=10, n_estimators=10;, score=0.662 total time=   0.1s\n",
            "[CV 5/5] END bootstrap=False, max_depth=3, min_samples_leaf=2, min_samples_split=10, n_estimators=10;, score=0.650 total time=   0.1s\n",
            "[CV 1/5] END bootstrap=False, max_depth=3, min_samples_leaf=2, min_samples_split=10, n_estimators=50;, score=0.659 total time=   0.4s\n",
            "[CV 2/5] END bootstrap=False, max_depth=3, min_samples_leaf=2, min_samples_split=10, n_estimators=50;, score=0.650 total time=   0.4s\n",
            "[CV 3/5] END bootstrap=False, max_depth=3, min_samples_leaf=2, min_samples_split=10, n_estimators=50;, score=0.672 total time=   0.4s\n",
            "[CV 4/5] END bootstrap=False, max_depth=3, min_samples_leaf=2, min_samples_split=10, n_estimators=50;, score=0.663 total time=   0.4s\n",
            "[CV 5/5] END bootstrap=False, max_depth=3, min_samples_leaf=2, min_samples_split=10, n_estimators=50;, score=0.646 total time=   0.4s\n",
            "[CV 1/5] END bootstrap=False, max_depth=3, min_samples_leaf=2, min_samples_split=10, n_estimators=100;, score=0.657 total time=   0.7s\n",
            "[CV 2/5] END bootstrap=False, max_depth=3, min_samples_leaf=2, min_samples_split=10, n_estimators=100;, score=0.653 total time=   0.7s\n",
            "[CV 3/5] END bootstrap=False, max_depth=3, min_samples_leaf=2, min_samples_split=10, n_estimators=100;, score=0.663 total time=   0.7s\n",
            "[CV 4/5] END bootstrap=False, max_depth=3, min_samples_leaf=2, min_samples_split=10, n_estimators=100;, score=0.661 total time=   0.7s\n",
            "[CV 5/5] END bootstrap=False, max_depth=3, min_samples_leaf=2, min_samples_split=10, n_estimators=100;, score=0.638 total time=   0.7s\n",
            "[CV 1/5] END bootstrap=False, max_depth=3, min_samples_leaf=2, min_samples_split=10, n_estimators=300;, score=0.660 total time=   2.1s\n",
            "[CV 2/5] END bootstrap=False, max_depth=3, min_samples_leaf=2, min_samples_split=10, n_estimators=300;, score=0.653 total time=   2.1s\n",
            "[CV 3/5] END bootstrap=False, max_depth=3, min_samples_leaf=2, min_samples_split=10, n_estimators=300;, score=0.669 total time=   2.0s\n",
            "[CV 4/5] END bootstrap=False, max_depth=3, min_samples_leaf=2, min_samples_split=10, n_estimators=300;, score=0.666 total time=   2.1s\n",
            "[CV 5/5] END bootstrap=False, max_depth=3, min_samples_leaf=2, min_samples_split=10, n_estimators=300;, score=0.647 total time=   2.0s\n",
            "[CV 1/5] END bootstrap=False, max_depth=3, min_samples_leaf=2, min_samples_split=10, n_estimators=500;, score=0.661 total time=   3.5s\n",
            "[CV 2/5] END bootstrap=False, max_depth=3, min_samples_leaf=2, min_samples_split=10, n_estimators=500;, score=0.658 total time=   3.4s\n",
            "[CV 3/5] END bootstrap=False, max_depth=3, min_samples_leaf=2, min_samples_split=10, n_estimators=500;, score=0.669 total time=   3.3s\n",
            "[CV 4/5] END bootstrap=False, max_depth=3, min_samples_leaf=2, min_samples_split=10, n_estimators=500;, score=0.665 total time=   3.4s\n",
            "[CV 5/5] END bootstrap=False, max_depth=3, min_samples_leaf=2, min_samples_split=10, n_estimators=500;, score=0.642 total time=   3.4s\n",
            "[CV 1/5] END bootstrap=False, max_depth=3, min_samples_leaf=4, min_samples_split=2, n_estimators=10;, score=0.647 total time=   0.1s\n",
            "[CV 2/5] END bootstrap=False, max_depth=3, min_samples_leaf=4, min_samples_split=2, n_estimators=10;, score=0.643 total time=   0.1s\n",
            "[CV 3/5] END bootstrap=False, max_depth=3, min_samples_leaf=4, min_samples_split=2, n_estimators=10;, score=0.654 total time=   0.1s\n",
            "[CV 4/5] END bootstrap=False, max_depth=3, min_samples_leaf=4, min_samples_split=2, n_estimators=10;, score=0.655 total time=   0.1s\n",
            "[CV 5/5] END bootstrap=False, max_depth=3, min_samples_leaf=4, min_samples_split=2, n_estimators=10;, score=0.637 total time=   0.1s\n",
            "[CV 1/5] END bootstrap=False, max_depth=3, min_samples_leaf=4, min_samples_split=2, n_estimators=50;, score=0.652 total time=   0.4s\n",
            "[CV 2/5] END bootstrap=False, max_depth=3, min_samples_leaf=4, min_samples_split=2, n_estimators=50;, score=0.649 total time=   0.4s\n",
            "[CV 3/5] END bootstrap=False, max_depth=3, min_samples_leaf=4, min_samples_split=2, n_estimators=50;, score=0.654 total time=   0.3s\n",
            "[CV 4/5] END bootstrap=False, max_depth=3, min_samples_leaf=4, min_samples_split=2, n_estimators=50;, score=0.669 total time=   0.3s\n",
            "[CV 5/5] END bootstrap=False, max_depth=3, min_samples_leaf=4, min_samples_split=2, n_estimators=50;, score=0.655 total time=   0.4s\n",
            "[CV 1/5] END bootstrap=False, max_depth=3, min_samples_leaf=4, min_samples_split=2, n_estimators=100;, score=0.657 total time=   0.8s\n",
            "[CV 2/5] END bootstrap=False, max_depth=3, min_samples_leaf=4, min_samples_split=2, n_estimators=100;, score=0.659 total time=   0.7s\n",
            "[CV 3/5] END bootstrap=False, max_depth=3, min_samples_leaf=4, min_samples_split=2, n_estimators=100;, score=0.658 total time=   0.7s\n",
            "[CV 4/5] END bootstrap=False, max_depth=3, min_samples_leaf=4, min_samples_split=2, n_estimators=100;, score=0.668 total time=   0.7s\n",
            "[CV 5/5] END bootstrap=False, max_depth=3, min_samples_leaf=4, min_samples_split=2, n_estimators=100;, score=0.647 total time=   0.7s\n",
            "[CV 1/5] END bootstrap=False, max_depth=3, min_samples_leaf=4, min_samples_split=2, n_estimators=300;, score=0.664 total time=   2.1s\n",
            "[CV 2/5] END bootstrap=False, max_depth=3, min_samples_leaf=4, min_samples_split=2, n_estimators=300;, score=0.653 total time=   2.1s\n",
            "[CV 3/5] END bootstrap=False, max_depth=3, min_samples_leaf=4, min_samples_split=2, n_estimators=300;, score=0.664 total time=   2.0s\n",
            "[CV 4/5] END bootstrap=False, max_depth=3, min_samples_leaf=4, min_samples_split=2, n_estimators=300;, score=0.670 total time=   2.1s\n",
            "[CV 5/5] END bootstrap=False, max_depth=3, min_samples_leaf=4, min_samples_split=2, n_estimators=300;, score=0.637 total time=   2.0s\n",
            "[CV 1/5] END bootstrap=False, max_depth=3, min_samples_leaf=4, min_samples_split=2, n_estimators=500;, score=0.661 total time=   3.4s\n",
            "[CV 2/5] END bootstrap=False, max_depth=3, min_samples_leaf=4, min_samples_split=2, n_estimators=500;, score=0.653 total time=   3.4s\n",
            "[CV 3/5] END bootstrap=False, max_depth=3, min_samples_leaf=4, min_samples_split=2, n_estimators=500;, score=0.663 total time=   3.5s\n",
            "[CV 4/5] END bootstrap=False, max_depth=3, min_samples_leaf=4, min_samples_split=2, n_estimators=500;, score=0.664 total time=   3.5s\n",
            "[CV 5/5] END bootstrap=False, max_depth=3, min_samples_leaf=4, min_samples_split=2, n_estimators=500;, score=0.648 total time=   3.5s\n",
            "[CV 1/5] END bootstrap=False, max_depth=3, min_samples_leaf=4, min_samples_split=5, n_estimators=10;, score=0.657 total time=   0.1s\n",
            "[CV 2/5] END bootstrap=False, max_depth=3, min_samples_leaf=4, min_samples_split=5, n_estimators=10;, score=0.655 total time=   0.1s\n",
            "[CV 3/5] END bootstrap=False, max_depth=3, min_samples_leaf=4, min_samples_split=5, n_estimators=10;, score=0.678 total time=   0.1s\n",
            "[CV 4/5] END bootstrap=False, max_depth=3, min_samples_leaf=4, min_samples_split=5, n_estimators=10;, score=0.651 total time=   0.1s\n",
            "[CV 5/5] END bootstrap=False, max_depth=3, min_samples_leaf=4, min_samples_split=5, n_estimators=10;, score=0.635 total time=   0.1s\n",
            "[CV 1/5] END bootstrap=False, max_depth=3, min_samples_leaf=4, min_samples_split=5, n_estimators=50;, score=0.659 total time=   0.4s\n",
            "[CV 2/5] END bootstrap=False, max_depth=3, min_samples_leaf=4, min_samples_split=5, n_estimators=50;, score=0.662 total time=   0.4s\n",
            "[CV 3/5] END bootstrap=False, max_depth=3, min_samples_leaf=4, min_samples_split=5, n_estimators=50;, score=0.668 total time=   0.4s\n",
            "[CV 4/5] END bootstrap=False, max_depth=3, min_samples_leaf=4, min_samples_split=5, n_estimators=50;, score=0.657 total time=   0.4s\n",
            "[CV 5/5] END bootstrap=False, max_depth=3, min_samples_leaf=4, min_samples_split=5, n_estimators=50;, score=0.648 total time=   0.4s\n",
            "[CV 1/5] END bootstrap=False, max_depth=3, min_samples_leaf=4, min_samples_split=5, n_estimators=100;, score=0.657 total time=   0.7s\n",
            "[CV 2/5] END bootstrap=False, max_depth=3, min_samples_leaf=4, min_samples_split=5, n_estimators=100;, score=0.656 total time=   0.7s\n",
            "[CV 3/5] END bootstrap=False, max_depth=3, min_samples_leaf=4, min_samples_split=5, n_estimators=100;, score=0.670 total time=   0.7s\n",
            "[CV 4/5] END bootstrap=False, max_depth=3, min_samples_leaf=4, min_samples_split=5, n_estimators=100;, score=0.664 total time=   0.7s\n",
            "[CV 5/5] END bootstrap=False, max_depth=3, min_samples_leaf=4, min_samples_split=5, n_estimators=100;, score=0.644 total time=   0.7s\n",
            "[CV 1/5] END bootstrap=False, max_depth=3, min_samples_leaf=4, min_samples_split=5, n_estimators=300;, score=0.663 total time=   2.0s\n",
            "[CV 2/5] END bootstrap=False, max_depth=3, min_samples_leaf=4, min_samples_split=5, n_estimators=300;, score=0.656 total time=   2.1s\n",
            "[CV 3/5] END bootstrap=False, max_depth=3, min_samples_leaf=4, min_samples_split=5, n_estimators=300;, score=0.666 total time=   2.0s\n",
            "[CV 4/5] END bootstrap=False, max_depth=3, min_samples_leaf=4, min_samples_split=5, n_estimators=300;, score=0.667 total time=   2.1s\n",
            "[CV 5/5] END bootstrap=False, max_depth=3, min_samples_leaf=4, min_samples_split=5, n_estimators=300;, score=0.644 total time=   2.0s\n",
            "[CV 1/5] END bootstrap=False, max_depth=3, min_samples_leaf=4, min_samples_split=5, n_estimators=500;, score=0.660 total time=   3.5s\n",
            "[CV 2/5] END bootstrap=False, max_depth=3, min_samples_leaf=4, min_samples_split=5, n_estimators=500;, score=0.654 total time=   3.4s\n",
            "[CV 3/5] END bootstrap=False, max_depth=3, min_samples_leaf=4, min_samples_split=5, n_estimators=500;, score=0.664 total time=   3.4s\n",
            "[CV 4/5] END bootstrap=False, max_depth=3, min_samples_leaf=4, min_samples_split=5, n_estimators=500;, score=0.668 total time=   3.5s\n",
            "[CV 5/5] END bootstrap=False, max_depth=3, min_samples_leaf=4, min_samples_split=5, n_estimators=500;, score=0.646 total time=   3.4s\n",
            "[CV 1/5] END bootstrap=False, max_depth=3, min_samples_leaf=4, min_samples_split=10, n_estimators=10;, score=0.652 total time=   0.1s\n",
            "[CV 2/5] END bootstrap=False, max_depth=3, min_samples_leaf=4, min_samples_split=10, n_estimators=10;, score=0.666 total time=   0.1s\n",
            "[CV 3/5] END bootstrap=False, max_depth=3, min_samples_leaf=4, min_samples_split=10, n_estimators=10;, score=0.661 total time=   0.1s\n",
            "[CV 4/5] END bootstrap=False, max_depth=3, min_samples_leaf=4, min_samples_split=10, n_estimators=10;, score=0.671 total time=   0.1s\n",
            "[CV 5/5] END bootstrap=False, max_depth=3, min_samples_leaf=4, min_samples_split=10, n_estimators=10;, score=0.632 total time=   0.1s\n",
            "[CV 1/5] END bootstrap=False, max_depth=3, min_samples_leaf=4, min_samples_split=10, n_estimators=50;, score=0.661 total time=   0.4s\n",
            "[CV 2/5] END bootstrap=False, max_depth=3, min_samples_leaf=4, min_samples_split=10, n_estimators=50;, score=0.657 total time=   0.3s\n",
            "[CV 3/5] END bootstrap=False, max_depth=3, min_samples_leaf=4, min_samples_split=10, n_estimators=50;, score=0.657 total time=   0.4s\n",
            "[CV 4/5] END bootstrap=False, max_depth=3, min_samples_leaf=4, min_samples_split=10, n_estimators=50;, score=0.660 total time=   0.4s\n",
            "[CV 5/5] END bootstrap=False, max_depth=3, min_samples_leaf=4, min_samples_split=10, n_estimators=50;, score=0.648 total time=   0.4s\n",
            "[CV 1/5] END bootstrap=False, max_depth=3, min_samples_leaf=4, min_samples_split=10, n_estimators=100;, score=0.663 total time=   0.7s\n",
            "[CV 2/5] END bootstrap=False, max_depth=3, min_samples_leaf=4, min_samples_split=10, n_estimators=100;, score=0.655 total time=   0.7s\n",
            "[CV 3/5] END bootstrap=False, max_depth=3, min_samples_leaf=4, min_samples_split=10, n_estimators=100;, score=0.662 total time=   0.7s\n",
            "[CV 4/5] END bootstrap=False, max_depth=3, min_samples_leaf=4, min_samples_split=10, n_estimators=100;, score=0.662 total time=   0.7s\n",
            "[CV 5/5] END bootstrap=False, max_depth=3, min_samples_leaf=4, min_samples_split=10, n_estimators=100;, score=0.647 total time=   0.7s\n",
            "[CV 1/5] END bootstrap=False, max_depth=3, min_samples_leaf=4, min_samples_split=10, n_estimators=300;, score=0.660 total time=   2.1s\n",
            "[CV 2/5] END bootstrap=False, max_depth=3, min_samples_leaf=4, min_samples_split=10, n_estimators=300;, score=0.659 total time=   2.1s\n",
            "[CV 3/5] END bootstrap=False, max_depth=3, min_samples_leaf=4, min_samples_split=10, n_estimators=300;, score=0.665 total time=   2.1s\n",
            "[CV 4/5] END bootstrap=False, max_depth=3, min_samples_leaf=4, min_samples_split=10, n_estimators=300;, score=0.666 total time=   2.1s\n",
            "[CV 5/5] END bootstrap=False, max_depth=3, min_samples_leaf=4, min_samples_split=10, n_estimators=300;, score=0.638 total time=   2.1s\n",
            "[CV 1/5] END bootstrap=False, max_depth=3, min_samples_leaf=4, min_samples_split=10, n_estimators=500;, score=0.663 total time=   3.4s\n",
            "[CV 2/5] END bootstrap=False, max_depth=3, min_samples_leaf=4, min_samples_split=10, n_estimators=500;, score=0.656 total time=   3.4s\n",
            "[CV 3/5] END bootstrap=False, max_depth=3, min_samples_leaf=4, min_samples_split=10, n_estimators=500;, score=0.663 total time=   3.4s\n",
            "[CV 4/5] END bootstrap=False, max_depth=3, min_samples_leaf=4, min_samples_split=10, n_estimators=500;, score=0.664 total time=   3.4s\n",
            "[CV 5/5] END bootstrap=False, max_depth=3, min_samples_leaf=4, min_samples_split=10, n_estimators=500;, score=0.651 total time=   3.4s\n",
            "[CV 1/5] END bootstrap=False, max_depth=5, min_samples_leaf=1, min_samples_split=2, n_estimators=10;, score=0.671 total time=   0.1s\n",
            "[CV 2/5] END bootstrap=False, max_depth=5, min_samples_leaf=1, min_samples_split=2, n_estimators=10;, score=0.659 total time=   0.1s\n",
            "[CV 3/5] END bootstrap=False, max_depth=5, min_samples_leaf=1, min_samples_split=2, n_estimators=10;, score=0.677 total time=   0.1s\n",
            "[CV 4/5] END bootstrap=False, max_depth=5, min_samples_leaf=1, min_samples_split=2, n_estimators=10;, score=0.678 total time=   0.1s\n",
            "[CV 5/5] END bootstrap=False, max_depth=5, min_samples_leaf=1, min_samples_split=2, n_estimators=10;, score=0.652 total time=   0.1s\n",
            "[CV 1/5] END bootstrap=False, max_depth=5, min_samples_leaf=1, min_samples_split=2, n_estimators=50;, score=0.675 total time=   0.5s\n",
            "[CV 2/5] END bootstrap=False, max_depth=5, min_samples_leaf=1, min_samples_split=2, n_estimators=50;, score=0.664 total time=   0.5s\n",
            "[CV 3/5] END bootstrap=False, max_depth=5, min_samples_leaf=1, min_samples_split=2, n_estimators=50;, score=0.675 total time=   0.5s\n",
            "[CV 4/5] END bootstrap=False, max_depth=5, min_samples_leaf=1, min_samples_split=2, n_estimators=50;, score=0.684 total time=   0.5s\n",
            "[CV 5/5] END bootstrap=False, max_depth=5, min_samples_leaf=1, min_samples_split=2, n_estimators=50;, score=0.655 total time=   0.5s\n",
            "[CV 1/5] END bootstrap=False, max_depth=5, min_samples_leaf=1, min_samples_split=2, n_estimators=100;, score=0.669 total time=   1.0s\n",
            "[CV 2/5] END bootstrap=False, max_depth=5, min_samples_leaf=1, min_samples_split=2, n_estimators=100;, score=0.669 total time=   1.0s\n",
            "[CV 3/5] END bootstrap=False, max_depth=5, min_samples_leaf=1, min_samples_split=2, n_estimators=100;, score=0.680 total time=   1.0s\n",
            "[CV 4/5] END bootstrap=False, max_depth=5, min_samples_leaf=1, min_samples_split=2, n_estimators=100;, score=0.680 total time=   1.0s\n",
            "[CV 5/5] END bootstrap=False, max_depth=5, min_samples_leaf=1, min_samples_split=2, n_estimators=100;, score=0.664 total time=   1.0s\n",
            "[CV 1/5] END bootstrap=False, max_depth=5, min_samples_leaf=1, min_samples_split=2, n_estimators=300;, score=0.670 total time=   2.9s\n",
            "[CV 2/5] END bootstrap=False, max_depth=5, min_samples_leaf=1, min_samples_split=2, n_estimators=300;, score=0.674 total time=   2.8s\n",
            "[CV 3/5] END bootstrap=False, max_depth=5, min_samples_leaf=1, min_samples_split=2, n_estimators=300;, score=0.688 total time=   2.9s\n",
            "[CV 4/5] END bootstrap=False, max_depth=5, min_samples_leaf=1, min_samples_split=2, n_estimators=300;, score=0.677 total time=   3.0s\n",
            "[CV 5/5] END bootstrap=False, max_depth=5, min_samples_leaf=1, min_samples_split=2, n_estimators=300;, score=0.660 total time=   2.9s\n",
            "[CV 1/5] END bootstrap=False, max_depth=5, min_samples_leaf=1, min_samples_split=2, n_estimators=500;, score=0.674 total time=   4.8s\n",
            "[CV 2/5] END bootstrap=False, max_depth=5, min_samples_leaf=1, min_samples_split=2, n_estimators=500;, score=0.673 total time=   4.8s\n",
            "[CV 3/5] END bootstrap=False, max_depth=5, min_samples_leaf=1, min_samples_split=2, n_estimators=500;, score=0.682 total time=   4.8s\n",
            "[CV 4/5] END bootstrap=False, max_depth=5, min_samples_leaf=1, min_samples_split=2, n_estimators=500;, score=0.677 total time=   4.9s\n",
            "[CV 5/5] END bootstrap=False, max_depth=5, min_samples_leaf=1, min_samples_split=2, n_estimators=500;, score=0.667 total time=   4.9s\n",
            "[CV 1/5] END bootstrap=False, max_depth=5, min_samples_leaf=1, min_samples_split=5, n_estimators=10;, score=0.667 total time=   0.1s\n",
            "[CV 2/5] END bootstrap=False, max_depth=5, min_samples_leaf=1, min_samples_split=5, n_estimators=10;, score=0.661 total time=   0.1s\n",
            "[CV 3/5] END bootstrap=False, max_depth=5, min_samples_leaf=1, min_samples_split=5, n_estimators=10;, score=0.695 total time=   0.1s\n",
            "[CV 4/5] END bootstrap=False, max_depth=5, min_samples_leaf=1, min_samples_split=5, n_estimators=10;, score=0.665 total time=   0.1s\n",
            "[CV 5/5] END bootstrap=False, max_depth=5, min_samples_leaf=1, min_samples_split=5, n_estimators=10;, score=0.665 total time=   0.1s\n",
            "[CV 1/5] END bootstrap=False, max_depth=5, min_samples_leaf=1, min_samples_split=5, n_estimators=50;, score=0.669 total time=   0.5s\n",
            "[CV 2/5] END bootstrap=False, max_depth=5, min_samples_leaf=1, min_samples_split=5, n_estimators=50;, score=0.672 total time=   0.5s\n",
            "[CV 3/5] END bootstrap=False, max_depth=5, min_samples_leaf=1, min_samples_split=5, n_estimators=50;, score=0.682 total time=   0.5s\n",
            "[CV 4/5] END bootstrap=False, max_depth=5, min_samples_leaf=1, min_samples_split=5, n_estimators=50;, score=0.683 total time=   0.5s\n",
            "[CV 5/5] END bootstrap=False, max_depth=5, min_samples_leaf=1, min_samples_split=5, n_estimators=50;, score=0.668 total time=   0.5s\n",
            "[CV 1/5] END bootstrap=False, max_depth=5, min_samples_leaf=1, min_samples_split=5, n_estimators=100;, score=0.672 total time=   1.0s\n",
            "[CV 2/5] END bootstrap=False, max_depth=5, min_samples_leaf=1, min_samples_split=5, n_estimators=100;, score=0.669 total time=   1.0s\n",
            "[CV 3/5] END bootstrap=False, max_depth=5, min_samples_leaf=1, min_samples_split=5, n_estimators=100;, score=0.673 total time=   1.0s\n",
            "[CV 4/5] END bootstrap=False, max_depth=5, min_samples_leaf=1, min_samples_split=5, n_estimators=100;, score=0.676 total time=   1.0s\n",
            "[CV 5/5] END bootstrap=False, max_depth=5, min_samples_leaf=1, min_samples_split=5, n_estimators=100;, score=0.662 total time=   1.0s\n",
            "[CV 1/5] END bootstrap=False, max_depth=5, min_samples_leaf=1, min_samples_split=5, n_estimators=300;, score=0.671 total time=   3.0s\n",
            "[CV 2/5] END bootstrap=False, max_depth=5, min_samples_leaf=1, min_samples_split=5, n_estimators=300;, score=0.667 total time=   2.9s\n",
            "[CV 3/5] END bootstrap=False, max_depth=5, min_samples_leaf=1, min_samples_split=5, n_estimators=300;, score=0.691 total time=   2.9s\n",
            "[CV 4/5] END bootstrap=False, max_depth=5, min_samples_leaf=1, min_samples_split=5, n_estimators=300;, score=0.680 total time=   3.0s\n",
            "[CV 5/5] END bootstrap=False, max_depth=5, min_samples_leaf=1, min_samples_split=5, n_estimators=300;, score=0.662 total time=   2.9s\n",
            "[CV 1/5] END bootstrap=False, max_depth=5, min_samples_leaf=1, min_samples_split=5, n_estimators=500;, score=0.675 total time=   4.9s\n",
            "[CV 2/5] END bootstrap=False, max_depth=5, min_samples_leaf=1, min_samples_split=5, n_estimators=500;, score=0.668 total time=   4.9s\n",
            "[CV 3/5] END bootstrap=False, max_depth=5, min_samples_leaf=1, min_samples_split=5, n_estimators=500;, score=0.682 total time=   4.8s\n",
            "[CV 4/5] END bootstrap=False, max_depth=5, min_samples_leaf=1, min_samples_split=5, n_estimators=500;, score=0.680 total time=   4.8s\n",
            "[CV 5/5] END bootstrap=False, max_depth=5, min_samples_leaf=1, min_samples_split=5, n_estimators=500;, score=0.666 total time=   4.8s\n",
            "[CV 1/5] END bootstrap=False, max_depth=5, min_samples_leaf=1, min_samples_split=10, n_estimators=10;, score=0.666 total time=   0.1s\n",
            "[CV 2/5] END bootstrap=False, max_depth=5, min_samples_leaf=1, min_samples_split=10, n_estimators=10;, score=0.663 total time=   0.1s\n",
            "[CV 3/5] END bootstrap=False, max_depth=5, min_samples_leaf=1, min_samples_split=10, n_estimators=10;, score=0.678 total time=   0.1s\n",
            "[CV 4/5] END bootstrap=False, max_depth=5, min_samples_leaf=1, min_samples_split=10, n_estimators=10;, score=0.672 total time=   0.1s\n",
            "[CV 5/5] END bootstrap=False, max_depth=5, min_samples_leaf=1, min_samples_split=10, n_estimators=10;, score=0.663 total time=   0.1s\n",
            "[CV 1/5] END bootstrap=False, max_depth=5, min_samples_leaf=1, min_samples_split=10, n_estimators=50;, score=0.671 total time=   0.5s\n",
            "[CV 2/5] END bootstrap=False, max_depth=5, min_samples_leaf=1, min_samples_split=10, n_estimators=50;, score=0.659 total time=   0.5s\n",
            "[CV 3/5] END bootstrap=False, max_depth=5, min_samples_leaf=1, min_samples_split=10, n_estimators=50;, score=0.684 total time=   0.5s\n",
            "[CV 4/5] END bootstrap=False, max_depth=5, min_samples_leaf=1, min_samples_split=10, n_estimators=50;, score=0.680 total time=   0.5s\n",
            "[CV 5/5] END bootstrap=False, max_depth=5, min_samples_leaf=1, min_samples_split=10, n_estimators=50;, score=0.665 total time=   0.5s\n",
            "[CV 1/5] END bootstrap=False, max_depth=5, min_samples_leaf=1, min_samples_split=10, n_estimators=100;, score=0.675 total time=   1.0s\n",
            "[CV 2/5] END bootstrap=False, max_depth=5, min_samples_leaf=1, min_samples_split=10, n_estimators=100;, score=0.671 total time=   1.0s\n",
            "[CV 3/5] END bootstrap=False, max_depth=5, min_samples_leaf=1, min_samples_split=10, n_estimators=100;, score=0.677 total time=   1.0s\n",
            "[CV 4/5] END bootstrap=False, max_depth=5, min_samples_leaf=1, min_samples_split=10, n_estimators=100;, score=0.680 total time=   1.0s\n",
            "[CV 5/5] END bootstrap=False, max_depth=5, min_samples_leaf=1, min_samples_split=10, n_estimators=100;, score=0.659 total time=   1.0s\n",
            "[CV 1/5] END bootstrap=False, max_depth=5, min_samples_leaf=1, min_samples_split=10, n_estimators=300;, score=0.671 total time=   2.9s\n",
            "[CV 2/5] END bootstrap=False, max_depth=5, min_samples_leaf=1, min_samples_split=10, n_estimators=300;, score=0.671 total time=   2.9s\n",
            "[CV 3/5] END bootstrap=False, max_depth=5, min_samples_leaf=1, min_samples_split=10, n_estimators=300;, score=0.677 total time=   2.9s\n",
            "[CV 4/5] END bootstrap=False, max_depth=5, min_samples_leaf=1, min_samples_split=10, n_estimators=300;, score=0.678 total time=   2.9s\n",
            "[CV 5/5] END bootstrap=False, max_depth=5, min_samples_leaf=1, min_samples_split=10, n_estimators=300;, score=0.663 total time=   2.9s\n",
            "[CV 1/5] END bootstrap=False, max_depth=5, min_samples_leaf=1, min_samples_split=10, n_estimators=500;, score=0.674 total time=   4.8s\n",
            "[CV 2/5] END bootstrap=False, max_depth=5, min_samples_leaf=1, min_samples_split=10, n_estimators=500;, score=0.668 total time=   4.8s\n",
            "[CV 3/5] END bootstrap=False, max_depth=5, min_samples_leaf=1, min_samples_split=10, n_estimators=500;, score=0.689 total time=   4.9s\n",
            "[CV 4/5] END bootstrap=False, max_depth=5, min_samples_leaf=1, min_samples_split=10, n_estimators=500;, score=0.677 total time=   4.8s\n",
            "[CV 5/5] END bootstrap=False, max_depth=5, min_samples_leaf=1, min_samples_split=10, n_estimators=500;, score=0.659 total time=   4.8s\n",
            "[CV 1/5] END bootstrap=False, max_depth=5, min_samples_leaf=2, min_samples_split=2, n_estimators=10;, score=0.668 total time=   0.1s\n",
            "[CV 2/5] END bootstrap=False, max_depth=5, min_samples_leaf=2, min_samples_split=2, n_estimators=10;, score=0.670 total time=   0.1s\n",
            "[CV 3/5] END bootstrap=False, max_depth=5, min_samples_leaf=2, min_samples_split=2, n_estimators=10;, score=0.669 total time=   0.1s\n",
            "[CV 4/5] END bootstrap=False, max_depth=5, min_samples_leaf=2, min_samples_split=2, n_estimators=10;, score=0.676 total time=   0.1s\n",
            "[CV 5/5] END bootstrap=False, max_depth=5, min_samples_leaf=2, min_samples_split=2, n_estimators=10;, score=0.661 total time=   0.1s\n",
            "[CV 1/5] END bootstrap=False, max_depth=5, min_samples_leaf=2, min_samples_split=2, n_estimators=50;, score=0.675 total time=   0.5s\n",
            "[CV 2/5] END bootstrap=False, max_depth=5, min_samples_leaf=2, min_samples_split=2, n_estimators=50;, score=0.667 total time=   0.5s\n",
            "[CV 3/5] END bootstrap=False, max_depth=5, min_samples_leaf=2, min_samples_split=2, n_estimators=50;, score=0.680 total time=   0.5s\n",
            "[CV 4/5] END bootstrap=False, max_depth=5, min_samples_leaf=2, min_samples_split=2, n_estimators=50;, score=0.676 total time=   0.5s\n",
            "[CV 5/5] END bootstrap=False, max_depth=5, min_samples_leaf=2, min_samples_split=2, n_estimators=50;, score=0.653 total time=   0.5s\n",
            "[CV 1/5] END bootstrap=False, max_depth=5, min_samples_leaf=2, min_samples_split=2, n_estimators=100;, score=0.672 total time=   1.0s\n",
            "[CV 2/5] END bootstrap=False, max_depth=5, min_samples_leaf=2, min_samples_split=2, n_estimators=100;, score=0.671 total time=   1.0s\n",
            "[CV 3/5] END bootstrap=False, max_depth=5, min_samples_leaf=2, min_samples_split=2, n_estimators=100;, score=0.686 total time=   1.0s\n",
            "[CV 4/5] END bootstrap=False, max_depth=5, min_samples_leaf=2, min_samples_split=2, n_estimators=100;, score=0.676 total time=   1.0s\n",
            "[CV 5/5] END bootstrap=False, max_depth=5, min_samples_leaf=2, min_samples_split=2, n_estimators=100;, score=0.653 total time=   1.0s\n",
            "[CV 1/5] END bootstrap=False, max_depth=5, min_samples_leaf=2, min_samples_split=2, n_estimators=300;, score=0.673 total time=   2.9s\n",
            "[CV 2/5] END bootstrap=False, max_depth=5, min_samples_leaf=2, min_samples_split=2, n_estimators=300;, score=0.670 total time=   2.9s\n",
            "[CV 3/5] END bootstrap=False, max_depth=5, min_samples_leaf=2, min_samples_split=2, n_estimators=300;, score=0.682 total time=   2.9s\n",
            "[CV 4/5] END bootstrap=False, max_depth=5, min_samples_leaf=2, min_samples_split=2, n_estimators=300;, score=0.677 total time=   2.9s\n",
            "[CV 5/5] END bootstrap=False, max_depth=5, min_samples_leaf=2, min_samples_split=2, n_estimators=300;, score=0.666 total time=   2.9s\n",
            "[CV 1/5] END bootstrap=False, max_depth=5, min_samples_leaf=2, min_samples_split=2, n_estimators=500;, score=0.674 total time=   4.8s\n",
            "[CV 2/5] END bootstrap=False, max_depth=5, min_samples_leaf=2, min_samples_split=2, n_estimators=500;, score=0.670 total time=   4.7s\n",
            "[CV 3/5] END bootstrap=False, max_depth=5, min_samples_leaf=2, min_samples_split=2, n_estimators=500;, score=0.684 total time=   4.8s\n",
            "[CV 4/5] END bootstrap=False, max_depth=5, min_samples_leaf=2, min_samples_split=2, n_estimators=500;, score=0.678 total time=   4.7s\n",
            "[CV 5/5] END bootstrap=False, max_depth=5, min_samples_leaf=2, min_samples_split=2, n_estimators=500;, score=0.665 total time=   4.7s\n",
            "[CV 1/5] END bootstrap=False, max_depth=5, min_samples_leaf=2, min_samples_split=5, n_estimators=10;, score=0.674 total time=   0.1s\n",
            "[CV 2/5] END bootstrap=False, max_depth=5, min_samples_leaf=2, min_samples_split=5, n_estimators=10;, score=0.673 total time=   0.1s\n",
            "[CV 3/5] END bootstrap=False, max_depth=5, min_samples_leaf=2, min_samples_split=5, n_estimators=10;, score=0.687 total time=   0.1s\n",
            "[CV 4/5] END bootstrap=False, max_depth=5, min_samples_leaf=2, min_samples_split=5, n_estimators=10;, score=0.677 total time=   0.1s\n",
            "[CV 5/5] END bootstrap=False, max_depth=5, min_samples_leaf=2, min_samples_split=5, n_estimators=10;, score=0.650 total time=   0.1s\n",
            "[CV 1/5] END bootstrap=False, max_depth=5, min_samples_leaf=2, min_samples_split=5, n_estimators=50;, score=0.674 total time=   0.5s\n",
            "[CV 2/5] END bootstrap=False, max_depth=5, min_samples_leaf=2, min_samples_split=5, n_estimators=50;, score=0.673 total time=   0.5s\n",
            "[CV 3/5] END bootstrap=False, max_depth=5, min_samples_leaf=2, min_samples_split=5, n_estimators=50;, score=0.690 total time=   0.5s\n",
            "[CV 4/5] END bootstrap=False, max_depth=5, min_samples_leaf=2, min_samples_split=5, n_estimators=50;, score=0.677 total time=   0.5s\n",
            "[CV 5/5] END bootstrap=False, max_depth=5, min_samples_leaf=2, min_samples_split=5, n_estimators=50;, score=0.656 total time=   0.5s\n",
            "[CV 1/5] END bootstrap=False, max_depth=5, min_samples_leaf=2, min_samples_split=5, n_estimators=100;, score=0.670 total time=   1.0s\n",
            "[CV 2/5] END bootstrap=False, max_depth=5, min_samples_leaf=2, min_samples_split=5, n_estimators=100;, score=0.664 total time=   1.0s\n",
            "[CV 3/5] END bootstrap=False, max_depth=5, min_samples_leaf=2, min_samples_split=5, n_estimators=100;, score=0.686 total time=   1.0s\n",
            "[CV 4/5] END bootstrap=False, max_depth=5, min_samples_leaf=2, min_samples_split=5, n_estimators=100;, score=0.677 total time=   0.9s\n",
            "[CV 5/5] END bootstrap=False, max_depth=5, min_samples_leaf=2, min_samples_split=5, n_estimators=100;, score=0.666 total time=   0.9s\n",
            "[CV 1/5] END bootstrap=False, max_depth=5, min_samples_leaf=2, min_samples_split=5, n_estimators=300;, score=0.671 total time=   2.9s\n",
            "[CV 2/5] END bootstrap=False, max_depth=5, min_samples_leaf=2, min_samples_split=5, n_estimators=300;, score=0.670 total time=   2.8s\n",
            "[CV 3/5] END bootstrap=False, max_depth=5, min_samples_leaf=2, min_samples_split=5, n_estimators=300;, score=0.688 total time=   2.8s\n",
            "[CV 4/5] END bootstrap=False, max_depth=5, min_samples_leaf=2, min_samples_split=5, n_estimators=300;, score=0.681 total time=   2.8s\n",
            "[CV 5/5] END bootstrap=False, max_depth=5, min_samples_leaf=2, min_samples_split=5, n_estimators=300;, score=0.664 total time=   2.8s\n",
            "[CV 1/5] END bootstrap=False, max_depth=5, min_samples_leaf=2, min_samples_split=5, n_estimators=500;, score=0.675 total time=   4.7s\n",
            "[CV 2/5] END bootstrap=False, max_depth=5, min_samples_leaf=2, min_samples_split=5, n_estimators=500;, score=0.669 total time=   4.7s\n",
            "[CV 3/5] END bootstrap=False, max_depth=5, min_samples_leaf=2, min_samples_split=5, n_estimators=500;, score=0.678 total time=   4.7s\n",
            "[CV 4/5] END bootstrap=False, max_depth=5, min_samples_leaf=2, min_samples_split=5, n_estimators=500;, score=0.682 total time=   4.7s\n",
            "[CV 5/5] END bootstrap=False, max_depth=5, min_samples_leaf=2, min_samples_split=5, n_estimators=500;, score=0.658 total time=   4.8s\n",
            "[CV 1/5] END bootstrap=False, max_depth=5, min_samples_leaf=2, min_samples_split=10, n_estimators=10;, score=0.670 total time=   0.1s\n",
            "[CV 2/5] END bootstrap=False, max_depth=5, min_samples_leaf=2, min_samples_split=10, n_estimators=10;, score=0.670 total time=   0.1s\n",
            "[CV 3/5] END bootstrap=False, max_depth=5, min_samples_leaf=2, min_samples_split=10, n_estimators=10;, score=0.668 total time=   0.1s\n",
            "[CV 4/5] END bootstrap=False, max_depth=5, min_samples_leaf=2, min_samples_split=10, n_estimators=10;, score=0.675 total time=   0.1s\n",
            "[CV 5/5] END bootstrap=False, max_depth=5, min_samples_leaf=2, min_samples_split=10, n_estimators=10;, score=0.654 total time=   0.1s\n",
            "[CV 1/5] END bootstrap=False, max_depth=5, min_samples_leaf=2, min_samples_split=10, n_estimators=50;, score=0.674 total time=   0.5s\n",
            "[CV 2/5] END bootstrap=False, max_depth=5, min_samples_leaf=2, min_samples_split=10, n_estimators=50;, score=0.667 total time=   0.5s\n",
            "[CV 3/5] END bootstrap=False, max_depth=5, min_samples_leaf=2, min_samples_split=10, n_estimators=50;, score=0.676 total time=   0.5s\n",
            "[CV 4/5] END bootstrap=False, max_depth=5, min_samples_leaf=2, min_samples_split=10, n_estimators=50;, score=0.673 total time=   0.5s\n",
            "[CV 5/5] END bootstrap=False, max_depth=5, min_samples_leaf=2, min_samples_split=10, n_estimators=50;, score=0.659 total time=   0.5s\n",
            "[CV 1/5] END bootstrap=False, max_depth=5, min_samples_leaf=2, min_samples_split=10, n_estimators=100;, score=0.674 total time=   1.0s\n",
            "[CV 2/5] END bootstrap=False, max_depth=5, min_samples_leaf=2, min_samples_split=10, n_estimators=100;, score=0.671 total time=   1.0s\n",
            "[CV 3/5] END bootstrap=False, max_depth=5, min_samples_leaf=2, min_samples_split=10, n_estimators=100;, score=0.675 total time=   1.0s\n",
            "[CV 4/5] END bootstrap=False, max_depth=5, min_samples_leaf=2, min_samples_split=10, n_estimators=100;, score=0.677 total time=   0.9s\n",
            "[CV 5/5] END bootstrap=False, max_depth=5, min_samples_leaf=2, min_samples_split=10, n_estimators=100;, score=0.661 total time=   0.9s\n",
            "[CV 1/5] END bootstrap=False, max_depth=5, min_samples_leaf=2, min_samples_split=10, n_estimators=300;, score=0.671 total time=   2.9s\n",
            "[CV 2/5] END bootstrap=False, max_depth=5, min_samples_leaf=2, min_samples_split=10, n_estimators=300;, score=0.669 total time=   2.8s\n",
            "[CV 3/5] END bootstrap=False, max_depth=5, min_samples_leaf=2, min_samples_split=10, n_estimators=300;, score=0.684 total time=   2.8s\n",
            "[CV 4/5] END bootstrap=False, max_depth=5, min_samples_leaf=2, min_samples_split=10, n_estimators=300;, score=0.680 total time=   2.9s\n",
            "[CV 5/5] END bootstrap=False, max_depth=5, min_samples_leaf=2, min_samples_split=10, n_estimators=300;, score=0.664 total time=   2.8s\n",
            "[CV 1/5] END bootstrap=False, max_depth=5, min_samples_leaf=2, min_samples_split=10, n_estimators=500;, score=0.673 total time=   4.8s\n",
            "[CV 2/5] END bootstrap=False, max_depth=5, min_samples_leaf=2, min_samples_split=10, n_estimators=500;, score=0.668 total time=   4.8s\n",
            "[CV 3/5] END bootstrap=False, max_depth=5, min_samples_leaf=2, min_samples_split=10, n_estimators=500;, score=0.689 total time=   4.8s\n",
            "[CV 4/5] END bootstrap=False, max_depth=5, min_samples_leaf=2, min_samples_split=10, n_estimators=500;, score=0.680 total time=   4.7s\n",
            "[CV 5/5] END bootstrap=False, max_depth=5, min_samples_leaf=2, min_samples_split=10, n_estimators=500;, score=0.665 total time=   4.7s\n",
            "[CV 1/5] END bootstrap=False, max_depth=5, min_samples_leaf=4, min_samples_split=2, n_estimators=10;, score=0.663 total time=   0.1s\n",
            "[CV 2/5] END bootstrap=False, max_depth=5, min_samples_leaf=4, min_samples_split=2, n_estimators=10;, score=0.665 total time=   0.1s\n",
            "[CV 3/5] END bootstrap=False, max_depth=5, min_samples_leaf=4, min_samples_split=2, n_estimators=10;, score=0.685 total time=   0.1s\n",
            "[CV 4/5] END bootstrap=False, max_depth=5, min_samples_leaf=4, min_samples_split=2, n_estimators=10;, score=0.687 total time=   0.1s\n",
            "[CV 5/5] END bootstrap=False, max_depth=5, min_samples_leaf=4, min_samples_split=2, n_estimators=10;, score=0.648 total time=   0.1s\n",
            "[CV 1/5] END bootstrap=False, max_depth=5, min_samples_leaf=4, min_samples_split=2, n_estimators=50;, score=0.678 total time=   0.5s\n",
            "[CV 2/5] END bootstrap=False, max_depth=5, min_samples_leaf=4, min_samples_split=2, n_estimators=50;, score=0.664 total time=   0.5s\n",
            "[CV 3/5] END bootstrap=False, max_depth=5, min_samples_leaf=4, min_samples_split=2, n_estimators=50;, score=0.682 total time=   0.5s\n",
            "[CV 4/5] END bootstrap=False, max_depth=5, min_samples_leaf=4, min_samples_split=2, n_estimators=50;, score=0.675 total time=   0.5s\n",
            "[CV 5/5] END bootstrap=False, max_depth=5, min_samples_leaf=4, min_samples_split=2, n_estimators=50;, score=0.664 total time=   0.5s\n",
            "[CV 1/5] END bootstrap=False, max_depth=5, min_samples_leaf=4, min_samples_split=2, n_estimators=100;, score=0.672 total time=   0.9s\n",
            "[CV 2/5] END bootstrap=False, max_depth=5, min_samples_leaf=4, min_samples_split=2, n_estimators=100;, score=0.674 total time=   0.9s\n",
            "[CV 3/5] END bootstrap=False, max_depth=5, min_samples_leaf=4, min_samples_split=2, n_estimators=100;, score=0.676 total time=   0.9s\n",
            "[CV 4/5] END bootstrap=False, max_depth=5, min_samples_leaf=4, min_samples_split=2, n_estimators=100;, score=0.677 total time=   1.0s\n",
            "[CV 5/5] END bootstrap=False, max_depth=5, min_samples_leaf=4, min_samples_split=2, n_estimators=100;, score=0.659 total time=   0.9s\n",
            "[CV 1/5] END bootstrap=False, max_depth=5, min_samples_leaf=4, min_samples_split=2, n_estimators=300;, score=0.674 total time=   2.9s\n",
            "[CV 2/5] END bootstrap=False, max_depth=5, min_samples_leaf=4, min_samples_split=2, n_estimators=300;, score=0.664 total time=   2.9s\n",
            "[CV 3/5] END bootstrap=False, max_depth=5, min_samples_leaf=4, min_samples_split=2, n_estimators=300;, score=0.678 total time=   2.9s\n",
            "[CV 4/5] END bootstrap=False, max_depth=5, min_samples_leaf=4, min_samples_split=2, n_estimators=300;, score=0.680 total time=   2.8s\n",
            "[CV 5/5] END bootstrap=False, max_depth=5, min_samples_leaf=4, min_samples_split=2, n_estimators=300;, score=0.664 total time=   2.9s\n",
            "[CV 1/5] END bootstrap=False, max_depth=5, min_samples_leaf=4, min_samples_split=2, n_estimators=500;, score=0.673 total time=   4.7s\n",
            "[CV 2/5] END bootstrap=False, max_depth=5, min_samples_leaf=4, min_samples_split=2, n_estimators=500;, score=0.669 total time=   4.8s\n",
            "[CV 3/5] END bootstrap=False, max_depth=5, min_samples_leaf=4, min_samples_split=2, n_estimators=500;, score=0.680 total time=   4.8s\n",
            "[CV 4/5] END bootstrap=False, max_depth=5, min_samples_leaf=4, min_samples_split=2, n_estimators=500;, score=0.682 total time=   4.8s\n",
            "[CV 5/5] END bootstrap=False, max_depth=5, min_samples_leaf=4, min_samples_split=2, n_estimators=500;, score=0.661 total time=   4.8s\n",
            "[CV 1/5] END bootstrap=False, max_depth=5, min_samples_leaf=4, min_samples_split=5, n_estimators=10;, score=0.675 total time=   0.1s\n",
            "[CV 2/5] END bootstrap=False, max_depth=5, min_samples_leaf=4, min_samples_split=5, n_estimators=10;, score=0.661 total time=   0.1s\n",
            "[CV 3/5] END bootstrap=False, max_depth=5, min_samples_leaf=4, min_samples_split=5, n_estimators=10;, score=0.689 total time=   0.1s\n",
            "[CV 4/5] END bootstrap=False, max_depth=5, min_samples_leaf=4, min_samples_split=5, n_estimators=10;, score=0.679 total time=   0.1s\n",
            "[CV 5/5] END bootstrap=False, max_depth=5, min_samples_leaf=4, min_samples_split=5, n_estimators=10;, score=0.650 total time=   0.1s\n",
            "[CV 1/5] END bootstrap=False, max_depth=5, min_samples_leaf=4, min_samples_split=5, n_estimators=50;, score=0.677 total time=   0.5s\n",
            "[CV 2/5] END bootstrap=False, max_depth=5, min_samples_leaf=4, min_samples_split=5, n_estimators=50;, score=0.667 total time=   0.5s\n",
            "[CV 3/5] END bootstrap=False, max_depth=5, min_samples_leaf=4, min_samples_split=5, n_estimators=50;, score=0.681 total time=   0.5s\n",
            "[CV 4/5] END bootstrap=False, max_depth=5, min_samples_leaf=4, min_samples_split=5, n_estimators=50;, score=0.673 total time=   0.5s\n",
            "[CV 5/5] END bootstrap=False, max_depth=5, min_samples_leaf=4, min_samples_split=5, n_estimators=50;, score=0.667 total time=   0.5s\n",
            "[CV 1/5] END bootstrap=False, max_depth=5, min_samples_leaf=4, min_samples_split=5, n_estimators=100;, score=0.673 total time=   1.0s\n",
            "[CV 2/5] END bootstrap=False, max_depth=5, min_samples_leaf=4, min_samples_split=5, n_estimators=100;, score=0.665 total time=   1.0s\n",
            "[CV 3/5] END bootstrap=False, max_depth=5, min_samples_leaf=4, min_samples_split=5, n_estimators=100;, score=0.686 total time=   1.0s\n",
            "[CV 4/5] END bootstrap=False, max_depth=5, min_samples_leaf=4, min_samples_split=5, n_estimators=100;, score=0.680 total time=   1.0s\n",
            "[CV 5/5] END bootstrap=False, max_depth=5, min_samples_leaf=4, min_samples_split=5, n_estimators=100;, score=0.663 total time=   1.0s\n",
            "[CV 1/5] END bootstrap=False, max_depth=5, min_samples_leaf=4, min_samples_split=5, n_estimators=300;, score=0.671 total time=   2.9s\n",
            "[CV 2/5] END bootstrap=False, max_depth=5, min_samples_leaf=4, min_samples_split=5, n_estimators=300;, score=0.668 total time=   2.9s\n",
            "[CV 3/5] END bootstrap=False, max_depth=5, min_samples_leaf=4, min_samples_split=5, n_estimators=300;, score=0.690 total time=   2.9s\n",
            "[CV 4/5] END bootstrap=False, max_depth=5, min_samples_leaf=4, min_samples_split=5, n_estimators=300;, score=0.678 total time=   2.9s\n",
            "[CV 5/5] END bootstrap=False, max_depth=5, min_samples_leaf=4, min_samples_split=5, n_estimators=300;, score=0.668 total time=   2.8s\n",
            "[CV 1/5] END bootstrap=False, max_depth=5, min_samples_leaf=4, min_samples_split=5, n_estimators=500;, score=0.674 total time=   4.7s\n",
            "[CV 2/5] END bootstrap=False, max_depth=5, min_samples_leaf=4, min_samples_split=5, n_estimators=500;, score=0.668 total time=   4.7s\n",
            "[CV 3/5] END bootstrap=False, max_depth=5, min_samples_leaf=4, min_samples_split=5, n_estimators=500;, score=0.682 total time=   4.6s\n",
            "[CV 4/5] END bootstrap=False, max_depth=5, min_samples_leaf=4, min_samples_split=5, n_estimators=500;, score=0.681 total time=   4.7s\n",
            "[CV 5/5] END bootstrap=False, max_depth=5, min_samples_leaf=4, min_samples_split=5, n_estimators=500;, score=0.665 total time=   4.7s\n",
            "[CV 1/5] END bootstrap=False, max_depth=5, min_samples_leaf=4, min_samples_split=10, n_estimators=10;, score=0.668 total time=   0.1s\n",
            "[CV 2/5] END bootstrap=False, max_depth=5, min_samples_leaf=4, min_samples_split=10, n_estimators=10;, score=0.671 total time=   0.1s\n",
            "[CV 3/5] END bootstrap=False, max_depth=5, min_samples_leaf=4, min_samples_split=10, n_estimators=10;, score=0.676 total time=   0.1s\n",
            "[CV 4/5] END bootstrap=False, max_depth=5, min_samples_leaf=4, min_samples_split=10, n_estimators=10;, score=0.684 total time=   0.1s\n",
            "[CV 5/5] END bootstrap=False, max_depth=5, min_samples_leaf=4, min_samples_split=10, n_estimators=10;, score=0.666 total time=   0.1s\n",
            "[CV 1/5] END bootstrap=False, max_depth=5, min_samples_leaf=4, min_samples_split=10, n_estimators=50;, score=0.679 total time=   0.5s\n",
            "[CV 2/5] END bootstrap=False, max_depth=5, min_samples_leaf=4, min_samples_split=10, n_estimators=50;, score=0.673 total time=   0.5s\n",
            "[CV 3/5] END bootstrap=False, max_depth=5, min_samples_leaf=4, min_samples_split=10, n_estimators=50;, score=0.677 total time=   0.5s\n",
            "[CV 4/5] END bootstrap=False, max_depth=5, min_samples_leaf=4, min_samples_split=10, n_estimators=50;, score=0.674 total time=   0.5s\n",
            "[CV 5/5] END bootstrap=False, max_depth=5, min_samples_leaf=4, min_samples_split=10, n_estimators=50;, score=0.662 total time=   0.5s\n",
            "[CV 1/5] END bootstrap=False, max_depth=5, min_samples_leaf=4, min_samples_split=10, n_estimators=100;, score=0.668 total time=   1.0s\n",
            "[CV 2/5] END bootstrap=False, max_depth=5, min_samples_leaf=4, min_samples_split=10, n_estimators=100;, score=0.665 total time=   0.9s\n",
            "[CV 3/5] END bootstrap=False, max_depth=5, min_samples_leaf=4, min_samples_split=10, n_estimators=100;, score=0.677 total time=   1.0s\n",
            "[CV 4/5] END bootstrap=False, max_depth=5, min_samples_leaf=4, min_samples_split=10, n_estimators=100;, score=0.680 total time=   0.9s\n",
            "[CV 5/5] END bootstrap=False, max_depth=5, min_samples_leaf=4, min_samples_split=10, n_estimators=100;, score=0.666 total time=   1.0s\n",
            "[CV 1/5] END bootstrap=False, max_depth=5, min_samples_leaf=4, min_samples_split=10, n_estimators=300;, score=0.671 total time=   2.9s\n",
            "[CV 2/5] END bootstrap=False, max_depth=5, min_samples_leaf=4, min_samples_split=10, n_estimators=300;, score=0.666 total time=   2.9s\n",
            "[CV 3/5] END bootstrap=False, max_depth=5, min_samples_leaf=4, min_samples_split=10, n_estimators=300;, score=0.681 total time=   2.9s\n",
            "[CV 4/5] END bootstrap=False, max_depth=5, min_samples_leaf=4, min_samples_split=10, n_estimators=300;, score=0.675 total time=   2.8s\n",
            "[CV 5/5] END bootstrap=False, max_depth=5, min_samples_leaf=4, min_samples_split=10, n_estimators=300;, score=0.659 total time=   2.8s\n",
            "[CV 1/5] END bootstrap=False, max_depth=5, min_samples_leaf=4, min_samples_split=10, n_estimators=500;, score=0.675 total time=   4.8s\n",
            "[CV 2/5] END bootstrap=False, max_depth=5, min_samples_leaf=4, min_samples_split=10, n_estimators=500;, score=0.671 total time=   4.8s\n",
            "[CV 3/5] END bootstrap=False, max_depth=5, min_samples_leaf=4, min_samples_split=10, n_estimators=500;, score=0.684 total time=   4.7s\n",
            "[CV 4/5] END bootstrap=False, max_depth=5, min_samples_leaf=4, min_samples_split=10, n_estimators=500;, score=0.680 total time=   4.8s\n",
            "[CV 5/5] END bootstrap=False, max_depth=5, min_samples_leaf=4, min_samples_split=10, n_estimators=500;, score=0.662 total time=   4.8s\n"
          ]
        }
      ]
    },
    {
      "cell_type": "code",
      "source": [
        "gridRF = gridRF.best_estimator_\n",
        "RF = TrainAndEval(gridRF, X_train, y_train, X_test, y_test)\n",
        "RF.eval()"
      ],
      "metadata": {
        "colab": {
          "base_uri": "https://localhost:8080/"
        },
        "id": "Yp-F05ZGmRYH",
        "outputId": "919f9738-b893-4f26-8d53-11caa2196af5"
      },
      "execution_count": null,
      "outputs": [
        {
          "output_type": "stream",
          "name": "stdout",
          "text": [
            "True Negatives: 1232\n",
            "False Positives: 488\n",
            "False Negatives: 667\n",
            "True Positives: 1152\n",
            "              precision    recall  f1-score   support\n",
            "\n",
            "           0       0.65      0.72      0.68      1720\n",
            "           1       0.70      0.63      0.67      1819\n",
            "\n",
            "    accuracy                           0.67      3539\n",
            "   macro avg       0.68      0.67      0.67      3539\n",
            "weighted avg       0.68      0.67      0.67      3539\n",
            "\n"
          ]
        }
      ]
    },
    {
      "cell_type": "markdown",
      "source": [
        "**The Results of Random Forest Classifier:**\n",
        "\n",
        "\n",
        "*   **F1 Score = 67%**\n",
        "*   **Precision = 70%**\n",
        "*   **Recall = 63%**"
      ],
      "metadata": {
        "id": "uuUAlVcYK6MO"
      }
    },
    {
      "cell_type": "markdown",
      "source": [
        "# **Logistic Regression**"
      ],
      "metadata": {
        "id": "C-EuiMKbLPGo"
      }
    },
    {
      "cell_type": "code",
      "source": [
        "params = {\n",
        "    'penalty': ['l2', 'none'],\n",
        "    'C': [0.005, 0.01, 0.1, 0.5, 1, 10],\n",
        "    'fit_intercept': [True, False],\n",
        "    'n_jobs': [-1]\n",
        "}\n",
        "\n",
        "gridLR = GridSearchCV(estimator=LogisticRegression(max_iter=1000), param_grid=params, cv=5, verbose=3)\n",
        "gridLR = gridLR.fit(X_train, y_train)"
      ],
      "metadata": {
        "colab": {
          "base_uri": "https://localhost:8080/"
        },
        "id": "gK3UJnd-mTtm",
        "outputId": "2ea32a3e-b484-4aa5-83af-5ac12da848b3"
      },
      "execution_count": null,
      "outputs": [
        {
          "output_type": "stream",
          "name": "stdout",
          "text": [
            "Fitting 5 folds for each of 24 candidates, totalling 120 fits\n",
            "[CV 1/5] END C=0.005, fit_intercept=True, n_jobs=-1, penalty=l2;, score=0.623 total time=   1.9s\n",
            "[CV 2/5] END C=0.005, fit_intercept=True, n_jobs=-1, penalty=l2;, score=0.627 total time=   0.7s\n",
            "[CV 3/5] END C=0.005, fit_intercept=True, n_jobs=-1, penalty=l2;, score=0.631 total time=   0.5s\n",
            "[CV 4/5] END C=0.005, fit_intercept=True, n_jobs=-1, penalty=l2;, score=0.636 total time=   0.3s\n",
            "[CV 5/5] END C=0.005, fit_intercept=True, n_jobs=-1, penalty=l2;, score=0.616 total time=   0.3s\n"
          ]
        },
        {
          "output_type": "stream",
          "name": "stderr",
          "text": [
            "/usr/local/lib/python3.7/dist-packages/sklearn/linear_model/_logistic.py:1484: UserWarning: Setting penalty='none' will ignore the C and l1_ratio parameters\n",
            "  \"Setting penalty='none' will ignore the C and l1_ratio parameters\"\n"
          ]
        },
        {
          "output_type": "stream",
          "name": "stdout",
          "text": [
            "[CV 1/5] END C=0.005, fit_intercept=True, n_jobs=-1, penalty=none;, score=0.624 total time=   0.4s\n"
          ]
        },
        {
          "output_type": "stream",
          "name": "stderr",
          "text": [
            "/usr/local/lib/python3.7/dist-packages/sklearn/linear_model/_logistic.py:1484: UserWarning: Setting penalty='none' will ignore the C and l1_ratio parameters\n",
            "  \"Setting penalty='none' will ignore the C and l1_ratio parameters\"\n"
          ]
        },
        {
          "output_type": "stream",
          "name": "stdout",
          "text": [
            "[CV 2/5] END C=0.005, fit_intercept=True, n_jobs=-1, penalty=none;, score=0.624 total time=   0.4s\n"
          ]
        },
        {
          "output_type": "stream",
          "name": "stderr",
          "text": [
            "/usr/local/lib/python3.7/dist-packages/sklearn/linear_model/_logistic.py:1484: UserWarning: Setting penalty='none' will ignore the C and l1_ratio parameters\n",
            "  \"Setting penalty='none' will ignore the C and l1_ratio parameters\"\n"
          ]
        },
        {
          "output_type": "stream",
          "name": "stdout",
          "text": [
            "[CV 3/5] END C=0.005, fit_intercept=True, n_jobs=-1, penalty=none;, score=0.632 total time=   0.4s\n"
          ]
        },
        {
          "output_type": "stream",
          "name": "stderr",
          "text": [
            "/usr/local/lib/python3.7/dist-packages/sklearn/linear_model/_logistic.py:1484: UserWarning: Setting penalty='none' will ignore the C and l1_ratio parameters\n",
            "  \"Setting penalty='none' will ignore the C and l1_ratio parameters\"\n"
          ]
        },
        {
          "output_type": "stream",
          "name": "stdout",
          "text": [
            "[CV 4/5] END C=0.005, fit_intercept=True, n_jobs=-1, penalty=none;, score=0.636 total time=   0.4s\n"
          ]
        },
        {
          "output_type": "stream",
          "name": "stderr",
          "text": [
            "/usr/local/lib/python3.7/dist-packages/sklearn/linear_model/_logistic.py:1484: UserWarning: Setting penalty='none' will ignore the C and l1_ratio parameters\n",
            "  \"Setting penalty='none' will ignore the C and l1_ratio parameters\"\n"
          ]
        },
        {
          "output_type": "stream",
          "name": "stdout",
          "text": [
            "[CV 5/5] END C=0.005, fit_intercept=True, n_jobs=-1, penalty=none;, score=0.619 total time=   0.4s\n",
            "[CV 1/5] END C=0.005, fit_intercept=False, n_jobs=-1, penalty=l2;, score=0.623 total time=   0.4s\n",
            "[CV 2/5] END C=0.005, fit_intercept=False, n_jobs=-1, penalty=l2;, score=0.623 total time=   0.3s\n",
            "[CV 3/5] END C=0.005, fit_intercept=False, n_jobs=-1, penalty=l2;, score=0.631 total time=   0.4s\n",
            "[CV 4/5] END C=0.005, fit_intercept=False, n_jobs=-1, penalty=l2;, score=0.637 total time=   0.5s\n",
            "[CV 5/5] END C=0.005, fit_intercept=False, n_jobs=-1, penalty=l2;, score=0.615 total time=   0.3s\n"
          ]
        },
        {
          "output_type": "stream",
          "name": "stderr",
          "text": [
            "/usr/local/lib/python3.7/dist-packages/sklearn/linear_model/_logistic.py:1484: UserWarning: Setting penalty='none' will ignore the C and l1_ratio parameters\n",
            "  \"Setting penalty='none' will ignore the C and l1_ratio parameters\"\n"
          ]
        },
        {
          "output_type": "stream",
          "name": "stdout",
          "text": [
            "[CV 1/5] END C=0.005, fit_intercept=False, n_jobs=-1, penalty=none;, score=0.624 total time=   0.4s\n"
          ]
        },
        {
          "output_type": "stream",
          "name": "stderr",
          "text": [
            "/usr/local/lib/python3.7/dist-packages/sklearn/linear_model/_logistic.py:1484: UserWarning: Setting penalty='none' will ignore the C and l1_ratio parameters\n",
            "  \"Setting penalty='none' will ignore the C and l1_ratio parameters\"\n"
          ]
        },
        {
          "output_type": "stream",
          "name": "stdout",
          "text": [
            "[CV 2/5] END C=0.005, fit_intercept=False, n_jobs=-1, penalty=none;, score=0.623 total time=   0.3s\n",
            "[CV 3/5] END C=0.005, fit_intercept=False, n_jobs=-1, penalty=none;, score=0.623 total time=   0.2s\n"
          ]
        },
        {
          "output_type": "stream",
          "name": "stderr",
          "text": [
            "/usr/local/lib/python3.7/dist-packages/sklearn/linear_model/_logistic.py:1484: UserWarning: Setting penalty='none' will ignore the C and l1_ratio parameters\n",
            "  \"Setting penalty='none' will ignore the C and l1_ratio parameters\"\n",
            "/usr/local/lib/python3.7/dist-packages/sklearn/linear_model/_logistic.py:1484: UserWarning: Setting penalty='none' will ignore the C and l1_ratio parameters\n",
            "  \"Setting penalty='none' will ignore the C and l1_ratio parameters\"\n"
          ]
        },
        {
          "output_type": "stream",
          "name": "stdout",
          "text": [
            "[CV 4/5] END C=0.005, fit_intercept=False, n_jobs=-1, penalty=none;, score=0.637 total time=   0.5s\n"
          ]
        },
        {
          "output_type": "stream",
          "name": "stderr",
          "text": [
            "/usr/local/lib/python3.7/dist-packages/sklearn/linear_model/_logistic.py:1484: UserWarning: Setting penalty='none' will ignore the C and l1_ratio parameters\n",
            "  \"Setting penalty='none' will ignore the C and l1_ratio parameters\"\n"
          ]
        },
        {
          "output_type": "stream",
          "name": "stdout",
          "text": [
            "[CV 5/5] END C=0.005, fit_intercept=False, n_jobs=-1, penalty=none;, score=0.619 total time=   0.4s\n",
            "[CV 1/5] END C=0.01, fit_intercept=True, n_jobs=-1, penalty=l2;, score=0.623 total time=   0.3s\n",
            "[CV 2/5] END C=0.01, fit_intercept=True, n_jobs=-1, penalty=l2;, score=0.627 total time=   0.4s\n",
            "[CV 3/5] END C=0.01, fit_intercept=True, n_jobs=-1, penalty=l2;, score=0.628 total time=   0.3s\n",
            "[CV 4/5] END C=0.01, fit_intercept=True, n_jobs=-1, penalty=l2;, score=0.637 total time=   0.4s\n",
            "[CV 5/5] END C=0.01, fit_intercept=True, n_jobs=-1, penalty=l2;, score=0.619 total time=   0.4s\n"
          ]
        },
        {
          "output_type": "stream",
          "name": "stderr",
          "text": [
            "/usr/local/lib/python3.7/dist-packages/sklearn/linear_model/_logistic.py:1484: UserWarning: Setting penalty='none' will ignore the C and l1_ratio parameters\n",
            "  \"Setting penalty='none' will ignore the C and l1_ratio parameters\"\n"
          ]
        },
        {
          "output_type": "stream",
          "name": "stdout",
          "text": [
            "[CV 1/5] END C=0.01, fit_intercept=True, n_jobs=-1, penalty=none;, score=0.624 total time=   0.4s\n"
          ]
        },
        {
          "output_type": "stream",
          "name": "stderr",
          "text": [
            "/usr/local/lib/python3.7/dist-packages/sklearn/linear_model/_logistic.py:1484: UserWarning: Setting penalty='none' will ignore the C and l1_ratio parameters\n",
            "  \"Setting penalty='none' will ignore the C and l1_ratio parameters\"\n"
          ]
        },
        {
          "output_type": "stream",
          "name": "stdout",
          "text": [
            "[CV 2/5] END C=0.01, fit_intercept=True, n_jobs=-1, penalty=none;, score=0.624 total time=   0.3s\n"
          ]
        },
        {
          "output_type": "stream",
          "name": "stderr",
          "text": [
            "/usr/local/lib/python3.7/dist-packages/sklearn/linear_model/_logistic.py:1484: UserWarning: Setting penalty='none' will ignore the C and l1_ratio parameters\n",
            "  \"Setting penalty='none' will ignore the C and l1_ratio parameters\"\n"
          ]
        },
        {
          "output_type": "stream",
          "name": "stdout",
          "text": [
            "[CV 3/5] END C=0.01, fit_intercept=True, n_jobs=-1, penalty=none;, score=0.632 total time=   0.4s\n"
          ]
        },
        {
          "output_type": "stream",
          "name": "stderr",
          "text": [
            "/usr/local/lib/python3.7/dist-packages/sklearn/linear_model/_logistic.py:1484: UserWarning: Setting penalty='none' will ignore the C and l1_ratio parameters\n",
            "  \"Setting penalty='none' will ignore the C and l1_ratio parameters\"\n"
          ]
        },
        {
          "output_type": "stream",
          "name": "stdout",
          "text": [
            "[CV 4/5] END C=0.01, fit_intercept=True, n_jobs=-1, penalty=none;, score=0.636 total time=   0.4s\n"
          ]
        },
        {
          "output_type": "stream",
          "name": "stderr",
          "text": [
            "/usr/local/lib/python3.7/dist-packages/sklearn/linear_model/_logistic.py:1484: UserWarning: Setting penalty='none' will ignore the C and l1_ratio parameters\n",
            "  \"Setting penalty='none' will ignore the C and l1_ratio parameters\"\n"
          ]
        },
        {
          "output_type": "stream",
          "name": "stdout",
          "text": [
            "[CV 5/5] END C=0.01, fit_intercept=True, n_jobs=-1, penalty=none;, score=0.619 total time=   0.5s\n",
            "[CV 1/5] END C=0.01, fit_intercept=False, n_jobs=-1, penalty=l2;, score=0.622 total time=   0.4s\n",
            "[CV 2/5] END C=0.01, fit_intercept=False, n_jobs=-1, penalty=l2;, score=0.623 total time=   0.3s\n",
            "[CV 3/5] END C=0.01, fit_intercept=False, n_jobs=-1, penalty=l2;, score=0.623 total time=   0.3s\n",
            "[CV 4/5] END C=0.01, fit_intercept=False, n_jobs=-1, penalty=l2;, score=0.637 total time=   0.4s\n",
            "[CV 5/5] END C=0.01, fit_intercept=False, n_jobs=-1, penalty=l2;, score=0.620 total time=   0.3s\n"
          ]
        },
        {
          "output_type": "stream",
          "name": "stderr",
          "text": [
            "/usr/local/lib/python3.7/dist-packages/sklearn/linear_model/_logistic.py:1484: UserWarning: Setting penalty='none' will ignore the C and l1_ratio parameters\n",
            "  \"Setting penalty='none' will ignore the C and l1_ratio parameters\"\n"
          ]
        },
        {
          "output_type": "stream",
          "name": "stdout",
          "text": [
            "[CV 1/5] END C=0.01, fit_intercept=False, n_jobs=-1, penalty=none;, score=0.624 total time=   0.3s\n"
          ]
        },
        {
          "output_type": "stream",
          "name": "stderr",
          "text": [
            "/usr/local/lib/python3.7/dist-packages/sklearn/linear_model/_logistic.py:1484: UserWarning: Setting penalty='none' will ignore the C and l1_ratio parameters\n",
            "  \"Setting penalty='none' will ignore the C and l1_ratio parameters\"\n"
          ]
        },
        {
          "output_type": "stream",
          "name": "stdout",
          "text": [
            "[CV 2/5] END C=0.01, fit_intercept=False, n_jobs=-1, penalty=none;, score=0.623 total time=   0.2s\n"
          ]
        },
        {
          "output_type": "stream",
          "name": "stderr",
          "text": [
            "/usr/local/lib/python3.7/dist-packages/sklearn/linear_model/_logistic.py:1484: UserWarning: Setting penalty='none' will ignore the C and l1_ratio parameters\n",
            "  \"Setting penalty='none' will ignore the C and l1_ratio parameters\"\n"
          ]
        },
        {
          "output_type": "stream",
          "name": "stdout",
          "text": [
            "[CV 3/5] END C=0.01, fit_intercept=False, n_jobs=-1, penalty=none;, score=0.623 total time=   0.3s\n"
          ]
        },
        {
          "output_type": "stream",
          "name": "stderr",
          "text": [
            "/usr/local/lib/python3.7/dist-packages/sklearn/linear_model/_logistic.py:1484: UserWarning: Setting penalty='none' will ignore the C and l1_ratio parameters\n",
            "  \"Setting penalty='none' will ignore the C and l1_ratio parameters\"\n"
          ]
        },
        {
          "output_type": "stream",
          "name": "stdout",
          "text": [
            "[CV 4/5] END C=0.01, fit_intercept=False, n_jobs=-1, penalty=none;, score=0.637 total time=   0.5s\n"
          ]
        },
        {
          "output_type": "stream",
          "name": "stderr",
          "text": [
            "/usr/local/lib/python3.7/dist-packages/sklearn/linear_model/_logistic.py:1484: UserWarning: Setting penalty='none' will ignore the C and l1_ratio parameters\n",
            "  \"Setting penalty='none' will ignore the C and l1_ratio parameters\"\n"
          ]
        },
        {
          "output_type": "stream",
          "name": "stdout",
          "text": [
            "[CV 5/5] END C=0.01, fit_intercept=False, n_jobs=-1, penalty=none;, score=0.619 total time=   0.4s\n",
            "[CV 1/5] END C=0.1, fit_intercept=True, n_jobs=-1, penalty=l2;, score=0.622 total time=   0.3s\n",
            "[CV 2/5] END C=0.1, fit_intercept=True, n_jobs=-1, penalty=l2;, score=0.630 total time=   0.4s\n",
            "[CV 3/5] END C=0.1, fit_intercept=True, n_jobs=-1, penalty=l2;, score=0.632 total time=   0.5s\n",
            "[CV 4/5] END C=0.1, fit_intercept=True, n_jobs=-1, penalty=l2;, score=0.636 total time=   0.3s\n",
            "[CV 5/5] END C=0.1, fit_intercept=True, n_jobs=-1, penalty=l2;, score=0.616 total time=   0.3s\n"
          ]
        },
        {
          "output_type": "stream",
          "name": "stderr",
          "text": [
            "/usr/local/lib/python3.7/dist-packages/sklearn/linear_model/_logistic.py:1484: UserWarning: Setting penalty='none' will ignore the C and l1_ratio parameters\n",
            "  \"Setting penalty='none' will ignore the C and l1_ratio parameters\"\n"
          ]
        },
        {
          "output_type": "stream",
          "name": "stdout",
          "text": [
            "[CV 1/5] END C=0.1, fit_intercept=True, n_jobs=-1, penalty=none;, score=0.624 total time=   0.4s\n"
          ]
        },
        {
          "output_type": "stream",
          "name": "stderr",
          "text": [
            "/usr/local/lib/python3.7/dist-packages/sklearn/linear_model/_logistic.py:1484: UserWarning: Setting penalty='none' will ignore the C and l1_ratio parameters\n",
            "  \"Setting penalty='none' will ignore the C and l1_ratio parameters\"\n"
          ]
        },
        {
          "output_type": "stream",
          "name": "stdout",
          "text": [
            "[CV 2/5] END C=0.1, fit_intercept=True, n_jobs=-1, penalty=none;, score=0.624 total time=   0.4s\n"
          ]
        },
        {
          "output_type": "stream",
          "name": "stderr",
          "text": [
            "/usr/local/lib/python3.7/dist-packages/sklearn/linear_model/_logistic.py:1484: UserWarning: Setting penalty='none' will ignore the C and l1_ratio parameters\n",
            "  \"Setting penalty='none' will ignore the C and l1_ratio parameters\"\n"
          ]
        },
        {
          "output_type": "stream",
          "name": "stdout",
          "text": [
            "[CV 3/5] END C=0.1, fit_intercept=True, n_jobs=-1, penalty=none;, score=0.632 total time=   0.4s\n"
          ]
        },
        {
          "output_type": "stream",
          "name": "stderr",
          "text": [
            "/usr/local/lib/python3.7/dist-packages/sklearn/linear_model/_logistic.py:1484: UserWarning: Setting penalty='none' will ignore the C and l1_ratio parameters\n",
            "  \"Setting penalty='none' will ignore the C and l1_ratio parameters\"\n"
          ]
        },
        {
          "output_type": "stream",
          "name": "stdout",
          "text": [
            "[CV 4/5] END C=0.1, fit_intercept=True, n_jobs=-1, penalty=none;, score=0.636 total time=   0.4s\n"
          ]
        },
        {
          "output_type": "stream",
          "name": "stderr",
          "text": [
            "/usr/local/lib/python3.7/dist-packages/sklearn/linear_model/_logistic.py:1484: UserWarning: Setting penalty='none' will ignore the C and l1_ratio parameters\n",
            "  \"Setting penalty='none' will ignore the C and l1_ratio parameters\"\n"
          ]
        },
        {
          "output_type": "stream",
          "name": "stdout",
          "text": [
            "[CV 5/5] END C=0.1, fit_intercept=True, n_jobs=-1, penalty=none;, score=0.619 total time=   0.5s\n",
            "[CV 1/5] END C=0.1, fit_intercept=False, n_jobs=-1, penalty=l2;, score=0.624 total time=   0.5s\n",
            "[CV 2/5] END C=0.1, fit_intercept=False, n_jobs=-1, penalty=l2;, score=0.630 total time=   0.5s\n",
            "[CV 3/5] END C=0.1, fit_intercept=False, n_jobs=-1, penalty=l2;, score=0.623 total time=   0.3s\n",
            "[CV 4/5] END C=0.1, fit_intercept=False, n_jobs=-1, penalty=l2;, score=0.636 total time=   0.3s\n",
            "[CV 5/5] END C=0.1, fit_intercept=False, n_jobs=-1, penalty=l2;, score=0.615 total time=   0.3s\n"
          ]
        },
        {
          "output_type": "stream",
          "name": "stderr",
          "text": [
            "/usr/local/lib/python3.7/dist-packages/sklearn/linear_model/_logistic.py:1484: UserWarning: Setting penalty='none' will ignore the C and l1_ratio parameters\n",
            "  \"Setting penalty='none' will ignore the C and l1_ratio parameters\"\n"
          ]
        },
        {
          "output_type": "stream",
          "name": "stdout",
          "text": [
            "[CV 1/5] END C=0.1, fit_intercept=False, n_jobs=-1, penalty=none;, score=0.624 total time=   0.4s\n"
          ]
        },
        {
          "output_type": "stream",
          "name": "stderr",
          "text": [
            "/usr/local/lib/python3.7/dist-packages/sklearn/linear_model/_logistic.py:1484: UserWarning: Setting penalty='none' will ignore the C and l1_ratio parameters\n",
            "  \"Setting penalty='none' will ignore the C and l1_ratio parameters\"\n"
          ]
        },
        {
          "output_type": "stream",
          "name": "stdout",
          "text": [
            "[CV 2/5] END C=0.1, fit_intercept=False, n_jobs=-1, penalty=none;, score=0.623 total time=   0.4s\n"
          ]
        },
        {
          "output_type": "stream",
          "name": "stderr",
          "text": [
            "/usr/local/lib/python3.7/dist-packages/sklearn/linear_model/_logistic.py:1484: UserWarning: Setting penalty='none' will ignore the C and l1_ratio parameters\n",
            "  \"Setting penalty='none' will ignore the C and l1_ratio parameters\"\n"
          ]
        },
        {
          "output_type": "stream",
          "name": "stdout",
          "text": [
            "[CV 3/5] END C=0.1, fit_intercept=False, n_jobs=-1, penalty=none;, score=0.623 total time=   0.3s\n"
          ]
        },
        {
          "output_type": "stream",
          "name": "stderr",
          "text": [
            "/usr/local/lib/python3.7/dist-packages/sklearn/linear_model/_logistic.py:1484: UserWarning: Setting penalty='none' will ignore the C and l1_ratio parameters\n",
            "  \"Setting penalty='none' will ignore the C and l1_ratio parameters\"\n"
          ]
        },
        {
          "output_type": "stream",
          "name": "stdout",
          "text": [
            "[CV 4/5] END C=0.1, fit_intercept=False, n_jobs=-1, penalty=none;, score=0.637 total time=   0.5s\n"
          ]
        },
        {
          "output_type": "stream",
          "name": "stderr",
          "text": [
            "/usr/local/lib/python3.7/dist-packages/sklearn/linear_model/_logistic.py:1484: UserWarning: Setting penalty='none' will ignore the C and l1_ratio parameters\n",
            "  \"Setting penalty='none' will ignore the C and l1_ratio parameters\"\n"
          ]
        },
        {
          "output_type": "stream",
          "name": "stdout",
          "text": [
            "[CV 5/5] END C=0.1, fit_intercept=False, n_jobs=-1, penalty=none;, score=0.619 total time=   0.4s\n",
            "[CV 1/5] END C=0.5, fit_intercept=True, n_jobs=-1, penalty=l2;, score=0.624 total time=   0.3s\n",
            "[CV 2/5] END C=0.5, fit_intercept=True, n_jobs=-1, penalty=l2;, score=0.629 total time=   0.4s\n",
            "[CV 3/5] END C=0.5, fit_intercept=True, n_jobs=-1, penalty=l2;, score=0.632 total time=   0.4s\n",
            "[CV 4/5] END C=0.5, fit_intercept=True, n_jobs=-1, penalty=l2;, score=0.636 total time=   0.4s\n",
            "[CV 5/5] END C=0.5, fit_intercept=True, n_jobs=-1, penalty=l2;, score=0.619 total time=   0.4s\n"
          ]
        },
        {
          "output_type": "stream",
          "name": "stderr",
          "text": [
            "/usr/local/lib/python3.7/dist-packages/sklearn/linear_model/_logistic.py:1484: UserWarning: Setting penalty='none' will ignore the C and l1_ratio parameters\n",
            "  \"Setting penalty='none' will ignore the C and l1_ratio parameters\"\n"
          ]
        },
        {
          "output_type": "stream",
          "name": "stdout",
          "text": [
            "[CV 1/5] END C=0.5, fit_intercept=True, n_jobs=-1, penalty=none;, score=0.624 total time=   0.4s\n"
          ]
        },
        {
          "output_type": "stream",
          "name": "stderr",
          "text": [
            "/usr/local/lib/python3.7/dist-packages/sklearn/linear_model/_logistic.py:1484: UserWarning: Setting penalty='none' will ignore the C and l1_ratio parameters\n",
            "  \"Setting penalty='none' will ignore the C and l1_ratio parameters\"\n"
          ]
        },
        {
          "output_type": "stream",
          "name": "stdout",
          "text": [
            "[CV 2/5] END C=0.5, fit_intercept=True, n_jobs=-1, penalty=none;, score=0.624 total time=   0.4s\n"
          ]
        },
        {
          "output_type": "stream",
          "name": "stderr",
          "text": [
            "/usr/local/lib/python3.7/dist-packages/sklearn/linear_model/_logistic.py:1484: UserWarning: Setting penalty='none' will ignore the C and l1_ratio parameters\n",
            "  \"Setting penalty='none' will ignore the C and l1_ratio parameters\"\n"
          ]
        },
        {
          "output_type": "stream",
          "name": "stdout",
          "text": [
            "[CV 3/5] END C=0.5, fit_intercept=True, n_jobs=-1, penalty=none;, score=0.632 total time=   0.4s\n"
          ]
        },
        {
          "output_type": "stream",
          "name": "stderr",
          "text": [
            "/usr/local/lib/python3.7/dist-packages/sklearn/linear_model/_logistic.py:1484: UserWarning: Setting penalty='none' will ignore the C and l1_ratio parameters\n",
            "  \"Setting penalty='none' will ignore the C and l1_ratio parameters\"\n"
          ]
        },
        {
          "output_type": "stream",
          "name": "stdout",
          "text": [
            "[CV 4/5] END C=0.5, fit_intercept=True, n_jobs=-1, penalty=none;, score=0.636 total time=   0.4s\n"
          ]
        },
        {
          "output_type": "stream",
          "name": "stderr",
          "text": [
            "/usr/local/lib/python3.7/dist-packages/sklearn/linear_model/_logistic.py:1484: UserWarning: Setting penalty='none' will ignore the C and l1_ratio parameters\n",
            "  \"Setting penalty='none' will ignore the C and l1_ratio parameters\"\n"
          ]
        },
        {
          "output_type": "stream",
          "name": "stdout",
          "text": [
            "[CV 5/5] END C=0.5, fit_intercept=True, n_jobs=-1, penalty=none;, score=0.619 total time=   0.4s\n",
            "[CV 1/5] END C=0.5, fit_intercept=False, n_jobs=-1, penalty=l2;, score=0.624 total time=   0.4s\n",
            "[CV 2/5] END C=0.5, fit_intercept=False, n_jobs=-1, penalty=l2;, score=0.623 total time=   0.2s\n",
            "[CV 3/5] END C=0.5, fit_intercept=False, n_jobs=-1, penalty=l2;, score=0.623 total time=   0.3s\n",
            "[CV 4/5] END C=0.5, fit_intercept=False, n_jobs=-1, penalty=l2;, score=0.636 total time=   0.4s\n",
            "[CV 5/5] END C=0.5, fit_intercept=False, n_jobs=-1, penalty=l2;, score=0.619 total time=   0.5s\n"
          ]
        },
        {
          "output_type": "stream",
          "name": "stderr",
          "text": [
            "/usr/local/lib/python3.7/dist-packages/sklearn/linear_model/_logistic.py:1484: UserWarning: Setting penalty='none' will ignore the C and l1_ratio parameters\n",
            "  \"Setting penalty='none' will ignore the C and l1_ratio parameters\"\n"
          ]
        },
        {
          "output_type": "stream",
          "name": "stdout",
          "text": [
            "[CV 1/5] END C=0.5, fit_intercept=False, n_jobs=-1, penalty=none;, score=0.624 total time=   0.4s\n"
          ]
        },
        {
          "output_type": "stream",
          "name": "stderr",
          "text": [
            "/usr/local/lib/python3.7/dist-packages/sklearn/linear_model/_logistic.py:1484: UserWarning: Setting penalty='none' will ignore the C and l1_ratio parameters\n",
            "  \"Setting penalty='none' will ignore the C and l1_ratio parameters\"\n"
          ]
        },
        {
          "output_type": "stream",
          "name": "stdout",
          "text": [
            "[CV 2/5] END C=0.5, fit_intercept=False, n_jobs=-1, penalty=none;, score=0.623 total time=   0.3s\n"
          ]
        },
        {
          "output_type": "stream",
          "name": "stderr",
          "text": [
            "/usr/local/lib/python3.7/dist-packages/sklearn/linear_model/_logistic.py:1484: UserWarning: Setting penalty='none' will ignore the C and l1_ratio parameters\n",
            "  \"Setting penalty='none' will ignore the C and l1_ratio parameters\"\n"
          ]
        },
        {
          "output_type": "stream",
          "name": "stdout",
          "text": [
            "[CV 3/5] END C=0.5, fit_intercept=False, n_jobs=-1, penalty=none;, score=0.623 total time=   0.3s\n"
          ]
        },
        {
          "output_type": "stream",
          "name": "stderr",
          "text": [
            "/usr/local/lib/python3.7/dist-packages/sklearn/linear_model/_logistic.py:1484: UserWarning: Setting penalty='none' will ignore the C and l1_ratio parameters\n",
            "  \"Setting penalty='none' will ignore the C and l1_ratio parameters\"\n"
          ]
        },
        {
          "output_type": "stream",
          "name": "stdout",
          "text": [
            "[CV 4/5] END C=0.5, fit_intercept=False, n_jobs=-1, penalty=none;, score=0.637 total time=   0.5s\n"
          ]
        },
        {
          "output_type": "stream",
          "name": "stderr",
          "text": [
            "/usr/local/lib/python3.7/dist-packages/sklearn/linear_model/_logistic.py:1484: UserWarning: Setting penalty='none' will ignore the C and l1_ratio parameters\n",
            "  \"Setting penalty='none' will ignore the C and l1_ratio parameters\"\n"
          ]
        },
        {
          "output_type": "stream",
          "name": "stdout",
          "text": [
            "[CV 5/5] END C=0.5, fit_intercept=False, n_jobs=-1, penalty=none;, score=0.619 total time=   0.4s\n",
            "[CV 1/5] END C=1, fit_intercept=True, n_jobs=-1, penalty=l2;, score=0.624 total time=   0.5s\n",
            "[CV 2/5] END C=1, fit_intercept=True, n_jobs=-1, penalty=l2;, score=0.636 total time=   0.7s\n",
            "[CV 3/5] END C=1, fit_intercept=True, n_jobs=-1, penalty=l2;, score=0.632 total time=   0.4s\n",
            "[CV 4/5] END C=1, fit_intercept=True, n_jobs=-1, penalty=l2;, score=0.636 total time=   0.4s\n",
            "[CV 5/5] END C=1, fit_intercept=True, n_jobs=-1, penalty=l2;, score=0.616 total time=   0.2s\n",
            "[CV 1/5] END C=1, fit_intercept=True, n_jobs=-1, penalty=none;, score=0.624 total time=   0.4s\n",
            "[CV 2/5] END C=1, fit_intercept=True, n_jobs=-1, penalty=none;, score=0.624 total time=   0.4s\n",
            "[CV 3/5] END C=1, fit_intercept=True, n_jobs=-1, penalty=none;, score=0.632 total time=   0.4s\n",
            "[CV 4/5] END C=1, fit_intercept=True, n_jobs=-1, penalty=none;, score=0.636 total time=   0.5s\n",
            "[CV 5/5] END C=1, fit_intercept=True, n_jobs=-1, penalty=none;, score=0.619 total time=   0.5s\n",
            "[CV 1/5] END C=1, fit_intercept=False, n_jobs=-1, penalty=l2;, score=0.624 total time=   0.5s\n",
            "[CV 2/5] END C=1, fit_intercept=False, n_jobs=-1, penalty=l2;, score=0.623 total time=   0.3s\n",
            "[CV 3/5] END C=1, fit_intercept=False, n_jobs=-1, penalty=l2;, score=0.623 total time=   0.3s\n",
            "[CV 4/5] END C=1, fit_intercept=False, n_jobs=-1, penalty=l2;, score=0.637 total time=   0.4s\n",
            "[CV 5/5] END C=1, fit_intercept=False, n_jobs=-1, penalty=l2;, score=0.629 total time=   0.6s\n",
            "[CV 1/5] END C=1, fit_intercept=False, n_jobs=-1, penalty=none;, score=0.624 total time=   0.4s\n",
            "[CV 2/5] END C=1, fit_intercept=False, n_jobs=-1, penalty=none;, score=0.623 total time=   0.3s\n",
            "[CV 3/5] END C=1, fit_intercept=False, n_jobs=-1, penalty=none;, score=0.623 total time=   0.3s\n",
            "[CV 4/5] END C=1, fit_intercept=False, n_jobs=-1, penalty=none;, score=0.637 total time=   0.5s\n",
            "[CV 5/5] END C=1, fit_intercept=False, n_jobs=-1, penalty=none;, score=0.619 total time=   0.4s\n",
            "[CV 1/5] END C=10, fit_intercept=True, n_jobs=-1, penalty=l2;, score=0.624 total time=   0.4s\n",
            "[CV 2/5] END C=10, fit_intercept=True, n_jobs=-1, penalty=l2;, score=0.625 total time=   0.3s\n",
            "[CV 3/5] END C=10, fit_intercept=True, n_jobs=-1, penalty=l2;, score=0.632 total time=   0.4s\n",
            "[CV 4/5] END C=10, fit_intercept=True, n_jobs=-1, penalty=l2;, score=0.636 total time=   0.4s\n",
            "[CV 5/5] END C=10, fit_intercept=True, n_jobs=-1, penalty=l2;, score=0.619 total time=   0.4s\n"
          ]
        },
        {
          "output_type": "stream",
          "name": "stderr",
          "text": [
            "/usr/local/lib/python3.7/dist-packages/sklearn/linear_model/_logistic.py:1484: UserWarning: Setting penalty='none' will ignore the C and l1_ratio parameters\n",
            "  \"Setting penalty='none' will ignore the C and l1_ratio parameters\"\n"
          ]
        },
        {
          "output_type": "stream",
          "name": "stdout",
          "text": [
            "[CV 1/5] END C=10, fit_intercept=True, n_jobs=-1, penalty=none;, score=0.624 total time=   0.4s\n"
          ]
        },
        {
          "output_type": "stream",
          "name": "stderr",
          "text": [
            "/usr/local/lib/python3.7/dist-packages/sklearn/linear_model/_logistic.py:1484: UserWarning: Setting penalty='none' will ignore the C and l1_ratio parameters\n",
            "  \"Setting penalty='none' will ignore the C and l1_ratio parameters\"\n"
          ]
        },
        {
          "output_type": "stream",
          "name": "stdout",
          "text": [
            "[CV 2/5] END C=10, fit_intercept=True, n_jobs=-1, penalty=none;, score=0.624 total time=   0.3s\n"
          ]
        },
        {
          "output_type": "stream",
          "name": "stderr",
          "text": [
            "/usr/local/lib/python3.7/dist-packages/sklearn/linear_model/_logistic.py:1484: UserWarning: Setting penalty='none' will ignore the C and l1_ratio parameters\n",
            "  \"Setting penalty='none' will ignore the C and l1_ratio parameters\"\n"
          ]
        },
        {
          "output_type": "stream",
          "name": "stdout",
          "text": [
            "[CV 3/5] END C=10, fit_intercept=True, n_jobs=-1, penalty=none;, score=0.632 total time=   0.4s\n"
          ]
        },
        {
          "output_type": "stream",
          "name": "stderr",
          "text": [
            "/usr/local/lib/python3.7/dist-packages/sklearn/linear_model/_logistic.py:1484: UserWarning: Setting penalty='none' will ignore the C and l1_ratio parameters\n",
            "  \"Setting penalty='none' will ignore the C and l1_ratio parameters\"\n"
          ]
        },
        {
          "output_type": "stream",
          "name": "stdout",
          "text": [
            "[CV 4/5] END C=10, fit_intercept=True, n_jobs=-1, penalty=none;, score=0.636 total time=   0.5s\n"
          ]
        },
        {
          "output_type": "stream",
          "name": "stderr",
          "text": [
            "/usr/local/lib/python3.7/dist-packages/sklearn/linear_model/_logistic.py:1484: UserWarning: Setting penalty='none' will ignore the C and l1_ratio parameters\n",
            "  \"Setting penalty='none' will ignore the C and l1_ratio parameters\"\n"
          ]
        },
        {
          "output_type": "stream",
          "name": "stdout",
          "text": [
            "[CV 5/5] END C=10, fit_intercept=True, n_jobs=-1, penalty=none;, score=0.619 total time=   0.5s\n",
            "[CV 1/5] END C=10, fit_intercept=False, n_jobs=-1, penalty=l2;, score=0.622 total time=   0.4s\n",
            "[CV 2/5] END C=10, fit_intercept=False, n_jobs=-1, penalty=l2;, score=0.629 total time=   0.5s\n",
            "[CV 3/5] END C=10, fit_intercept=False, n_jobs=-1, penalty=l2;, score=0.623 total time=   0.3s\n",
            "[CV 4/5] END C=10, fit_intercept=False, n_jobs=-1, penalty=l2;, score=0.636 total time=   0.3s\n",
            "[CV 5/5] END C=10, fit_intercept=False, n_jobs=-1, penalty=l2;, score=0.619 total time=   0.4s\n"
          ]
        },
        {
          "output_type": "stream",
          "name": "stderr",
          "text": [
            "/usr/local/lib/python3.7/dist-packages/sklearn/linear_model/_logistic.py:1484: UserWarning: Setting penalty='none' will ignore the C and l1_ratio parameters\n",
            "  \"Setting penalty='none' will ignore the C and l1_ratio parameters\"\n"
          ]
        },
        {
          "output_type": "stream",
          "name": "stdout",
          "text": [
            "[CV 1/5] END C=10, fit_intercept=False, n_jobs=-1, penalty=none;, score=0.624 total time=   0.4s\n"
          ]
        },
        {
          "output_type": "stream",
          "name": "stderr",
          "text": [
            "/usr/local/lib/python3.7/dist-packages/sklearn/linear_model/_logistic.py:1484: UserWarning: Setting penalty='none' will ignore the C and l1_ratio parameters\n",
            "  \"Setting penalty='none' will ignore the C and l1_ratio parameters\"\n"
          ]
        },
        {
          "output_type": "stream",
          "name": "stdout",
          "text": [
            "[CV 2/5] END C=10, fit_intercept=False, n_jobs=-1, penalty=none;, score=0.623 total time=   0.4s\n"
          ]
        },
        {
          "output_type": "stream",
          "name": "stderr",
          "text": [
            "/usr/local/lib/python3.7/dist-packages/sklearn/linear_model/_logistic.py:1484: UserWarning: Setting penalty='none' will ignore the C and l1_ratio parameters\n",
            "  \"Setting penalty='none' will ignore the C and l1_ratio parameters\"\n"
          ]
        },
        {
          "output_type": "stream",
          "name": "stdout",
          "text": [
            "[CV 3/5] END C=10, fit_intercept=False, n_jobs=-1, penalty=none;, score=0.623 total time=   0.3s\n"
          ]
        },
        {
          "output_type": "stream",
          "name": "stderr",
          "text": [
            "/usr/local/lib/python3.7/dist-packages/sklearn/linear_model/_logistic.py:1484: UserWarning: Setting penalty='none' will ignore the C and l1_ratio parameters\n",
            "  \"Setting penalty='none' will ignore the C and l1_ratio parameters\"\n"
          ]
        },
        {
          "output_type": "stream",
          "name": "stdout",
          "text": [
            "[CV 4/5] END C=10, fit_intercept=False, n_jobs=-1, penalty=none;, score=0.637 total time=   0.4s\n"
          ]
        },
        {
          "output_type": "stream",
          "name": "stderr",
          "text": [
            "/usr/local/lib/python3.7/dist-packages/sklearn/linear_model/_logistic.py:1484: UserWarning: Setting penalty='none' will ignore the C and l1_ratio parameters\n",
            "  \"Setting penalty='none' will ignore the C and l1_ratio parameters\"\n"
          ]
        },
        {
          "output_type": "stream",
          "name": "stdout",
          "text": [
            "[CV 5/5] END C=10, fit_intercept=False, n_jobs=-1, penalty=none;, score=0.619 total time=   0.3s\n"
          ]
        }
      ]
    },
    {
      "cell_type": "code",
      "source": [
        "gridLR = gridLR.best_estimator_\n",
        "LR = TrainAndEval(gridLR, X_train, y_train, X_test, y_test)\n",
        "LR.eval()"
      ],
      "metadata": {
        "colab": {
          "base_uri": "https://localhost:8080/"
        },
        "id": "IWvykGUjmVm8",
        "outputId": "f44a52ca-6228-4e0a-fb9a-fbadf080c878"
      },
      "execution_count": null,
      "outputs": [
        {
          "output_type": "stream",
          "name": "stdout",
          "text": [
            "True Negatives: 1216\n",
            "False Positives: 504\n",
            "False Negatives: 779\n",
            "True Positives: 1040\n",
            "              precision    recall  f1-score   support\n",
            "\n",
            "           0       0.61      0.71      0.65      1720\n",
            "           1       0.67      0.57      0.62      1819\n",
            "\n",
            "    accuracy                           0.64      3539\n",
            "   macro avg       0.64      0.64      0.64      3539\n",
            "weighted avg       0.64      0.64      0.64      3539\n",
            "\n"
          ]
        }
      ]
    },
    {
      "cell_type": "markdown",
      "source": [
        "**The Results of Logisitc Regression Classifier:**\n",
        "\n",
        "\n",
        "*   **F1 Score = 62%**\n",
        "*   **Precision = 67%**\n",
        "*   **Recall = 57%**"
      ],
      "metadata": {
        "id": "v6hKwbk8LWVj"
      }
    },
    {
      "cell_type": "code",
      "source": [
        "XAxis = ['Precision', 'Recall', 'F1-Score', 'Accuracy']\n",
        "LRValues = [67,57,62,64]\n",
        "SVMValues = [68, 53, 60, 63]\n",
        "RFValues = [70, 63, 67, 67]\n",
        "XGBValues = [75, 70, 73, 73]\n",
        "GBTValues = [75, 70, 72, 72]\n",
        "\n",
        "bar_width = 0.15\n",
        "index = np.arange(4)\n",
        "\n",
        "fig, ax = plt.subplots()\n",
        "LR = ax.bar(index,LRValues, width=bar_width, label = \"Logistic Regression\") \n",
        "SVM = ax.bar(index+bar_width,SVMValues, width=bar_width, label = \"SVM\") \n",
        "RF = ax.bar(index+bar_width+bar_width,RFValues, width=bar_width, label = \"Random Forest\") \n",
        "XGB = ax.bar(index+bar_width+bar_width+bar_width,XGBValues, width=bar_width, label = \"XGBoost\") \n",
        "GBT = ax.bar(index+bar_width+bar_width+bar_width+bar_width,GBTValues, width=bar_width, label = \"Gradient Boosting Trees\") \n",
        "\n",
        "\n",
        "ax.set_xlabel('')\n",
        "ax.set_ylabel('')\n",
        "ax.set_title('Comparison of 5 models against 4 metrics')\n",
        "ax.set_xticks(index + bar_width / 2)\n",
        "ax.set_xticklabels(XAxis)\n",
        "ax.legend(loc = 'lower right')\n",
        "\n",
        "fig.set_size_inches(10,6)\n",
        "\n",
        "plt.show()\n",
        "\n",
        "fig.savefig('MetricsModels.png',dpi = 200)"
      ],
      "metadata": {
        "colab": {
          "base_uri": "https://localhost:8080/",
          "height": 390
        },
        "id": "vK1jmRxpmXt4",
        "outputId": "982d856c-d018-4303-8468-f1b95b7b1fa0"
      },
      "execution_count": null,
      "outputs": [
        {
          "output_type": "display_data",
          "data": {
            "image/png": "[encoded data removed]",
            "text/plain": [
              "<Figure size 720x432 with 1 Axes>"
            ]
          },
          "metadata": {
            "needs_background": "light"
          }
        }
      ]
    },
    {
      "cell_type": "markdown",
      "source": [
        "**It can clearly be seen that XGBoost and Gradient Boosting Trees outperformed all the other classifiers:**\n",
        "\n",
        "**Where F1 Score and Accuracy of XGBoost is highest = 73% and Precision of 75% to detect frauds**"
      ],
      "metadata": {
        "id": "2JOGunIOM21D"
      }
    },
    {
      "cell_type": "markdown",
      "source": [
        "# **Further Improvements and Remarks:**"
      ],
      "metadata": {
        "id": "4NhyOZ_yNinT"
      }
    },
    {
      "cell_type": "markdown",
      "source": [
        "\n",
        "\n",
        "*   **Other than classification, Clustering can also help significantly in analyzing the dataset. The best methods can be hierarchical clustering (agglomerative vs divisive). Isolation Forest can also be tried.**\n",
        "\n",
        "\n",
        "*  **In the data set we had clearly seen that there were some Customer IDs which were highly fraudulent. So, a user-profiling based statistical model would significantly improve the results.**\n",
        "\n",
        "\n",
        "\n",
        "*   **Over Sampling could also be tried and compare the results between the under sample strategy in the given use case.**\n",
        "\n",
        "\n",
        "*   **Principal Component Analysis can also be tried to reduce dimensions and still maintaing the variance and compare results** \n",
        "\n",
        "\n",
        "\n",
        "*   **Nothing beats the quality of data. So running test-statistics could also help in analyzing the data further.**\n",
        "\n",
        "*   **Important data acquisition ( either by client, business teams or an external API) and rigorous feature engineering.**\n",
        "\n",
        "\n",
        "\n",
        "*   **Better way to fill the missing values in columns, based on the distribution of the data column**\n",
        "\n",
        "\n",
        "*   **Better way to handle outliers. In case of large number of records people use Auto-encoders as well.**\n",
        "\n",
        "\n",
        "\n",
        "*   **Exploring neural networks side for modeling and particularly Recrrent Neural Networks to see if there can be built context between next and previous fraudulent transactions.**\n",
        "\n",
        "\n",
        "*   **Discussing with other team members and doing simulation based customer behavioral analysis to understand the processes further that, if any important attribute can be added**\n",
        "\n",
        "*   **Checking for data quality in terms of days like Cyber-Monday or Thanksgiving or any sales.**\n",
        "\n",
        "\n",
        "\n",
        "*   **Time series based anomaly detection in the dataset and then modeling it appropriately**\n",
        "\n",
        "\n",
        "\n",
        "*   **More business knowledge to incorporate that information inside the models**\n",
        "\n",
        "*   **Analyzing False Negative, True Negative, True Positive and False Positive carefully to further enhance and fine-tune the used models.**\n",
        "\n",
        "\n",
        "\n",
        "\n",
        "\n",
        "\n",
        "\n",
        "\n",
        "\n",
        "\n",
        "\n",
        "\n",
        "\n"
      ],
      "metadata": {
        "id": "MIrtyvKlOBkA"
      }
    }
  ]
}